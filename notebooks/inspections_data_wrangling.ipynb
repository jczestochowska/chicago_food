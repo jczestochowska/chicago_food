{
 "cells": [
  {
   "cell_type": "markdown",
   "metadata": {},
   "source": [
    "# Inspection Data Preprocessing"
   ]
  },
  {
   "cell_type": "code",
   "execution_count": 3,
   "metadata": {},
   "outputs": [],
   "source": [
    "import pandas as pd\n",
    "import numpy as np"
   ]
  },
  {
   "cell_type": "code",
   "execution_count": 23,
   "metadata": {},
   "outputs": [],
   "source": [
    "dataset_csv = \"../data/food-inspections.csv\""
   ]
  },
  {
   "cell_type": "code",
   "execution_count": 24,
   "metadata": {},
   "outputs": [],
   "source": [
    "fi = pd.read_csv(dataset_csv)"
   ]
  },
  {
   "cell_type": "markdown",
   "metadata": {},
   "source": [
    "## Dealing with NA values"
   ]
  },
  {
   "cell_type": "markdown",
   "metadata": {},
   "source": [
    "`Inspection ID` is a reliable attribute to work with, e.g. for grouby counts, since there are no NAs:"
   ]
  },
  {
   "cell_type": "code",
   "execution_count": 25,
   "metadata": {},
   "outputs": [
    {
     "data": {
      "text/plain": [
       "False"
      ]
     },
     "execution_count": 25,
     "metadata": {},
     "output_type": "execute_result"
    }
   ],
   "source": [
    "fi['Inspection ID'].isna().any()"
   ]
  },
  {
   "cell_type": "code",
   "execution_count": 26,
   "metadata": {},
   "outputs": [],
   "source": [
    "# There are no entries in these columns, we can drop them\n",
    "empty_columns = fi.columns[fi[fi.notna()].count() == 0]\n",
    "fi.drop(columns=empty_columns, inplace=True)"
   ]
  },
  {
   "cell_type": "code",
   "execution_count": 27,
   "metadata": {},
   "outputs": [
    {
     "data": {
      "text/html": [
       "<div>\n",
       "<style scoped>\n",
       "    .dataframe tbody tr th:only-of-type {\n",
       "        vertical-align: middle;\n",
       "    }\n",
       "\n",
       "    .dataframe tbody tr th {\n",
       "        vertical-align: top;\n",
       "    }\n",
       "\n",
       "    .dataframe thead th {\n",
       "        text-align: right;\n",
       "    }\n",
       "</style>\n",
       "<table border=\"1\" class=\"dataframe\">\n",
       "  <thead>\n",
       "    <tr style=\"text-align: right;\">\n",
       "      <th></th>\n",
       "      <th>Latitude</th>\n",
       "      <th>Longitude</th>\n",
       "      <th>Location</th>\n",
       "    </tr>\n",
       "  </thead>\n",
       "  <tbody>\n",
       "    <tr>\n",
       "      <td>0</td>\n",
       "      <td>41.945065</td>\n",
       "      <td>-87.816734</td>\n",
       "      <td>{'longitude': '41.945064857019986', 'latitude'...</td>\n",
       "    </tr>\n",
       "    <tr>\n",
       "      <td>1</td>\n",
       "      <td>41.895692</td>\n",
       "      <td>-87.620143</td>\n",
       "      <td>{'longitude': '41.895692401410514', 'latitude'...</td>\n",
       "    </tr>\n",
       "    <tr>\n",
       "      <td>2</td>\n",
       "      <td>41.982582</td>\n",
       "      <td>-87.708996</td>\n",
       "      <td>{'longitude': '41.98258181784537', 'latitude':...</td>\n",
       "    </tr>\n",
       "    <tr>\n",
       "      <td>3</td>\n",
       "      <td>41.953378</td>\n",
       "      <td>-87.718848</td>\n",
       "      <td>{'longitude': '41.95337788158545', 'latitude':...</td>\n",
       "    </tr>\n",
       "    <tr>\n",
       "      <td>4</td>\n",
       "      <td>41.793235</td>\n",
       "      <td>-87.777776</td>\n",
       "      <td>{'longitude': '41.7932347787373', 'latitude': ...</td>\n",
       "    </tr>\n",
       "  </tbody>\n",
       "</table>\n",
       "</div>"
      ],
      "text/plain": [
       "    Latitude  Longitude                                           Location\n",
       "0  41.945065 -87.816734  {'longitude': '41.945064857019986', 'latitude'...\n",
       "1  41.895692 -87.620143  {'longitude': '41.895692401410514', 'latitude'...\n",
       "2  41.982582 -87.708996  {'longitude': '41.98258181784537', 'latitude':...\n",
       "3  41.953378 -87.718848  {'longitude': '41.95337788158545', 'latitude':...\n",
       "4  41.793235 -87.777776  {'longitude': '41.7932347787373', 'latitude': ..."
      ]
     },
     "execution_count": 27,
     "metadata": {},
     "output_type": "execute_result"
    }
   ],
   "source": [
    "# Location column is redundant\n",
    "fi[['Latitude', 'Longitude', 'Location']].head()"
   ]
  },
  {
   "cell_type": "code",
   "execution_count": 28,
   "metadata": {},
   "outputs": [],
   "source": [
    "fi.drop(columns='Location', inplace=True)"
   ]
  },
  {
   "cell_type": "code",
   "execution_count": 29,
   "metadata": {},
   "outputs": [],
   "source": [
    "# Standardize empty strings to NANs https://stackoverflow.com/a/21942746\n",
    "fi.replace(r'^\\s*$', np.nan, inplace=True)"
   ]
  },
  {
   "cell_type": "code",
   "execution_count": 30,
   "metadata": {},
   "outputs": [],
   "source": [
    "# Remove places from outside of Illinois\n",
    "fi.drop(index=fi[(fi['State'].notna()) & (fi['State'] != 'IL')].index, inplace=True)"
   ]
  },
  {
   "cell_type": "markdown",
   "metadata": {},
   "source": [
    "How many NA values we have in each column with some NA values:"
   ]
  },
  {
   "cell_type": "code",
   "execution_count": 31,
   "metadata": {},
   "outputs": [
    {
     "data": {
      "text/plain": [
       "AKA Name            2450\n",
       "License #             17\n",
       "Facility Type       4776\n",
       "Risk                  73\n",
       "City                 139\n",
       "State                 42\n",
       "Zip                   51\n",
       "Inspection Type        1\n",
       "Violations         51782\n",
       "Latitude             682\n",
       "Longitude            682\n",
       "dtype: int64"
      ]
     },
     "execution_count": 31,
     "metadata": {},
     "output_type": "execute_result"
    }
   ],
   "source": [
    "# Remaining NA values\n",
    "na_columns = fi.columns[fi.isna().any()]\n",
    "len(fi) - fi[na_columns].count()"
   ]
  },
  {
   "cell_type": "markdown",
   "metadata": {},
   "source": [
    "We should be bothered by missing: `License #` (possibly useful as place identifier), `Facility Type`, `Risk`?, `Zip`, `Inspection Type`? (only 1), geocoordinates"
   ]
  },
  {
   "cell_type": "markdown",
   "metadata": {},
   "source": [
    "### `License #`"
   ]
  },
  {
   "cell_type": "markdown",
   "metadata": {},
   "source": [
    "These were special events, churches, grocery store, so not included in our restaurant analysis, we can drop these rows"
   ]
  },
  {
   "cell_type": "code",
   "execution_count": 32,
   "metadata": {},
   "outputs": [],
   "source": [
    "special_events = fi[fi['License #'].isna()].index\n",
    "fi.drop(index=special_events, inplace=True)"
   ]
  },
  {
   "cell_type": "code",
   "execution_count": 33,
   "metadata": {},
   "outputs": [],
   "source": [
    "# Rename license column for easier access\n",
    "fi.rename(columns={'License #': 'License'}, inplace=True)"
   ]
  },
  {
   "cell_type": "code",
   "execution_count": 34,
   "metadata": {},
   "outputs": [
    {
     "data": {
      "text/plain": [
       "514"
      ]
     },
     "execution_count": 34,
     "metadata": {},
     "output_type": "execute_result"
    }
   ],
   "source": [
    "# We still have some suspicious license ids\n",
    "# TODO: what to do with them?\n",
    "fi[fi['License'] == 0.0]['Inspection ID'].count()"
   ]
  },
  {
   "cell_type": "markdown",
   "metadata": {},
   "source": [
    "### `Facility Type`"
   ]
  },
  {
   "cell_type": "markdown",
   "metadata": {},
   "source": [
    "Maybe we can get it from earlier inspections of the same place (same `License`)"
   ]
  },
  {
   "cell_type": "code",
   "execution_count": 35,
   "metadata": {},
   "outputs": [],
   "source": [
    "na_facility_type_counts = fi[fi['Facility Type'].isna()].groupby(by=['License'])['Inspection ID'].count()"
   ]
  },
  {
   "cell_type": "code",
   "execution_count": 36,
   "metadata": {},
   "outputs": [],
   "source": [
    "dba_names_for_na_facility = fi[fi['Facility Type'].isna()]['DBA Name'].unique()"
   ]
  },
  {
   "cell_type": "code",
   "execution_count": 37,
   "metadata": {},
   "outputs": [],
   "source": [
    "total_na_facility_counts = fi[fi['DBA Name'].isin(dba_names_for_na_facility)].groupby(by=['License'])['Inspection ID'].count()"
   ]
  },
  {
   "cell_type": "code",
   "execution_count": 38,
   "metadata": {},
   "outputs": [],
   "source": [
    "counts_diff = total_na_facility_counts - na_facility_type_counts"
   ]
  },
  {
   "cell_type": "code",
   "execution_count": 39,
   "metadata": {},
   "outputs": [],
   "source": [
    "recoverable_licences = counts_diff[counts_diff > 0].index.values\n",
    "recoverable_licences = recoverable_licences[recoverable_licences != 0]"
   ]
  },
  {
   "cell_type": "code",
   "execution_count": 40,
   "metadata": {},
   "outputs": [],
   "source": [
    "# Obtain mapping from license to facility type\n",
    "recovered = fi[fi['License'].isin(recoverable_licences)].groupby(by='License')['Facility Type'].unique().explode().dropna()"
   ]
  },
  {
   "cell_type": "code",
   "execution_count": 41,
   "metadata": {},
   "outputs": [],
   "source": [
    "# Merge recovered facility types into fi\n",
    "def take_not_nan(a, b):\n",
    "    return b if pd.isna(a) else a\n",
    "\n",
    "fi = fi.merge(recovered, how='left', left_on='License', right_index=True)\n",
    "fi['Facility Type'] = fi['Facility Type_x'].combine(fi['Facility Type_y'], take_not_nan)\n",
    "fi.drop(columns=['Facility Type_x', 'Facility Type_y'], inplace=True)"
   ]
  },
  {
   "cell_type": "code",
   "execution_count": 42,
   "metadata": {},
   "outputs": [
    {
     "data": {
      "text/plain": [
       "4690"
      ]
     },
     "execution_count": 42,
     "metadata": {},
     "output_type": "execute_result"
    }
   ],
   "source": [
    "fi[fi['Facility Type'].isna()]['Inspection ID'].count()"
   ]
  },
  {
   "cell_type": "markdown",
   "metadata": {},
   "source": [
    "Managed to correct 86 records"
   ]
  },
  {
   "cell_type": "markdown",
   "metadata": {},
   "source": [
    "### `Zip`\n",
    "TODO: Process using Maja's solution"
   ]
  },
  {
   "cell_type": "code",
   "execution_count": null,
   "metadata": {},
   "outputs": [],
   "source": [
    "# Making sure we are missing lat and long in same rows\n",
    "(fi[fi['Latitude'].isna()].index == fi[fi['Longitude'].isna()].index).all()"
   ]
  },
  {
   "cell_type": "code",
   "execution_count": null,
   "metadata": {},
   "outputs": [],
   "source": [
    "missing_location = fi[fi['Latitude'].isna()]\n",
    "missing_location[['Address', 'City', 'State', 'Zip']].isna().any()"
   ]
  },
  {
   "cell_type": "markdown",
   "metadata": {},
   "source": [
    "We have address for all of them, but we're missing zip codes for some"
   ]
  },
  {
   "cell_type": "code",
   "execution_count": null,
   "metadata": {},
   "outputs": [],
   "source": [
    "missing_zip = missing_location[missing_location['Zip'].isna()]"
   ]
  },
  {
   "cell_type": "code",
   "execution_count": null,
   "metadata": {},
   "outputs": [],
   "source": [
    "counts_by_state = fi.groupby(by='State')['Inspection ID'].count()\n",
    "other_states = fi[fi['State'] != 'IL']"
   ]
  },
  {
   "cell_type": "markdown",
   "metadata": {},
   "source": [
    "### Save results"
   ]
  },
  {
   "cell_type": "code",
   "execution_count": 45,
   "metadata": {},
   "outputs": [],
   "source": [
    "fi.to_pickle('../data/fi_cleaned.pickle')"
   ]
  },
  {
   "cell_type": "markdown",
   "metadata": {},
   "source": [
    "## Processing inspection types"
   ]
  },
  {
   "cell_type": "code",
   "execution_count": 3,
   "metadata": {},
   "outputs": [],
   "source": [
    "import pandas as pd\n",
    "import numpy as np"
   ]
  },
  {
   "cell_type": "code",
   "execution_count": 4,
   "metadata": {},
   "outputs": [],
   "source": [
    "fi = pd.read_pickle('../data/fi_cleaned.pickle')"
   ]
  },
  {
   "cell_type": "markdown",
   "metadata": {},
   "source": [
    "First limit to general notion of \"restaurants\":"
   ]
  },
  {
   "cell_type": "code",
   "execution_count": 5,
   "metadata": {},
   "outputs": [],
   "source": [
    "fi.dropna(subset=['Facility Type'], inplace=True)\n",
    "restaurants = fi[fi['Facility Type'].str.contains('restaurant', case=False)].copy()"
   ]
  },
  {
   "cell_type": "code",
   "execution_count": 6,
   "metadata": {},
   "outputs": [
    {
     "name": "stdout",
     "output_type": "stream",
     "text": [
      "Number of unique places: 19925\n",
      "Avg. number of inspections per place: 6.55\n"
     ]
    }
   ],
   "source": [
    "unique_places_count = len(restaurants['License'].unique())\n",
    "print('Number of unique places:', unique_places_count)\n",
    "print('Avg. number of inspections per place: %.2f' % (float(len(restaurants)) / unique_places_count))"
   ]
  },
  {
   "cell_type": "markdown",
   "metadata": {},
   "source": [
    "`Inspection Type` needs some cleaning. According to the document we should have following inspection types:\n",
    " - **canvass**: regular inspections with frequency depending on establishment risk,\n",
    " - **complaint**: in a response to filed complaint,\n",
    " - **license**: when obtaining a license, as a requirement of launching the establishment (should be once for most or more if they failed, this might be a separate study case),\n",
    " - **suspect food poisoning**: specific type of *complaint* when someone reports getting ill after eating from there\n",
    " - **task-force**: for bars and taverns.\n",
    "\n",
    "Re-inspections can be done for most of the types and are indicated as well."
   ]
  },
  {
   "cell_type": "code",
   "execution_count": 7,
   "metadata": {},
   "outputs": [],
   "source": [
    "restaurants.fillna(value={'Inspection Type': 'Unknown'}, inplace=True)\n",
    "inspection_types = restaurants['Inspection Type'].unique().astype(str)"
   ]
  },
  {
   "cell_type": "code",
   "execution_count": 8,
   "metadata": {},
   "outputs": [
    {
     "data": {
      "text/plain": [
       "array(['License', 'Canvass', 'Complaint', 'Short Form Complaint',\n",
       "       'Complaint Re-Inspection', 'Canvass Re-Inspection',\n",
       "       'Recent Inspection', 'License Re-Inspection',\n",
       "       'Suspected Food Poisoning',\n",
       "       'Suspected Food Poisoning Re-inspection', 'Consultation',\n",
       "       'Non-Inspection', 'Recent inspection', 'fire complaint', 'FIRE',\n",
       "       'Tag Removal', 'Unknown', 'Not Ready', 'License-Task Force',\n",
       "       'Complaint-Fire Re-inspection', 'Complaint-Fire',\n",
       "       'Short Form Fire-Complaint', 'KITCHEN CLOSED FOR RENOVATION',\n",
       "       'CORRECTIVE ACTION', 'LICENSE CANCELED BY OWNER',\n",
       "       'Task Force Liquor 1475', 'TWO PEOPLE ATE AND GOT SICK.',\n",
       "       'Pre-License Consultation', 'CANVASS SPECIAL EVENTS',\n",
       "       'OUT OF BUSINESS', 'No entry', 'NO ENTRY', 'Package Liquor 1474',\n",
       "       'Sample Collection', 'FIRE/COMPLAIN', '1315 license reinspection',\n",
       "       'Task Force Liquor Catering', 'SFP', 'CANVAS', 'no entry',\n",
       "       'SFP/COMPLAINT', 'SFP/Complaint', 'Special Events (Festivals)',\n",
       "       'expansion', 'SFP RECENTLY INSPECTED', 'CANVASS',\n",
       "       'CANVASS RE INSPECTION OF CLOSE UP', 'LICENSE REQUEST',\n",
       "       'TASKFORCE', 'LICENSE TASK FORCE / NOT -FOR-PROFIT CLUB',\n",
       "       'LICENSE TASK FORCE / NOT -FOR-PROFIT CLU', 'LICENSE/NOT READY',\n",
       "       'NO ENTRY-SHORT COMPLAINT)', 'error save', 'CHANGED COURT DATE',\n",
       "       'LIQUOR CATERING', 'No Entry', 'Out of Business',\n",
       "       'citation re-issued', 'TASTE OF CHICAGO', 'HACCP QUESTIONAIRE',\n",
       "       'finish complaint inspection from 5-18-10', 'CANVASS FOR RIB FEST',\n",
       "       'RE-INSPECTION OF CLOSE-UP', 'REINSPECTION',\n",
       "       'TASK FORCE LIQUOR (1481)', 'TASK FORCE NOT READY',\n",
       "       'LIQOUR TASK FORCE NOT READY', 'POSSIBLE FBI'], dtype='<U41')"
      ]
     },
     "execution_count": 8,
     "metadata": {},
     "output_type": "execute_result"
    }
   ],
   "source": [
    "inspection_types"
   ]
  },
  {
   "cell_type": "markdown",
   "metadata": {},
   "source": [
    "First set `Re-inspection` flag column:"
   ]
  },
  {
   "cell_type": "code",
   "execution_count": 9,
   "metadata": {},
   "outputs": [],
   "source": [
    "reinspection_pattern = 're-inspec|reinspec|re inspec'\n",
    "restaurants['Re-inspection'] = restaurants['Inspection Type'].str.lower().str.contains(reinspection_pattern, regex=True)"
   ]
  },
  {
   "cell_type": "code",
   "execution_count": 10,
   "metadata": {},
   "outputs": [],
   "source": [
    "inspection_types_lower = np.char.lower(inspection_types)"
   ]
  },
  {
   "cell_type": "markdown",
   "metadata": {},
   "source": [
    "Standardize **cavass**:"
   ]
  },
  {
   "cell_type": "code",
   "execution_count": 11,
   "metadata": {},
   "outputs": [],
   "source": [
    "canvass_values = inspection_types[np.char.find(inspection_types_lower, 'canvas') != -1]\n",
    "restaurants.replace(to_replace=canvass_values, value='Canvass', inplace=True)"
   ]
  },
  {
   "cell_type": "markdown",
   "metadata": {},
   "source": [
    "Standardize **complaint**:"
   ]
  },
  {
   "cell_type": "code",
   "execution_count": 12,
   "metadata": {},
   "outputs": [],
   "source": [
    "complaint_values = inspection_types[np.char.find(inspection_types_lower, 'complain') != -1]\n",
    "restaurants.replace(to_replace=complaint_values, value='Complaint', inplace=True)"
   ]
  },
  {
   "cell_type": "markdown",
   "metadata": {},
   "source": [
    "Standardize **license**:"
   ]
  },
  {
   "cell_type": "code",
   "execution_count": 13,
   "metadata": {},
   "outputs": [],
   "source": [
    "license_values = inspection_types[np.char.find(inspection_types_lower, 'license') != -1]\n",
    "restaurants.replace(to_replace=license_values, value='License', inplace=True)"
   ]
  },
  {
   "cell_type": "markdown",
   "metadata": {},
   "source": [
    "Standardize **suspect food poisoning**:"
   ]
  },
  {
   "cell_type": "code",
   "execution_count": 14,
   "metadata": {},
   "outputs": [],
   "source": [
    "sfp_values = restaurants['Inspection Type'].str.lower().str.contains('food|sfp', regex=True)\n",
    "restaurants.loc[sfp_values, 'Inspection Type'] = 'Suspected Food Poisoning'"
   ]
  },
  {
   "cell_type": "markdown",
   "metadata": {},
   "source": [
    "Standardize **task force**:"
   ]
  },
  {
   "cell_type": "code",
   "execution_count": 15,
   "metadata": {},
   "outputs": [],
   "source": [
    "taskforce_values = inspection_types[np.char.find(inspection_types_lower, 'task') != -1]\n",
    "liquor_values = inspection_types[np.char.find(inspection_types_lower, 'liquor') != -1]\n",
    "restaurants.replace(to_replace=np.append(taskforce_values, liquor_values), value='Task Force', inplace=True)"
   ]
  },
  {
   "cell_type": "markdown",
   "metadata": {},
   "source": [
    "Special standardization:"
   ]
  },
  {
   "cell_type": "code",
   "execution_count": 16,
   "metadata": {},
   "outputs": [],
   "source": [
    "sick_values = inspection_types[np.char.find(inspection_types_lower, 'sick') != -1]\n",
    "restaurants.replace(to_replace=sick_values, value='Suspect Food Poisoning', inplace=True)"
   ]
  },
  {
   "cell_type": "code",
   "execution_count": 17,
   "metadata": {},
   "outputs": [
    {
     "data": {
      "text/plain": [
       "array(['License', 'Canvass', 'Complaint', 'Recent Inspection',\n",
       "       'Suspected Food Poisoning', 'Consultation', 'Non-Inspection',\n",
       "       'Recent inspection', 'FIRE', 'Tag Removal', 'Unknown', 'Not Ready',\n",
       "       'KITCHEN CLOSED FOR RENOVATION', 'CORRECTIVE ACTION', 'Task Force',\n",
       "       'Suspect Food Poisoning', 'OUT OF BUSINESS', 'No entry',\n",
       "       'NO ENTRY', 'Sample Collection', 'no entry',\n",
       "       'Special Events (Festivals)', 'expansion', 'error save',\n",
       "       'CHANGED COURT DATE', 'No Entry', 'Out of Business',\n",
       "       'citation re-issued', 'TASTE OF CHICAGO', 'HACCP QUESTIONAIRE',\n",
       "       'RE-INSPECTION OF CLOSE-UP', 'REINSPECTION', 'POSSIBLE FBI'],\n",
       "      dtype=object)"
      ]
     },
     "execution_count": 17,
     "metadata": {},
     "output_type": "execute_result"
    }
   ],
   "source": [
    "restaurants['Inspection Type'].unique()"
   ]
  },
  {
   "cell_type": "code",
   "execution_count": 18,
   "metadata": {},
   "outputs": [],
   "source": [
    "# Move out of business indication to the right column\n",
    "out_of_business = restaurants[restaurants['Inspection Type'].str.lower().str.contains('business')].index\n",
    "restaurants.loc[out_of_business, 'Results'] = 'Out of Business'"
   ]
  },
  {
   "cell_type": "code",
   "execution_count": 19,
   "metadata": {},
   "outputs": [
    {
     "data": {
      "text/plain": [
       "Inspection Type\n",
       "CHANGED COURT DATE                   1\n",
       "CORRECTIVE ACTION                    1\n",
       "Canvass                          83592\n",
       "Complaint                        25041\n",
       "Consultation                       396\n",
       "FIRE                                 1\n",
       "HACCP QUESTIONAIRE                   1\n",
       "KITCHEN CLOSED FOR RENOVATION        1\n",
       "License                          19460\n",
       "NO ENTRY                             5\n",
       "No Entry                            48\n",
       "No entry                             1\n",
       "Non-Inspection                       9\n",
       "Not Ready                            7\n",
       "OUT OF BUSINESS                     11\n",
       "Out of Business                     52\n",
       "POSSIBLE FBI                         1\n",
       "RE-INSPECTION OF CLOSE-UP            1\n",
       "REINSPECTION                         1\n",
       "Recent Inspection                  229\n",
       "Recent inspection                    2\n",
       "Sample Collection                    1\n",
       "Special Events (Festivals)          20\n",
       "Suspect Food Poisoning               1\n",
       "Suspected Food Poisoning           918\n",
       "TASTE OF CHICAGO                     1\n",
       "Tag Removal                        484\n",
       "Task Force                         226\n",
       "Unknown                              1\n",
       "citation re-issued                   1\n",
       "error save                           1\n",
       "expansion                            1\n",
       "no entry                             2\n",
       "Name: Inspection ID, dtype: int64"
      ]
     },
     "execution_count": 19,
     "metadata": {},
     "output_type": "execute_result"
    }
   ],
   "source": [
    "restaurants.groupby(by='Inspection Type')['Inspection ID'].count()"
   ]
  },
  {
   "cell_type": "markdown",
   "metadata": {},
   "source": [
    "We should remain `Tag Removal`, `Recent Inspection` (unite), `Out of Business` (unite), `No entry` (unite) and `Consultation`. All of the rest we classify as `Unknown`."
   ]
  },
  {
   "cell_type": "code",
   "execution_count": 20,
   "metadata": {},
   "outputs": [],
   "source": [
    "recent_inspections = restaurants['Inspection Type'].str.lower().str.contains('recent inspection')\n",
    "restaurants.loc[recent_inspections, 'Inspection Type'] = 'Recent Inspection'"
   ]
  },
  {
   "cell_type": "code",
   "execution_count": 21,
   "metadata": {},
   "outputs": [],
   "source": [
    "out_of_business_inspections = restaurants['Inspection Type'].str.lower().str.contains('out of business')\n",
    "restaurants.loc[out_of_business_inspections, 'Inspection Type'] = 'Out of Business'"
   ]
  },
  {
   "cell_type": "code",
   "execution_count": 22,
   "metadata": {},
   "outputs": [],
   "source": [
    "no_entry_inspections = restaurants['Inspection Type'].str.lower().str.contains('no entry')\n",
    "restaurants.loc[no_entry_inspections, 'Inspection Type'] = 'No Entry'"
   ]
  },
  {
   "cell_type": "code",
   "execution_count": 23,
   "metadata": {},
   "outputs": [],
   "source": [
    "known_list = ['License', 'Canvass', 'Complaint', 'Consultation', 'No Entry', 'Out of Business', 'Recent Inspection', 'Suspected Food Poisoning', 'Tag Removal', 'Task Force']\n",
    "restaurants.loc[~restaurants['Inspection Type'].isin(known_list), 'Inspection Type'] = 'Unknown'"
   ]
  },
  {
   "cell_type": "code",
   "execution_count": 24,
   "metadata": {},
   "outputs": [
    {
     "data": {
      "text/plain": [
       "Inspection Type\n",
       "Canvass                     83592\n",
       "Complaint                   25041\n",
       "Consultation                  396\n",
       "License                     19460\n",
       "No Entry                       56\n",
       "Out of Business                63\n",
       "Recent Inspection             231\n",
       "Suspected Food Poisoning      918\n",
       "Tag Removal                   484\n",
       "Task Force                    226\n",
       "Unknown                        51\n",
       "Name: Inspection ID, dtype: int64"
      ]
     },
     "execution_count": 24,
     "metadata": {},
     "output_type": "execute_result"
    }
   ],
   "source": [
    "restaurants.groupby(by='Inspection Type')['Inspection ID'].count()"
   ]
  },
  {
   "cell_type": "markdown",
   "metadata": {},
   "source": [
    "TODO: We might want to standardize further, e.g. unite Consulatation with Canvass of License etc. or treat Unknowns with more details."
   ]
  },
  {
   "cell_type": "code",
   "execution_count": 26,
   "metadata": {},
   "outputs": [],
   "source": [
    "pd.to_pickle(restaurants, '../data/restaurants.pickle')"
   ]
  },
  {
   "cell_type": "markdown",
   "metadata": {},
   "source": [
    "## Further preprocessing"
   ]
  },
  {
   "cell_type": "code",
   "execution_count": 1,
   "metadata": {},
   "outputs": [],
   "source": [
    "import pandas as pd\n",
    "import numpy as np"
   ]
  },
  {
   "cell_type": "code",
   "execution_count": 25,
   "metadata": {},
   "outputs": [],
   "source": [
    "restaurants = pd.read_pickle('../data/restaurants.pickle')"
   ]
  },
  {
   "cell_type": "code",
   "execution_count": 26,
   "metadata": {},
   "outputs": [
    {
     "data": {
      "text/plain": [
       "Risk\n",
       "All                    10\n",
       "Risk 1 (High)      104758\n",
       "Risk 2 (Medium)     24400\n",
       "Risk 3 (Low)         1335\n",
       "Name: Inspection ID, dtype: int64"
      ]
     },
     "execution_count": 26,
     "metadata": {},
     "output_type": "execute_result"
    }
   ],
   "source": [
    "restaurants.groupby(by='Risk')['Inspection ID'].count()"
   ]
  },
  {
   "cell_type": "code",
   "execution_count": 27,
   "metadata": {},
   "outputs": [],
   "source": [
    "# TODO: instead of dropping, fill it with Maja's method\n",
    "restaurants.dropna(subset=['Zip'], inplace=True)"
   ]
  },
  {
   "cell_type": "code",
   "execution_count": 28,
   "metadata": {},
   "outputs": [],
   "source": [
    "restaurants['Zip'] = restaurants['Zip'].apply(lambda zip_code: str(int(zip_code)))"
   ]
  },
  {
   "cell_type": "markdown",
   "metadata": {},
   "source": [
    "## Violations"
   ]
  },
  {
   "cell_type": "code",
   "execution_count": 91,
   "metadata": {},
   "outputs": [],
   "source": [
    "import matplotlib.pyplot as plt"
   ]
  },
  {
   "cell_type": "code",
   "execution_count": 46,
   "metadata": {},
   "outputs": [],
   "source": [
    "restaurants.fillna(value={'Violations': ''}, inplace=True)"
   ]
  },
  {
   "cell_type": "code",
   "execution_count": 64,
   "metadata": {},
   "outputs": [],
   "source": [
    "def extract_violation_codes(violation):\n",
    "    violations_list = list(map(lambda v: v.strip(), violation.split('|')))\n",
    "    violation_dots = [v.find('.') for v in violations_list]\n",
    "    violation_codes = [int(v[:idx]) for v, idx in zip(violations_list, violation_dots) if idx != -1 ]\n",
    "    return violation_codes"
   ]
  },
  {
   "cell_type": "code",
   "execution_count": 66,
   "metadata": {},
   "outputs": [],
   "source": [
    "restaurants['Violation Codes'] = restaurants['Violations'].apply(extract_violation_codes)"
   ]
  },
  {
   "cell_type": "code",
   "execution_count": 201,
   "metadata": {},
   "outputs": [],
   "source": [
    "def merge_violation_codes(violation_series):\n",
    "    return [code for inspection_violation_codes in violation_series.values for code in inspection_violation_codes]\n",
    "\n",
    "def violation_counts(violations):\n",
    "    counts, code_bins = np.histogram(violations, bins=np.arange(1, 72))  # violations can take codes from 1 to 70\n",
    "    return counts, code_bins\n",
    "\n",
    "def violations_distribution(df):\n",
    "    # https://stackoverflow.com/a/38258158\n",
    "    all_codes = merge_violation_codes(df['Violation Codes'])\n",
    "    counts, code_bins = violation_counts(all_codes)\n",
    "    return code_bins[:-1], counts"
   ]
  },
  {
   "cell_type": "markdown",
   "metadata": {},
   "source": [
    "### Most common violations in general:"
   ]
  },
  {
   "cell_type": "code",
   "execution_count": 202,
   "metadata": {},
   "outputs": [
    {
     "data": {
      "image/png": "[encoded data removed]",
      "text/plain": [
       "<Figure size 432x288 with 1 Axes>"
      ]
     },
     "metadata": {
      "needs_background": "light"
     },
     "output_type": "display_data"
    }
   ],
   "source": [
    "plt.bar(*violations_distribution(restaurants))\n",
    "plt.title('Violations for all inspections')\n",
    "plt.show()"
   ]
  },
  {
   "cell_type": "markdown",
   "metadata": {},
   "source": [
    "### Most common violations for fail:"
   ]
  },
  {
   "cell_type": "code",
   "execution_count": 203,
   "metadata": {},
   "outputs": [],
   "source": [
    "failed_inspections = restaurants[restaurants['Results'] == 'Fail']"
   ]
  },
  {
   "cell_type": "code",
   "execution_count": 204,
   "metadata": {},
   "outputs": [
    {
     "data": {
      "image/png": "[encoded data removed]",
      "text/plain": [
       "<Figure size 432x288 with 1 Axes>"
      ]
     },
     "metadata": {
      "needs_background": "light"
     },
     "output_type": "display_data"
    }
   ],
   "source": [
    "plt.bar(*violations_distribution(failed_inspections))\n",
    "plt.title('Violations for failed inspections')\n",
    "plt.show()"
   ]
  },
  {
   "cell_type": "markdown",
   "metadata": {},
   "source": [
    "### Most common violation for pass with conditions:"
   ]
  },
  {
   "cell_type": "code",
   "execution_count": 205,
   "metadata": {},
   "outputs": [],
   "source": [
    "pass_with_conditions_inspections = restaurants[restaurants['Results'] == 'Pass w/ Conditions']"
   ]
  },
  {
   "cell_type": "code",
   "execution_count": 206,
   "metadata": {},
   "outputs": [
    {
     "data": {
      "image/png": "[encoded data removed]",
      "text/plain": [
       "<Figure size 432x288 with 1 Axes>"
      ]
     },
     "metadata": {
      "needs_background": "light"
     },
     "output_type": "display_data"
    }
   ],
   "source": [
    "plt.bar(*violations_distribution(pass_with_conditions_inspections))\n",
    "plt.title('Violations for inspections passed with conditions')\n",
    "plt.show()"
   ]
  },
  {
   "cell_type": "markdown",
   "metadata": {},
   "source": [
    "### Violations by neighbourhood"
   ]
  },
  {
   "cell_type": "code",
   "execution_count": 207,
   "metadata": {},
   "outputs": [],
   "source": [
    "def violation_codes_by_neighbourhood(df):\n",
    "    return df.groupby(by='Zip')['Violation Codes'].apply(merge_violation_codes)"
   ]
  },
  {
   "cell_type": "markdown",
   "metadata": {},
   "source": [
    "Most common violation in each neighbourhood:"
   ]
  },
  {
   "cell_type": "code",
   "execution_count": 215,
   "metadata": {},
   "outputs": [],
   "source": [
    "def most_common_violations(violations, top=1):\n",
    "    counts, _ = violation_counts(violations)\n",
    "    return np.argsort(counts)[::-1][:top] + 1  # add one to conver to violation code from index"
   ]
  },
  {
   "cell_type": "code",
   "execution_count": 218,
   "metadata": {},
   "outputs": [],
   "source": [
    "most_common = violation_codes_by_neighbourhood(restaurants).apply(most_common_violations, top=3)"
   ]
  },
  {
   "cell_type": "code",
   "execution_count": 219,
   "metadata": {},
   "outputs": [],
   "source": [
    "most_common_for_fail = violation_codes_by_neighbourhood(failed_inspections).apply(most_common_violations, top=3)"
   ]
  },
  {
   "cell_type": "markdown",
   "metadata": {},
   "source": [
    "### Notes:"
   ]
  },
  {
   "cell_type": "markdown",
   "metadata": {},
   "source": [
    "There are sometimes same violation codes in one inspection (probably multiple violations to same criterion). Should we count them only once per inspection or as many times as they appear (as currently)?"
   ]
  },
  {
   "cell_type": "markdown",
   "metadata": {},
   "source": [
    "### (Informational) Violation descriptions"
   ]
  },
  {
   "cell_type": "code",
   "execution_count": 232,
   "metadata": {},
   "outputs": [],
   "source": [
    "def violation_descriptions(violations):\n",
    "    violations_list = list(map(lambda violation: violation.strip(), violations.split('|')))\n",
    "    violation_name_end_indices = [violation.find(' - Comments:') for violation in violations_list]\n",
    "    return set([violation[:idx] for violation, idx in zip(violations_list, violation_name_end_indices) if idx != -1])"
   ]
  },
  {
   "cell_type": "code",
   "execution_count": 236,
   "metadata": {},
   "outputs": [],
   "source": [
    "def all_violation_descriptions(df):\n",
    "    violation_description_sets = df['Violations'].apply(violation_descriptions).values\n",
    "    descriptions = set().union(*violation_description_sets)  # https://stackoverflow.com/a/31253153"
   ]
  },
  {
   "cell_type": "code",
   "execution_count": 237,
   "metadata": {},
   "outputs": [
    {
     "data": {
      "text/plain": [
       "{'1. PERSON IN CHARGE PRESENT, DEMONSTRATES KNOWLEDGE, AND PERFORMS DUTIES',\n",
       " '1. SOURCE SOUND CONDITION, NO SPOILAGE, FOODS PROPERLY LABELED, SHELLFISH TAGS IN PLACE',\n",
       " '10. ADEQUATE HANDWASHING SINKS PROPERLY SUPPLIED AND ACCESSIBLE',\n",
       " '10. SEWAGE AND WASTE WATER DISPOSAL, NO BACK SIPHONAGE, CROSS  CONNECTION AND/OR BACK FLOW',\n",
       " '11. ADEQUATE NUMBER, CONVENIENT, ACCESSIBLE, DESIGNED, AND MAINTAINED',\n",
       " '11. FOOD OBTAINED FROM APPROVED SOURCE',\n",
       " '12. FOOD RECEIVED AT PROPER TEMPERATURE',\n",
       " '12. HAND WASHING FACILITIES: WITH SOAP AND SANITARY HAND DRYING DEVICES, CONVENIENT AND ACCESSIBLE TO FOOD PREP AREA',\n",
       " '13. FOOD IN GOOD CONDITION, SAFE, & UNADULTERATED',\n",
       " '13. NO EVIDENCE OF RODENT OR INSECT INFESTATION, NO BIRDS, TURTLES OR OTHER ANIMALS',\n",
       " '14. PREVIOUS SERIOUS VIOLATION CORRECTED, 7-42-090',\n",
       " '14. REQUIRED RECORDS AVAILABLE: SHELLSTOCK TAGS, PARASITE DESTRUCTION',\n",
       " '15. FOOD SEPARATED AND PROTECTED',\n",
       " '15. UNWRAPPED AND POTENTIALLY HAZARDOUS FOOD NOT RE-SERVED',\n",
       " '16. FOOD PROTECTED DURING STORAGE, PREPARATION, DISPLAY, SERVICE AND TRANSPORTATION',\n",
       " '16. FOOD-CONTACT SURFACES: CLEANED & SANITIZED',\n",
       " '17. POTENTIALLY HAZARDOUS FOOD PROPERLY THAWED',\n",
       " '17. PROPER DISPOSITION OF RETURNED, PREVIOUSLY SERVED, RECONDITIONED & UNSAFE FOOD',\n",
       " '18. NO EVIDENCE OF RODENT OR INSECT OUTER OPENINGS PROTECTED/RODENT PROOFED, A WRITTEN LOG SHALL BE MAINTAINED AVAILABLE TO THE INSPECTORS',\n",
       " '18. PROPER COOKING TIME & TEMPERATURES',\n",
       " '19. OUTSIDE GARBAGE WASTE GREASE AND STORAGE AREA; CLEAN, RODENT PROOF, ALL CONTAINERS COVERED',\n",
       " '19. PROPER REHEATING PROCEDURES FOR HOT HOLDING',\n",
       " '2. CITY OF CHICAGO FOOD SERVICE SANITATION CERTIFICATE',\n",
       " '2. FACILITIES TO MAINTAIN PROPER TEMPERATURE',\n",
       " '20. INSIDE CONTAINERS OR RECEPTACLES: ADEQUATE NUMBER, PROPERLY COVERED AND INSECT/RODENT PROOF',\n",
       " '20. PROPER COOLING TIME AND TEMPERATURE',\n",
       " '21. * CERTIFIED FOOD MANAGER ON SITE WHEN POTENTIALLY HAZARDOUS FOODS ARE  PREPARED AND SERVED',\n",
       " '21. PROPER HOT HOLDING TEMPERATURES',\n",
       " '22. DISH MACHINES: PROVIDED WITH ACCURATE THERMOMETERS, CHEMICAL TEST KITS AND SUITABLE GAUGE COCK',\n",
       " '22. PROPER COLD HOLDING TEMPERATURES',\n",
       " '23. DISHES AND UTENSILS FLUSHED, SCRAPED, SOAKED',\n",
       " '23. PROPER DATE MARKING AND DISPOSITION',\n",
       " '24. DISH WASHING FACILITIES: PROPERLY DESIGNED, CONSTRUCTED, MAINTAINED, INSTALLED, LOCATED AND OPERATED',\n",
       " '24. TIME AS A PUBLIC HEALTH CONTROL; PROCEDURES & RECORDS',\n",
       " '25. CONSUMER ADVISORY PROVIDED FOR RAW/UNDERCOOKED FOOD',\n",
       " '25. TOXIC ITEMS PROPERLY STORED, LABELED AND USED',\n",
       " '26. ADEQUATE NUMBER, CONVENIENT, ACCESSIBLE, PROPERLY DESIGNED AND INSTALLED',\n",
       " '26. PASTEURIZED FOODS USED; PROHIBITED FOODS NOT OFFERED',\n",
       " '27. FOOD ADDITIVES: APPROVED AND PROPERLY USED',\n",
       " '27. TOILET ROOMS ENCLOSED CLEAN, PROVIDED WITH HAND CLEANSER, SANITARY HAND DRYING DEVICES AND PROPER WASTE RECEPTACLES',\n",
       " '28. * INSPECTION REPORT SUMMARY DISPLAYED AND VISIBLE TO ALL CUSTOMERS',\n",
       " '28. TOXIC SUBSTANCES PROPERLY IDENTIFIED, STORED, & USED',\n",
       " '29. COMPLIANCE WITH VARIANCE/SPECIALIZED PROCESS/HACCP',\n",
       " '29. PREVIOUS MINOR VIOLATION(S) CORRECTED 7-42-090',\n",
       " '3. MANAGEMENT, FOOD EMPLOYEE AND CONDITIONAL EMPLOYEE; KNOWLEDGE, RESPONSIBILITIES AND REPORTING',\n",
       " '3. POTENTIALLY HAZARDOUS FOOD MEETS TEMPERATURE REQUIREMENT DURING STORAGE, PREPARATION DISPLAY AND SERVICE',\n",
       " '30. FOOD IN ORIGINAL CONTAINER, PROPERLY LABELED: CUSTOMER ADVISORY POSTED AS NEEDED',\n",
       " '30. PASTEURIZED EGGS USED WHERE REQUIRED',\n",
       " '31. CLEAN MULTI-USE UTENSILS AND SINGLE SERVICE ARTICLES PROPERLY STORED: NO REUSE OF SINGLE SERVICE ARTICLES',\n",
       " '31. WATER & ICE FROM APPROVED SOURCE',\n",
       " '32. FOOD AND NON-FOOD CONTACT SURFACES PROPERLY DESIGNED, CONSTRUCTED AND MAINTAINED',\n",
       " '32. VARIANCE OBTAINED FOR SPECIALIZED PROCESSING METHODS',\n",
       " '33. FOOD AND NON-FOOD CONTACT EQUIPMENT UTENSILS CLEAN, FREE OF ABRASIVE DETERGENTS',\n",
       " '33. PROPER COOLING METHODS USED; ADEQUATE EQUIPMENT FOR TEMPERATURE CONTROL',\n",
       " '34. FLOORS: CONSTRUCTED PER CODE, CLEANED, GOOD REPAIR, COVING INSTALLED, DUST-LESS CLEANING METHODS USED',\n",
       " '35. APPROVED THAWING METHODS USED',\n",
       " '35. WALLS, CEILINGS, ATTACHED EQUIPMENT CONSTRUCTED PER CODE: GOOD REPAIR, SURFACES CLEAN AND DUST-LESS CLEANING METHODS',\n",
       " '36. LIGHTING: REQUIRED MINIMUM FOOT-CANDLES OF LIGHT PROVIDED, FIXTURES SHIELDED',\n",
       " '36. THERMOMETERS PROVIDED & ACCURATE',\n",
       " '37. FOOD PROPERLY LABELED; ORIGINAL CONTAINER',\n",
       " '37. TOILET ROOM DOORS SELF CLOSING: DRESSING ROOMS WITH LOCKERS PROVIDED: COMPLETE SEPARATION FROM LIVING/SLEEPING QUARTERS',\n",
       " '38. INSECTS, RODENTS, & ANIMALS NOT PRESENT',\n",
       " '38. VENTILATION: ROOMS AND EQUIPMENT VENTED AS REQUIRED: PLUMBING: INSTALLED AND MAINTAINED',\n",
       " '39. CONTAMINATION PREVENTED DURING FOOD PREPARATION, STORAGE & DISPLAY',\n",
       " '39. LINEN: CLEAN AND SOILED PROPERLY STORED',\n",
       " '4. SOURCE OF CROSS CONTAMINATION CONTROLLED I.E. CUTTING BOARDS, FOOD  HANDLERS, UTENSILS, ETC',\n",
       " '40. PERSONAL CLEANLINESS',\n",
       " '40. REFRIGERATION AND METAL STEM THERMOMETERS PROVIDED AND CONSPICUOUS',\n",
       " '41. PREMISES MAINTAINED FREE OF LITTER, UNNECESSARY ARTICLES, CLEANING  EQUIPMENT PROPERLY STORED',\n",
       " '41. WIPING CLOTHS: PROPERLY USED & STORED',\n",
       " '42. APPROPRIATE METHOD OF HANDLING OF FOOD (ICE) HAIR RESTRAINTS AND CLEAN APPAREL WORN',\n",
       " '43. FOOD (ICE) DISPENSING UTENSILS, WASH CLOTHS PROPERLY STORED',\n",
       " '43. IN-USE UTENSILS: PROPERLY STORED',\n",
       " '44. ONLY AUTHORIZED PERSONNEL IN THE FOOD-PREP AREA',\n",
       " '44. UTENSILS, EQUIPMENT & LINENS: PROPERLY STORED, DRIED, & HANDLED',\n",
       " '45. FOOD HANDLER REQUIREMENTS MET',\n",
       " '45. SINGLE-USE/SINGLE-SERVICE ARTICLES: PROPERLY STORED & USED',\n",
       " '46. GLOVES USED PROPERLY',\n",
       " '47. FOOD & NON-FOOD CONTACT SURFACES CLEANABLE, PROPERLY DESIGNED, CONSTRUCTED & USED',\n",
       " '48. WAREWASHING FACILITIES: INSTALLED, MAINTAINED & USED; TEST STRIPS',\n",
       " '49. NON-FOOD/FOOD CONTACT SURFACES CLEAN',\n",
       " '5. PERSONNEL WITH INFECTIONS RESTRICTED: NO OPEN SORES, WOUNDS, ETC',\n",
       " '5. PROCEDURES FOR RESPONDING TO VOMITING AND DIARRHEAL EVENTS',\n",
       " '50. HOT & COLD WATER AVAILABLE; ADEQUATE PRESSURE',\n",
       " '51. PLUMBING INSTALLED; PROPER BACKFLOW DEVICES',\n",
       " '52. SEWAGE & WASTE WATER PROPERLY DISPOSED',\n",
       " '53. TOILET FACILITIES: PROPERLY CONSTRUCTED, SUPPLIED, & CLEANED',\n",
       " '54. GARBAGE & REFUSE PROPERLY DISPOSED; FACILITIES MAINTAINED',\n",
       " '55. PHYSICAL FACILITIES INSTALLED, MAINTAINED & CLEAN',\n",
       " '56. ADEQUATE VENTILATION & LIGHTING; DESIGNATED AREAS USED',\n",
       " '57. ALL FOOD EMPLOYEES HAVE FOOD HANDLER TRAINING',\n",
       " '58. ALLERGEN TRAINING AS REQUIRED',\n",
       " '59. PREVIOUS PRIORITY FOUNDATION VIOLATION CORRECTED',\n",
       " '6. HANDS WASHED AND CLEANED, GOOD HYGIENIC PRACTICES; NO BARE HAND CONTACT WITH READY-TO-EAT FOODS.',\n",
       " '6. PROPER EATING, TASTING, DRINKING, OR TOBACCO USE',\n",
       " '60. PREVIOUS CORE VIOLATION CORRECTED',\n",
       " '61. SUMMARY REPORT DISPLAYED AND VISIBLE TO THE PUBLIC',\n",
       " '62. COMPLIANCE WITH CLEAN INDOOR AIR ORDINANCE',\n",
       " '63. REMOVAL OF SUSPENSION SIGN',\n",
       " '7. NO DISCHARGE FROM EYES, NOSE, AND MOUTH',\n",
       " '7. WASH AND RINSE WATER: CLEAN AND PROPER TEMPERATURE',\n",
       " '70. NO SMOKING REGULATIONS',\n",
       " '8. HANDS CLEAN & PROPERLY WASHED',\n",
       " '8. SANITIZING RINSE FOR EQUIPMENT AND UTENSILS:  CLEAN, PROPER TEMPERATURE, CONCENTRATION, EXPOSURE TIME',\n",
       " '9. NO BARE HAND CONTACT WITH RTE FOOD OR A PRE-APPROVED ALTERNATIVE PROCEDURE PROPERLY ALLOWED',\n",
       " '9. WATER SOURCE: SAFE, HOT & COLD UNDER CITY PRESSURE'}"
      ]
     },
     "execution_count": 237,
     "metadata": {},
     "output_type": "execute_result"
    }
   ],
   "source": [
    "descriptions"
   ]
  },
  {
   "cell_type": "markdown",
   "metadata": {},
   "source": [
    "According to [this page](http://dev.cityofchicago.org/open%20data/data%20portal/2018/06/29/food-violations-changes.html) linked to the dataset, violations change on the 1/07/2018. It might be useful then to analyze descriptions (and violations) for these two periods separately."
   ]
  },
  {
   "cell_type": "code",
   "execution_count": null,
   "metadata": {},
   "outputs": [],
   "source": []
  }
 ],
 "metadata": {
  "kernelspec": {
   "display_name": "Python [conda env:ada] *",
   "language": "python",
   "name": "conda-env-ada-py"
  },
  "language_info": {
   "codemirror_mode": {
    "name": "ipython",
    "version": 3
   },
   "file_extension": ".py",
   "mimetype": "text/x-python",
   "name": "python",
   "nbconvert_exporter": "python",
   "pygments_lexer": "ipython3",
   "version": "3.7.4"
  }
 },
 "nbformat": 4,
 "nbformat_minor": 2
}
