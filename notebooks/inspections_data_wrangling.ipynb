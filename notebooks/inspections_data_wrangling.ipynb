{
 "cells": [
  {
   "cell_type": "markdown",
   "metadata": {},
   "source": [
    "# Inspection Data Preprocessing"
   ]
  },
  {
   "cell_type": "code",
   "execution_count": 3,
   "metadata": {},
   "outputs": [],
   "source": [
    "import pandas as pd\n",
    "import numpy as np"
   ]
  },
  {
   "cell_type": "code",
   "execution_count": 23,
   "metadata": {},
   "outputs": [],
   "source": [
    "dataset_csv = \"../data/food-inspections.csv\""
   ]
  },
  {
   "cell_type": "code",
   "execution_count": 24,
   "metadata": {},
   "outputs": [],
   "source": [
    "fi = pd.read_csv(dataset_csv)"
   ]
  },
  {
   "cell_type": "markdown",
   "metadata": {},
   "source": [
    "## Dealing with NA values"
   ]
  },
  {
   "cell_type": "markdown",
   "metadata": {},
   "source": [
    "`Inspection ID` is a reliable attribute to work with, e.g. for grouby counts, since there are no NAs:"
   ]
  },
  {
   "cell_type": "code",
   "execution_count": 25,
   "metadata": {},
   "outputs": [
    {
     "data": {
      "text/plain": [
       "False"
      ]
     },
     "execution_count": 25,
     "metadata": {},
     "output_type": "execute_result"
    }
   ],
   "source": [
    "fi['Inspection ID'].isna().any()"
   ]
  },
  {
   "cell_type": "code",
   "execution_count": 26,
   "metadata": {},
   "outputs": [],
   "source": [
    "# There are no entries in these columns, we can drop them\n",
    "empty_columns = fi.columns[fi[fi.notna()].count() == 0]\n",
    "fi.drop(columns=empty_columns, inplace=True)"
   ]
  },
  {
   "cell_type": "code",
   "execution_count": 27,
   "metadata": {},
   "outputs": [
    {
     "data": {
      "text/html": [
       "<div>\n",
       "<style scoped>\n",
       "    .dataframe tbody tr th:only-of-type {\n",
       "        vertical-align: middle;\n",
       "    }\n",
       "\n",
       "    .dataframe tbody tr th {\n",
       "        vertical-align: top;\n",
       "    }\n",
       "\n",
       "    .dataframe thead th {\n",
       "        text-align: right;\n",
       "    }\n",
       "</style>\n",
       "<table border=\"1\" class=\"dataframe\">\n",
       "  <thead>\n",
       "    <tr style=\"text-align: right;\">\n",
       "      <th></th>\n",
       "      <th>Latitude</th>\n",
       "      <th>Longitude</th>\n",
       "      <th>Location</th>\n",
       "    </tr>\n",
       "  </thead>\n",
       "  <tbody>\n",
       "    <tr>\n",
       "      <td>0</td>\n",
       "      <td>41.945065</td>\n",
       "      <td>-87.816734</td>\n",
       "      <td>{'longitude': '41.945064857019986', 'latitude'...</td>\n",
       "    </tr>\n",
       "    <tr>\n",
       "      <td>1</td>\n",
       "      <td>41.895692</td>\n",
       "      <td>-87.620143</td>\n",
       "      <td>{'longitude': '41.895692401410514', 'latitude'...</td>\n",
       "    </tr>\n",
       "    <tr>\n",
       "      <td>2</td>\n",
       "      <td>41.982582</td>\n",
       "      <td>-87.708996</td>\n",
       "      <td>{'longitude': '41.98258181784537', 'latitude':...</td>\n",
       "    </tr>\n",
       "    <tr>\n",
       "      <td>3</td>\n",
       "      <td>41.953378</td>\n",
       "      <td>-87.718848</td>\n",
       "      <td>{'longitude': '41.95337788158545', 'latitude':...</td>\n",
       "    </tr>\n",
       "    <tr>\n",
       "      <td>4</td>\n",
       "      <td>41.793235</td>\n",
       "      <td>-87.777776</td>\n",
       "      <td>{'longitude': '41.7932347787373', 'latitude': ...</td>\n",
       "    </tr>\n",
       "  </tbody>\n",
       "</table>\n",
       "</div>"
      ],
      "text/plain": [
       "    Latitude  Longitude                                           Location\n",
       "0  41.945065 -87.816734  {'longitude': '41.945064857019986', 'latitude'...\n",
       "1  41.895692 -87.620143  {'longitude': '41.895692401410514', 'latitude'...\n",
       "2  41.982582 -87.708996  {'longitude': '41.98258181784537', 'latitude':...\n",
       "3  41.953378 -87.718848  {'longitude': '41.95337788158545', 'latitude':...\n",
       "4  41.793235 -87.777776  {'longitude': '41.7932347787373', 'latitude': ..."
      ]
     },
     "execution_count": 27,
     "metadata": {},
     "output_type": "execute_result"
    }
   ],
   "source": [
    "# Location column is redundant\n",
    "fi[['Latitude', 'Longitude', 'Location']].head()"
   ]
  },
  {
   "cell_type": "code",
   "execution_count": 28,
   "metadata": {},
   "outputs": [],
   "source": [
    "fi.drop(columns='Location', inplace=True)"
   ]
  },
  {
   "cell_type": "code",
   "execution_count": 29,
   "metadata": {},
   "outputs": [],
   "source": [
    "# Standardize empty strings to NANs https://stackoverflow.com/a/21942746\n",
    "fi.replace(r'^\\s*$', np.nan, inplace=True)"
   ]
  },
  {
   "cell_type": "code",
   "execution_count": 30,
   "metadata": {},
   "outputs": [],
   "source": [
    "# Remove places from outside of Illinois\n",
    "fi.drop(index=fi[(fi['State'].notna()) & (fi['State'] != 'IL')].index, inplace=True)"
   ]
  },
  {
   "cell_type": "markdown",
   "metadata": {},
   "source": [
    "How many NA values we have in each column with some NA values:"
   ]
  },
  {
   "cell_type": "code",
   "execution_count": 31,
   "metadata": {},
   "outputs": [
    {
     "data": {
      "text/plain": [
       "AKA Name            2450\n",
       "License #             17\n",
       "Facility Type       4776\n",
       "Risk                  73\n",
       "City                 139\n",
       "State                 42\n",
       "Zip                   51\n",
       "Inspection Type        1\n",
       "Violations         51782\n",
       "Latitude             682\n",
       "Longitude            682\n",
       "dtype: int64"
      ]
     },
     "execution_count": 31,
     "metadata": {},
     "output_type": "execute_result"
    }
   ],
   "source": [
    "# Remaining NA values\n",
    "na_columns = fi.columns[fi.isna().any()]\n",
    "len(fi) - fi[na_columns].count()"
   ]
  },
  {
   "cell_type": "markdown",
   "metadata": {},
   "source": [
    "We should be bothered by missing: `License #` (possibly useful as place identifier), `Facility Type`, `Risk`?, `Zip`, `Inspection Type`? (only 1), geocoordinates"
   ]
  },
  {
   "cell_type": "markdown",
   "metadata": {},
   "source": [
    "### `License #`"
   ]
  },
  {
   "cell_type": "markdown",
   "metadata": {},
   "source": [
    "These were special events, churches, grocery store, so not included in our restaurant analysis, we can drop these rows"
   ]
  },
  {
   "cell_type": "code",
   "execution_count": 32,
   "metadata": {},
   "outputs": [],
   "source": [
    "special_events = fi[fi['License #'].isna()].index\n",
    "fi.drop(index=special_events, inplace=True)"
   ]
  },
  {
   "cell_type": "code",
   "execution_count": 33,
   "metadata": {},
   "outputs": [],
   "source": [
    "# Rename license column for easier access\n",
    "fi.rename(columns={'License #': 'License'}, inplace=True)"
   ]
  },
  {
   "cell_type": "code",
   "execution_count": 34,
   "metadata": {},
   "outputs": [
    {
     "data": {
      "text/plain": [
       "514"
      ]
     },
     "execution_count": 34,
     "metadata": {},
     "output_type": "execute_result"
    }
   ],
   "source": [
    "# We still have some suspicious license ids\n",
    "# TODO: what to do with them?\n",
    "fi[fi['License'] == 0.0]['Inspection ID'].count()"
   ]
  },
  {
   "cell_type": "markdown",
   "metadata": {},
   "source": [
    "### `Facility Type`"
   ]
  },
  {
   "cell_type": "markdown",
   "metadata": {},
   "source": [
    "Maybe we can get it from earlier inspections of the same place (same `License`)"
   ]
  },
  {
   "cell_type": "code",
   "execution_count": 35,
   "metadata": {},
   "outputs": [],
   "source": [
    "na_facility_type_counts = fi[fi['Facility Type'].isna()].groupby(by=['License'])['Inspection ID'].count()"
   ]
  },
  {
   "cell_type": "code",
   "execution_count": 36,
   "metadata": {},
   "outputs": [],
   "source": [
    "dba_names_for_na_facility = fi[fi['Facility Type'].isna()]['DBA Name'].unique()"
   ]
  },
  {
   "cell_type": "code",
   "execution_count": 37,
   "metadata": {},
   "outputs": [],
   "source": [
    "total_na_facility_counts = fi[fi['DBA Name'].isin(dba_names_for_na_facility)].groupby(by=['License'])['Inspection ID'].count()"
   ]
  },
  {
   "cell_type": "code",
   "execution_count": 38,
   "metadata": {},
   "outputs": [],
   "source": [
    "counts_diff = total_na_facility_counts - na_facility_type_counts"
   ]
  },
  {
   "cell_type": "code",
   "execution_count": 39,
   "metadata": {},
   "outputs": [],
   "source": [
    "recoverable_licences = counts_diff[counts_diff > 0].index.values\n",
    "recoverable_licences = recoverable_licences[recoverable_licences != 0]"
   ]
  },
  {
   "cell_type": "code",
   "execution_count": 40,
   "metadata": {},
   "outputs": [],
   "source": [
    "# Obtain mapping from license to facility type\n",
    "recovered = fi[fi['License'].isin(recoverable_licences)].groupby(by='License')['Facility Type'].unique().explode().dropna()"
   ]
  },
  {
   "cell_type": "code",
   "execution_count": 41,
   "metadata": {},
   "outputs": [],
   "source": [
    "# Merge recovered facility types into fi\n",
    "def take_not_nan(a, b):\n",
    "    return b if pd.isna(a) else a\n",
    "\n",
    "fi = fi.merge(recovered, how='left', left_on='License', right_index=True)\n",
    "fi['Facility Type'] = fi['Facility Type_x'].combine(fi['Facility Type_y'], take_not_nan)\n",
    "fi.drop(columns=['Facility Type_x', 'Facility Type_y'], inplace=True)"
   ]
  },
  {
   "cell_type": "code",
   "execution_count": 42,
   "metadata": {},
   "outputs": [
    {
     "data": {
      "text/plain": [
       "4690"
      ]
     },
     "execution_count": 42,
     "metadata": {},
     "output_type": "execute_result"
    }
   ],
   "source": [
    "fi[fi['Facility Type'].isna()]['Inspection ID'].count()"
   ]
  },
  {
   "cell_type": "markdown",
   "metadata": {},
   "source": [
    "Managed to correct 86 records"
   ]
  },
  {
   "cell_type": "markdown",
   "metadata": {},
   "source": [
    "### `Zip`\n",
    "TODO: Process using Maja's solution"
   ]
  },
  {
   "cell_type": "code",
   "execution_count": null,
   "metadata": {},
   "outputs": [],
   "source": [
    "# Making sure we are missing lat and long in same rows\n",
    "(fi[fi['Latitude'].isna()].index == fi[fi['Longitude'].isna()].index).all()"
   ]
  },
  {
   "cell_type": "code",
   "execution_count": null,
   "metadata": {},
   "outputs": [],
   "source": [
    "missing_location = fi[fi['Latitude'].isna()]\n",
    "missing_location[['Address', 'City', 'State', 'Zip']].isna().any()"
   ]
  },
  {
   "cell_type": "markdown",
   "metadata": {},
   "source": [
    "We have address for all of them, but we're missing zip codes for some"
   ]
  },
  {
   "cell_type": "code",
   "execution_count": null,
   "metadata": {},
   "outputs": [],
   "source": [
    "missing_zip = missing_location[missing_location['Zip'].isna()]"
   ]
  },
  {
   "cell_type": "code",
   "execution_count": null,
   "metadata": {},
   "outputs": [],
   "source": [
    "counts_by_state = fi.groupby(by='State')['Inspection ID'].count()\n",
    "other_states = fi[fi['State'] != 'IL']"
   ]
  },
  {
   "cell_type": "markdown",
   "metadata": {},
   "source": [
    "### Save results"
   ]
  },
  {
   "cell_type": "code",
   "execution_count": 45,
   "metadata": {},
   "outputs": [],
   "source": [
    "fi.to_pickle('../data/fi_cleaned.pickle')"
   ]
  },
  {
   "cell_type": "markdown",
   "metadata": {},
   "source": [
    "## Processing inspection results"
   ]
  },
  {
   "cell_type": "code",
   "execution_count": 3,
   "metadata": {},
   "outputs": [],
   "source": [
    "import pandas as pd\n",
    "import numpy as np"
   ]
  },
  {
   "cell_type": "code",
   "execution_count": 4,
   "metadata": {},
   "outputs": [],
   "source": [
    "fi = pd.read_pickle('../data/fi_cleaned.pickle')"
   ]
  },
  {
   "cell_type": "markdown",
   "metadata": {},
   "source": [
    "First limit to general notion of \"restaurants\":"
   ]
  },
  {
   "cell_type": "code",
   "execution_count": 5,
   "metadata": {},
   "outputs": [],
   "source": [
    "fi.dropna(subset=['Facility Type'], inplace=True)\n",
    "restaurants = fi[fi['Facility Type'].str.contains('restaurant', case=False)].copy()"
   ]
  },
  {
   "cell_type": "code",
   "execution_count": 6,
   "metadata": {},
   "outputs": [
    {
     "name": "stdout",
     "output_type": "stream",
     "text": [
      "Number of unique places: 19925\n",
      "Avg. number of inspections per place: 6.55\n"
     ]
    }
   ],
   "source": [
    "unique_places_count = len(restaurants['License'].unique())\n",
    "print('Number of unique places:', unique_places_count)\n",
    "print('Avg. number of inspections per place: %.2f' % (float(len(restaurants)) / unique_places_count))"
   ]
  },
  {
   "cell_type": "markdown",
   "metadata": {},
   "source": [
    "`Inspection Type` needs some cleaning. According to the document we should have following inspection types:\n",
    " - **canvass**: regular inspections with frequency depending on establishment risk,\n",
    " - **complaint**: in a response to filed complaint,\n",
    " - **license**: when obtaining a license, as a requirement of launching the establishment (should be once for most or more if they failed, this might be a separate study case),\n",
    " - **suspect food poisoning**: specific type of *complaint* when someone reports getting ill after eating from there\n",
    " - **task-force**: for bars and taverns.\n",
    "\n",
    "Re-inspections can be done for most of the types and are indicated as well."
   ]
  },
  {
   "cell_type": "code",
   "execution_count": 7,
   "metadata": {},
   "outputs": [],
   "source": [
    "restaurants.fillna(value={'Inspection Type': 'Unknown'}, inplace=True)\n",
    "inspection_types = restaurants['Inspection Type'].unique().astype(str)"
   ]
  },
  {
   "cell_type": "code",
   "execution_count": 8,
   "metadata": {},
   "outputs": [
    {
     "data": {
      "text/plain": [
       "array(['License', 'Canvass', 'Complaint', 'Short Form Complaint',\n",
       "       'Complaint Re-Inspection', 'Canvass Re-Inspection',\n",
       "       'Recent Inspection', 'License Re-Inspection',\n",
       "       'Suspected Food Poisoning',\n",
       "       'Suspected Food Poisoning Re-inspection', 'Consultation',\n",
       "       'Non-Inspection', 'Recent inspection', 'fire complaint', 'FIRE',\n",
       "       'Tag Removal', 'Unknown', 'Not Ready', 'License-Task Force',\n",
       "       'Complaint-Fire Re-inspection', 'Complaint-Fire',\n",
       "       'Short Form Fire-Complaint', 'KITCHEN CLOSED FOR RENOVATION',\n",
       "       'CORRECTIVE ACTION', 'LICENSE CANCELED BY OWNER',\n",
       "       'Task Force Liquor 1475', 'TWO PEOPLE ATE AND GOT SICK.',\n",
       "       'Pre-License Consultation', 'CANVASS SPECIAL EVENTS',\n",
       "       'OUT OF BUSINESS', 'No entry', 'NO ENTRY', 'Package Liquor 1474',\n",
       "       'Sample Collection', 'FIRE/COMPLAIN', '1315 license reinspection',\n",
       "       'Task Force Liquor Catering', 'SFP', 'CANVAS', 'no entry',\n",
       "       'SFP/COMPLAINT', 'SFP/Complaint', 'Special Events (Festivals)',\n",
       "       'expansion', 'SFP RECENTLY INSPECTED', 'CANVASS',\n",
       "       'CANVASS RE INSPECTION OF CLOSE UP', 'LICENSE REQUEST',\n",
       "       'TASKFORCE', 'LICENSE TASK FORCE / NOT -FOR-PROFIT CLUB',\n",
       "       'LICENSE TASK FORCE / NOT -FOR-PROFIT CLU', 'LICENSE/NOT READY',\n",
       "       'NO ENTRY-SHORT COMPLAINT)', 'error save', 'CHANGED COURT DATE',\n",
       "       'LIQUOR CATERING', 'No Entry', 'Out of Business',\n",
       "       'citation re-issued', 'TASTE OF CHICAGO', 'HACCP QUESTIONAIRE',\n",
       "       'finish complaint inspection from 5-18-10', 'CANVASS FOR RIB FEST',\n",
       "       'RE-INSPECTION OF CLOSE-UP', 'REINSPECTION',\n",
       "       'TASK FORCE LIQUOR (1481)', 'TASK FORCE NOT READY',\n",
       "       'LIQOUR TASK FORCE NOT READY', 'POSSIBLE FBI'], dtype='<U41')"
      ]
     },
     "execution_count": 8,
     "metadata": {},
     "output_type": "execute_result"
    }
   ],
   "source": [
    "inspection_types"
   ]
  },
  {
   "cell_type": "markdown",
   "metadata": {},
   "source": [
    "First set `Re-inspection` flag column:"
   ]
  },
  {
   "cell_type": "code",
   "execution_count": 9,
   "metadata": {},
   "outputs": [],
   "source": [
    "reinspection_pattern = 're-inspec|reinspec|re inspec'\n",
    "restaurants['Re-inspection'] = restaurants['Inspection Type'].str.lower().str.contains(reinspection_pattern, regex=True)"
   ]
  },
  {
   "cell_type": "code",
   "execution_count": 10,
   "metadata": {},
   "outputs": [],
   "source": [
    "inspection_types_lower = np.char.lower(inspection_types)"
   ]
  },
  {
   "cell_type": "markdown",
   "metadata": {},
   "source": [
    "Standardize **cavass**:"
   ]
  },
  {
   "cell_type": "code",
   "execution_count": 11,
   "metadata": {},
   "outputs": [],
   "source": [
    "canvass_values = inspection_types[np.char.find(inspection_types_lower, 'canvas') != -1]\n",
    "restaurants.replace(to_replace=canvass_values, value='Canvass', inplace=True)"
   ]
  },
  {
   "cell_type": "markdown",
   "metadata": {},
   "source": [
    "Standardize **complaint**:"
   ]
  },
  {
   "cell_type": "code",
   "execution_count": 12,
   "metadata": {},
   "outputs": [],
   "source": [
    "complaint_values = inspection_types[np.char.find(inspection_types_lower, 'complain') != -1]\n",
    "restaurants.replace(to_replace=complaint_values, value='Complaint', inplace=True)"
   ]
  },
  {
   "cell_type": "markdown",
   "metadata": {},
   "source": [
    "Standardize **license**:"
   ]
  },
  {
   "cell_type": "code",
   "execution_count": 13,
   "metadata": {},
   "outputs": [],
   "source": [
    "license_values = inspection_types[np.char.find(inspection_types_lower, 'license') != -1]\n",
    "restaurants.replace(to_replace=license_values, value='License', inplace=True)"
   ]
  },
  {
   "cell_type": "markdown",
   "metadata": {},
   "source": [
    "Standardize **suspect food poisoning**:"
   ]
  },
  {
   "cell_type": "code",
   "execution_count": 14,
   "metadata": {},
   "outputs": [],
   "source": [
    "sfp_values = restaurants['Inspection Type'].str.lower().str.contains('food|sfp', regex=True)\n",
    "restaurants.loc[sfp_values, 'Inspection Type'] = 'Suspected Food Poisoning'"
   ]
  },
  {
   "cell_type": "markdown",
   "metadata": {},
   "source": [
    "Standardize **task force**:"
   ]
  },
  {
   "cell_type": "code",
   "execution_count": 15,
   "metadata": {},
   "outputs": [],
   "source": [
    "taskforce_values = inspection_types[np.char.find(inspection_types_lower, 'task') != -1]\n",
    "liquor_values = inspection_types[np.char.find(inspection_types_lower, 'liquor') != -1]\n",
    "restaurants.replace(to_replace=np.append(taskforce_values, liquor_values), value='Task Force', inplace=True)"
   ]
  },
  {
   "cell_type": "markdown",
   "metadata": {},
   "source": [
    "Special standardization:"
   ]
  },
  {
   "cell_type": "code",
   "execution_count": 16,
   "metadata": {},
   "outputs": [],
   "source": [
    "sick_values = inspection_types[np.char.find(inspection_types_lower, 'sick') != -1]\n",
    "restaurants.replace(to_replace=sick_values, value='Suspect Food Poisoning', inplace=True)"
   ]
  },
  {
   "cell_type": "code",
   "execution_count": 17,
   "metadata": {},
   "outputs": [
    {
     "data": {
      "text/plain": [
       "array(['License', 'Canvass', 'Complaint', 'Recent Inspection',\n",
       "       'Suspected Food Poisoning', 'Consultation', 'Non-Inspection',\n",
       "       'Recent inspection', 'FIRE', 'Tag Removal', 'Unknown', 'Not Ready',\n",
       "       'KITCHEN CLOSED FOR RENOVATION', 'CORRECTIVE ACTION', 'Task Force',\n",
       "       'Suspect Food Poisoning', 'OUT OF BUSINESS', 'No entry',\n",
       "       'NO ENTRY', 'Sample Collection', 'no entry',\n",
       "       'Special Events (Festivals)', 'expansion', 'error save',\n",
       "       'CHANGED COURT DATE', 'No Entry', 'Out of Business',\n",
       "       'citation re-issued', 'TASTE OF CHICAGO', 'HACCP QUESTIONAIRE',\n",
       "       'RE-INSPECTION OF CLOSE-UP', 'REINSPECTION', 'POSSIBLE FBI'],\n",
       "      dtype=object)"
      ]
     },
     "execution_count": 17,
     "metadata": {},
     "output_type": "execute_result"
    }
   ],
   "source": [
    "restaurants['Inspection Type'].unique()"
   ]
  },
  {
   "cell_type": "code",
   "execution_count": 18,
   "metadata": {},
   "outputs": [],
   "source": [
    "# Move out of business indication to the right column\n",
    "out_of_business = restaurants[restaurants['Inspection Type'].str.lower().str.contains('business')].index\n",
    "restaurants.loc[out_of_business, 'Results'] = 'Out of Business'"
   ]
  },
  {
   "cell_type": "code",
   "execution_count": 19,
   "metadata": {},
   "outputs": [
    {
     "data": {
      "text/plain": [
       "Inspection Type\n",
       "CHANGED COURT DATE                   1\n",
       "CORRECTIVE ACTION                    1\n",
       "Canvass                          83592\n",
       "Complaint                        25041\n",
       "Consultation                       396\n",
       "FIRE                                 1\n",
       "HACCP QUESTIONAIRE                   1\n",
       "KITCHEN CLOSED FOR RENOVATION        1\n",
       "License                          19460\n",
       "NO ENTRY                             5\n",
       "No Entry                            48\n",
       "No entry                             1\n",
       "Non-Inspection                       9\n",
       "Not Ready                            7\n",
       "OUT OF BUSINESS                     11\n",
       "Out of Business                     52\n",
       "POSSIBLE FBI                         1\n",
       "RE-INSPECTION OF CLOSE-UP            1\n",
       "REINSPECTION                         1\n",
       "Recent Inspection                  229\n",
       "Recent inspection                    2\n",
       "Sample Collection                    1\n",
       "Special Events (Festivals)          20\n",
       "Suspect Food Poisoning               1\n",
       "Suspected Food Poisoning           918\n",
       "TASTE OF CHICAGO                     1\n",
       "Tag Removal                        484\n",
       "Task Force                         226\n",
       "Unknown                              1\n",
       "citation re-issued                   1\n",
       "error save                           1\n",
       "expansion                            1\n",
       "no entry                             2\n",
       "Name: Inspection ID, dtype: int64"
      ]
     },
     "execution_count": 19,
     "metadata": {},
     "output_type": "execute_result"
    }
   ],
   "source": [
    "restaurants.groupby(by='Inspection Type')['Inspection ID'].count()"
   ]
  },
  {
   "cell_type": "markdown",
   "metadata": {},
   "source": [
    "We should remain `Tag Removal`, `Recent Inspection` (unite), `Out of Business` (unite), `No entry` (unite) and `Consultation`. All of the rest we classify as `Unknown`."
   ]
  },
  {
   "cell_type": "code",
   "execution_count": 20,
   "metadata": {},
   "outputs": [],
   "source": [
    "recent_inspections = restaurants['Inspection Type'].str.lower().str.contains('recent inspection')\n",
    "restaurants.loc[recent_inspections, 'Inspection Type'] = 'Recent Inspection'"
   ]
  },
  {
   "cell_type": "code",
   "execution_count": 21,
   "metadata": {},
   "outputs": [],
   "source": [
    "out_of_business_inspections = restaurants['Inspection Type'].str.lower().str.contains('out of business')\n",
    "restaurants.loc[out_of_business_inspections, 'Inspection Type'] = 'Out of Business'"
   ]
  },
  {
   "cell_type": "code",
   "execution_count": 22,
   "metadata": {},
   "outputs": [],
   "source": [
    "no_entry_inspections = restaurants['Inspection Type'].str.lower().str.contains('no entry')\n",
    "restaurants.loc[no_entry_inspections, 'Inspection Type'] = 'No Entry'"
   ]
  },
  {
   "cell_type": "code",
   "execution_count": 23,
   "metadata": {},
   "outputs": [],
   "source": [
    "known_list = ['License', 'Canvass', 'Complaint', 'Consultation', 'No Entry', 'Out of Business', 'Recent Inspection', 'Suspected Food Poisoning', 'Tag Removal', 'Task Force']\n",
    "restaurants.loc[~restaurants['Inspection Type'].isin(known_list), 'Inspection Type'] = 'Unknown'"
   ]
  },
  {
   "cell_type": "code",
   "execution_count": 24,
   "metadata": {},
   "outputs": [
    {
     "data": {
      "text/plain": [
       "Inspection Type\n",
       "Canvass                     83592\n",
       "Complaint                   25041\n",
       "Consultation                  396\n",
       "License                     19460\n",
       "No Entry                       56\n",
       "Out of Business                63\n",
       "Recent Inspection             231\n",
       "Suspected Food Poisoning      918\n",
       "Tag Removal                   484\n",
       "Task Force                    226\n",
       "Unknown                        51\n",
       "Name: Inspection ID, dtype: int64"
      ]
     },
     "execution_count": 24,
     "metadata": {},
     "output_type": "execute_result"
    }
   ],
   "source": [
    "restaurants.groupby(by='Inspection Type')['Inspection ID'].count()"
   ]
  },
  {
   "cell_type": "markdown",
   "metadata": {},
   "source": [
    "TODO: We might want to standardize further, e.g. unite Consulatation with Canvass of License etc. or treat Unknowns with more details."
   ]
  },
  {
   "cell_type": "code",
   "execution_count": 26,
   "metadata": {},
   "outputs": [],
   "source": [
    "pd.to_pickle(restaurants, '../data/restaurants.pickle')"
   ]
  },
  {
   "cell_type": "code",
   "execution_count": 34,
   "metadata": {},
   "outputs": [
    {
     "data": {
      "text/plain": [
       "1    2019-11-01T00:00:00.000\n",
       "2    2019-11-01T00:00:00.000\n",
       "3    2019-11-01T00:00:00.000\n",
       "5    2019-11-01T00:00:00.000\n",
       "9    2019-11-01T00:00:00.000\n",
       "Name: Inspection Date, dtype: object"
      ]
     },
     "execution_count": 34,
     "metadata": {},
     "output_type": "execute_result"
    }
   ],
   "source": [
    "restaurants['Inspection Date'].head()"
   ]
  },
  {
   "cell_type": "code",
   "execution_count": null,
   "metadata": {},
   "outputs": [],
   "source": []
  }
 ],
 "metadata": {
  "kernelspec": {
   "display_name": "Python [conda env:ada] *",
   "language": "python",
   "name": "conda-env-ada-py"
  },
  "language_info": {
   "codemirror_mode": {
    "name": "ipython",
    "version": 3
   },
   "file_extension": ".py",
   "mimetype": "text/x-python",
   "name": "python",
   "nbconvert_exporter": "python",
   "pygments_lexer": "ipython3",
   "version": "3.7.4"
  }
 },
 "nbformat": 4,
 "nbformat_minor": 2
}
