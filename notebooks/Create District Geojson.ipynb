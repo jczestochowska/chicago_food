{
 "cells": [
  {
   "cell_type": "code",
   "execution_count": 5,
   "metadata": {},
   "outputs": [],
   "source": [
    "from shapely.geometry import Polygon, MultiPolygon, asShape\n",
    "from shapely.ops import unary_union, cascaded_union\n",
    "from geojson import Feature\n",
    "import json\n",
    "import pandas as pd\n",
    "import os"
   ]
  },
  {
   "cell_type": "code",
   "execution_count": 3,
   "metadata": {},
   "outputs": [],
   "source": [
    "data_folder = 'data'"
   ]
  },
  {
   "cell_type": "code",
   "execution_count": 72,
   "metadata": {},
   "outputs": [],
   "source": [
    "j = json.load(open(os.path.join(data_folder, \"chicago-community-areas.json\")))"
   ]
  },
  {
   "cell_type": "code",
   "execution_count": 73,
   "metadata": {},
   "outputs": [
    {
     "data": {
      "text/html": [
       "<div>\n",
       "<style scoped>\n",
       "    .dataframe tbody tr th:only-of-type {\n",
       "        vertical-align: middle;\n",
       "    }\n",
       "\n",
       "    .dataframe tbody tr th {\n",
       "        vertical-align: top;\n",
       "    }\n",
       "\n",
       "    .dataframe thead th {\n",
       "        text-align: right;\n",
       "    }\n",
       "</style>\n",
       "<table border=\"1\" class=\"dataframe\">\n",
       "  <thead>\n",
       "    <tr style=\"text-align: right;\">\n",
       "      <th></th>\n",
       "      <th>Community</th>\n",
       "      <th>District</th>\n",
       "    </tr>\n",
       "  </thead>\n",
       "  <tbody>\n",
       "    <tr>\n",
       "      <td>0</td>\n",
       "      <td>ROGERS PARK</td>\n",
       "      <td>Far North Side</td>\n",
       "    </tr>\n",
       "    <tr>\n",
       "      <td>1</td>\n",
       "      <td>WEST RIDGE</td>\n",
       "      <td>Far North Side</td>\n",
       "    </tr>\n",
       "    <tr>\n",
       "      <td>2</td>\n",
       "      <td>UPTOWN</td>\n",
       "      <td>Far North Side</td>\n",
       "    </tr>\n",
       "    <tr>\n",
       "      <td>3</td>\n",
       "      <td>LINCOLN SQUARE</td>\n",
       "      <td>Far North Side</td>\n",
       "    </tr>\n",
       "    <tr>\n",
       "      <td>4</td>\n",
       "      <td>EDISON PARK</td>\n",
       "      <td>Far North Side</td>\n",
       "    </tr>\n",
       "  </tbody>\n",
       "</table>\n",
       "</div>"
      ],
      "text/plain": [
       "        Community        District\n",
       "0     ROGERS PARK  Far North Side\n",
       "1      WEST RIDGE  Far North Side\n",
       "2          UPTOWN  Far North Side\n",
       "3  LINCOLN SQUARE  Far North Side\n",
       "4     EDISON PARK  Far North Side"
      ]
     },
     "execution_count": 73,
     "metadata": {},
     "output_type": "execute_result"
    }
   ],
   "source": [
    "df = pd.read_excel(os.path.join(data_folder, 'Chicago-Communities.xlsx'))\n",
    "df.Community = df.Community.apply(lambda x: str.upper(x).strip())\n",
    "df.head()"
   ]
  },
  {
   "cell_type": "code",
   "execution_count": 74,
   "metadata": {},
   "outputs": [],
   "source": [
    "districts_areas = df.groupby('District')['Community'].apply(list)"
   ]
  },
  {
   "cell_type": "code",
   "execution_count": 77,
   "metadata": {},
   "outputs": [],
   "source": [
    "# get indices of areas for each district\n",
    "indices=[]\n",
    "for k, da in enumerate(districts_areas):\n",
    "    indices.append([])\n",
    "    indices[k] = [idx for idx, i in enumerate(j['features']) if \\\n",
    "        i['properties']['community'] in da]"
   ]
  },
  {
   "cell_type": "code",
   "execution_count": 79,
   "metadata": {},
   "outputs": [],
   "source": [
    "# create polygons for areas\n",
    "all_polygons = []\n",
    "for row in indices:\n",
    "    all_polygons.append([asShape(j['features'][i]['geometry']) for i in row])"
   ]
  },
  {
   "cell_type": "code",
   "execution_count": 81,
   "metadata": {},
   "outputs": [],
   "source": [
    "# Add district name as information\n",
    "properties=[]\n",
    "for k,row in enumerate(indices):\n",
    "    prop = j['features'][row[0]]['properties']\n",
    "    prop['district'] = districts_areas.index[k]\n",
    "    properties.append(prop)"
   ]
  },
  {
   "cell_type": "code",
   "execution_count": 82,
   "metadata": {},
   "outputs": [],
   "source": [
    "# join polygons\n",
    "joined = []\n",
    "for polygons in all_polygons:\n",
    "    joined.append(unary_union(polygons))"
   ]
  },
  {
   "cell_type": "code",
   "execution_count": 83,
   "metadata": {},
   "outputs": [],
   "source": [
    "# delete the merged counties\n",
    "d = j\n",
    "for i in reversed(sorted(list((x for y in indices for x in y)))):\n",
    "      del d['features'][i]"
   ]
  },
  {
   "cell_type": "code",
   "execution_count": 84,
   "metadata": {},
   "outputs": [],
   "source": [
    "# add the new polygon to the features\n",
    "for k,join in enumerate(joined):\n",
    "    feature = Feature(geometry=join, properties=properties[k])\n",
    "    d['features'].append(feature)"
   ]
  },
  {
   "cell_type": "code",
   "execution_count": 85,
   "metadata": {},
   "outputs": [],
   "source": [
    "# save the geojson\n",
    "with open(os.path.join(data_folder,'chicago-district-boundaries.json'), 'w') as out:\n",
    "  json.dump(d, out)"
   ]
  },
  {
   "cell_type": "code",
   "execution_count": null,
   "metadata": {},
   "outputs": [],
   "source": []
  }
 ],
 "metadata": {
  "kernelspec": {
   "display_name": "Python 3",
   "language": "python",
   "name": "python3"
  },
  "language_info": {
   "codemirror_mode": {
    "name": "ipython",
    "version": 3
   },
   "file_extension": ".py",
   "mimetype": "text/x-python",
   "name": "python",
   "nbconvert_exporter": "python",
   "pygments_lexer": "ipython3",
   "version": "3.7.3"
  }
 },
 "nbformat": 4,
 "nbformat_minor": 4
}
