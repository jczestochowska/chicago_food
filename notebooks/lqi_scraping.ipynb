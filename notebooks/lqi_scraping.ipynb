{
 "cells": [
  {
   "cell_type": "code",
   "execution_count": 59,
   "metadata": {},
   "outputs": [],
   "source": [
    "import requests\n",
    "from bs4 import BeautifulSoup\n",
    "import pandas as pd\n",
    "import re"
   ]
  },
  {
   "cell_type": "code",
   "execution_count": 2,
   "metadata": {},
   "outputs": [],
   "source": [
    "response = requests.get(\"https://chicago.placeilive.com/map#41.80919639152055/-87.72926330566406/10\")"
   ]
  },
  {
   "cell_type": "code",
   "execution_count": 48,
   "metadata": {},
   "outputs": [],
   "source": [
    "response = requests.get(\"http://zipatlas.com/us/il/chicago/zip-code-comparison/median-household-income.htm\")"
   ]
  },
  {
   "cell_type": "code",
   "execution_count": 49,
   "metadata": {},
   "outputs": [],
   "source": [
    "page_body = response.text"
   ]
  },
  {
   "cell_type": "code",
   "execution_count": 52,
   "metadata": {},
   "outputs": [],
   "source": [
    "soup = BeautifulSoup(page_body, 'html.parser')"
   ]
  },
  {
   "cell_type": "code",
   "execution_count": 5,
   "metadata": {},
   "outputs": [],
   "source": [
    "addresses = soup.find_all('div', class_='address')"
   ]
  },
  {
   "cell_type": "code",
   "execution_count": 55,
   "metadata": {},
   "outputs": [],
   "source": [
    "table = soup.find(lambda tag: tag.name=='table' and tag.has_attr('rules') and tag['rules']==\"all\") \n",
    "rows = table.findAll(lambda tag: tag.name=='tr')"
   ]
  },
  {
   "cell_type": "code",
   "execution_count": 73,
   "metadata": {},
   "outputs": [
    {
     "data": {
      "text/plain": [
       "['100,377.00', '259']"
      ]
     },
     "execution_count": 73,
     "metadata": {},
     "output_type": "execute_result"
    }
   ],
   "source": [
    "rows[1].text.split(\"$\")[1].split(\"#\")"
   ]
  },
  {
   "cell_type": "code",
   "execution_count": 82,
   "metadata": {},
   "outputs": [],
   "source": [
    "df_dict = {\"median_income\": [], \"zip_code\": []}\n",
    "for row in rows[1:]:\n",
    "    df_dict[\"zip_code\"].append(row.text.split(\".\")[1][:5])\n",
    "    df_dict[\"median_income\"].append(int(row.text.split(\"$\")[1].split(\"#\")[0][:-3].replace(',', '')))"
   ]
  },
  {
   "cell_type": "code",
   "execution_count": 88,
   "metadata": {},
   "outputs": [],
   "source": [
    "pd.DataFrame(df_dict).to_csv(\"/home/jczestochowska/workspace/ada/chicago_food/data/processed/median_income.csv\")"
   ]
  },
  {
   "cell_type": "code",
   "execution_count": null,
   "metadata": {},
   "outputs": [],
   "source": [
    "tables = [table.string for table in tables]"
   ]
  },
  {
   "cell_type": "code",
   "execution_count": 6,
   "metadata": {},
   "outputs": [],
   "source": [
    "addresses = [int(address.string) for address in addresses]"
   ]
  },
  {
   "cell_type": "code",
   "execution_count": 7,
   "metadata": {},
   "outputs": [],
   "source": [
    "lqis = soup.find_all('div', class_='lqi')"
   ]
  },
  {
   "cell_type": "code",
   "execution_count": 8,
   "metadata": {},
   "outputs": [],
   "source": [
    "lqis = [int(lqi.string) for lqi in lqis]"
   ]
  },
  {
   "cell_type": "code",
   "execution_count": 9,
   "metadata": {},
   "outputs": [],
   "source": [
    "code_lqi = list(zip(addresses, lqis))"
   ]
  },
  {
   "cell_type": "code",
   "execution_count": 10,
   "metadata": {},
   "outputs": [
    {
     "data": {
      "text/plain": [
       "[(60603, 90),\n",
       " (60604, 90),\n",
       " (60610, 90),\n",
       " (60654, 89),\n",
       " (60605, 89),\n",
       " (60611, 88),\n",
       " (60602, 88),\n",
       " (60601, 88),\n",
       " (60606, 88),\n",
       " (60642, 87),\n",
       " (60661, 87),\n",
       " (60614, 87),\n",
       " (60607, 86),\n",
       " (60613, 85),\n",
       " (60657, 85),\n",
       " (60622, 84),\n",
       " (60616, 83),\n",
       " (60615, 82),\n",
       " (60660, 81),\n",
       " (60625, 80),\n",
       " (60640, 80),\n",
       " (60612, 80),\n",
       " (60647, 80),\n",
       " (60608, 80),\n",
       " (60618, 79),\n",
       " (60626, 79),\n",
       " (60653, 79),\n",
       " (60659, 79),\n",
       " (60641, 78),\n",
       " (60645, 78),\n",
       " (60630, 78),\n",
       " (60646, 77),\n",
       " (60631, 76),\n",
       " (60634, 75),\n",
       " (60656, 74),\n",
       " (60637, 74),\n",
       " (60609, 74),\n",
       " (60707, 73),\n",
       " (60639, 72),\n",
       " (60624, 72),\n",
       " (60621, 72),\n",
       " (60623, 72),\n",
       " (60649, 71),\n",
       " (60632, 71),\n",
       " (60651, 71),\n",
       " (60655, 71),\n",
       " (60652, 69),\n",
       " (60643, 69),\n",
       " (60636, 68),\n",
       " (60617, 68),\n",
       " (60619, 68),\n",
       " (60644, 68),\n",
       " (60629, 67),\n",
       " (60633, 65),\n",
       " (60620, 65),\n",
       " (60638, 65),\n",
       " (60628, 63),\n",
       " (60827, 62)]"
      ]
     },
     "execution_count": 10,
     "metadata": {},
     "output_type": "execute_result"
    }
   ],
   "source": [
    "code_lqi"
   ]
  },
  {
   "cell_type": "code",
   "execution_count": 12,
   "metadata": {},
   "outputs": [],
   "source": [
    "df = pd.DataFrame(code_lqi, columns =['zip_code', 'life_quality_index']) "
   ]
  },
  {
   "cell_type": "code",
   "execution_count": 14,
   "metadata": {},
   "outputs": [],
   "source": [
    "df.to_csv(\"../data/processed/lqi_indexes.csv\")"
   ]
  }
 ],
 "metadata": {
  "kernelspec": {
   "display_name": "Python 3",
   "language": "python",
   "name": "python3"
  },
  "language_info": {
   "codemirror_mode": {
    "name": "ipython",
    "version": 3
   },
   "file_extension": ".py",
   "mimetype": "text/x-python",
   "name": "python",
   "nbconvert_exporter": "python",
   "pygments_lexer": "ipython3",
   "version": "3.7.3"
  }
 },
 "nbformat": 4,
 "nbformat_minor": 2
}
