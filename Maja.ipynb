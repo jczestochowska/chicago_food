{
 "cells": [
  {
   "cell_type": "code",
   "execution_count": 69,
   "metadata": {},
   "outputs": [],
   "source": [
    "import numpy as np\n",
    "import pandas as pd\n",
    "import matplotlib.pyplot as plt\n",
    "import seaborn as sns\n",
    "%matplotlib inline"
   ]
  },
  {
   "cell_type": "code",
   "execution_count": 70,
   "metadata": {},
   "outputs": [],
   "source": [
    "import json\n",
    "import folium\n",
    "from folium import plugins\n",
    "from folium.plugins import MarkerCluster, Search"
   ]
  },
  {
   "cell_type": "code",
   "execution_count": 71,
   "metadata": {},
   "outputs": [
    {
     "data": {
      "text/html": [
       "<div>\n",
       "<style scoped>\n",
       "    .dataframe tbody tr th:only-of-type {\n",
       "        vertical-align: middle;\n",
       "    }\n",
       "\n",
       "    .dataframe tbody tr th {\n",
       "        vertical-align: top;\n",
       "    }\n",
       "\n",
       "    .dataframe thead th {\n",
       "        text-align: right;\n",
       "    }\n",
       "</style>\n",
       "<table border=\"1\" class=\"dataframe\">\n",
       "  <thead>\n",
       "    <tr style=\"text-align: right;\">\n",
       "      <th></th>\n",
       "      <th>DBA Name</th>\n",
       "      <th>AKA Name</th>\n",
       "      <th>License #</th>\n",
       "      <th>Facility Type</th>\n",
       "      <th>Risk</th>\n",
       "      <th>Address</th>\n",
       "      <th>City</th>\n",
       "      <th>State</th>\n",
       "      <th>Zip</th>\n",
       "      <th>Inspection Date</th>\n",
       "      <th>Inspection Type</th>\n",
       "      <th>Results</th>\n",
       "      <th>Violations</th>\n",
       "      <th>Latitude</th>\n",
       "      <th>Longitude</th>\n",
       "      <th>Location</th>\n",
       "    </tr>\n",
       "    <tr>\n",
       "      <th>Inspection ID</th>\n",
       "      <th></th>\n",
       "      <th></th>\n",
       "      <th></th>\n",
       "      <th></th>\n",
       "      <th></th>\n",
       "      <th></th>\n",
       "      <th></th>\n",
       "      <th></th>\n",
       "      <th></th>\n",
       "      <th></th>\n",
       "      <th></th>\n",
       "      <th></th>\n",
       "      <th></th>\n",
       "      <th></th>\n",
       "      <th></th>\n",
       "      <th></th>\n",
       "    </tr>\n",
       "  </thead>\n",
       "  <tbody>\n",
       "    <tr>\n",
       "      <td>2213460</td>\n",
       "      <td>WARREN PARK HEALTH &amp; LIVING CENTER, LLC</td>\n",
       "      <td>WARREN PARK HEALTH &amp; LIVING CENTER</td>\n",
       "      <td>2208054.0</td>\n",
       "      <td>Long Term Care</td>\n",
       "      <td>Risk 1 (High)</td>\n",
       "      <td>6700 N DAMEN AVE</td>\n",
       "      <td>CHICAGO</td>\n",
       "      <td>IL</td>\n",
       "      <td>60645.0</td>\n",
       "      <td>2018-08-24T00:00:00</td>\n",
       "      <td>Canvass Re-Inspection</td>\n",
       "      <td>Fail</td>\n",
       "      <td>3. MANAGEMENT, FOOD EMPLOYEE AND CONDITIONAL E...</td>\n",
       "      <td>42.003389</td>\n",
       "      <td>-87.680461</td>\n",
       "      <td>{'longitude': '-87.68046070936003', 'needs_rec...</td>\n",
       "    </tr>\n",
       "    <tr>\n",
       "      <td>2213467</td>\n",
       "      <td>LITTLE GEMS INTERNATIONAL (BELDEN),INC</td>\n",
       "      <td>LITTLE GEMS INTERNATIONAL</td>\n",
       "      <td>2216177.0</td>\n",
       "      <td>Daycare Above and Under 2 Years</td>\n",
       "      <td>Risk 1 (High)</td>\n",
       "      <td>2301 N CLARK ST</td>\n",
       "      <td>CHICAGO</td>\n",
       "      <td>IL</td>\n",
       "      <td>60614.0</td>\n",
       "      <td>2018-08-24T00:00:00</td>\n",
       "      <td>License</td>\n",
       "      <td>Pass w/ Conditions</td>\n",
       "      <td>3. MANAGEMENT, FOOD EMPLOYEE AND CONDITIONAL E...</td>\n",
       "      <td>41.923906</td>\n",
       "      <td>-87.639287</td>\n",
       "      <td>{'longitude': '-87.63928669557026', 'needs_rec...</td>\n",
       "    </tr>\n",
       "    <tr>\n",
       "      <td>2213434</td>\n",
       "      <td>J.P.E. DAY CARE CENTER</td>\n",
       "      <td>J.P.E. DAY CARE CENTER</td>\n",
       "      <td>2215626.0</td>\n",
       "      <td>Daycare (2 - 6 Years)</td>\n",
       "      <td>Risk 1 (High)</td>\n",
       "      <td>8625 S COTTAGE GROVE AVE</td>\n",
       "      <td>CHICAGO</td>\n",
       "      <td>IL</td>\n",
       "      <td>60619.0</td>\n",
       "      <td>2018-08-24T00:00:00</td>\n",
       "      <td>License Re-Inspection</td>\n",
       "      <td>Pass w/ Conditions</td>\n",
       "      <td>3. MANAGEMENT, FOOD EMPLOYEE AND CONDITIONAL E...</td>\n",
       "      <td>41.737699</td>\n",
       "      <td>-87.604707</td>\n",
       "      <td>{'longitude': '-87.60470700986774', 'needs_rec...</td>\n",
       "    </tr>\n",
       "    <tr>\n",
       "      <td>2213426</td>\n",
       "      <td>ROYAL NUTRITON</td>\n",
       "      <td>ROYAL NUTRITION</td>\n",
       "      <td>2616205.0</td>\n",
       "      <td>Restaurant</td>\n",
       "      <td>Risk 2 (Medium)</td>\n",
       "      <td>2624 W 59TH ST</td>\n",
       "      <td>CHICAGO</td>\n",
       "      <td>IL</td>\n",
       "      <td>60629.0</td>\n",
       "      <td>2018-08-24T00:00:00</td>\n",
       "      <td>License</td>\n",
       "      <td>Fail</td>\n",
       "      <td>3. MANAGEMENT, FOOD EMPLOYEE AND CONDITIONAL E...</td>\n",
       "      <td>41.786578</td>\n",
       "      <td>-87.689880</td>\n",
       "      <td>{'longitude': '-87.68987967619805', 'needs_rec...</td>\n",
       "    </tr>\n",
       "    <tr>\n",
       "      <td>2213418</td>\n",
       "      <td>JIMMYS BEST</td>\n",
       "      <td>JIMMY'S BEST</td>\n",
       "      <td>2617464.0</td>\n",
       "      <td>NaN</td>\n",
       "      <td>Risk 2 (Medium)</td>\n",
       "      <td>6201 S ASHLAND AVE</td>\n",
       "      <td>CHICAGO</td>\n",
       "      <td>IL</td>\n",
       "      <td>60636.0</td>\n",
       "      <td>2018-08-24T00:00:00</td>\n",
       "      <td>License</td>\n",
       "      <td>No Entry</td>\n",
       "      <td>NaN</td>\n",
       "      <td>41.781204</td>\n",
       "      <td>-87.664113</td>\n",
       "      <td>{'longitude': '-87.66411327951789', 'needs_rec...</td>\n",
       "    </tr>\n",
       "  </tbody>\n",
       "</table>\n",
       "</div>"
      ],
      "text/plain": [
       "                                              DBA Name  \\\n",
       "Inspection ID                                            \n",
       "2213460        WARREN PARK HEALTH & LIVING CENTER, LLC   \n",
       "2213467         LITTLE GEMS INTERNATIONAL (BELDEN),INC   \n",
       "2213434                         J.P.E. DAY CARE CENTER   \n",
       "2213426                                 ROYAL NUTRITON   \n",
       "2213418                                    JIMMYS BEST   \n",
       "\n",
       "                                         AKA Name  License #  \\\n",
       "Inspection ID                                                  \n",
       "2213460        WARREN PARK HEALTH & LIVING CENTER  2208054.0   \n",
       "2213467                 LITTLE GEMS INTERNATIONAL  2216177.0   \n",
       "2213434                    J.P.E. DAY CARE CENTER  2215626.0   \n",
       "2213426                           ROYAL NUTRITION  2616205.0   \n",
       "2213418                              JIMMY'S BEST  2617464.0   \n",
       "\n",
       "                                 Facility Type             Risk  \\\n",
       "Inspection ID                                                     \n",
       "2213460                         Long Term Care    Risk 1 (High)   \n",
       "2213467        Daycare Above and Under 2 Years    Risk 1 (High)   \n",
       "2213434                  Daycare (2 - 6 Years)    Risk 1 (High)   \n",
       "2213426                             Restaurant  Risk 2 (Medium)   \n",
       "2213418                                    NaN  Risk 2 (Medium)   \n",
       "\n",
       "                                 Address     City State      Zip  \\\n",
       "Inspection ID                                                      \n",
       "2213460                6700 N DAMEN AVE   CHICAGO    IL  60645.0   \n",
       "2213467                 2301 N CLARK ST   CHICAGO    IL  60614.0   \n",
       "2213434        8625 S COTTAGE GROVE AVE   CHICAGO    IL  60619.0   \n",
       "2213426                  2624 W 59TH ST   CHICAGO    IL  60629.0   \n",
       "2213418              6201 S ASHLAND AVE   CHICAGO    IL  60636.0   \n",
       "\n",
       "                   Inspection Date        Inspection Type             Results  \\\n",
       "Inspection ID                                                                   \n",
       "2213460        2018-08-24T00:00:00  Canvass Re-Inspection                Fail   \n",
       "2213467        2018-08-24T00:00:00                License  Pass w/ Conditions   \n",
       "2213434        2018-08-24T00:00:00  License Re-Inspection  Pass w/ Conditions   \n",
       "2213426        2018-08-24T00:00:00                License                Fail   \n",
       "2213418        2018-08-24T00:00:00                License            No Entry   \n",
       "\n",
       "                                                      Violations   Latitude  \\\n",
       "Inspection ID                                                                 \n",
       "2213460        3. MANAGEMENT, FOOD EMPLOYEE AND CONDITIONAL E...  42.003389   \n",
       "2213467        3. MANAGEMENT, FOOD EMPLOYEE AND CONDITIONAL E...  41.923906   \n",
       "2213434        3. MANAGEMENT, FOOD EMPLOYEE AND CONDITIONAL E...  41.737699   \n",
       "2213426        3. MANAGEMENT, FOOD EMPLOYEE AND CONDITIONAL E...  41.786578   \n",
       "2213418                                                      NaN  41.781204   \n",
       "\n",
       "               Longitude                                           Location  \n",
       "Inspection ID                                                                \n",
       "2213460       -87.680461  {'longitude': '-87.68046070936003', 'needs_rec...  \n",
       "2213467       -87.639287  {'longitude': '-87.63928669557026', 'needs_rec...  \n",
       "2213434       -87.604707  {'longitude': '-87.60470700986774', 'needs_rec...  \n",
       "2213426       -87.689880  {'longitude': '-87.68987967619805', 'needs_rec...  \n",
       "2213418       -87.664113  {'longitude': '-87.66411327951789', 'needs_rec...  "
      ]
     },
     "execution_count": 71,
     "metadata": {},
     "output_type": "execute_result"
    }
   ],
   "source": [
    "data = pd.read_csv('data/food-inspections.csv', index_col=0)\n",
    "data.head()"
   ]
  },
  {
   "cell_type": "markdown",
   "metadata": {},
   "source": [
    "## Preprocessing"
   ]
  },
  {
   "cell_type": "markdown",
   "metadata": {},
   "source": [
    "### Facility type"
   ]
  },
  {
   "cell_type": "code",
   "execution_count": 72,
   "metadata": {},
   "outputs": [],
   "source": [
    "# Drop rows where the type of the facility is unknown\n",
    "data = data[~data['Facility Type'].isna()]"
   ]
  },
  {
   "cell_type": "code",
   "execution_count": 73,
   "metadata": {},
   "outputs": [],
   "source": [
    "# Get restaurants from the data\n",
    "restaurants = data[data['Facility Type'].str.contains('restaurant', case=False)]"
   ]
  },
  {
   "cell_type": "code",
   "execution_count": 74,
   "metadata": {},
   "outputs": [
    {
     "data": {
      "text/plain": [
       "array(['Restaurant', 'RESTAURANT.BANQUET HALLS', 'GROCERY/RESTAURANT',\n",
       "       'ROOFTOP/RESTAURANT', 'RESTAURANT/GAS STATION',\n",
       "       'Theater & Restaurant', 'RESTAURANT/GROCERY STORE',\n",
       "       'Grocery & Restaurant', 'RESTAURANT/BAR', 'GROCERY& RESTAURANT',\n",
       "       'Restaurant(protein shake bar)', 'RESTAURANT/BAR/THEATER',\n",
       "       'RESTAURANT AND LIQUOR', 'GAS STATION/RESTAURANT',\n",
       "       'RESTAURANT/HOSPITAL', 'GROCERY/ RESTAURANT',\n",
       "       'GROCERY STORE/ RESTAURANT', 'RESTAURANT/BAKERY',\n",
       "       'RESTAURANT/GROCERY', 'TAVERN/RESTAURANT', 'grocery & restaurant',\n",
       "       'BAKERY/ RESTAURANT', 'RESTAURANT/LIQUOR', 'bakery/restaurant',\n",
       "       'GROCERY & RESTAURANT', 'tavern/restaurant'], dtype=object)"
      ]
     },
     "execution_count": 74,
     "metadata": {},
     "output_type": "execute_result"
    }
   ],
   "source": [
    "restaurants['Facility Type'].unique()"
   ]
  },
  {
   "cell_type": "markdown",
   "metadata": {},
   "source": [
    "### Latitude, Longitude, Zip"
   ]
  },
  {
   "cell_type": "code",
   "execution_count": 75,
   "metadata": {},
   "outputs": [],
   "source": [
    "# Drop values where Longitude or Latitude is NaN (necessary to do before folium map)\n",
    "# TODO: Populate those values from Google API results\n",
    "restaurants = restaurants[~((restaurants['Longitude'].isna()) | (restaurants['Latitude'].isna()))]"
   ]
  },
  {
   "cell_type": "markdown",
   "metadata": {},
   "source": [
    "Now, we should try to complete missing values for Zip based on Latitude and Longitude"
   ]
  },
  {
   "cell_type": "code",
   "execution_count": 76,
   "metadata": {},
   "outputs": [
    {
     "name": "stdout",
     "output_type": "stream",
     "text": [
      "There are 29 missing values for Zip column\n",
      "There are 76 missing values for City column\n"
     ]
    }
   ],
   "source": [
    "# Check if there are missing Zip values\n",
    "restaurants_zip_na = restaurants[restaurants['Zip'].isna()]\n",
    "print('There are {0} missing values for Zip column'.format(restaurants_zip_na.shape[0]))\n",
    "print('There are {0} missing values for City column'.format(restaurants[restaurants['City'].isna()].shape[0]))"
   ]
  },
  {
   "cell_type": "code",
   "execution_count": 77,
   "metadata": {},
   "outputs": [],
   "source": [
    "import shapely\n",
    "from shapely.geometry import shape, Point"
   ]
  },
  {
   "cell_type": "code",
   "execution_count": 78,
   "metadata": {},
   "outputs": [],
   "source": [
    "def create_points(df):\n",
    "    coords = list(zip(df['Longitude'], df['Latitude']))\n",
    "    res = []\n",
    "    for coord in coords:\n",
    "        # Because there is also geojson Point which I use so that's why I'm importing like this\n",
    "        res.append(shapely.geometry.Point(coord))\n",
    "    return res"
   ]
  },
  {
   "cell_type": "code",
   "execution_count": 79,
   "metadata": {},
   "outputs": [],
   "source": [
    "points = create_points(restaurants_zip_na)"
   ]
  },
  {
   "cell_type": "code",
   "execution_count": 80,
   "metadata": {},
   "outputs": [],
   "source": [
    "# Method which checks whether the points are in area described in geojson file and returns data with zip value for found points\n",
    "def populate_missing_zip(points,geojson_filename):\n",
    "    # load GeoJSON file containing sectors\n",
    "    state_geo_path = r'{0}'.format(geojson_filename)\n",
    "    geo_json_data = json.load(open(state_geo_path))\n",
    "\n",
    "    zip_found = []\n",
    "    # check each polygon to see if it contains the point\n",
    "    for feature in geo_json_data['features']:\n",
    "        polygon = shape(feature['geometry'])\n",
    "        for point in points: \n",
    "            if polygon.contains(point):\n",
    "                point_complete = {'Longitude':point.x, 'Latitude':point.y, 'Zip':feature.get('properties', {}).get('zip')}\n",
    "                zip_found.append(point_complete)\n",
    "    return zip_found"
   ]
  },
  {
   "cell_type": "code",
   "execution_count": 81,
   "metadata": {},
   "outputs": [
    {
     "name": "stdout",
     "output_type": "stream",
     "text": [
      "Total 29 point found matching sector.\n"
     ]
    }
   ],
   "source": [
    "zip_found = populate_missing_zip(points,'chicago-zip.json')\n",
    "print('Total {0} point found matching sector.'.format(len(zip_found)))"
   ]
  },
  {
   "cell_type": "code",
   "execution_count": 82,
   "metadata": {},
   "outputs": [
    {
     "data": {
      "text/html": [
       "<div>\n",
       "<style scoped>\n",
       "    .dataframe tbody tr th:only-of-type {\n",
       "        vertical-align: middle;\n",
       "    }\n",
       "\n",
       "    .dataframe tbody tr th {\n",
       "        vertical-align: top;\n",
       "    }\n",
       "\n",
       "    .dataframe thead th {\n",
       "        text-align: right;\n",
       "    }\n",
       "</style>\n",
       "<table border=\"1\" class=\"dataframe\">\n",
       "  <thead>\n",
       "    <tr style=\"text-align: right;\">\n",
       "      <th></th>\n",
       "      <th>Longitude</th>\n",
       "      <th>Latitude</th>\n",
       "      <th>Zip</th>\n",
       "    </tr>\n",
       "  </thead>\n",
       "  <tbody>\n",
       "    <tr>\n",
       "      <td>0</td>\n",
       "      <td>-87.673459</td>\n",
       "      <td>42.019032</td>\n",
       "      <td>60626</td>\n",
       "    </tr>\n",
       "    <tr>\n",
       "      <td>1</td>\n",
       "      <td>-87.673459</td>\n",
       "      <td>42.019032</td>\n",
       "      <td>60626</td>\n",
       "    </tr>\n",
       "    <tr>\n",
       "      <td>2</td>\n",
       "      <td>-87.673459</td>\n",
       "      <td>42.019032</td>\n",
       "      <td>60626</td>\n",
       "    </tr>\n",
       "    <tr>\n",
       "      <td>3</td>\n",
       "      <td>-87.659816</td>\n",
       "      <td>41.968491</td>\n",
       "      <td>60640</td>\n",
       "    </tr>\n",
       "    <tr>\n",
       "      <td>4</td>\n",
       "      <td>-87.659816</td>\n",
       "      <td>41.968491</td>\n",
       "      <td>60640</td>\n",
       "    </tr>\n",
       "  </tbody>\n",
       "</table>\n",
       "</div>"
      ],
      "text/plain": [
       "   Longitude   Latitude    Zip\n",
       "0 -87.673459  42.019032  60626\n",
       "1 -87.673459  42.019032  60626\n",
       "2 -87.673459  42.019032  60626\n",
       "3 -87.659816  41.968491  60640\n",
       "4 -87.659816  41.968491  60640"
      ]
     },
     "execution_count": 82,
     "metadata": {},
     "output_type": "execute_result"
    }
   ],
   "source": [
    "zip_found = pd.DataFrame(zip_found)\n",
    "zip_found.head()"
   ]
  },
  {
   "cell_type": "code",
   "execution_count": 83,
   "metadata": {},
   "outputs": [],
   "source": [
    "# Before merging, drop duplicate points (TODO: maybe drop duplicate before creating points)\n",
    "zip_found.drop_duplicates(inplace=True)"
   ]
  },
  {
   "cell_type": "code",
   "execution_count": 84,
   "metadata": {},
   "outputs": [],
   "source": [
    "restaurants = restaurants.merge(zip_found,on=['Latitude','Longitude'], how='left',suffixes=('', '_notnull'))\n",
    "restaurants.Zip.fillna(value=restaurants.Zip_notnull, inplace=True)\n",
    "restaurants.drop(columns=[\"Zip_notnull\"],inplace=True)"
   ]
  },
  {
   "cell_type": "code",
   "execution_count": 85,
   "metadata": {},
   "outputs": [
    {
     "name": "stdout",
     "output_type": "stream",
     "text": [
      "There are 0 missing Zip left in the restaurant dataset.\n"
     ]
    }
   ],
   "source": [
    "print('There are {0} missing Zip left in the restaurant dataset.'.format(restaurants[restaurants.Zip.isnull()].shape[0]))"
   ]
  },
  {
   "cell_type": "code",
   "execution_count": 86,
   "metadata": {},
   "outputs": [],
   "source": [
    "# Fix city values, check if they have Zip number which corresponds to Chicago Zips"
   ]
  },
  {
   "cell_type": "code",
   "execution_count": 87,
   "metadata": {},
   "outputs": [],
   "source": [
    "# Get all Chicago zips \n",
    "def create_chicago_zip_list():\n",
    "    state_geo_path = r'chicago-zip.json'\n",
    "    geo_json_data = json.load(open(state_geo_path))\n",
    "\n",
    "    zips = []\n",
    "   \n",
    "    for feature in geo_json_data['features']:\n",
    "        zips.append(str(feature.get('properties', {}).get('zip')))\n",
    "    return set(zips)"
   ]
  },
  {
   "cell_type": "code",
   "execution_count": 88,
   "metadata": {},
   "outputs": [
    {
     "data": {
      "text/plain": [
       "59"
      ]
     },
     "execution_count": 88,
     "metadata": {},
     "output_type": "execute_result"
    }
   ],
   "source": [
    "chicago_zip = create_chicago_zip_list()\n",
    "len(chicago_zip)"
   ]
  },
  {
   "cell_type": "markdown",
   "metadata": {},
   "source": [
    "<div style=\"border:1px solid black; padding:10px 10px; background-color: LightPink;\">\n",
    "    <strong>In orded to compare Zip codes, their value should be sting! </strong>\n",
    "</div>"
   ]
  },
  {
   "cell_type": "code",
   "execution_count": 89,
   "metadata": {},
   "outputs": [],
   "source": [
    "restaurants['Zip']=restaurants['Zip'].apply(lambda x: str(int(x)))"
   ]
  },
  {
   "cell_type": "code",
   "execution_count": 90,
   "metadata": {},
   "outputs": [
    {
     "name": "stdout",
     "output_type": "stream",
     "text": [
      "There are 0 Zip values which are not in Chicago.\n"
     ]
    }
   ],
   "source": [
    "# Check if there is any restaurant not in Chicago\n",
    "not_in_chicago = len(restaurants[restaurants.City.isna() & (~restaurants.Zip.isin(chicago_zip))])\n",
    "print('There are {0} Zip values which are not in Chicago.'.format(not_in_chicago))"
   ]
  },
  {
   "cell_type": "code",
   "execution_count": 91,
   "metadata": {},
   "outputs": [],
   "source": [
    "# Replace all City missing values with Chicago\n",
    "restaurants.City.fillna(value='Chicago', inplace=True)"
   ]
  },
  {
   "cell_type": "code",
   "execution_count": 92,
   "metadata": {},
   "outputs": [
    {
     "name": "stdout",
     "output_type": "stream",
     "text": [
      "There are 0 missing City values left in the restaurant dataset.\n"
     ]
    }
   ],
   "source": [
    "print('There are {0} missing City values left in the restaurant dataset.'.format(restaurants[restaurants.City.isnull()].shape[0]))"
   ]
  },
  {
   "cell_type": "markdown",
   "metadata": {},
   "source": [
    "## Visualising the restaurants"
   ]
  },
  {
   "cell_type": "code",
   "execution_count": 93,
   "metadata": {},
   "outputs": [
    {
     "data": {
      "text/html": [
       "<div style=\"width:100%;\"><div style=\"position:relative;width:100%;height:0;padding-bottom:60%;\"><iframe src=\"data:text/html;charset=utf-8;base64,PCFET0NUWVBFIGh0bWw+CjxoZWFkPiAgICAKICAgIDxtZXRhIGh0dHAtZXF1aXY9ImNvbnRlbnQtdHlwZSIgY29udGVudD0idGV4dC9odG1sOyBjaGFyc2V0PVVURi04IiAvPgogICAgCiAgICAgICAgPHNjcmlwdD4KICAgICAgICAgICAgTF9OT19UT1VDSCA9IGZhbHNlOwogICAgICAgICAgICBMX0RJU0FCTEVfM0QgPSBmYWxzZTsKICAgICAgICA8L3NjcmlwdD4KICAgIAogICAgPHNjcmlwdCBzcmM9Imh0dHBzOi8vY2RuLmpzZGVsaXZyLm5ldC9ucG0vbGVhZmxldEAxLjUuMS9kaXN0L2xlYWZsZXQuanMiPjwvc2NyaXB0PgogICAgPHNjcmlwdCBzcmM9Imh0dHBzOi8vY29kZS5qcXVlcnkuY29tL2pxdWVyeS0xLjEyLjQubWluLmpzIj48L3NjcmlwdD4KICAgIDxzY3JpcHQgc3JjPSJodHRwczovL21heGNkbi5ib290c3RyYXBjZG4uY29tL2Jvb3RzdHJhcC8zLjIuMC9qcy9ib290c3RyYXAubWluLmpzIj48L3NjcmlwdD4KICAgIDxzY3JpcHQgc3JjPSJodHRwczovL2NkbmpzLmNsb3VkZmxhcmUuY29tL2FqYXgvbGlicy9MZWFmbGV0LmF3ZXNvbWUtbWFya2Vycy8yLjAuMi9sZWFmbGV0LmF3ZXNvbWUtbWFya2Vycy5qcyI+PC9zY3JpcHQ+CiAgICA8bGluayByZWw9InN0eWxlc2hlZXQiIGhyZWY9Imh0dHBzOi8vY2RuLmpzZGVsaXZyLm5ldC9ucG0vbGVhZmxldEAxLjUuMS9kaXN0L2xlYWZsZXQuY3NzIi8+CiAgICA8bGluayByZWw9InN0eWxlc2hlZXQiIGhyZWY9Imh0dHBzOi8vbWF4Y2RuLmJvb3RzdHJhcGNkbi5jb20vYm9vdHN0cmFwLzMuMi4wL2Nzcy9ib290c3RyYXAubWluLmNzcyIvPgogICAgPGxpbmsgcmVsPSJzdHlsZXNoZWV0IiBocmVmPSJodHRwczovL21heGNkbi5ib290c3RyYXBjZG4uY29tL2Jvb3RzdHJhcC8zLjIuMC9jc3MvYm9vdHN0cmFwLXRoZW1lLm1pbi5jc3MiLz4KICAgIDxsaW5rIHJlbD0ic3R5bGVzaGVldCIgaHJlZj0iaHR0cHM6Ly9tYXhjZG4uYm9vdHN0cmFwY2RuLmNvbS9mb250LWF3ZXNvbWUvNC42LjMvY3NzL2ZvbnQtYXdlc29tZS5taW4uY3NzIi8+CiAgICA8bGluayByZWw9InN0eWxlc2hlZXQiIGhyZWY9Imh0dHBzOi8vY2RuanMuY2xvdWRmbGFyZS5jb20vYWpheC9saWJzL0xlYWZsZXQuYXdlc29tZS1tYXJrZXJzLzIuMC4yL2xlYWZsZXQuYXdlc29tZS1tYXJrZXJzLmNzcyIvPgogICAgPGxpbmsgcmVsPSJzdHlsZXNoZWV0IiBocmVmPSJodHRwczovL3Jhd2Nkbi5naXRoYWNrLmNvbS9weXRob24tdmlzdWFsaXphdGlvbi9mb2xpdW0vbWFzdGVyL2ZvbGl1bS90ZW1wbGF0ZXMvbGVhZmxldC5hd2Vzb21lLnJvdGF0ZS5jc3MiLz4KICAgIDxzdHlsZT5odG1sLCBib2R5IHt3aWR0aDogMTAwJTtoZWlnaHQ6IDEwMCU7bWFyZ2luOiAwO3BhZGRpbmc6IDA7fTwvc3R5bGU+CiAgICA8c3R5bGU+I21hcCB7cG9zaXRpb246YWJzb2x1dGU7dG9wOjA7Ym90dG9tOjA7cmlnaHQ6MDtsZWZ0OjA7fTwvc3R5bGU+CiAgICAKICAgICAgICAgICAgPG1ldGEgbmFtZT0idmlld3BvcnQiIGNvbnRlbnQ9IndpZHRoPWRldmljZS13aWR0aCwKICAgICAgICAgICAgICAgIGluaXRpYWwtc2NhbGU9MS4wLCBtYXhpbXVtLXNjYWxlPTEuMCwgdXNlci1zY2FsYWJsZT1ubyIgLz4KICAgICAgICAgICAgPHN0eWxlPgogICAgICAgICAgICAgICAgI21hcF85NzQ4NzM3ZTE4N2U0NjY4ODQxZmNkOTYyNDFlMzVmYSB7CiAgICAgICAgICAgICAgICAgICAgcG9zaXRpb246IHJlbGF0aXZlOwogICAgICAgICAgICAgICAgICAgIHdpZHRoOiAxMDAuMCU7CiAgICAgICAgICAgICAgICAgICAgaGVpZ2h0OiAxMDAuMCU7CiAgICAgICAgICAgICAgICAgICAgbGVmdDogMC4wJTsKICAgICAgICAgICAgICAgICAgICB0b3A6IDAuMCU7CiAgICAgICAgICAgICAgICB9CiAgICAgICAgICAgIDwvc3R5bGU+CiAgICAgICAgCjwvaGVhZD4KPGJvZHk+ICAgIAogICAgCiAgICAgICAgICAgIDxkaXYgY2xhc3M9ImZvbGl1bS1tYXAiIGlkPSJtYXBfOTc0ODczN2UxODdlNDY2ODg0MWZjZDk2MjQxZTM1ZmEiID48L2Rpdj4KICAgICAgICAKPC9ib2R5Pgo8c2NyaXB0PiAgICAKICAgIAogICAgICAgICAgICB2YXIgbWFwXzk3NDg3MzdlMTg3ZTQ2Njg4NDFmY2Q5NjI0MWUzNWZhID0gTC5tYXAoCiAgICAgICAgICAgICAgICAibWFwXzk3NDg3MzdlMTg3ZTQ2Njg4NDFmY2Q5NjI0MWUzNWZhIiwKICAgICAgICAgICAgICAgIHsKICAgICAgICAgICAgICAgICAgICBjZW50ZXI6IFs0MS44NzgxLCAtODcuNjI5OF0sCiAgICAgICAgICAgICAgICAgICAgY3JzOiBMLkNSUy5FUFNHMzg1NywKICAgICAgICAgICAgICAgICAgICB6b29tOiAxNSwKICAgICAgICAgICAgICAgICAgICB6b29tQ29udHJvbDogdHJ1ZSwKICAgICAgICAgICAgICAgICAgICBwcmVmZXJDYW52YXM6IGZhbHNlLAogICAgICAgICAgICAgICAgfQogICAgICAgICAgICApOwoKICAgICAgICAgICAgCgogICAgICAgIAogICAgCiAgICAgICAgICAgIHZhciB0aWxlX2xheWVyXzljOGM2NmI1NmQ5MzQwYmViMzViZjY2ZDNmMGUxZjA0ID0gTC50aWxlTGF5ZXIoCiAgICAgICAgICAgICAgICAiaHR0cHM6Ly97c30udGlsZS5vcGVuc3RyZWV0bWFwLm9yZy97en0ve3h9L3t5fS5wbmciLAogICAgICAgICAgICAgICAgeyJhdHRyaWJ1dGlvbiI6ICJEYXRhIGJ5IFx1MDAyNmNvcHk7IFx1MDAzY2EgaHJlZj1cImh0dHA6Ly9vcGVuc3RyZWV0bWFwLm9yZ1wiXHUwMDNlT3BlblN0cmVldE1hcFx1MDAzYy9hXHUwMDNlLCB1bmRlciBcdTAwM2NhIGhyZWY9XCJodHRwOi8vd3d3Lm9wZW5zdHJlZXRtYXAub3JnL2NvcHlyaWdodFwiXHUwMDNlT0RiTFx1MDAzYy9hXHUwMDNlLiIsICJkZXRlY3RSZXRpbmEiOiBmYWxzZSwgIm1heE5hdGl2ZVpvb20iOiAxOCwgIm1heFpvb20iOiAxOCwgIm1pblpvb20iOiAwLCAibm9XcmFwIjogZmFsc2UsICJvcGFjaXR5IjogMSwgInN1YmRvbWFpbnMiOiAiYWJjIiwgInRtcyI6IGZhbHNlfQogICAgICAgICAgICApLmFkZFRvKG1hcF85NzQ4NzM3ZTE4N2U0NjY4ODQxZmNkOTYyNDFlMzVmYSk7CiAgICAgICAgCjwvc2NyaXB0Pg==\" style=\"position:absolute;width:100%;height:100%;left:0;top:0;border:none !important;\" allowfullscreen webkitallowfullscreen mozallowfullscreen></iframe></div></div>"
      ],
      "text/plain": [
       "<folium.folium.Map at 0x283909196d8>"
      ]
     },
     "execution_count": 93,
     "metadata": {},
     "output_type": "execute_result"
    }
   ],
   "source": [
    "m = folium.Map([41.8781, -87.6298], zoom_start=15)\n",
    "m"
   ]
  },
  {
   "cell_type": "code",
   "execution_count": 94,
   "metadata": {},
   "outputs": [],
   "source": [
    "# Visualize unique restaurants only\n",
    "restaurants_unique = restaurants[['DBA Name','Latitude','Longitude']].drop_duplicates()"
   ]
  },
  {
   "cell_type": "code",
   "execution_count": 95,
   "metadata": {},
   "outputs": [
    {
     "data": {
      "text/html": [
       "<div>\n",
       "<style scoped>\n",
       "    .dataframe tbody tr th:only-of-type {\n",
       "        vertical-align: middle;\n",
       "    }\n",
       "\n",
       "    .dataframe tbody tr th {\n",
       "        vertical-align: top;\n",
       "    }\n",
       "\n",
       "    .dataframe thead th {\n",
       "        text-align: right;\n",
       "    }\n",
       "</style>\n",
       "<table border=\"1\" class=\"dataframe\">\n",
       "  <thead>\n",
       "    <tr style=\"text-align: right;\">\n",
       "      <th></th>\n",
       "      <th>DBA Name</th>\n",
       "      <th>Latitude</th>\n",
       "      <th>Longitude</th>\n",
       "    </tr>\n",
       "  </thead>\n",
       "  <tbody>\n",
       "    <tr>\n",
       "      <td>0</td>\n",
       "      <td>ROYAL NUTRITON</td>\n",
       "      <td>41.786578</td>\n",
       "      <td>-87.689880</td>\n",
       "    </tr>\n",
       "    <tr>\n",
       "      <td>1</td>\n",
       "      <td>OMAKASE YUME</td>\n",
       "      <td>41.883053</td>\n",
       "      <td>-87.644689</td>\n",
       "    </tr>\n",
       "    <tr>\n",
       "      <td>2</td>\n",
       "      <td>LEGEND TASTY HOUSE</td>\n",
       "      <td>41.938784</td>\n",
       "      <td>-87.644209</td>\n",
       "    </tr>\n",
       "    <tr>\n",
       "      <td>3</td>\n",
       "      <td>HERITAGE CAFE</td>\n",
       "      <td>41.751460</td>\n",
       "      <td>-87.578908</td>\n",
       "    </tr>\n",
       "    <tr>\n",
       "      <td>4</td>\n",
       "      <td>MYRON MIXON'S SMOKE SHOW BARBECUE</td>\n",
       "      <td>41.951176</td>\n",
       "      <td>-87.659542</td>\n",
       "    </tr>\n",
       "  </tbody>\n",
       "</table>\n",
       "</div>"
      ],
      "text/plain": [
       "                            DBA Name   Latitude  Longitude\n",
       "0                     ROYAL NUTRITON  41.786578 -87.689880\n",
       "1                       OMAKASE YUME  41.883053 -87.644689\n",
       "2                 LEGEND TASTY HOUSE  41.938784 -87.644209\n",
       "3                      HERITAGE CAFE  41.751460 -87.578908\n",
       "4  MYRON MIXON'S SMOKE SHOW BARBECUE  41.951176 -87.659542"
      ]
     },
     "execution_count": 95,
     "metadata": {},
     "output_type": "execute_result"
    }
   ],
   "source": [
    "restaurants_unique.head()"
   ]
  },
  {
   "cell_type": "code",
   "execution_count": 96,
   "metadata": {},
   "outputs": [],
   "source": [
    "# All restaurants in one map\n",
    "from folium.plugins import MarkerCluster\n",
    "\n",
    "map1 = folium.Map(location=[41.8781, -87.6298], zoom_start=10)\n",
    "\n",
    "#TODO: Try to change color based on pass/fail\n",
    "def color(magnitude):\n",
    "    if magnitude<41.9:\n",
    "        col='green'\n",
    "    else:\n",
    "        col='red'\n",
    "    return col\n",
    "\n",
    "cluster = MarkerCluster()\n",
    "\n",
    "for row in restaurants_unique.itertuples():\n",
    "    folium.Marker([row[2],row[3]],\n",
    "              popup=row[1],\n",
    "              icon=folium.Icon(color='red', icon='info-sign')\n",
    "              ).add_to(cluster)\n",
    "map1.add_child(cluster)    \n",
    "map1.save(\"all_restaurants_map.html\")    "
   ]
  },
  {
   "cell_type": "markdown",
   "metadata": {},
   "source": [
    "Link for additional interaction\n",
    "https://blog.dominodatalab.com/creating-interactive-crime-maps-with-folium/\n",
    "https://nbviewer.jupyter.org/github/python-visualization/folium/blob/master/examples/plugin-Search.ipynb"
   ]
  },
  {
   "cell_type": "code",
   "execution_count": 97,
   "metadata": {},
   "outputs": [],
   "source": [
    "#ICONS\n",
    "#I keep finding this result in my Google searches for list of icons and always ending running help(folium.Icon) to find the following urls:\n",
    "\n",
    "#https://github.com/lvoogdt/Leaflet.awesome-markers\n",
    "#https://fontawesome.com/icons?from=io\n",
    "#So this is a service to future me.\n",
    "\n",
    "#You can find a full list here:\n",
    "#https://fontawesome.com/icons?d=gallery\n",
    "#use with: prefix='fa'\n",
    "\n",
    "#or the glyphicon icons of Bootstrap that are built-in and standard, thus without prefix needed. https://getbootstrap.com/docs/3.3/components/"
   ]
  },
  {
   "cell_type": "code",
   "execution_count": null,
   "metadata": {},
   "outputs": [],
   "source": [
    "# Search with marker cluster is not implemented, It can work with a smaller amount of restaurants\n",
    "from folium.plugins import MarkerCluster, Search\n",
    "\n",
    "map2 = folium.Map(location=[41.8781, -87.6298], zoom_start=10)\n",
    "\n",
    "#Changing color works!!\n",
    "def get_color(magnitude):\n",
    "    if magnitude<41.9:\n",
    "        col='green'\n",
    "    else:\n",
    "        col='red'\n",
    "    return col\n",
    "\n",
    "cluster2 = MarkerCluster()\n",
    "\n",
    "for row in restaurants_unique.itertuples():\n",
    "    folium.Marker([row[2],row[3]],\n",
    "              popup=row[1],\n",
    "              icon=folium.Icon(color=get_color(row[2]), icon='info-sign')\n",
    "              ).add_to(cluster2)\n",
    "    \n",
    "points = {\n",
    "\"type\": \"FeatureCollection\",\n",
    "\"features\": [\n",
    "{\n",
    "\"type\": \"Feature\",\n",
    "\"properties\": {\n",
    "\"name\": \"ROYAL NUTRITON\"\n",
    "},\n",
    "\"geometry\": {\n",
    "\"type\": \"Point\",\n",
    "\"coordinates\": [-87.689880,41.786578]\n",
    "}\n",
    "},\n",
    "{\n",
    "\"type\": \"Feature\",\n",
    "\"properties\": {\n",
    "\"name\": \"two\"\n",
    "},\n",
    "\"geometry\": {\n",
    "\"type\": \"Point\",\n",
    "\"coordinates\": [-74.78991444, 42.82995815]\n",
    "}\n",
    "},\n",
    "{\n",
    "\"type\": \"Feature\",\n",
    "\"properties\": {\n",
    "\"name\": \"three\"\n",
    "},\n",
    "\"geometry\": {\n",
    "\"type\": \"Point\",\n",
    "\"coordinates\": [-78.56603306, 39.17929819]\n",
    "}\n",
    "}\n",
    "]\n",
    "}\n",
    "# Search with marker cluster is not implemented\n",
    "geojson_obj = folium.GeoJson(points).add_to(map2)\n",
    "Search(layer=geojson_obj,\n",
    "                     geom_type='Point',\n",
    "                     placeholder=\"Search\",\n",
    "                     collapsed=True,\n",
    "                     search_label='name',\n",
    "                     search_zoom=14,\n",
    "                     position='topright'\n",
    "                    ).add_to(map2)    \n",
    "\n",
    "#Search(cluster2, search_zoom=6, geom_type=\"Polygon\").add_to(map2)\n",
    "map2.add_child(cluster2)    \n",
    "map2.save(\"search_example.html\") "
   ]
  },
  {
   "cell_type": "code",
   "execution_count": null,
   "metadata": {},
   "outputs": [],
   "source": [
    "state_geo_path = r'chicago-zip.json'\n",
    "geo_json_data = json.load(open(state_geo_path))"
   ]
  },
  {
   "cell_type": "code",
   "execution_count": null,
   "metadata": {},
   "outputs": [],
   "source": [
    "# Code for safe to eat vs dangerous to eat places\n",
    "# TODO: replace the coloring function (checking from dataset)\n",
    "state_geo_path = r'chicago-zip.json'\n",
    "geo_json_data = json.load(open(state_geo_path))\n",
    "def color_zip(data):\n",
    "    zip = data.get('properties', {}).get('zip')\n",
    "    if('3' in zip):\n",
    "        col='green'\n",
    "    else:\n",
    "        col='red'\n",
    "    return col\n",
    "\n",
    "results_map = folium.Map(location=[41.8781, -87.6298], zoom_start=10)\n",
    "folium.GeoJson(\n",
    "    state_geo_path,\n",
    "    style_function=lambda feature: {\n",
    "        'fillColor': color_zip(feature),\n",
    "        'color' : 'black',\n",
    "        'weight' : 2,\n",
    "        'dashArray' : '5, 5'\n",
    "        }\n",
    "    ).add_to(results_map)\n",
    "\n",
    "results_map.save('neighborhood_viz_two_colors_example.html')"
   ]
  },
  {
   "cell_type": "code",
   "execution_count": null,
   "metadata": {},
   "outputs": [],
   "source": [
    "# Transform restaurants data into geojson (convert all restaurants to points)\n",
    "# I tried this because search map works only with Geojson\n",
    "from geojson import Point, Feature, FeatureCollection, dump\n",
    "\n",
    "point = Point((-87.689880, 41.786578))\n",
    "features = []\n",
    "for row in restaurants_unique.itertuples():\n",
    "    # row[1] is name, row[2] latitude, row[3] longitude\n",
    "    point = Point((row[3], row[2]))\n",
    "    features.append(Feature(geometry=point, properties={\"name\": row[1]}))\n",
    "\n",
    "feature_collection = FeatureCollection(features)\n",
    "\n",
    "with open('restaurants.geojson', 'w') as f:\n",
    "    dump(feature_collection, f)\n"
   ]
  },
  {
   "cell_type": "code",
   "execution_count": null,
   "metadata": {},
   "outputs": [],
   "source": [
    "# Works but the map cannot load completely, there are too many markers -> Any idea how to reduce number of restaurants we show?\n",
    "map2 = folium.Map(location=[41.8781, -87.6298], zoom_start=16)\n",
    "state_geo_path = r'restaurants.geojson'\n",
    "geo_json_data = json.load(open(state_geo_path))\n",
    "geojson_obj = folium.GeoJson(geo_json_data).add_to(map2)\n",
    "Search(layer=geojson_obj,\n",
    "                     geom_type='Point',\n",
    "                     placeholder=\"Search\",\n",
    "                     collapsed=True,\n",
    "                     search_label='name',\n",
    "                     search_zoom=14,\n",
    "                     position='topright'\n",
    "                    ).add_to(map2)    \n",
    "map2.save(\"map5.html\") "
   ]
  },
  {
   "cell_type": "markdown",
   "metadata": {},
   "source": [
    "## Assessing how \"dangerous\" is the neighborhood? "
   ]
  },
  {
   "cell_type": "code",
   "execution_count": null,
   "metadata": {},
   "outputs": [],
   "source": [
    "restaurants['Results'].unique()"
   ]
  },
  {
   "cell_type": "code",
   "execution_count": null,
   "metadata": {},
   "outputs": [],
   "source": [
    "# Get contigency table\n",
    "inspections_scores_by_zip = restaurants.groupby(['Zip','Results']).size().unstack('Results', fill_value=0)\n",
    "inspections_scores_by_zip.head()"
   ]
  },
  {
   "cell_type": "markdown",
   "metadata": {},
   "source": [
    "If you are suspended, which means Out of Business of Business Not Located (according to the docs), you will get -2 point. If you failed, it will be -1 points. If you pass with condition, you will get 0.5 points. If you passed, you get 1 point. We then divide that with the total amount of restaurants. I made up this formula haha, so we can change it anytime."
   ]
  },
  {
   "cell_type": "code",
   "execution_count": null,
   "metadata": {},
   "outputs": [],
   "source": [
    "def get_safety_score(df):\n",
    "    score = (-2)*df['Business Not Located']+(-2)*df['Out of Business']+(-1)*df['Fail']+0.5*df['Pass w/ Conditions']+1*df['Pass'] \n",
    "    number_of_inspections = df.sum(axis=1)\n",
    "    return score/number_of_inspections"
   ]
  },
  {
   "cell_type": "code",
   "execution_count": null,
   "metadata": {},
   "outputs": [],
   "source": [
    "# Add safety score to DF\n",
    "inspections_scores_by_zip['Safety score'] = pd.Series(get_safety_score(inspections_scores_by_zip))\n",
    "inspections_scores_by_zip.head()"
   ]
  },
  {
   "cell_type": "markdown",
   "metadata": {},
   "source": [
    "Now, let's visualize."
   ]
  },
  {
   "cell_type": "code",
   "execution_count": null,
   "metadata": {},
   "outputs": [],
   "source": [
    "# We need Zip to be a column in order to visualize, and Zip must be string\n",
    "inspections_scores_by_zip.reset_index(level=0,inplace=True)\n",
    "inspections_scores_by_zip['Zip'] = inspections_scores_by_zip['Zip'].apply(lambda x: str(x))"
   ]
  },
  {
   "cell_type": "code",
   "execution_count": null,
   "metadata": {},
   "outputs": [],
   "source": [
    "state_geo_path = r'chicago-zip.json'\n",
    "geo_json_data = json.load(open(state_geo_path))\n",
    "\n",
    "# Color palettes\n",
    "# 'BuGn', 'BuPu', 'GnBu', 'OrRd', 'PuBu', 'PuBuGn', 'PuRd', 'RdPu','YlGn', 'YlGnBu', 'YlOrBr', and 'YlOrRd'\n",
    "\n",
    "map3 = folium.Map(location=[41.8781, -87.6298], zoom_start=10)\n",
    "map3.choropleth(geo_data=geo_json_data, data=inspections_scores_by_zip,\n",
    "             columns=['Zip', 'Safety score'],\n",
    "             key_on='feature.properties.zip',\n",
    "             fill_color='YlGn', fill_opacity=0.7, line_opacity=0.2,\n",
    "             legend_name='Safe to eat percentage (%)')\n",
    "map3.save('safe-vs-dangerous-map.html')"
   ]
  },
  {
   "cell_type": "markdown",
   "metadata": {},
   "source": [
    "Do you know how they always tell you that the best food you will eat on your trip will be in some restaurant recommended by locals? They know good places which are far from the tourists' crowd, with cheaper prices as well. If you are lucky enough to know someone from Chicago, he can show you one such hidden gem. However, if you decide to risk it on your own and choose a district which is away from the main tourist points, then in general you risk to go to a place with low quality. \n"
   ]
  },
  {
   "cell_type": "markdown",
   "metadata": {},
   "source": [
    "<div style=\"border:1px solid black; padding:10px 10px; background-color: LightGreen;\">\n",
    "    According to the safety scores we calculated, it seems that the safest places to eat are the <strong>the two Airports and the City Center.</strong> That's right, you may need to pay extra, but you can be quite sure that the restaurant you are eating is fulfulling the regulations. As you are going further from this places, the risk increases. \n",
    "</div>"
   ]
  },
  {
   "cell_type": "code",
   "execution_count": null,
   "metadata": {},
   "outputs": [],
   "source": []
  }
 ],
 "metadata": {
  "kernelspec": {
   "display_name": "Python 3",
   "language": "python",
   "name": "python3"
  },
  "language_info": {
   "codemirror_mode": {
    "name": "ipython",
    "version": 3
   },
   "file_extension": ".py",
   "mimetype": "text/x-python",
   "name": "python",
   "nbconvert_exporter": "python",
   "pygments_lexer": "ipython3",
   "version": "3.7.3"
  }
 },
 "nbformat": 4,
 "nbformat_minor": 4
}
