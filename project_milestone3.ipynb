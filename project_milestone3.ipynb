{
 "cells": [
  {
   "cell_type": "markdown",
   "metadata": {
    "colab_type": "text",
    "id": "kjOm3zJCcStO"
   },
   "source": [
    "#  Where (not) to eat in Chicago? Project milestone 3\n"
   ]
  },
  {
   "cell_type": "code",
   "execution_count": 1,
   "metadata": {
    "colab": {},
    "colab_type": "code",
    "id": "tYcyqd7jczJB"
   },
   "outputs": [],
   "source": [
    "data_folder = \"data\"\n",
    "MAPBOX_ACCESS_TOKEN = 'pk.eyJ1IjoiYnpkZWNvIiwiYSI6ImNrNDVmNTU5ZTA1dnIzZXJ2Zm9vbmZsd2EifQ.KvNq66ornrV9ACa98F0s9w'"
   ]
  },
  {
   "cell_type": "code",
   "execution_count": 2,
   "metadata": {
    "colab": {},
    "colab_type": "code",
    "id": "_urKwc7HcX07"
   },
   "outputs": [],
   "source": [
    "import pandas as pd\n",
    "import numpy as np\n",
    "import os\n",
    "import matplotlib.pyplot as plt\n",
    "import seaborn as sns\n",
    "import datetime"
   ]
  },
  {
   "cell_type": "code",
   "execution_count": 3,
   "metadata": {
    "colab": {},
    "colab_type": "code",
    "id": "lextC6fmGndH"
   },
   "outputs": [],
   "source": [
    "import json\n",
    "\n",
    "import shapely\n",
    "from shapely.geometry import shape, Point"
   ]
  },
  {
   "cell_type": "code",
   "execution_count": 4,
   "metadata": {
    "colab": {},
    "colab_type": "code",
    "id": "Wbhz_besHe05"
   },
   "outputs": [],
   "source": [
    "import plotly.express as px\n",
    "import plotly.offline as pyo\n",
    "import plotly.graph_objects as go"
   ]
  },
  {
   "cell_type": "markdown",
   "metadata": {
    "colab_type": "text",
    "id": "VmUvq_2JNNFc"
   },
   "source": [
    "Our wrapper funcitons for plotting maps using plotly:"
   ]
  },
  {
   "cell_type": "code",
   "execution_count": 5,
   "metadata": {
    "colab": {},
    "colab_type": "code",
    "id": "32JCmZe2NMNh"
   },
   "outputs": [],
   "source": [
    "import copy\n",
    "import os\n",
    "import re\n",
    "import json\n",
    "import pandas as pd\n",
    "import numpy as np\n",
    "import plotly.graph_objects as go\n",
    "\n",
    "def insert_variables_as_properties_in_geodata(geodata, dataframe, key_property, key_column, variable_names):\n",
    "    output_geodata = copy.deepcopy(geodata)\n",
    "    \n",
    "    for feature in output_geodata['features']:\n",
    "        key = feature['properties'][key_property]\n",
    "        row = dataframe[dataframe[key_column] == key]\n",
    "\n",
    "        if not row.empty:\n",
    "            variables_values = row[variable_names].values[0]\n",
    "            for name, value in zip(variable_names, variables_values):\n",
    "                feature['properties'][name] = str(value)\n",
    "    \n",
    "    return output_geodata\n",
    "\n",
    "def format_template(template, variable_names):\n",
    "    replaced = copy.deepcopy(template)\n",
    "    for name in variable_names:\n",
    "        replaced = re.sub(r'\\{\\}', '%{properties.' + name + '}', replaced, count=1)\n",
    "    return replaced\n",
    "\n",
    "def load_geodata(geodata_path, key_property):\n",
    "    with open(os.path.join(geodata_path)) as geojson_file:\n",
    "        geodata = json.loads(geojson_file.read())\n",
    "        # add id feature for choroplethmapbox\n",
    "        for feature in geodata['features']:\n",
    "            feature['id'] = feature['properties'][key_property]\n",
    "        return geodata\n",
    "\n",
    "def plot_map(title, geodata_path, dataframe, key_property, key_column, value_column, template, mapbox_access_token, options):\n",
    "    '''\n",
    "    title: plot title\n",
    "    \n",
    "    geodata_path: path to the geojson file\n",
    "    \n",
    "    dataframe: Dataframe with columns: \n",
    "      - key (column name specified in key_column),\n",
    "      - value plotted as color of the neighborhood (column name specified in value_column)\n",
    "      - any other values in additional columnss will be used as an variables interpolated into the template\n",
    "    \n",
    "    key_property: value distinguishing each area in the geojson file stored in properties section\n",
    "\n",
    "    key_column: name of the column in the dataframe containing key values (distinguishing areas)\n",
    "    \n",
    "    value_column: name of the column in the dataframe containig values for filling neighborhoods with colors\n",
    "    template: text that will be displayed in a box over the hovered neighborhood. Any variable in the template\n",
    "    should be denoted by \"{}\". Variables will be taken from the remaining columns of the dataframe in the order\n",
    "    in which the columns appear.\n",
    "    \n",
    "    template: a string in a python string format (with {} in places where to put variables)\n",
    "    \n",
    "    mapbox_access_token: token needed for using mapbox\n",
    "\n",
    "    options: options styling the plot\n",
    "    '''\n",
    "    # unpack options\n",
    "    colorscale = options['colorscale'] if 'colorscale' in options else 'Viridis'\n",
    "    colorbar = options['colorbar'] if 'colorbar' in options else {}\n",
    "    showscale = options['showscale'] if 'showscale' in options else True\n",
    "    \n",
    "    # load geodata\n",
    "    geodata = load_geodata(geodata_path, key_property)\n",
    "    \n",
    "    # prepare data\n",
    "    columns = dataframe.columns.values\n",
    "    dropped_columns = set([key_column, value_column])\n",
    "    variable_names = [column for column in columns if column not in dropped_columns]\n",
    "    extended_geodata = insert_variables_as_properties_in_geodata(geodata, dataframe, key_property, key_column, variable_names)\n",
    "    formatted_template = format_template(template, variable_names) + '<extra></extra>'\n",
    "    \n",
    "    # plot\n",
    "    figure = go.Figure(go.Choroplethmapbox(\n",
    "        geojson=extended_geodata,\n",
    "        locations=dataframe[key_column],\n",
    "        z=dataframe[value_column],\n",
    "        hovertemplate=formatted_template,\n",
    "        showscale=showscale,\n",
    "        colorscale=colorscale,\n",
    "        colorbar=colorbar\n",
    "    ))\n",
    "    figure.update_layout(\n",
    "        title=title,\n",
    "        font={'family': 'Arial Black'},\n",
    "        mapbox_accesstoken=mapbox_access_token,\n",
    "        mapbox_zoom=9,\n",
    "        mapbox_pitch=0,\n",
    "        mapbox_bearing=0,\n",
    "        mapbox_center={'lat': 41.86, 'lon': -87.63},\n",
    "        margin={'r': 0, 'l': 50, 't': 50, 'b': 0}\n",
    "    )\n",
    "    return figure\n",
    "\n",
    "class MapLayer():\n",
    "    def __init__(self, name, dataframe, key_column, value_column, options):\n",
    "        self.name = name\n",
    "        self.dataframe = dataframe\n",
    "        self.key_column = key_column\n",
    "        self.value_column = value_column\n",
    "        self.options = options\n",
    "\n",
    "# Implementation based on: https://plot.ly/~empet/15237/choroplethmapbox-with-dropdown-menu/#/\n",
    "def plot_maps(title, geodata_path, key_property, layers, template, mapbox_access_token, options):    \n",
    "    # load geodata\n",
    "    geodata = load_geodata(geodata_path, key_property)\n",
    "    \n",
    "    data = []\n",
    "    for layer in layers:\n",
    "        # extract variables\n",
    "        dataframe = layer.dataframe\n",
    "        key_column = layer.key_column\n",
    "        value_column = layer.value_column\n",
    "        # unpack options\n",
    "        colorscale = layer.options['colorscale'] if 'colorscale' in options else 'Viridis'\n",
    "        colorbar = layer.options['colorbar'] if 'colorbar' in options else {}\n",
    "        showscale = layer.options['showscale'] if 'showscale' in options else True\n",
    "        \n",
    "        # prepare data\n",
    "        columns = dataframe.columns.values\n",
    "        dropped_columns = set([key_column, value_column])\n",
    "        variable_names = [column for column in columns if column not in dropped_columns]\n",
    "        extended_geodata = insert_variables_as_properties_in_geodata(geodata, dataframe, key_property, key_column, variable_names)\n",
    "        formatted_template = format_template(template, variable_names) + '<extra></extra>'\n",
    "    \n",
    "        # plot\n",
    "        figure = go.Figure()\n",
    "        data.append(go.Choroplethmapbox(\n",
    "            geojson=extended_geodata,\n",
    "            locations=dataframe[key_column],\n",
    "            z=dataframe[value_column],\n",
    "            hovertemplate=formatted_template,\n",
    "            showscale=showscale,\n",
    "            colorscale=colorscale,\n",
    "            colorbar=colorbar,\n",
    "            visible=False\n",
    "        ))\n",
    "    \n",
    "    # mark first layer as visible\n",
    "    data[0]['visible'] = True\n",
    "    \n",
    "    # create layout\n",
    "    layout = go.Layout(\n",
    "        title=title,\n",
    "        font={'family': 'Arial Black'},\n",
    "        mapbox_accesstoken=mapbox_access_token,\n",
    "        mapbox_zoom=9,\n",
    "        mapbox_pitch=0,\n",
    "        mapbox_bearing=0,\n",
    "        mapbox_center={'lat': 41.86, 'lon': -87.63},\n",
    "        margin={'r': 0, 'l': 50, 't': 50, 'b': 0}\n",
    "        \n",
    "    )\n",
    "    \n",
    "    # create layers visibility lists\n",
    "    visibilities = []\n",
    "    template_visibility = np.zeros((len(layers),)).astype(bool)\n",
    "    for i in range(len(layers)):\n",
    "        visibility = list(np.copy(template_visibility))\n",
    "        visibility[i] = True\n",
    "        visibilities.append(visibility)\n",
    "    \n",
    "    # create menu buttons\n",
    "    buttons = []\n",
    "    for i, layer in enumerate(layers):\n",
    "        buttons.append({\n",
    "            'args': ['visible', visibilities[i]],\n",
    "            'label': layer.name,\n",
    "            'method': 'restyle'\n",
    "        })\n",
    "    \n",
    "    # update layout adding menu\n",
    "    layout.update(\n",
    "        updatemenus=[{\n",
    "            'x': 0.95,\n",
    "            'y': 0.95,\n",
    "            'yanchor': 'top',\n",
    "            'buttons': buttons\n",
    "        }]\n",
    "    )\n",
    "    \n",
    "    figure = go.Figure(data=data, layout=layout)\n",
    "    return figure"
   ]
  },
  {
   "cell_type": "code",
   "execution_count": 6,
   "metadata": {},
   "outputs": [],
   "source": [
    "# Function for saving plots as html and loading them\n",
    "from plotly.offline import plot\n",
    "from IPython.display import IFrame\n",
    "\n",
    "def plot_offline(fig,filename):\n",
    "    #filename = \"inspections_per_year.html\"\n",
    "    html = plot(fig, auto_open=False, output_type='div')\n",
    "    with open(filename, 'w') as file:\n",
    "        file.write(html)\n",
    "    pyo.plot(fig, filename=filename,validate=False)\n",
    "    return IFrame(src=filename, width=1000, height=600)"
   ]
  },
  {
   "cell_type": "markdown",
   "metadata": {
    "colab_type": "text",
    "id": "5rJVEX6rddzd"
   },
   "source": [
    "We start by reading our data"
   ]
  },
  {
   "cell_type": "code",
   "execution_count": 7,
   "metadata": {
    "colab": {},
    "colab_type": "code",
    "id": "ntoHPqEUcZV-"
   },
   "outputs": [],
   "source": [
    "inspections = pd.read_csv(os.path.join(data_folder, \"food-inspections.csv\"))"
   ]
  },
  {
   "cell_type": "markdown",
   "metadata": {
    "colab_type": "text",
    "id": "wAe2x-JUdiVJ"
   },
   "source": [
    "We can now look into the fetures and types of our dataset through a sample :"
   ]
  },
  {
   "cell_type": "code",
   "execution_count": 8,
   "metadata": {
    "colab": {
     "base_uri": "https://localhost:8080/",
     "height": 678
    },
    "colab_type": "code",
    "id": "qWQsFoPRdmss",
    "outputId": "7ba0b9c2-0c36-4196-d502-d185457c0b40"
   },
   "outputs": [
    {
     "data": {
      "text/html": [
       "<div>\n",
       "<style scoped>\n",
       "    .dataframe tbody tr th:only-of-type {\n",
       "        vertical-align: middle;\n",
       "    }\n",
       "\n",
       "    .dataframe tbody tr th {\n",
       "        vertical-align: top;\n",
       "    }\n",
       "\n",
       "    .dataframe thead th {\n",
       "        text-align: right;\n",
       "    }\n",
       "</style>\n",
       "<table border=\"1\" class=\"dataframe\">\n",
       "  <thead>\n",
       "    <tr style=\"text-align: right;\">\n",
       "      <th></th>\n",
       "      <th>Inspection ID</th>\n",
       "      <th>DBA Name</th>\n",
       "      <th>AKA Name</th>\n",
       "      <th>License #</th>\n",
       "      <th>Facility Type</th>\n",
       "      <th>Risk</th>\n",
       "      <th>Address</th>\n",
       "      <th>City</th>\n",
       "      <th>State</th>\n",
       "      <th>Zip</th>\n",
       "      <th>...</th>\n",
       "      <th>Results</th>\n",
       "      <th>Violations</th>\n",
       "      <th>Latitude</th>\n",
       "      <th>Longitude</th>\n",
       "      <th>Location</th>\n",
       "      <th>Historical Wards 2003-2015</th>\n",
       "      <th>Zip Codes</th>\n",
       "      <th>Community Areas</th>\n",
       "      <th>Census Tracts</th>\n",
       "      <th>Wards</th>\n",
       "    </tr>\n",
       "  </thead>\n",
       "  <tbody>\n",
       "    <tr>\n",
       "      <td>0</td>\n",
       "      <td>2345969</td>\n",
       "      <td>LORDANCHILD CHRISTIAN DAY CARE INC.</td>\n",
       "      <td>LORDANCHILD CHRISTIAN DAY CARE INC.</td>\n",
       "      <td>2215931.0</td>\n",
       "      <td>Children's Services Facility</td>\n",
       "      <td>Risk 1 (High)</td>\n",
       "      <td>3344 W 79TH ST</td>\n",
       "      <td>CHICAGO</td>\n",
       "      <td>IL</td>\n",
       "      <td>60652.0</td>\n",
       "      <td>...</td>\n",
       "      <td>Pass w/ Conditions</td>\n",
       "      <td>3. MANAGEMENT, FOOD EMPLOYEE AND CONDITIONAL E...</td>\n",
       "      <td>41.749915</td>\n",
       "      <td>-87.706628</td>\n",
       "      <td>{'longitude': '41.749914910076974', 'latitude'...</td>\n",
       "      <td>NaN</td>\n",
       "      <td>NaN</td>\n",
       "      <td>NaN</td>\n",
       "      <td>NaN</td>\n",
       "      <td>NaN</td>\n",
       "    </tr>\n",
       "    <tr>\n",
       "      <td>1</td>\n",
       "      <td>2345986</td>\n",
       "      <td>TACOS &amp; SALSAS LLC</td>\n",
       "      <td>TACOS &amp; SALSAS</td>\n",
       "      <td>2684121.0</td>\n",
       "      <td>Mobile Food Preparer</td>\n",
       "      <td>Risk 2 (Medium)</td>\n",
       "      <td>2300 S THROOP ST</td>\n",
       "      <td>CHICAGO</td>\n",
       "      <td>IL</td>\n",
       "      <td>60608.0</td>\n",
       "      <td>...</td>\n",
       "      <td>Fail</td>\n",
       "      <td>3. MANAGEMENT, FOOD EMPLOYEE AND CONDITIONAL E...</td>\n",
       "      <td>41.850451</td>\n",
       "      <td>-87.658798</td>\n",
       "      <td>{'longitude': '41.85045102427', 'latitude': '-...</td>\n",
       "      <td>NaN</td>\n",
       "      <td>NaN</td>\n",
       "      <td>NaN</td>\n",
       "      <td>NaN</td>\n",
       "      <td>NaN</td>\n",
       "    </tr>\n",
       "    <tr>\n",
       "      <td>2</td>\n",
       "      <td>2345977</td>\n",
       "      <td>KIMBALL DAY CARE CENTER &amp; KINDERGARTEN , INC.</td>\n",
       "      <td>KIMBALL DAY CARE CENTER &amp; KINDERGARTEN , INC.</td>\n",
       "      <td>2215859.0</td>\n",
       "      <td>Daycare (2 - 6 Years)</td>\n",
       "      <td>Risk 1 (High)</td>\n",
       "      <td>1636 N KIMBALL AVE</td>\n",
       "      <td>CHICAGO</td>\n",
       "      <td>IL</td>\n",
       "      <td>60647.0</td>\n",
       "      <td>...</td>\n",
       "      <td>Fail</td>\n",
       "      <td>1. PERSON IN CHARGE PRESENT, DEMONSTRATES KNOW...</td>\n",
       "      <td>41.911155</td>\n",
       "      <td>-87.711859</td>\n",
       "      <td>{'longitude': '41.911154536126396', 'latitude'...</td>\n",
       "      <td>NaN</td>\n",
       "      <td>NaN</td>\n",
       "      <td>NaN</td>\n",
       "      <td>NaN</td>\n",
       "      <td>NaN</td>\n",
       "    </tr>\n",
       "    <tr>\n",
       "      <td>3</td>\n",
       "      <td>2345959</td>\n",
       "      <td>DUNKIN DONUTS</td>\n",
       "      <td>DUNKIN DONUTS</td>\n",
       "      <td>1803815.0</td>\n",
       "      <td>Restaurant</td>\n",
       "      <td>Risk 2 (Medium)</td>\n",
       "      <td>4453 S ARCHER AVE</td>\n",
       "      <td>CHICAGO</td>\n",
       "      <td>IL</td>\n",
       "      <td>60632.0</td>\n",
       "      <td>...</td>\n",
       "      <td>Pass w/ Conditions</td>\n",
       "      <td>3. MANAGEMENT, FOOD EMPLOYEE AND CONDITIONAL E...</td>\n",
       "      <td>41.812307</td>\n",
       "      <td>-87.706919</td>\n",
       "      <td>{'longitude': '41.81230749019629', 'latitude':...</td>\n",
       "      <td>NaN</td>\n",
       "      <td>NaN</td>\n",
       "      <td>NaN</td>\n",
       "      <td>NaN</td>\n",
       "      <td>NaN</td>\n",
       "    </tr>\n",
       "    <tr>\n",
       "      <td>4</td>\n",
       "      <td>2345967</td>\n",
       "      <td>SHEEBA MEAT &amp; GROCERY</td>\n",
       "      <td>SHEEBA MEAT &amp; GROCERY</td>\n",
       "      <td>2699426.0</td>\n",
       "      <td>Grocery Store</td>\n",
       "      <td>Risk 2 (Medium)</td>\n",
       "      <td>4307 W LAWRENCE AVE</td>\n",
       "      <td>CHICAGO</td>\n",
       "      <td>IL</td>\n",
       "      <td>60630.0</td>\n",
       "      <td>...</td>\n",
       "      <td>Fail</td>\n",
       "      <td>3. MANAGEMENT, FOOD EMPLOYEE AND CONDITIONAL E...</td>\n",
       "      <td>41.968045</td>\n",
       "      <td>-87.735750</td>\n",
       "      <td>{'longitude': '41.96804517534159', 'latitude':...</td>\n",
       "      <td>NaN</td>\n",
       "      <td>NaN</td>\n",
       "      <td>NaN</td>\n",
       "      <td>NaN</td>\n",
       "      <td>NaN</td>\n",
       "    </tr>\n",
       "  </tbody>\n",
       "</table>\n",
       "<p>5 rows × 22 columns</p>\n",
       "</div>"
      ],
      "text/plain": [
       "   Inspection ID                                       DBA Name  \\\n",
       "0        2345969            LORDANCHILD CHRISTIAN DAY CARE INC.   \n",
       "1        2345986                             TACOS & SALSAS LLC   \n",
       "2        2345977  KIMBALL DAY CARE CENTER & KINDERGARTEN , INC.   \n",
       "3        2345959                                  DUNKIN DONUTS   \n",
       "4        2345967                          SHEEBA MEAT & GROCERY   \n",
       "\n",
       "                                        AKA Name  License #  \\\n",
       "0            LORDANCHILD CHRISTIAN DAY CARE INC.  2215931.0   \n",
       "1                                 TACOS & SALSAS  2684121.0   \n",
       "2  KIMBALL DAY CARE CENTER & KINDERGARTEN , INC.  2215859.0   \n",
       "3                                  DUNKIN DONUTS  1803815.0   \n",
       "4                          SHEEBA MEAT & GROCERY  2699426.0   \n",
       "\n",
       "                  Facility Type             Risk               Address  \\\n",
       "0  Children's Services Facility    Risk 1 (High)       3344 W 79TH ST    \n",
       "1          Mobile Food Preparer  Risk 2 (Medium)     2300 S THROOP ST    \n",
       "2         Daycare (2 - 6 Years)    Risk 1 (High)   1636 N KIMBALL AVE    \n",
       "3                    Restaurant  Risk 2 (Medium)    4453 S ARCHER AVE    \n",
       "4                 Grocery Store  Risk 2 (Medium)  4307 W LAWRENCE AVE    \n",
       "\n",
       "      City State      Zip  ...             Results  \\\n",
       "0  CHICAGO    IL  60652.0  ...  Pass w/ Conditions   \n",
       "1  CHICAGO    IL  60608.0  ...                Fail   \n",
       "2  CHICAGO    IL  60647.0  ...                Fail   \n",
       "3  CHICAGO    IL  60632.0  ...  Pass w/ Conditions   \n",
       "4  CHICAGO    IL  60630.0  ...                Fail   \n",
       "\n",
       "                                          Violations   Latitude  Longitude  \\\n",
       "0  3. MANAGEMENT, FOOD EMPLOYEE AND CONDITIONAL E...  41.749915 -87.706628   \n",
       "1  3. MANAGEMENT, FOOD EMPLOYEE AND CONDITIONAL E...  41.850451 -87.658798   \n",
       "2  1. PERSON IN CHARGE PRESENT, DEMONSTRATES KNOW...  41.911155 -87.711859   \n",
       "3  3. MANAGEMENT, FOOD EMPLOYEE AND CONDITIONAL E...  41.812307 -87.706919   \n",
       "4  3. MANAGEMENT, FOOD EMPLOYEE AND CONDITIONAL E...  41.968045 -87.735750   \n",
       "\n",
       "                                            Location  \\\n",
       "0  {'longitude': '41.749914910076974', 'latitude'...   \n",
       "1  {'longitude': '41.85045102427', 'latitude': '-...   \n",
       "2  {'longitude': '41.911154536126396', 'latitude'...   \n",
       "3  {'longitude': '41.81230749019629', 'latitude':...   \n",
       "4  {'longitude': '41.96804517534159', 'latitude':...   \n",
       "\n",
       "   Historical Wards 2003-2015 Zip Codes  Community Areas  Census Tracts  Wards  \n",
       "0                         NaN       NaN              NaN            NaN    NaN  \n",
       "1                         NaN       NaN              NaN            NaN    NaN  \n",
       "2                         NaN       NaN              NaN            NaN    NaN  \n",
       "3                         NaN       NaN              NaN            NaN    NaN  \n",
       "4                         NaN       NaN              NaN            NaN    NaN  \n",
       "\n",
       "[5 rows x 22 columns]"
      ]
     },
     "execution_count": 8,
     "metadata": {},
     "output_type": "execute_result"
    }
   ],
   "source": [
    "inspections.head()"
   ]
  },
  {
   "cell_type": "code",
   "execution_count": 9,
   "metadata": {
    "colab": {
     "base_uri": "https://localhost:8080/",
     "height": 121
    },
    "colab_type": "code",
    "id": "fj93bBQMdnqX",
    "outputId": "f824206c-74f4-461d-a38f-033efc67d19a"
   },
   "outputs": [
    {
     "data": {
      "text/plain": [
       "Index(['Inspection ID', 'DBA Name', 'AKA Name', 'License #', 'Facility Type',\n",
       "       'Risk', 'Address', 'City', 'State', 'Zip', 'Inspection Date',\n",
       "       'Inspection Type', 'Results', 'Violations', 'Latitude', 'Longitude',\n",
       "       'Location', 'Historical Wards 2003-2015', 'Zip Codes',\n",
       "       'Community Areas', 'Census Tracts', 'Wards'],\n",
       "      dtype='object')"
      ]
     },
     "execution_count": 9,
     "metadata": {},
     "output_type": "execute_result"
    }
   ],
   "source": [
    "inspections.columns"
   ]
  },
  {
   "cell_type": "markdown",
   "metadata": {
    "colab_type": "text",
    "id": "W5Hm4MS6aamG"
   },
   "source": [
    "First thing we notice is the strange presence of the columns Historical Wards 2003-2015, Zip Codes, Community Areas, Census Tracts and Wards. These columns all have only NaN values, so we are dropping them:"
   ]
  },
  {
   "cell_type": "code",
   "execution_count": 10,
   "metadata": {
    "colab": {},
    "colab_type": "code",
    "id": "1VqcIkXUax9X"
   },
   "outputs": [],
   "source": [
    "inspections.drop(columns=['Historical Wards 2003-2015', 'Zip Codes',\n",
    "       'Community Areas', 'Census Tracts', 'Wards'],inplace=True)"
   ]
  },
  {
   "cell_type": "markdown",
   "metadata": {
    "colab_type": "text",
    "id": "mO72KQwCeFQt"
   },
   "source": [
    "Let's see what are the possible categories of our facilities:"
   ]
  },
  {
   "cell_type": "code",
   "execution_count": 11,
   "metadata": {
    "colab": {
     "base_uri": "https://localhost:8080/",
     "height": 1000
    },
    "colab_type": "code",
    "id": "tcFug3xIeIVP",
    "outputId": "b85d1b03-d6e6-4fa5-e12c-55c4adf96f6a"
   },
   "outputs": [
    {
     "data": {
      "text/plain": [
       "array([\"Children's Services Facility\", 'Mobile Food Preparer',\n",
       "       'Daycare (2 - 6 Years)', 'Restaurant', 'Grocery Store',\n",
       "       'Daycare Above and Under 2 Years', nan, 'Bakery', 'School',\n",
       "       'PALETERIA', 'Long Term Care', 'HERBALIFE', 'Catering',\n",
       "       '15 monts to 5 years old', 'BANQUET', 'MOBILE FOOD',\n",
       "       'GAS STATION/GROCERY', 'CUSTOM POULTRY SLAUGHTER', 'COFFEE SHOP',\n",
       "       'HOSTEL', 'Liquor', 'Pop-Up Food Establishment User-Tier II',\n",
       "       'VENDING COMMISSARY', 'LIVE POULTRY', 'Daycare (Under 2 Years)',\n",
       "       'Hospital', 'ICE CREAM', 'Pop-Up Establishment Host-Tier II',\n",
       "       'CHARTER SCHOOL', 'tavern', 'Mobile Food Dispenser',\n",
       "       'CHILDRENS SERVICES FACILITY', 'BREWERY', 'RESTAURANT/BAR', 'GYM',\n",
       "       'TAVERN', \"CHILDERN'S SERVICE FACILITY\", 'Golden Diner',\n",
       "       'GROCERY STORE /PHARMACY', 'Daycare Combo 1586', 'ASSISTED LIVING',\n",
       "       'Airport Lounge', \"1023 CHILDREN'S SERVICES FACILITY\",\n",
       "       'PRIVATE SCHOOL', 'EXERCISE AND NUTRITION BAR', 'COOKING SCHOOL',\n",
       "       'Mobile Frozen Desserts Vendor', 'Daycare Night', 'SUSHI COUNTER',\n",
       "       'BANQUET HALL', 'AFTER SCHOOL PROGRAM', 'DOLLAR TREE',\n",
       "       'GAS STATION', 'GROCERY/RESTAURANT', 'FITNESS CENTER', 'Banquet',\n",
       "       'EVENT SPACE', 'Grocery & Restaurant', 'DOLLAR STORE WITH GROCERY',\n",
       "       'COMMISARY RESTAURANT', 'NOT-FOR-PROFIT CLUB', 'Shared Kitchen',\n",
       "       'GROCERY STORE/COOKING SCHOOL', 'Wholesale',\n",
       "       'CHURCH (SPECIAL EVENTS)', 'THEATRE', 'ICE CREAM SHOP', 'STORE',\n",
       "       'Special Event', 'HERBAL LIFE', 'WRIGLEY ROOFTOP', 'ROOFTOP',\n",
       "       'SENIOR DAY CARE', 'CATERED LIQUOR', 'HIGH SCHOOL KITCHEN',\n",
       "       'DAYCARE', 'Banquet Hall', 'smoothie bar', 'ROOF TOPS',\n",
       "       'Shared Kitchen User (Long Term)', 'Other', 'ROOFTOPS', 'ROOF TOP',\n",
       "       'Pop-Up Food Establishment User-Tier III',\n",
       "       \"1023-CHILDREN'S SERVICES FACILITY\", 'DISTRIBUTION CENTER',\n",
       "       'Shelter', 'Mobile Prepared Food Vendor', 'BAR', \"O'Hare Kiosk\",\n",
       "       'STADIUM', 'CULINARY SCHOOL', 'GROCERY/TAVERN', 'DELI/BAKERY',\n",
       "       'CHURCH KITCHEN', \"1023 CHILDERN'S SERVICES FACILITY\",\n",
       "       'GROCERY/DELI', 'COMMISSARY', 'TAVERN/STORE', 'SUPPORTIVE LIVING',\n",
       "       'FRENCH MARKET SPACE', 'Shared Kitchen User (Short Term)',\n",
       "       'GROCERY/SERVICE GAS STATION', 'RESTAURANT/GAS STATION',\n",
       "       'LIQUOR/COFFEE KIOSK', 'CHURCH', 'FROZEN DESSERT PUSHCARTS',\n",
       "       'TEA BREWING', 'BANQUET HALL/CATERING', 'HEALTH/ JUICE BAR',\n",
       "       'FOOD BOOTH', 'Poultry Slaughter', 'POULTRY SLAUGHTER',\n",
       "       'DINING HALL', 'Theater & Restaurant', 'GYM STORE',\n",
       "       'CHURCH/SPECIAL EVENTS', 'Assisted Living', 'ADULT DAYCARE',\n",
       "       'SLAUGHTER HOUSE/ GROCERY', 'GROCERY/BAKERY', 'Live Poultry',\n",
       "       'GAS STATION/CONVENIENCE STORE', 'HELICOPTER TERMINAL',\n",
       "       'CULINARY CLASS ROOMS', 'CANDY SHOP', 'HEALTH CARE STORE',\n",
       "       \"1023 CHILDERN'S SERVICE FACILITY\", 'GROCERY/TAQUERIA', 'Church',\n",
       "       'DAY CARE 2-14', 'cooking school', 'Daycare (2 Years)',\n",
       "       'MOBILE DESSERTS VENDOR', 'NURSING HOME', '1475 LIQUOR',\n",
       "       'Food Pantry', 'bar', 'CHARTER SCHOOL CAFETERIA',\n",
       "       'ASSISTED LIVING FACILITY', 'RESTAURANT/GROCERY STORE',\n",
       "       'PUBLIC SHCOOL', 'EVENT VENU', 'SCHOOL', 'REGULATED BUSINESS',\n",
       "       'CAFETERIA', 'TAVERN GRILL', 'MOBILE FROZEN DESSERTS VENDOR',\n",
       "       'PREP INSIDE SCHOOL', 'GROCERY(GAS STATION)', 'convenience store',\n",
       "       'BANQUET ROOM', 'DOLLAR STORE', 'BREWPUB',\n",
       "       'SUPPORTIVE LIVING FACILITY', 'gas station', 'CANDY/GELATO',\n",
       "       'TOBACCO STORE', 'Private School', 'JUICE BAR',\n",
       "       'PACKAGED HEALTH FOODS', 'Grocery(Sushi prep)', 'school cafeteria',\n",
       "       'CAFE/STORE', 'BANQUET FACILITY', 'Animal Shelter Cafe Permit',\n",
       "       'CONVENIENCE STORE', 'REHAB CENTER', 'GROCERY/GAS STATION',\n",
       "       'Lounge', 'FITNESS STUDIO', 'BEVERAGE/SILVERWARE WAREHOUSE',\n",
       "       'GROCERY STORE/GAS STATION', 'CONVENIENT STORE', 'VENDING MACHINE',\n",
       "       'KIOSK', 'HERBAL MEDICINE', 'GAS STATION/STORE', 'DRUG STORE',\n",
       "       'Assisted Living Senior Care',\n",
       "       'RETAIL STORE OFFERS COOKING CLASSES', 'banquets',\n",
       "       'Banquet Dining', 'GROCERY STORE/BAKERY', 'RIVERWALK', 'COLLEGE',\n",
       "       'youth housing', 'Banquet/kitchen', 'CHURCH/SPECIAL EVENT',\n",
       "       'THEATER', 'A-Not-For-Profit Chef Training Program',\n",
       "       'RESTAURANT.BANQUET HALLS', 'grocery/dollar store',\n",
       "       'Internet Cafe', 'CHARITY AID KITCHEN', 'HOTEL', 'SHAKES/TEAS',\n",
       "       'CLOTHING STORE', 'Navy Pier Kiosk', 'Shuffleboard Club with Bar',\n",
       "       'COFFEE KIOSK', 'WAREHOUSE', 'BUTCHER SHOP', 'PUSH CARTS',\n",
       "       'MOVIE THEATER', 'RETAIL', 'UNIVERSITY CAFETERIA', 'Laundromat',\n",
       "       'CHINESE HERBS', 'PASTRY school', 'DAYCARE 2 YRS TO 12 YRS',\n",
       "       'Cafeteria', 'HERBALIFE STORE', 'Coffee shop',\n",
       "       'COLD/FROZEN FOOD STORAGE', 'GROCERY& RESTAURANT',\n",
       "       'GAS STATION/MINI MART', 'JUICE AND SALAD BAR',\n",
       "       'BEFORE AND AFTER SCHOOL PROGRAM', 'HERBAL LIFE SHOP',\n",
       "       'COFFEE CART', 'FURNITURE STORE', 'CANDY STORE', 'meat packing',\n",
       "       'LOUNGE/BANQUET HALL', 'coffee shop', 'fish market', 'Tavern',\n",
       "       'GAS STATION/FOOD', 'GROCERY', 'Rest/GYM', 'Banquet rooms',\n",
       "       'TEACHING SCHOOL', 'POPCORN CORN', 'MOVIE THEATRE',\n",
       "       'HERBAL DRINKS', 'COFFEE  SHOP', 'Herbalife Nutrition',\n",
       "       'donut shop', 'LIQOUR BREWERY TASTING', 'Gift Shop',\n",
       "       'SUMMER FEEDING PREP AREA', 'convenience/drug store', 'cafeteria',\n",
       "       'REST/GROCERY', 'NORTHERLY ISLAND', 'Herabalife',\n",
       "       'GROCERY AND BUTCHER', 'DELI/GROCERY STORE', 'WHOLESALE & RETAIL',\n",
       "       'GROCERY/DRUG STORE', 'MFD TRUCK', 'Wrigley Roof Top',\n",
       "       'DAYCARE COMBO', 'HERBALIFE/ZUMBA',\n",
       "       'Restaurant(protein shake bar)', 'PRE PACKAGED',\n",
       "       'weight loss program', 'WEIGHT LOSS PROGRAM', 'employee kitchen',\n",
       "       'HOT DOG STATION', 'KITCHEN DEMO', 'RESTAURANT/BAR/THEATER',\n",
       "       'TRUCK', 'RESTAURANT AND LIQUOR', 'HERBALCAL', 'COFFEE/TEA',\n",
       "       \"CHILDERN'S SERVICES  FACILITY\", 'fitness center', 'HEALTH CENTER',\n",
       "       'butcher shop', 'MOBILPREPARED FOOD VENDOR', 'DAYCARE 6 WKS-5YRS',\n",
       "       'CONVENIENCE', 'RETAIL WINE/WINE BAR',\n",
       "       'GOLF COURSE CONNCESSION STAND',\n",
       "       'COMMISSARY FOR SOFT SERVE ICE CREAM TRUCKS',\n",
       "       'DOLLAR & GROCERY STORE', 'SOCIAL CLUB', 'MOBILE FOOD TRUCK',\n",
       "       'GAS', 'GAS STATION/RESTAURANT', 'snack shop',\n",
       "       'PREPACAKAGED FOODS', 'SMOKEHOUSE', '1023',\n",
       "       'TAP room/tavern/liquor store', 'CULINARY ARTS SCHOOL',\n",
       "       'Long-Term Care', 'ART GALLERY', 'MOBILE FROZEN DESSERT VENDOR',\n",
       "       'Museum/Gallery', 'SPA', 'NIGHT CLUB', 'COFFEE ROASTER',\n",
       "       'DISTRIBUTOR', 'GELATO SHOP', 'BAKERY/DELI',\n",
       "       'GAS STATION/STORE GROCERY', 'GAS STATION STORE', 'LIQUOR STORE',\n",
       "       'GROCERY/CAFE', 'HERBAL', 'TEA STORE', 'grocery',\n",
       "       'DRUG/FOOD STORE', 'SERVICE BAR/THEATRE',\n",
       "       'RETAIL FOOD/GAS STATION', 'RESTAURANT/HOSPITAL', 'convenience',\n",
       "       'GROCERY STORE / GAS STATION', 'URBAN FARM', 'MASSAGE BAR',\n",
       "       'CELL PHONE STORE', 'HERBAL REMEDY', 'dollar store',\n",
       "       'NUTRITION/HERBALIFE', 'CONVENIENCE/GAS STATION',\n",
       "       'GROCERY/ RESTAURANT', 'GROCERY STORE/ RESTAURANT',\n",
       "       'Adult Family Care Center', 'PUSHCART', 'CITY OF CHICAGO COLLEGE',\n",
       "       'Long Term Care Facility', 'TEMPORARY KIOSK',\n",
       "       \"1023 CHILDERN'S SERVICE S FACILITY\", 'BOWLING LANES/BANQUETS',\n",
       "       'REST/ROOFTOP', 'UNUSED STORAGE', 'Mobile frozen dessert vendor',\n",
       "       'MOBILE FOOD DESSERTS VENDOR', 'Dollar store', 'GOLF COURSE',\n",
       "       'DAY CARE 1023', 'DRUG/GROCERY STORE', 'GROCERY/LIQUOR STORE',\n",
       "       'VFW HALL', 'GAS STATION/ GROCERY STORE', 'PACKAGED LIQUOR',\n",
       "       'WINE STORE', 'PACKAGED FOOD DISTRIBUTION', 'RESTAURANT/BAKERY',\n",
       "       'RETAIL STORE', 'BAKERY/GROCERY', 'ART GALLERY W/WINE AND BEER',\n",
       "       'video store', 'HEALTH CENTER/NUTRITION CLASSES', 'BAR/GRILL',\n",
       "       'HOT DOG CART', '1584-DAY CARE ABOVE 2 YEARS', 'DAY CARE',\n",
       "       'CATERING/CAFE', 'Deli', '1005 NURSING HOME', 'MUSIC VENUE',\n",
       "       'pharmacy/grocery', 'newsstand', 'PROTEIN SHAKE BAR',\n",
       "       'DRUG STORE/GROCERY', 'WINE TASTING BAR', 'night club',\n",
       "       'POPCORN SHOP', 'day spa', 'RIVERWALK CAFE', 'PANTRY',\n",
       "       'MAIN KITCHEN', 'coffee',\n",
       "       'Mobile Frozen Dessert Disp/Non-motorized', 'RESTAURANT/GROCERY',\n",
       "       'CATERED EVENTS', 'NON -PROFIT', 'CHILDERN ACTIVITY FACILITY',\n",
       "       'Catering and Wholesale', 'PHARMACY', 'Commissary', 'banquet hall',\n",
       "       'theater', 'REPACKAGING PLANT', 'MOBILE DESSERT VENDOR',\n",
       "       'MOBILE DESSERT CART', 'NEWSSTAND', 'GAS STATION /GROCERY',\n",
       "       'THEATER/BAR', 'CAT/LIQUOR', 'BOOK STORE',\n",
       "       'CHARTER SCHOOL/CAFETERIA', 'GROCERY STORE/TAQUERIA',\n",
       "       'RESTUARANT AND BAR', 'Illegal Vendor',\n",
       "       'GAS STATION /SUBWAY MINI MART.', 'Gas station', 'CAR WASH',\n",
       "       'CAFE', 'CONVNIENCE STORE', 'School Cafeteria',\n",
       "       'TAVERN/RESTAURANT', 'TENT RSTAURANT', 'ALTERNATIVE SCHOOL',\n",
       "       'TAVERN-LIQUOR', 'Food Vending Machines', 'grocery & restaurant',\n",
       "       'CHICAGO PARK DISTRICT', 'GROCERY STORE/DELI', 'TAVERN/1006',\n",
       "       'ROOM SERVICE', 'SERVICE GAS STATION', 'HERBAL STORE',\n",
       "       'BOYS AND GIRLS CLUB', 'Tavern/Bar', 'Ice cream', 'warehouse',\n",
       "       'Long-Term Care Facility', 'LIQUORE STORE/BAR',\n",
       "       'MOBILE FROZEN DESSERTS DISPENSER-NON-MOTORIZED',\n",
       "       'FROZEN DESSERTS DISPENSER-NON-MOTORIZED', 'Pool',\n",
       "       'blockbuster video', 'banquets/room service', 'Church Kitchen',\n",
       "       'SUMMER FEEDING', 'FROZEN DESSERTS DISPENSER -NON MOTORIZED',\n",
       "       'Mobile Frozen Dessert Dispenser_non  Motorized.',\n",
       "       'MOBILE FROZEN DESSERTS DISPENSER-NON- MOTORIZED',\n",
       "       'MOBILE FROZEN DESSERTS DISPENSER-NON-MOTOR', 'CHURCH/DAY CARE',\n",
       "       'grocery/butcher', 'NAIL SHOP', 'DAYCARE 2-6, UNDER 6',\n",
       "       'DOLLAR STORE SELLING GROCERY', 'NON-FOR PROFIT BASEMENT KIT',\n",
       "       'BAKERY/ RESTAURANT', 'MEXICAN CANDY STORE',\n",
       "       'after school program', 'NOT FOR PROFIT', 'live butcher',\n",
       "       'Meat Market', 'drug treatment facility',\n",
       "       'SHARED KITCHEN USER (LONG TREM)', 'FOOD PANTRY',\n",
       "       'RESTAURANT/LIQUOR', 'NP-KIOSK', 'Day Care Combo (1586)',\n",
       "       'LIQUOR CONSUMPTION ON PREMISES.', 'MOBIL FOOD 1315',\n",
       "       'watermelon house', 'ASSISSTED LIVING', 'Nutrition Store',\n",
       "       'DAYCARE 1586', 'FOOD PANTRY/CHURCH', 'PALETERIA /ICECREAM SHOP',\n",
       "       'LONG TERM CARE FACILITY', 'Social Club', 'bakery/restaurant',\n",
       "       'CHURCH/AFTER SCHOOL PROGRAM', 'unlicensed facility',\n",
       "       'GROCERY & RESTAURANT', '(convenience store)', 'Convenience Store',\n",
       "       'PEDDLER', 'AFTER SCHOOL CARE', 'GENERAL STORE', 'HOOKA BAR',\n",
       "       'KIDS CAFE', 'PREPACKAGE MEAL DISTRIBUTOR (1006 Retail)',\n",
       "       'GIFT/CARD SHOP WITH CANDY', '(gas station)', 'ROOFTOP PATIO',\n",
       "       'COFFEE VENDING MACHINE', 'DRUG STORE/W/ FOOD', 'COMMIASARY',\n",
       "       'GROCERY/LIQUOR', 'tavern/restaurant', 'ICE CREAM PARLOR',\n",
       "       \"FARMER'S MARKET\", 'PRODUCE STAND', 'LINITED BUSINESS',\n",
       "       'PRODUCE VENDOR', 'UNLICENSED FACILITY', 'SOUP KITCHEN',\n",
       "       'hooka lounge', 'candy/gelato', 'CANDY MAKER', 'religious',\n",
       "       'TAVERN/LIQUOR', 'incubator', 'Candy', 'WHOLESALE BAKERY',\n",
       "       \"Kids Cafe'\"], dtype=object)"
      ]
     },
     "execution_count": 11,
     "metadata": {},
     "output_type": "execute_result"
    }
   ],
   "source": [
    "inspections[\"Facility Type\"].unique()"
   ]
  },
  {
   "cell_type": "markdown",
   "metadata": {
    "colab_type": "text",
    "id": "uqTriNq8eCpn"
   },
   "source": [
    "We can notice very different facility types; as we want to analyze only restaurants we will keep only entries where \"Restaurant\" is the Facility Type. Let's see if we have any entries with missing Facility Type:"
   ]
  },
  {
   "cell_type": "code",
   "execution_count": 12,
   "metadata": {
    "colab": {
     "base_uri": "https://localhost:8080/",
     "height": 34
    },
    "colab_type": "code",
    "id": "Bc_OCfRqea6R",
    "outputId": "6f7c4cc6-e0d8-4002-f025-435d5d59c0c6"
   },
   "outputs": [
    {
     "name": "stdout",
     "output_type": "stream",
     "text": [
      "There are 4775 missing values for Facility Type in the dataset\n"
     ]
    }
   ],
   "source": [
    "print(\"There are {0} missing values for Facility Type in the dataset\".format(inspections['Facility Type'].isna().sum()))"
   ]
  },
  {
   "cell_type": "markdown",
   "metadata": {
    "colab_type": "text",
    "id": "3zk5QDmrfBXt"
   },
   "source": [
    "For now we will get rid of those rows as they are of no use to us:"
   ]
  },
  {
   "cell_type": "code",
   "execution_count": 13,
   "metadata": {
    "colab": {},
    "colab_type": "code",
    "id": "G96ikBaGe0Ev"
   },
   "outputs": [],
   "source": [
    "inspections = inspections.dropna(subset=[\"Facility Type\"])"
   ]
  },
  {
   "cell_type": "markdown",
   "metadata": {
    "colab_type": "text",
    "id": "eOG9GQshdtCo"
   },
   "source": [
    "We only want to analyze entries which correspond to restaurants so we will keep only those rows"
   ]
  },
  {
   "cell_type": "code",
   "execution_count": 14,
   "metadata": {
    "colab": {},
    "colab_type": "code",
    "id": "fUjQfBfHeqfD"
   },
   "outputs": [],
   "source": [
    "# Keep only restaurants for the rest of the analysis\n",
    "inspections = inspections[inspections[\"Facility Type\"].str.contains(\"restaurant\", case=False)]"
   ]
  },
  {
   "cell_type": "code",
   "execution_count": 15,
   "metadata": {
    "colab": {
     "base_uri": "https://localhost:8080/",
     "height": 34
    },
    "colab_type": "code",
    "id": "F81pEomifF-c",
    "outputId": "84d6aa2f-3bb4-4406-dd60-3a1a24a53a43"
   },
   "outputs": [
    {
     "name": "stdout",
     "output_type": "stream",
     "text": [
      "We have 131063 rows in our dataset, each row corresponds to one inspection\n"
     ]
    }
   ],
   "source": [
    "print(f\"We have {len(inspections)} rows in our dataset, each row corresponds to one inspection\")"
   ]
  },
  {
   "cell_type": "markdown",
   "metadata": {
    "colab_type": "text",
    "id": "nbKyvzxufeGU"
   },
   "source": [
    "Since we are going to compare inspection's results over time, let's look at the time range we have for the inspections."
   ]
  },
  {
   "cell_type": "code",
   "execution_count": 16,
   "metadata": {
    "colab": {},
    "colab_type": "code",
    "id": "vqRH0ijhfm2e"
   },
   "outputs": [],
   "source": [
    "# Cast Inspection Date to Datetime type\n",
    "inspections['Inspection Date'] = pd.to_datetime(inspections['Inspection Date'])"
   ]
  },
  {
   "cell_type": "code",
   "execution_count": 17,
   "metadata": {
    "colab": {
     "base_uri": "https://localhost:8080/",
     "height": 34
    },
    "colab_type": "code",
    "id": "QzjU43aFgXVl",
    "outputId": "e578b41c-831d-4f8b-8876-b7beb0f0852e"
   },
   "outputs": [
    {
     "name": "stdout",
     "output_type": "stream",
     "text": [
      "The first inspection in the dataset happened in 04.01.2010, and the last one happened was on 20.11.2019.\n"
     ]
    }
   ],
   "source": [
    "print('The first inspection in the dataset happened in {0}, and the last one happened was on {1}'. \n",
    "      format(inspections['Inspection Date'].min().strftime(\"%d.%m.%Y\"), inspections['Inspection Date'].max().strftime(\"%d.%m.%Y.\")))"
   ]
  },
  {
   "cell_type": "markdown",
   "metadata": {
    "colab_type": "text",
    "id": "0cIYztkS7dne"
   },
   "source": [
    "## Data preprocessing"
   ]
  },
  {
   "cell_type": "markdown",
   "metadata": {
    "colab_type": "text",
    "id": "YgOrOlbI7iVB"
   },
   "source": [
    "We will now proceed with preparing the dataset for the analysis. Below we take the following preprocessing steps:\n",
    "1. Making Licence # column a unique identifier of restaurants in the dataset.\n",
    "2. Fixing the zip codes by completing the missing values based on the values of Longitude and Latitude.\n",
    "3. Fixing the City column by completing the missing values based on the zip code.\n",
    "4. Standardizing the Inspection Type values by cleaning various namings and reducing the number of categories."
   ]
  },
  {
   "cell_type": "markdown",
   "metadata": {
    "colab_type": "text",
    "id": "x7ZHrRJl45cE"
   },
   "source": [
    "### Making unique licenses"
   ]
  },
  {
   "cell_type": "markdown",
   "metadata": {
    "colab_type": "text",
    "id": "arz-Dy5fWpsa"
   },
   "source": [
    "The original dataset we have is inspections-oriented, but our analysis will be mainly focused on restaurants. That is why we need a feature which will help us uniquely identify each restaurant."
   ]
  },
  {
   "cell_type": "code",
   "execution_count": 18,
   "metadata": {
    "colab": {
     "base_uri": "https://localhost:8080/",
     "height": 34
    },
    "colab_type": "code",
    "id": "GcmIpmpziSXc",
    "outputId": "f02cea9b-42fb-4b13-b44a-f5f2004a8be0"
   },
   "outputs": [
    {
     "name": "stdout",
     "output_type": "stream",
     "text": [
      "Using DBA Name we can see there are 14213 distinct restaurant names\n"
     ]
    }
   ],
   "source": [
    "print(f\"Using DBA Name we can see there are {inspections['DBA Name'].nunique()} distinct restaurant names\")"
   ]
  },
  {
   "cell_type": "code",
   "execution_count": 19,
   "metadata": {
    "colab": {
     "base_uri": "https://localhost:8080/",
     "height": 34
    },
    "colab_type": "code",
    "id": "usep6q1-oqqq",
    "outputId": "1f8f6f31-f884-4804-855b-4522271829ac"
   },
   "outputs": [
    {
     "name": "stdout",
     "output_type": "stream",
     "text": [
      "Using restaurant Licenses we can see there are 19995 distinct restaurants\n"
     ]
    }
   ],
   "source": [
    "print(f\"Using restaurant Licenses we can see there are {inspections['License #'].nunique()} distinct restaurants\")"
   ]
  },
  {
   "cell_type": "markdown",
   "metadata": {
    "colab_type": "text",
    "id": "DFrSySHZpBqO"
   },
   "source": [
    "We have probably many non unique names due to restaurants such as McDonalds and other large food-serving chains. We want to make the license number our primary key for restaurant identification as we assume different restaurants have different license numbers. First, let's check if there are any missing values in this column:"
   ]
  },
  {
   "cell_type": "code",
   "execution_count": 20,
   "metadata": {
    "colab": {
     "base_uri": "https://localhost:8080/",
     "height": 34
    },
    "colab_type": "code",
    "id": "sUTsg7z4lLa6",
    "outputId": "a3be8b01-3dea-4358-984b-b6d6479d3e4c"
   },
   "outputs": [
    {
     "name": "stdout",
     "output_type": "stream",
     "text": [
      "There are 0 restaurant that have NaN licence number\n"
     ]
    }
   ],
   "source": [
    "print(f\"There are {inspections['License #'].isna().sum()} restaurant that have NaN licence number\")"
   ]
  },
  {
   "cell_type": "markdown",
   "metadata": {
    "colab_type": "text",
    "id": "ett9ja21poXZ"
   },
   "source": [
    "We noticed however that there are some restaurant with licence numbers equal to 0, let's see how many there are:"
   ]
  },
  {
   "cell_type": "code",
   "execution_count": 21,
   "metadata": {
    "colab": {
     "base_uri": "https://localhost:8080/",
     "height": 34
    },
    "colab_type": "code",
    "id": "d-RccDncmj8z",
    "outputId": "eeb5f9f1-03c8-4bed-de5d-7a636167c53b"
   },
   "outputs": [
    {
     "name": "stdout",
     "output_type": "stream",
     "text": [
      "There are 114 restaurant that have zero licence number\n"
     ]
    }
   ],
   "source": [
    "print(f\"There are {len(inspections[inspections['License #'] == 0.0])} restaurant that have zero licence number\")"
   ]
  },
  {
   "cell_type": "markdown",
   "metadata": {
    "colab_type": "text",
    "id": "TQX-GT3I92Gn"
   },
   "source": [
    "As we can see, there is no column that can help us uniquely identify a restaurant. The closest match is License # feature, which has some restaurants with 0 assigned as their license number. We decided to add fake licence numbers and use it as a restaurant identifier later on."
   ]
  },
  {
   "cell_type": "code",
   "execution_count": 22,
   "metadata": {
    "colab": {},
    "colab_type": "code",
    "id": "ws5cMzYxs4wD"
   },
   "outputs": [],
   "source": [
    "# Get entries where License number is missing\n",
    "zero_license = inspections[inspections[\"License #\"] == 0.0]"
   ]
  },
  {
   "cell_type": "code",
   "execution_count": 23,
   "metadata": {
    "colab": {
     "base_uri": "https://localhost:8080/",
     "height": 330
    },
    "colab_type": "code",
    "id": "8FYKiVEmtRTw",
    "outputId": "bdbad87e-1b68-4f30-b745-57cc0aee5009"
   },
   "outputs": [
    {
     "data": {
      "text/plain": [
       "Inspection ID      114\n",
       "DBA Name            63\n",
       "AKA Name            50\n",
       "License #            1\n",
       "Facility Type        3\n",
       "Risk                 3\n",
       "Address             63\n",
       "City                 2\n",
       "State                1\n",
       "Zip                 33\n",
       "Inspection Date    108\n",
       "Inspection Type      9\n",
       "Results              6\n",
       "Violations          74\n",
       "Latitude            62\n",
       "Longitude           62\n",
       "Location            62\n",
       "dtype: int64"
      ]
     },
     "execution_count": 23,
     "metadata": {},
     "output_type": "execute_result"
    }
   ],
   "source": [
    "zero_license.nunique()"
   ]
  },
  {
   "cell_type": "markdown",
   "metadata": {
    "colab_type": "text",
    "id": "1MNtcOGKtwg5"
   },
   "source": [
    "To be able to identify restaurants with license number equal to 0, we will use restaurant location and name. Using this two attributes, we can create artificial license numbers for restaurants with missing license numbers:"
   ]
  },
  {
   "cell_type": "code",
   "execution_count": 24,
   "metadata": {
    "colab": {},
    "colab_type": "code",
    "id": "sYNFEscB9BHn"
   },
   "outputs": [],
   "source": [
    "# Get the maximum license number that exists in the database and use it as starting point for the newly generated license numbers\n",
    "start_id = int(inspections[\"License #\"].max() + 1)\n",
    "missing_licenses = inspections[(inspections[\"License #\"] == 0)][[\"DBA Name\",\"Location\"]].copy().drop_duplicates()\n",
    "missing_licenses[\"new License\"] = [i for i in range(start_id, start_id+len(missing_licenses.drop_duplicates()))]"
   ]
  },
  {
   "cell_type": "code",
   "execution_count": 25,
   "metadata": {
    "colab": {},
    "colab_type": "code",
    "id": "kdNY1Ci9wAJq"
   },
   "outputs": [],
   "source": [
    "# Merge dataset\n",
    "inspections = inspections.merge(missing_licenses, on=[\"DBA Name\",\"Location\"], how='left')"
   ]
  },
  {
   "cell_type": "code",
   "execution_count": 26,
   "metadata": {
    "colab": {},
    "colab_type": "code",
    "id": "BZlCuD_u9Yr2"
   },
   "outputs": [],
   "source": [
    "# Populate missing licence numbers with newly generated license numbers\n",
    "inspections[\"License #\"] = inspections[\"License #\"].apply(lambda x: np.nan if x == 0 else x)\n",
    "inspections[\"License #\"] = inspections[\"License #\"].fillna(value = inspections[\"new License\"])\n",
    "inspections.drop(columns=[\"new License\"], inplace=True)"
   ]
  },
  {
   "cell_type": "code",
   "execution_count": 27,
   "metadata": {
    "colab": {
     "base_uri": "https://localhost:8080/",
     "height": 34
    },
    "colab_type": "code",
    "id": "kWuxIXCX9ad2",
    "outputId": "fbd95652-ae6b-4912-dbcc-7fc8caadc3e8"
   },
   "outputs": [
    {
     "name": "stdout",
     "output_type": "stream",
     "text": [
      "There are 0 missing license numbers in our dataset\n"
     ]
    }
   ],
   "source": [
    "print(\"There are {0} missing license numbers in our dataset\".format(inspections[inspections[\"License #\"] == 0].size))"
   ]
  },
  {
   "cell_type": "code",
   "execution_count": 28,
   "metadata": {
    "colab": {},
    "colab_type": "code",
    "id": "K_XMA5vW9k6J"
   },
   "outputs": [],
   "source": [
    "# Cast License number from float to int\n",
    "inspections[\"License #\"] = inspections[\"License #\"].apply(lambda x : int(x))"
   ]
  },
  {
   "cell_type": "markdown",
   "metadata": {
    "colab_type": "text",
    "id": "iCU2xoPZ5BuV"
   },
   "source": [
    "### Completing zip codes based on geographical coordinates"
   ]
  },
  {
   "cell_type": "markdown",
   "metadata": {
    "colab_type": "text",
    "id": "J7b5VP8wBmyU"
   },
   "source": [
    "We want to populate the missing Zip values based on the Latitude and Longitude. In order to do that, we must have those two features for all the restaurants in the dataset. That is why we decided to drop all entries where one of those features is missing."
   ]
  },
  {
   "cell_type": "code",
   "execution_count": 29,
   "metadata": {
    "colab": {},
    "colab_type": "code",
    "id": "GjLx5G5FCDo1"
   },
   "outputs": [],
   "source": [
    "inspections = inspections[~((inspections['Longitude'].isna()) | (inspections['Latitude'].isna()))]"
   ]
  },
  {
   "cell_type": "code",
   "execution_count": 30,
   "metadata": {
    "colab": {
     "base_uri": "https://localhost:8080/",
     "height": 52
    },
    "colab_type": "code",
    "id": "gB0ox911BQ8l",
    "outputId": "f21b8133-6171-43c1-8506-b2a33ab6de32"
   },
   "outputs": [
    {
     "name": "stdout",
     "output_type": "stream",
     "text": [
      "There are 20 missing values for Zip column\n",
      "There are 69 missing values for City column\n"
     ]
    }
   ],
   "source": [
    "print('There are {0} missing values for Zip column'.format(inspections[inspections['Zip'].isna()].shape[0]))\n",
    "print('There are {0} missing values for City column'.format(inspections[inspections['City'].isna()].shape[0]))"
   ]
  },
  {
   "cell_type": "code",
   "execution_count": 31,
   "metadata": {
    "colab": {},
    "colab_type": "code",
    "id": "SfXlGFYKCSlg"
   },
   "outputs": [],
   "source": [
    "restaurants_zip_na = inspections[inspections['Zip'].isna()]"
   ]
  },
  {
   "cell_type": "markdown",
   "metadata": {
    "colab_type": "text",
    "id": "xTp2zszDC2k2"
   },
   "source": [
    "To populate Zip values based on coordinates, we use [shapely](https://pypi.org/project/Shapely/) - Python package for manipulation and analysis of planar geometric objects."
   ]
  },
  {
   "cell_type": "code",
   "execution_count": 32,
   "metadata": {
    "colab": {},
    "colab_type": "code",
    "id": "wZnpvjn2C8el"
   },
   "outputs": [],
   "source": [
    "# Function that creates points from Latitude and Longitude\n",
    "def create_points(df):\n",
    "    coords = list(zip(df['Longitude'], df['Latitude']))\n",
    "    res = []\n",
    "    for coord in coords:\n",
    "        res.append(shapely.geometry.Point(coord))\n",
    "    return res"
   ]
  },
  {
   "cell_type": "code",
   "execution_count": 33,
   "metadata": {
    "colab": {},
    "colab_type": "code",
    "id": "FJL48pi5DOIf"
   },
   "outputs": [],
   "source": [
    "# Create list of points for which we want to get Zip code\n",
    "points = create_points(restaurants_zip_na)"
   ]
  },
  {
   "cell_type": "code",
   "execution_count": 34,
   "metadata": {
    "colab": {},
    "colab_type": "code",
    "id": "Hmmt7RHqDZJE"
   },
   "outputs": [],
   "source": [
    "# Method which checks whether the points are in area described in geojson file and returns data with zip value for found points\n",
    "def populate_missing_zip(points, geojson_filename):\n",
    "    # load GeoJSON file containing sectors\n",
    "    state_geo_path = r'{0}'.format(geojson_filename)\n",
    "    geo_json_data = json.load(open(state_geo_path))\n",
    "\n",
    "    zip_found = []\n",
    "    # check each polygon to see if it contains the point\n",
    "    for feature in geo_json_data['features']:\n",
    "        polygon = shapely.geometry.shape(feature['geometry'])\n",
    "        for point in points: \n",
    "            if polygon.contains(point):\n",
    "                point_complete = {'Longitude':point.x, 'Latitude':point.y, 'Zip':feature.get('properties', {}).get('zip')}\n",
    "                zip_found.append(point_complete)\n",
    "    return zip_found"
   ]
  },
  {
   "cell_type": "code",
   "execution_count": 35,
   "metadata": {
    "colab": {
     "base_uri": "https://localhost:8080/",
     "height": 34
    },
    "colab_type": "code",
    "id": "yGxzXsJNDxte",
    "outputId": "682eac1b-23de-4ca1-df3c-5c32dae86275"
   },
   "outputs": [
    {
     "name": "stdout",
     "output_type": "stream",
     "text": [
      "Total 20 point found matching Chicago sectors.\n"
     ]
    }
   ],
   "source": [
    "# Find missing Zip values\n",
    "zip_found = populate_missing_zip(points, os.path.join(data_folder, 'chicago-zip.json'))\n",
    "print('Total {0} point found matching Chicago sectors.'.format(len(zip_found)))"
   ]
  },
  {
   "cell_type": "code",
   "execution_count": 36,
   "metadata": {
    "colab": {
     "base_uri": "https://localhost:8080/",
     "height": 206
    },
    "colab_type": "code",
    "id": "JsWgdmuuEVR3",
    "outputId": "62852ca3-06fb-4228-a5fb-dcb25bdfde5a"
   },
   "outputs": [
    {
     "data": {
      "text/html": [
       "<div>\n",
       "<style scoped>\n",
       "    .dataframe tbody tr th:only-of-type {\n",
       "        vertical-align: middle;\n",
       "    }\n",
       "\n",
       "    .dataframe tbody tr th {\n",
       "        vertical-align: top;\n",
       "    }\n",
       "\n",
       "    .dataframe thead th {\n",
       "        text-align: right;\n",
       "    }\n",
       "</style>\n",
       "<table border=\"1\" class=\"dataframe\">\n",
       "  <thead>\n",
       "    <tr style=\"text-align: right;\">\n",
       "      <th></th>\n",
       "      <th>Longitude</th>\n",
       "      <th>Latitude</th>\n",
       "      <th>Zip</th>\n",
       "    </tr>\n",
       "  </thead>\n",
       "  <tbody>\n",
       "    <tr>\n",
       "      <td>0</td>\n",
       "      <td>-87.673459</td>\n",
       "      <td>42.019032</td>\n",
       "      <td>60626</td>\n",
       "    </tr>\n",
       "    <tr>\n",
       "      <td>1</td>\n",
       "      <td>-87.673459</td>\n",
       "      <td>42.019032</td>\n",
       "      <td>60626</td>\n",
       "    </tr>\n",
       "    <tr>\n",
       "      <td>2</td>\n",
       "      <td>-87.673459</td>\n",
       "      <td>42.019032</td>\n",
       "      <td>60626</td>\n",
       "    </tr>\n",
       "    <tr>\n",
       "      <td>3</td>\n",
       "      <td>-87.659816</td>\n",
       "      <td>41.968491</td>\n",
       "      <td>60640</td>\n",
       "    </tr>\n",
       "    <tr>\n",
       "      <td>4</td>\n",
       "      <td>-87.659816</td>\n",
       "      <td>41.968491</td>\n",
       "      <td>60640</td>\n",
       "    </tr>\n",
       "  </tbody>\n",
       "</table>\n",
       "</div>"
      ],
      "text/plain": [
       "   Longitude   Latitude    Zip\n",
       "0 -87.673459  42.019032  60626\n",
       "1 -87.673459  42.019032  60626\n",
       "2 -87.673459  42.019032  60626\n",
       "3 -87.659816  41.968491  60640\n",
       "4 -87.659816  41.968491  60640"
      ]
     },
     "execution_count": 36,
     "metadata": {},
     "output_type": "execute_result"
    }
   ],
   "source": [
    "zip_found = pd.DataFrame(zip_found)\n",
    "zip_found.head()"
   ]
  },
  {
   "cell_type": "markdown",
   "metadata": {
    "colab_type": "text",
    "id": "33OZcIc-EWkI"
   },
   "source": [
    "Now, we have to merge those results with the original dataset."
   ]
  },
  {
   "cell_type": "code",
   "execution_count": 37,
   "metadata": {
    "colab": {},
    "colab_type": "code",
    "id": "laD6KjjKEcOL"
   },
   "outputs": [],
   "source": [
    "# Before merging, drop duplicate points\n",
    "zip_found.drop_duplicates(inplace=True)"
   ]
  },
  {
   "cell_type": "code",
   "execution_count": 38,
   "metadata": {
    "colab": {},
    "colab_type": "code",
    "id": "TEqF_ERdEgnM"
   },
   "outputs": [],
   "source": [
    "inspections = inspections.merge(zip_found,on=['Latitude','Longitude'], how='left',suffixes=('', '_notnull'))\n",
    "inspections.Zip.fillna(value=inspections.Zip_notnull, inplace=True)\n",
    "inspections.drop(columns=[\"Zip_notnull\"], inplace=True)"
   ]
  },
  {
   "cell_type": "code",
   "execution_count": 39,
   "metadata": {
    "colab": {
     "base_uri": "https://localhost:8080/",
     "height": 34
    },
    "colab_type": "code",
    "id": "OkrHLPzJExKG",
    "outputId": "ffee99fa-1375-4e69-8f8b-6f2a3d62d36f"
   },
   "outputs": [
    {
     "name": "stdout",
     "output_type": "stream",
     "text": [
      "There are 0 missing Zip left in the restaurant dataset.\n"
     ]
    }
   ],
   "source": [
    "print('There are {0} missing Zip left in the restaurant dataset.'.format(inspections[inspections.Zip.isnull()].shape[0]))"
   ]
  },
  {
   "cell_type": "code",
   "execution_count": 40,
   "metadata": {
    "colab": {},
    "colab_type": "code",
    "id": "tUCsQlyGFVUU"
   },
   "outputs": [],
   "source": [
    "# Change type of Zip feature from float to string\n",
    "inspections['Zip']=inspections['Zip'].apply(lambda x: str(int(x)))"
   ]
  },
  {
   "cell_type": "markdown",
   "metadata": {
    "colab_type": "text",
    "id": "BuK8Rd5S5MMV"
   },
   "source": [
    "### Completing City column based on zip codes"
   ]
  },
  {
   "cell_type": "markdown",
   "metadata": {
    "colab_type": "text",
    "id": "5puyN5u5Fd8E"
   },
   "source": [
    "We will also fix the City column. Now we can use the Zip column to fill in the missing information about the city."
   ]
  },
  {
   "cell_type": "code",
   "execution_count": 41,
   "metadata": {
    "colab": {},
    "colab_type": "code",
    "id": "tAN3A3Q9FsBZ"
   },
   "outputs": [],
   "source": [
    "# Function that returns all Chicago Zips frem geojson file\n",
    "def create_chicago_zip_list():\n",
    "    state_geo_path = os.path.join(data_folder, \"chicago-zip.json\")\n",
    "    geo_json_data = json.load(open(state_geo_path))\n",
    "\n",
    "    zips = []\n",
    "   \n",
    "    for feature in geo_json_data['features']:\n",
    "        zips.append(str(feature.get('properties', {}).get('zip')))\n",
    "    return set(zips)"
   ]
  },
  {
   "cell_type": "code",
   "execution_count": 42,
   "metadata": {
    "colab": {},
    "colab_type": "code",
    "id": "J1FsePDYFwYf"
   },
   "outputs": [],
   "source": [
    "# Get list of all Zip codes in Chicago\n",
    "chicago_zip = create_chicago_zip_list()"
   ]
  },
  {
   "cell_type": "code",
   "execution_count": 43,
   "metadata": {
    "colab": {
     "base_uri": "https://localhost:8080/",
     "height": 34
    },
    "colab_type": "code",
    "id": "or6VkcZtF75p",
    "outputId": "4bf777bf-6500-4075-98c3-d8cb20fb5900"
   },
   "outputs": [
    {
     "name": "stdout",
     "output_type": "stream",
     "text": [
      "There are 0 Zip values which are not in Chicago.\n"
     ]
    }
   ],
   "source": [
    "# Check if there is any restaurant not in Chicago\n",
    "not_in_chicago = len(inspections[inspections.City.isna() & (~inspections.Zip.isin(chicago_zip))])\n",
    "print('There are {0} Zip values which are not in Chicago.'.format(not_in_chicago))"
   ]
  },
  {
   "cell_type": "code",
   "execution_count": 44,
   "metadata": {
    "colab": {},
    "colab_type": "code",
    "id": "IDO7EAvhGDOg"
   },
   "outputs": [],
   "source": [
    "# Replace all City missing values with Chicago\n",
    "inspections.City.fillna(value='Chicago', inplace=True)"
   ]
  },
  {
   "cell_type": "code",
   "execution_count": 45,
   "metadata": {
    "colab": {
     "base_uri": "https://localhost:8080/",
     "height": 34
    },
    "colab_type": "code",
    "id": "ZQqWYANAGMkQ",
    "outputId": "2a0a32a6-48b5-4425-ac6d-cdb1294e3d3d"
   },
   "outputs": [
    {
     "name": "stdout",
     "output_type": "stream",
     "text": [
      "There are 0 missing City values left in the restaurant dataset.\n"
     ]
    }
   ],
   "source": [
    "print('There are {0} missing City values left in the restaurant dataset.'.format(inspections[inspections.City.isnull()].shape[0]))"
   ]
  },
  {
   "cell_type": "code",
   "execution_count": 46,
   "metadata": {
    "colab": {
     "base_uri": "https://localhost:8080/",
     "height": 69
    },
    "colab_type": "code",
    "id": "M3o2-rwHMX2t",
    "outputId": "76ff9707-94fc-4926-8206-a02d367f6b1c"
   },
   "outputs": [
    {
     "data": {
      "text/plain": [
       "array(['CHICAGO', 'Chicago', 'CCHICAGO', 'CHICAGO.', 'CHICAGOHICAGO',\n",
       "       'chicago', 'CHICAGOCHICAGO', '312CHICAGO', 'CHICAGOI'],\n",
       "      dtype=object)"
      ]
     },
     "execution_count": 46,
     "metadata": {},
     "output_type": "execute_result"
    }
   ],
   "source": [
    "inspections.City.unique()"
   ]
  },
  {
   "cell_type": "code",
   "execution_count": 47,
   "metadata": {
    "colab": {
     "base_uri": "https://localhost:8080/",
     "height": 34
    },
    "colab_type": "code",
    "id": "0A1WVzkqGNtn",
    "outputId": "7bb992dc-bb32-4a73-be0c-eaf6bccbce7c"
   },
   "outputs": [
    {
     "data": {
      "text/plain": [
       "array(['Chicago'], dtype=object)"
      ]
     },
     "execution_count": 47,
     "metadata": {},
     "output_type": "execute_result"
    }
   ],
   "source": [
    "# Change all values for City column to be Chicago\n",
    "inspections.City = 'Chicago'\n",
    "inspections.City.unique()"
   ]
  },
  {
   "cell_type": "markdown",
   "metadata": {
    "colab_type": "text",
    "id": "BxLaqzzg5SNS"
   },
   "source": [
    "### Standardizing/cleaning Inspection Type values"
   ]
  },
  {
   "cell_type": "code",
   "execution_count": 48,
   "metadata": {
    "colab": {
     "base_uri": "https://localhost:8080/",
     "height": 486
    },
    "colab_type": "code",
    "id": "ZUxoERT-6_Ze",
    "outputId": "aff4b512-5713-41a1-ba4e-8a780b2f5201"
   },
   "outputs": [
    {
     "data": {
      "text/plain": [
       "array(['Canvass', 'Complaint', 'Canvass Re-Inspection',\n",
       "       'Short Form Complaint', 'License', 'License Re-Inspection',\n",
       "       'Suspected Food Poisoning', 'Complaint Re-Inspection',\n",
       "       'Recent Inspection', 'Suspected Food Poisoning Re-inspection',\n",
       "       'Consultation', 'Non-Inspection', 'Recent inspection',\n",
       "       'fire complaint', 'FIRE', 'Tag Removal', nan, 'Not Ready',\n",
       "       'License-Task Force', 'Complaint-Fire Re-inspection',\n",
       "       'Complaint-Fire', 'Short Form Fire-Complaint',\n",
       "       'KITCHEN CLOSED FOR RENOVATION', 'CORRECTIVE ACTION',\n",
       "       'LICENSE CANCELED BY OWNER', 'Task Force Liquor 1475',\n",
       "       'TWO PEOPLE ATE AND GOT SICK.', 'Pre-License Consultation',\n",
       "       'CANVASS SPECIAL EVENTS', 'OUT OF BUSINESS', 'No entry',\n",
       "       'NO ENTRY', 'Package Liquor 1474', 'Sample Collection',\n",
       "       'FIRE/COMPLAIN', '1315 license reinspection',\n",
       "       'Task Force Liquor Catering', 'SFP', 'CANVAS', 'no entry',\n",
       "       'SFP/COMPLAINT', 'SFP/Complaint', 'Special Events (Festivals)',\n",
       "       'expansion', 'SFP RECENTLY INSPECTED', 'CANVASS',\n",
       "       'CANVASS RE INSPECTION OF CLOSE UP', 'LICENSE REQUEST',\n",
       "       'TASKFORCE', 'LICENSE TASK FORCE / NOT -FOR-PROFIT CLU',\n",
       "       'LICENSE TASK FORCE / NOT -FOR-PROFIT CLUB', 'LICENSE/NOT READY',\n",
       "       'NO ENTRY-SHORT COMPLAINT)', 'error save', 'CHANGED COURT DATE',\n",
       "       'LIQUOR CATERING', 'No Entry', 'Out of Business',\n",
       "       'citation re-issued', 'TASTE OF CHICAGO', 'HACCP QUESTIONAIRE',\n",
       "       'finish complaint inspection from 5-18-10', 'CANVASS FOR RIB FEST',\n",
       "       'RE-INSPECTION OF CLOSE-UP', 'REINSPECTION',\n",
       "       'TASK FORCE LIQUOR (1481)', 'TASK FORCE NOT READY',\n",
       "       'LIQOUR TASK FORCE NOT READY', 'POSSIBLE FBI'], dtype=object)"
      ]
     },
     "execution_count": 48,
     "metadata": {},
     "output_type": "execute_result"
    }
   ],
   "source": [
    "inspections['Inspection Type'].unique()"
   ]
  },
  {
   "cell_type": "markdown",
   "metadata": {
    "colab_type": "text",
    "id": "7REZ7dbK5-4v"
   },
   "source": [
    "Looking at `Inspection Type` values we can see that they need some cleaning. According to the [document describing the dataset](https://data.cityofchicago.org/api/assets/BAD5301B-681A-4202-9D25-51B2CAE672FF) we should have following inspection types:\n",
    " - **canvass**: regular inspections with frequency depending on establishment risk,\n",
    " - **complaint**: in a response to filed complaint,\n",
    " - **license**: when obtaining a license, as a requirement of launching the establishment (should be once for most or more if they failed, this might be a separate study case),\n",
    " - **suspect food poisoning**: specific type of *complaint* when someone reports getting ill after eating from there\n",
    " - **task-force**: for bars and taverns.\n",
    "\n",
    "Also, as the linked document states, re-inspections can be done for most of the types and are indicated in the name of inspection type."
   ]
  },
  {
   "cell_type": "markdown",
   "metadata": {
    "colab_type": "text",
    "id": "7lu-nZ2W7tzT"
   },
   "source": [
    "First, we replace NaN values in Inspection Type with \"Unknown\":"
   ]
  },
  {
   "cell_type": "code",
   "execution_count": 49,
   "metadata": {
    "colab": {},
    "colab_type": "code",
    "id": "599DOvZI5ezP"
   },
   "outputs": [],
   "source": [
    "inspections.fillna(value={'Inspection Type': 'Unknown'}, inplace=True)"
   ]
  },
  {
   "cell_type": "markdown",
   "metadata": {
    "colab_type": "text",
    "id": "0p4BSUmk8BC0"
   },
   "source": [
    "Now, since we may want to use the indication whether a particular inspection was a re-inspection or not, we add a separate column that will indicate that:"
   ]
  },
  {
   "cell_type": "code",
   "execution_count": 50,
   "metadata": {
    "colab": {},
    "colab_type": "code",
    "id": "P3D6QspT8KjB"
   },
   "outputs": [],
   "source": [
    "reinspection_pattern = 're-inspec|reinspec|re inspec'\n",
    "inspections['Re-inspection'] = inspections['Inspection Type'].str.lower().str.contains(reinspection_pattern, regex=True)"
   ]
  },
  {
   "cell_type": "markdown",
   "metadata": {
    "colab_type": "text",
    "id": "lEIF7grz8a_p"
   },
   "source": [
    "Now, we proceed with making the names for given types of inspections uniform:"
   ]
  },
  {
   "cell_type": "code",
   "execution_count": 51,
   "metadata": {
    "colab": {},
    "colab_type": "code",
    "id": "-jmj00RZ8p-F"
   },
   "outputs": [],
   "source": [
    "inspection_types = inspections['Inspection Type'].unique().astype(str)\n",
    "inspection_types_lower = np.char.lower(inspection_types)"
   ]
  },
  {
   "cell_type": "code",
   "execution_count": 52,
   "metadata": {
    "colab": {},
    "colab_type": "code",
    "id": "KXAzycvB82dK"
   },
   "outputs": [],
   "source": [
    "# Replaces values in Inspection Type for records with keywords found in them with the specified replacement value\n",
    "def standardize_by_finding_keyword(keywords, replacement):\n",
    "  to_replace = np.array([])\n",
    "  for keyword in keywords:\n",
    "    to_replace = np.append(to_replace, inspection_types[np.char.find(inspection_types_lower, keyword) != -1])\n",
    "  inspections['Inspection Type'] = inspections['Inspection Type'].replace(to_replace, value=replacement)"
   ]
  },
  {
   "cell_type": "code",
   "execution_count": 53,
   "metadata": {
    "colab": {},
    "colab_type": "code",
    "id": "FCKBsogP9bBB"
   },
   "outputs": [],
   "source": [
    "standardize_by_finding_keyword(['canvas'], 'Canvass')\n",
    "standardize_by_finding_keyword(['complain'], 'Complaint')\n",
    "standardize_by_finding_keyword(['license'], 'License')\n",
    "standardize_by_finding_keyword(['task', 'liquor'], 'Task Force')"
   ]
  },
  {
   "cell_type": "code",
   "execution_count": 54,
   "metadata": {
    "colab": {},
    "colab_type": "code",
    "id": "w3GYRPlk-0EF"
   },
   "outputs": [],
   "source": [
    "# Suspected Food Poisoning replacements\n",
    "sfp_values = inspections['Inspection Type'].str.lower().str.contains('food|sfp', regex=True)\n",
    "inspections.loc[sfp_values, 'Inspection Type'] = 'Suspected Food Poisoning'\n",
    "standardize_by_finding_keyword(['sick'], 'Suspected Food Poisoning')"
   ]
  },
  {
   "cell_type": "code",
   "execution_count": 55,
   "metadata": {
    "colab": {
     "base_uri": "https://localhost:8080/",
     "height": 607
    },
    "colab_type": "code",
    "id": "s6e2BcmGBb6m",
    "outputId": "da8f81c0-c046-4458-ba65-2ad5a9094d02"
   },
   "outputs": [
    {
     "data": {
      "text/plain": [
       "Inspection Type\n",
       "CHANGED COURT DATE                   1\n",
       "CORRECTIVE ACTION                    1\n",
       "Canvass                          83883\n",
       "Complaint                        25100\n",
       "Consultation                       396\n",
       "FIRE                                 1\n",
       "HACCP QUESTIONAIRE                   1\n",
       "KITCHEN CLOSED FOR RENOVATION        1\n",
       "License                          19483\n",
       "NO ENTRY                             5\n",
       "No Entry                            48\n",
       "No entry                             1\n",
       "Non-Inspection                       9\n",
       "Not Ready                            7\n",
       "OUT OF BUSINESS                     11\n",
       "Out of Business                     53\n",
       "POSSIBLE FBI                         1\n",
       "RE-INSPECTION OF CLOSE-UP            1\n",
       "REINSPECTION                         1\n",
       "Recent Inspection                  229\n",
       "Recent inspection                    1\n",
       "Sample Collection                    1\n",
       "Special Events (Festivals)          21\n",
       "Suspected Food Poisoning           919\n",
       "TASTE OF CHICAGO                     1\n",
       "Tag Removal                        483\n",
       "Task Force                         225\n",
       "Unknown                              1\n",
       "citation re-issued                   1\n",
       "error save                           1\n",
       "expansion                            1\n",
       "no entry                             2\n",
       "Name: Inspection ID, dtype: int64"
      ]
     },
     "execution_count": 55,
     "metadata": {},
     "output_type": "execute_result"
    }
   ],
   "source": [
    "inspections.groupby(by='Inspection Type')['Inspection ID'].count()"
   ]
  },
  {
   "cell_type": "markdown",
   "metadata": {
    "colab_type": "text",
    "id": "f7cAcNq1Br0u"
   },
   "source": [
    "There are still a lot of values that appear only once in the entire dataset. There are also ones that could be merged into single categories (e.g. \"no entry\", \"out of business\", \"recent inspection\"). We also decide to leave the categories with significant amount of records, such as \"Consultation\". The ones we decide to drop will be reclassified under \"Unknown\" category."
   ]
  },
  {
   "cell_type": "code",
   "execution_count": 56,
   "metadata": {
    "colab": {},
    "colab_type": "code",
    "id": "voProZ_mC4zR"
   },
   "outputs": [],
   "source": [
    "# Replaces records with keyword found in category name to be classified in a given target category\n",
    "def merge_categories(keyword, target_category):\n",
    "  categories_containing_keyword = inspections['Inspection Type'].str.lower().str.contains(keyword)\n",
    "  inspections.loc[categories_containing_keyword, 'Inspection Type'] = target_category  "
   ]
  },
  {
   "cell_type": "code",
   "execution_count": 57,
   "metadata": {
    "colab": {},
    "colab_type": "code",
    "id": "RG7DbCChDRq_"
   },
   "outputs": [],
   "source": [
    "merge_categories('recent inspection', 'Recent Inspection')\n",
    "merge_categories('out of business', 'Out of Business')\n",
    "merge_categories('no entry', 'No Entry')"
   ]
  },
  {
   "cell_type": "code",
   "execution_count": 58,
   "metadata": {
    "colab": {},
    "colab_type": "code",
    "id": "jOYOJUpSDlip"
   },
   "outputs": [],
   "source": [
    "known_list = ['License', 'Canvass', 'Complaint', 'Consultation', 'No Entry', 'Out of Business', 'Recent Inspection', 'Suspected Food Poisoning', 'Tag Removal', 'Task Force']\n",
    "# Classify the rest as unknown\n",
    "inspections.loc[~inspections['Inspection Type'].isin(known_list), 'Inspection Type'] = 'Unknown'"
   ]
  },
  {
   "cell_type": "code",
   "execution_count": 59,
   "metadata": {
    "colab": {
     "base_uri": "https://localhost:8080/",
     "height": 243
    },
    "colab_type": "code",
    "id": "4jf9lQHWD7Sp",
    "outputId": "55deaefe-6cb5-4c57-9e78-1e3d65d826b2"
   },
   "outputs": [
    {
     "data": {
      "text/plain": [
       "Inspection Type\n",
       "Canvass                     83883\n",
       "Complaint                   25100\n",
       "Consultation                  396\n",
       "License                     19483\n",
       "No Entry                       56\n",
       "Out of Business                64\n",
       "Recent Inspection             230\n",
       "Suspected Food Poisoning      919\n",
       "Tag Removal                   483\n",
       "Task Force                    225\n",
       "Unknown                        51\n",
       "Name: Inspection ID, dtype: int64"
      ]
     },
     "execution_count": 59,
     "metadata": {},
     "output_type": "execute_result"
    }
   ],
   "source": [
    "inspections.groupby(by='Inspection Type')['Inspection ID'].count()"
   ]
  },
  {
   "cell_type": "markdown",
   "metadata": {
    "colab_type": "text",
    "id": "UEo2171sEa2Z"
   },
   "source": [
    "Additionally, let's propagate \"Out of Business\" indication to \"Results\" column where it should be indicated:"
   ]
  },
  {
   "cell_type": "code",
   "execution_count": 60,
   "metadata": {
    "colab": {},
    "colab_type": "code",
    "id": "enKj65WYEZsd"
   },
   "outputs": [],
   "source": [
    "out_of_business = inspections[inspections['Inspection Type'] == 'Out of Business'].index\n",
    "inspections.loc[out_of_business, 'Results'] = 'Out of Business'"
   ]
  },
  {
   "cell_type": "markdown",
   "metadata": {
    "colab_type": "text",
    "id": "bFSulYwmnZ4j"
   },
   "source": [
    "## Features extraction"
   ]
  },
  {
   "cell_type": "markdown",
   "metadata": {
    "colab_type": "text",
    "id": "_Tm1c9uLnhRX"
   },
   "source": [
    "For the research questions we want to explore, we needed to create following additional columns in the dataset:\n",
    "\n",
    "1. **Community and District** - those columns are more meaningful than Zip code and will help us interpret the results in more natural and significant way\n",
    "2. **Violation Codes** - for every inspection, based on Violations we want to extract codes of violations found during inspection\n",
    "3. **Generalized Violation Codes** - we want to classify all violations into smaller number of categories based on the general meaning they carry\n",
    "4. **Critical Violation and Serious Violation** - for every inspection, we want to know if any critical or serious violation was made during that inspection"
   ]
  },
  {
   "cell_type": "markdown",
   "metadata": {
    "colab_type": "text",
    "id": "6zvLR9e9aq7A"
   },
   "source": [
    "### Creating Community and District Column"
   ]
  },
  {
   "cell_type": "markdown",
   "metadata": {
    "colab_type": "text",
    "id": "cDdEOEGZa1u5"
   },
   "source": [
    "Chicago is divided into 77 Community Areas that can also be grouped into 9 Districts. Even though we have Zip codes for each restaurant, the role of Zip codes in real world is mainly related to post office and delivery services. People who live in Chicago and visit Chicago are, however, using Community Areas and districts for orientation. \n",
    "\n",
    "We decided to enrich the dataset with this information. We are using the `chicago-community-areas` geojson file for getting boundaries of community areas, and shapely library to check for each coordinate in which community area it belongs (same approach that we used for populating missing Zip codes)."
   ]
  },
  {
   "cell_type": "code",
   "execution_count": 61,
   "metadata": {
    "colab": {},
    "colab_type": "code",
    "id": "CzK5Mr0ha1BW"
   },
   "outputs": [],
   "source": [
    "# Extract unique Latitude and Longitude from inspections\n",
    "unique_coords = inspections.copy()[['Latitude','Longitude']].drop_duplicates()\n",
    "\n",
    "# Create shapely points\n",
    "points = create_points(unique_coords)"
   ]
  },
  {
   "cell_type": "code",
   "execution_count": 62,
   "metadata": {
    "colab": {},
    "colab_type": "code",
    "id": "6-HghyScbI-n"
   },
   "outputs": [],
   "source": [
    "# Method which checks whether the points are in area described in geojson file and returns data with community area name for found points\n",
    "def populate_area(points, geojson_filename):\n",
    "    # load GeoJSON file containing sectors\n",
    "    state_geo_path = r'{0}'.format(geojson_filename)\n",
    "    geo_json_data = json.load(open(state_geo_path))\n",
    "\n",
    "    area_found = []\n",
    "    # check each polygon to see if it contains the point\n",
    "    for feature in geo_json_data['features']:\n",
    "        polygon = shapely.geometry.shape(feature['geometry'])\n",
    "        for point in points: \n",
    "            if polygon.contains(point):\n",
    "                point_complete = {'Longitude':point.x, 'Latitude':point.y, 'Community':feature.get('properties', {}).get('community')}\n",
    "                area_found.append(point_complete)\n",
    "    return area_found"
   ]
  },
  {
   "cell_type": "code",
   "execution_count": 63,
   "metadata": {
    "colab": {
     "base_uri": "https://localhost:8080/",
     "height": 34
    },
    "colab_type": "code",
    "id": "uR0OJ-WAbHYJ",
    "outputId": "2c4b94e7-5921-43f1-bbd6-df509dbbae9d"
   },
   "outputs": [
    {
     "name": "stdout",
     "output_type": "stream",
     "text": [
      "Total 9437 point found matching Chicago sectors.\n"
     ]
    }
   ],
   "source": [
    "area_found = populate_area(points, os.path.join(data_folder, 'chicago-community-boundaries.json'))\n",
    "print('Total {0} point found matching Chicago sectors.'.format(len(area_found)))"
   ]
  },
  {
   "cell_type": "code",
   "execution_count": 64,
   "metadata": {
    "colab": {
     "base_uri": "https://localhost:8080/",
     "height": 34
    },
    "colab_type": "code",
    "id": "fz-AGQuSbphV",
    "outputId": "f8c29e6d-a3ae-470b-ef95-4face6fec81f"
   },
   "outputs": [
    {
     "name": "stdout",
     "output_type": "stream",
     "text": [
      "There are 2502 missing Community left in the restaurant dataset.\n"
     ]
    }
   ],
   "source": [
    "area_found = pd.DataFrame(area_found)\n",
    "inspections = inspections.merge(area_found,on=['Latitude','Longitude'], how='left')\n",
    "print('There are {0} missing Community left in the restaurant dataset.'.format(inspections[inspections.Community.isnull()].shape[0]))"
   ]
  },
  {
   "cell_type": "markdown",
   "metadata": {
    "colab_type": "text",
    "id": "4RY8c5tHboIJ"
   },
   "source": [
    "Since we have some missing values after populating the Community values from geojson, we will try to fix them manually. Let's see if there is some pattern in the missing data."
   ]
  },
  {
   "cell_type": "code",
   "execution_count": 65,
   "metadata": {
    "colab": {
     "base_uri": "https://localhost:8080/",
     "height": 34
    },
    "colab_type": "code",
    "id": "lkGIdehRbvdQ",
    "outputId": "4925ecb8-f4e3-4a54-c83b-8ecfbb3bb0e0"
   },
   "outputs": [
    {
     "data": {
      "text/plain": [
       "array(['60666', '60611'], dtype=object)"
      ]
     },
     "execution_count": 65,
     "metadata": {},
     "output_type": "execute_result"
    }
   ],
   "source": [
    "inspections[inspections.Community.isna()].Zip.unique()"
   ]
  },
  {
   "cell_type": "markdown",
   "metadata": {
    "colab_type": "text",
    "id": "01QLwiZ3b1d5"
   },
   "source": [
    "It seems that the only missing data are from two Zip codes. By doing quick google search and looking at maps, we can see that 60666 refers to O'Hare International Airport and 60611 is Near North Side."
   ]
  },
  {
   "cell_type": "code",
   "execution_count": 66,
   "metadata": {
    "colab": {
     "base_uri": "https://localhost:8080/",
     "height": 34
    },
    "colab_type": "code",
    "id": "5H6GeNhkbybC",
    "outputId": "4e69b26e-9cef-4feb-ef6a-9bff89894402"
   },
   "outputs": [
    {
     "name": "stdout",
     "output_type": "stream",
     "text": [
      "There are 0 missing Community left in the restaurant dataset.\n"
     ]
    }
   ],
   "source": [
    "# Populate missing values\n",
    "inspections.loc[((inspections.Community.isna()) & (inspections.Zip == '60666')), 'Community'] = \"O'HARE INTERNATIONAL AIRPORT\"\n",
    "inspections.loc[((inspections.Community.isna()) & (inspections.Zip == '60611')), 'Community'] = \"NEAR NORTH SIDE\"\n",
    "\n",
    "print('There are {0} missing Community left in the restaurant dataset.'.format(inspections[inspections.Community.isna()].shape[0]))"
   ]
  },
  {
   "cell_type": "code",
   "execution_count": 67,
   "metadata": {
    "colab": {
     "base_uri": "https://localhost:8080/",
     "height": 364
    },
    "colab_type": "code",
    "id": "wSztH_Mmb-FY",
    "outputId": "6b959068-a000-44a2-9cd5-f72caeb2ee4c"
   },
   "outputs": [
    {
     "data": {
      "text/plain": [
       "array(['BRIGHTON PARK', 'DUNNING', 'WEST TOWN', 'NORTH PARK',\n",
       "       \"O'HARE INTERNATIONAL AIRPORT\", 'LOGAN SQUARE', 'AUBURN GRESHAM',\n",
       "       'ROGERS PARK', 'BELMONT CRAGIN', 'AUSTIN', 'SOUTH LAWNDALE',\n",
       "       'GARFIELD RIDGE', 'MONTCLARE', 'WEST ELSDON', 'LINCOLN PARK',\n",
       "       'NORWOOD PARK', 'EAST SIDE', 'LAKE VIEW', 'LINCOLN SQUARE',\n",
       "       'ALBANY PARK', 'NEAR NORTH SIDE', 'WEST LAWN', 'WEST RIDGE',\n",
       "       'IRVING PARK', 'BRIDGEPORT', 'HUMBOLDT PARK', 'GAGE PARK',\n",
       "       'NEAR WEST SIDE', 'LOOP', 'BEVERLY', 'AVONDALE', 'JEFFERSON PARK',\n",
       "       'LOWER WEST SIDE', 'HERMOSA', 'PORTAGE PARK', 'UPTOWN',\n",
       "       'ARCHER HEIGHTS', 'MCKINLEY PARK', 'ASHBURN', 'NORTH LAWNDALE',\n",
       "       'ARMOUR SQUARE', 'GREATER GRAND CROSSING', 'EDGEWATER',\n",
       "       'FOREST GLEN', 'WOODLAWN', 'CLEARING', 'SOUTH CHICAGO',\n",
       "       'NORTH CENTER', 'DOUGLAS', 'HYDE PARK', 'ENGLEWOOD', 'MORGAN PARK',\n",
       "       'ROSELAND', 'WEST PULLMAN', 'NEAR SOUTH SIDE', 'CHATHAM',\n",
       "       'NEW CITY', 'MOUNT GREENWOOD', 'SOUTH SHORE', 'CHICAGO LAWN',\n",
       "       'AVALON PARK', 'CALUMET HEIGHTS', 'KENWOOD', 'EAST GARFIELD PARK',\n",
       "       'FULLER PARK', 'WASHINGTON HEIGHTS', 'WEST GARFIELD PARK',\n",
       "       'WASHINGTON PARK', 'EDISON PARK', 'SOUTH DEERING', 'HEGEWISCH',\n",
       "       'WEST ENGLEWOOD', 'GRAND BOULEVARD', 'PULLMAN', 'RIVERDALE',\n",
       "       'OAKLAND'], dtype=object)"
      ]
     },
     "execution_count": 67,
     "metadata": {},
     "output_type": "execute_result"
    }
   ],
   "source": [
    "inspections.Community.unique()"
   ]
  },
  {
   "cell_type": "markdown",
   "metadata": {
    "colab_type": "text",
    "id": "F4V6jH4ucFBE"
   },
   "source": [
    "We are also going to get the information about Districts for each restaurant. For that we created a mapping between Communities and Districts ([source](http://www.thechicago77.com/chicago-neighborhoods/)), which we load from csv file."
   ]
  },
  {
   "cell_type": "code",
   "execution_count": 68,
   "metadata": {
    "colab": {
     "base_uri": "https://localhost:8080/",
     "height": 206
    },
    "colab_type": "code",
    "id": "GD6SFE9zcGkU",
    "outputId": "b2cdb2dc-ae1d-4af5-e79f-15da9dec89da"
   },
   "outputs": [
    {
     "data": {
      "text/html": [
       "<div>\n",
       "<style scoped>\n",
       "    .dataframe tbody tr th:only-of-type {\n",
       "        vertical-align: middle;\n",
       "    }\n",
       "\n",
       "    .dataframe tbody tr th {\n",
       "        vertical-align: top;\n",
       "    }\n",
       "\n",
       "    .dataframe thead th {\n",
       "        text-align: right;\n",
       "    }\n",
       "</style>\n",
       "<table border=\"1\" class=\"dataframe\">\n",
       "  <thead>\n",
       "    <tr style=\"text-align: right;\">\n",
       "      <th></th>\n",
       "      <th>Community</th>\n",
       "      <th>District</th>\n",
       "    </tr>\n",
       "  </thead>\n",
       "  <tbody>\n",
       "    <tr>\n",
       "      <td>0</td>\n",
       "      <td>Rogers Park</td>\n",
       "      <td>Far North Side</td>\n",
       "    </tr>\n",
       "    <tr>\n",
       "      <td>1</td>\n",
       "      <td>West Ridge</td>\n",
       "      <td>Far North Side</td>\n",
       "    </tr>\n",
       "    <tr>\n",
       "      <td>2</td>\n",
       "      <td>Uptown</td>\n",
       "      <td>Far North Side</td>\n",
       "    </tr>\n",
       "    <tr>\n",
       "      <td>3</td>\n",
       "      <td>Lincoln Square</td>\n",
       "      <td>Far North Side</td>\n",
       "    </tr>\n",
       "    <tr>\n",
       "      <td>4</td>\n",
       "      <td>Edison Park</td>\n",
       "      <td>Far North Side</td>\n",
       "    </tr>\n",
       "  </tbody>\n",
       "</table>\n",
       "</div>"
      ],
      "text/plain": [
       "         Community        District\n",
       "0      Rogers Park  Far North Side\n",
       "1      West Ridge   Far North Side\n",
       "2           Uptown  Far North Side\n",
       "3  Lincoln Square   Far North Side\n",
       "4      Edison Park  Far North Side"
      ]
     },
     "execution_count": 68,
     "metadata": {},
     "output_type": "execute_result"
    }
   ],
   "source": [
    "chicago_communities = pd.read_excel(os.path.join(data_folder, 'Chicago-Communities.xlsx'))\n",
    "chicago_communities.head()"
   ]
  },
  {
   "cell_type": "code",
   "execution_count": 69,
   "metadata": {
    "colab": {},
    "colab_type": "code",
    "id": "Z0qJCpMccQeD"
   },
   "outputs": [],
   "source": [
    "chicago_communities.Community = chicago_communities.Community.apply(lambda x: str.upper(x).strip())"
   ]
  },
  {
   "cell_type": "code",
   "execution_count": 70,
   "metadata": {
    "colab": {
     "base_uri": "https://localhost:8080/",
     "height": 34
    },
    "colab_type": "code",
    "id": "Ru5V_V19cZh1",
    "outputId": "5e5499c9-9541-4dda-9975-db89ef8c52c6"
   },
   "outputs": [
    {
     "name": "stdout",
     "output_type": "stream",
     "text": [
      "There are 0 missing District left in the restaurant dataset.\n"
     ]
    }
   ],
   "source": [
    "inspections =inspections.merge(chicago_communities, on='Community', how='left')\n",
    "print('There are {0} missing District left in the restaurant dataset.'.format(inspections[inspections.District.isna()].shape[0]))"
   ]
  },
  {
   "cell_type": "markdown",
   "metadata": {
    "colab_type": "text",
    "id": "Qqh8ONmozQ4L"
   },
   "source": [
    "Since our main motivation to get Community Areas and District for the inspections and restaurants is to be able to create map for visualizing results, we also needed the geojson file with district boundaries. Since we couldn't find it online, we created it on our own using the `chicago-community-areas` geojson file and by making unions of ares that belong to the same district. The source code for that can be found in `notebooks\\creating_district_boundaries.ipynb`."
   ]
  },
  {
   "cell_type": "markdown",
   "metadata": {
    "colab_type": "text",
    "id": "Qbov096FreyX"
   },
   "source": [
    "### Extracting Violation Codes"
   ]
  },
  {
   "cell_type": "markdown",
   "metadata": {
    "colab_type": "text",
    "id": "9p1fkYqkT0sw"
   },
   "source": [
    "In our dataset violations detected during the inspections are noted in the Violations column. Each violation contains a code, general violation description (name/category of the violation) and comments added by the inspector. Since the violation codes uniquely identify a particular violation, we extract them and use them for our analysis.\n"
   ]
  },
  {
   "cell_type": "code",
   "execution_count": 71,
   "metadata": {
    "colab": {
     "base_uri": "https://localhost:8080/",
     "height": 34
    },
    "colab_type": "code",
    "id": "4ZuEiJDjsOA9",
    "outputId": "74310c98-8829-4c3a-d4ff-70a8f65d1628"
   },
   "outputs": [
    {
     "name": "stdout",
     "output_type": "stream",
     "text": [
      "There are 31837 missing values in the Violations column\n"
     ]
    }
   ],
   "source": [
    "print('There are {0} missing values in the Violations column'.format(inspections['Violations'].isna().sum()))"
   ]
  },
  {
   "cell_type": "code",
   "execution_count": 72,
   "metadata": {
    "colab": {},
    "colab_type": "code",
    "id": "NIWZkOBaJOR_"
   },
   "outputs": [],
   "source": [
    "inspections.fillna(value={'Violations': ''}, inplace=True)"
   ]
  },
  {
   "cell_type": "code",
   "execution_count": 73,
   "metadata": {
    "colab": {},
    "colab_type": "code",
    "id": "BT7U_KcnJfKj"
   },
   "outputs": [],
   "source": [
    "# Extract violation codes from textual list of violations\n",
    "def extract_violation_codes(violation):\n",
    "    violations_list = list(map(lambda v: v.strip(), violation.split('|')))\n",
    "    violation_dots = [violation.find('.') for violation in violations_list]\n",
    "    # using set to get rid of multiple same category violations per inspection (to not disturb the distributions)\n",
    "    violation_codes = list(set([int(v[:idx]) for v, idx in zip(violations_list, violation_dots) if idx != -1]))\n",
    "    return violation_codes"
   ]
  },
  {
   "cell_type": "code",
   "execution_count": 74,
   "metadata": {
    "colab": {},
    "colab_type": "code",
    "id": "IhPguz95JigK"
   },
   "outputs": [],
   "source": [
    "# Add additional column with extracted codes\n",
    "inspections['Violation Codes'] = inspections['Violations'].apply(extract_violation_codes)"
   ]
  },
  {
   "cell_type": "markdown",
   "metadata": {
    "colab_type": "text",
    "id": "e2To6WRCtjZm"
   },
   "source": [
    "### Creating Generalized Violation Codes"
   ]
  },
  {
   "cell_type": "markdown",
   "metadata": {
    "colab_type": "text",
    "id": "QOH6hQeuthzc"
   },
   "source": [
    "What we also want to do in this part is categorize these violation reasons into bigger, more general groups. Categorizing violations into smaller number of groups would help us understand the highlevel reasons for failing the inspection better and would also help in creating visualizations easier to understand. That is why we manually grouped all violation codes into **5 categories** (using the violation descriptions for understanding what each violation code means):\n",
    "1. **Food violations:** in this category we put all of the violations which are related to the food and ingredients: the way they are obtained, stored, transported, prepared, labeled etc.\n",
    "2. **Facility conditions related violations:** presence of appropriatelly set up equipment and utilities (freezer, owens, work surface etc.), as well as requirements for the building and infrastructure (lighting, ventilation, temperature, pipes, walls etc.).\n",
    "3. **Sanitary related violations:** violations that are related to keeping all the equipment, rooms and surfaces clean .\n",
    "4. **Staff related violations:** violations related to the employees (necesarry trainings, the way they work with food, manager's work etc.).\n",
    "5. **Other:** the violations that did not match the previous groups (eg. summary report of the inspection visible to the public, no smoking regulations etc.).\n",
    "\n",
    "What is really important for us is that, as indicated in the [linked document](http://dev.cityofchicago.org/open%20data/data%20portal/2018/06/29/food-violations-changes.html) from the dataset page, the violation codes and descriptions have changed as of 1/07/2018. This means, that violation codes before and after this date don't correspond to the same violation reason. We first tried to map the changed values to the old ones, but it did not give results we expected (there are many new violations added and also the meaning of many violation changed). Therefore we'll usually need to split our analysis into two parts, so that violation codes in each part are consistent - analyze the inspections before 1/07/2018 and after this day. This is where general categorization will be useful because it will allow us to connect those two periods because we keep same 5 categories for all violations."
   ]
  },
  {
   "cell_type": "code",
   "execution_count": 75,
   "metadata": {
    "colab": {},
    "colab_type": "code",
    "id": "ChXi1IKVKLpH"
   },
   "outputs": [],
   "source": [
    "# Split the dataset regarding the change of violation definitions\n",
    "violation_change_date = pd.Timestamp(year=2018, month=7, day=1)\n",
    "inspections['Inspection Date'] = pd.to_datetime(inspections['Inspection Date'])\n",
    "inspections_before_change = inspections[inspections['Inspection Date'] < violation_change_date]\n",
    "inspections_after_change = inspections[inspections['Inspection Date'] >= violation_change_date]"
   ]
  },
  {
   "cell_type": "code",
   "execution_count": 76,
   "metadata": {
    "colab": {},
    "colab_type": "code",
    "id": "UEnrmraFRCM4"
   },
   "outputs": [],
   "source": [
    "# Custom grouping in categories for violations before change\n",
    "food_codes_before = [1, 3, 15, 16, 17, 30]\n",
    "facility_codes_before = [2, 7, 9, 11, 13, 18, 22, 23, 24, 25, 26, 29, 32, 35, 36, 37, 38, 40, 42, 43]\n",
    "sanitary_codes_before = [4, 8, 10, 12, 19, 20, 27, 31, 33, 34, 39, 41]\n",
    "staff_codes_before = [5, 6, 21, 44, 45]\n",
    "unknown_codes_before = [14, 28, 70]\n",
    "\n",
    "codes_before = [food_codes_before, facility_codes_before, sanitary_codes_before, staff_codes_before, unknown_codes_before]"
   ]
  },
  {
   "cell_type": "code",
   "execution_count": 77,
   "metadata": {
    "colab": {},
    "colab_type": "code",
    "id": "HoqTT1PlRE5a"
   },
   "outputs": [],
   "source": [
    "# Custom grouping in categories for violations after change\n",
    "food_codes_after = [11, 12, 13, 14, 15, 17, 23, 26, 27, 28, 30, 31, 37, 39, 42]\n",
    "facility_codes_after = [10, 18, 19, 20, 21, 22, 33, 35, 36, 38, 41, 43, 44, 48, 50, 51, 53, 55, 56, 59, 60, 62]\n",
    "sanitary_codes_after = [2, 8, 16, 40, 45, 46, 47, 49, 52, 54]\n",
    "staff_codes_after = [1, 3, 7, 9, 25, 57, 58]\n",
    "unknown_codes_after = [4, 5, 6, 24, 29, 32, 61, 63]\n",
    "\n",
    "codes_after = [food_codes_after, facility_codes_after, sanitary_codes_after, staff_codes_after, unknown_codes_after]"
   ]
  },
  {
   "cell_type": "code",
   "execution_count": 78,
   "metadata": {
    "colab": {},
    "colab_type": "code",
    "id": "tbqDViclRHzL"
   },
   "outputs": [],
   "source": [
    "# Based on the above array creates mappings between original codes and generalized categories\n",
    "def create_mapping(codes):\n",
    "  mapping = {}\n",
    "  for new_code, category_codes in enumerate(codes):\n",
    "      for old_code in category_codes:\n",
    "          mapping[old_code] = new_code + 1  # new codes starting from 1\n",
    "  return mapping\n",
    "\n",
    "# Function to transform array of original codes into our categories\n",
    "def encode_violations(violations, mapping):\n",
    "  encoded = []\n",
    "  for violation in violations:\n",
    "    encoded.append(mapping[violation])\n",
    "  return encoded"
   ]
  },
  {
   "cell_type": "code",
   "execution_count": 79,
   "metadata": {
    "colab": {},
    "colab_type": "code",
    "id": "qHC8R3VxRLOD"
   },
   "outputs": [],
   "source": [
    "# Create mappings for conversion\n",
    "before_mapping = create_mapping(codes_before)\n",
    "after_mapping = create_mapping(codes_after)"
   ]
  },
  {
   "cell_type": "code",
   "execution_count": 80,
   "metadata": {
    "colab": {},
    "colab_type": "code",
    "id": "KDhZRAckS95E"
   },
   "outputs": [],
   "source": [
    "mapped_inspections_before_change = inspections_before_change['Violation Codes'].apply(encode_violations, mapping=before_mapping)\n",
    "mapped_inspections_after_change = inspections_after_change['Violation Codes'].apply(encode_violations, mapping=after_mapping)"
   ]
  },
  {
   "cell_type": "code",
   "execution_count": 81,
   "metadata": {
    "colab": {
     "base_uri": "https://localhost:8080/",
     "height": 573
    },
    "colab_type": "code",
    "id": "DIr99-tsJMsG",
    "outputId": "de5ec985-c14d-4e42-fe37-0e823a3005e5"
   },
   "outputs": [
    {
     "data": {
      "text/html": [
       "<div>\n",
       "<style scoped>\n",
       "    .dataframe tbody tr th:only-of-type {\n",
       "        vertical-align: middle;\n",
       "    }\n",
       "\n",
       "    .dataframe tbody tr th {\n",
       "        vertical-align: top;\n",
       "    }\n",
       "\n",
       "    .dataframe thead th {\n",
       "        text-align: right;\n",
       "    }\n",
       "</style>\n",
       "<table border=\"1\" class=\"dataframe\">\n",
       "  <thead>\n",
       "    <tr style=\"text-align: right;\">\n",
       "      <th></th>\n",
       "      <th>Inspection ID</th>\n",
       "      <th>DBA Name</th>\n",
       "      <th>AKA Name</th>\n",
       "      <th>License #</th>\n",
       "      <th>Facility Type</th>\n",
       "      <th>Risk</th>\n",
       "      <th>Address</th>\n",
       "      <th>City</th>\n",
       "      <th>State</th>\n",
       "      <th>Zip</th>\n",
       "      <th>...</th>\n",
       "      <th>Results</th>\n",
       "      <th>Violations</th>\n",
       "      <th>Latitude</th>\n",
       "      <th>Longitude</th>\n",
       "      <th>Location</th>\n",
       "      <th>Re-inspection</th>\n",
       "      <th>Community</th>\n",
       "      <th>District</th>\n",
       "      <th>Violation Codes</th>\n",
       "      <th>Violation Codes Generalized</th>\n",
       "    </tr>\n",
       "  </thead>\n",
       "  <tbody>\n",
       "    <tr>\n",
       "      <td>0</td>\n",
       "      <td>2345959</td>\n",
       "      <td>DUNKIN DONUTS</td>\n",
       "      <td>DUNKIN DONUTS</td>\n",
       "      <td>1803815</td>\n",
       "      <td>Restaurant</td>\n",
       "      <td>Risk 2 (Medium)</td>\n",
       "      <td>4453 S ARCHER AVE</td>\n",
       "      <td>Chicago</td>\n",
       "      <td>IL</td>\n",
       "      <td>60632</td>\n",
       "      <td>...</td>\n",
       "      <td>Pass w/ Conditions</td>\n",
       "      <td>3. MANAGEMENT, FOOD EMPLOYEE AND CONDITIONAL E...</td>\n",
       "      <td>41.812307</td>\n",
       "      <td>-87.706919</td>\n",
       "      <td>{'longitude': '41.81230749019629', 'latitude':...</td>\n",
       "      <td>False</td>\n",
       "      <td>BRIGHTON PARK</td>\n",
       "      <td>Southwest Side</td>\n",
       "      <td>[3, 37, 16, 53, 55, 57]</td>\n",
       "      <td>[4, 1, 3, 2, 2, 4]</td>\n",
       "    </tr>\n",
       "    <tr>\n",
       "      <td>1</td>\n",
       "      <td>2345980</td>\n",
       "      <td>A &amp; J KRAZY KITCHEN</td>\n",
       "      <td>A &amp; J KRAZY KITCHEN</td>\n",
       "      <td>2570118</td>\n",
       "      <td>Restaurant</td>\n",
       "      <td>Risk 1 (High)</td>\n",
       "      <td>7547 W IRVING PARK RD</td>\n",
       "      <td>Chicago</td>\n",
       "      <td>IL</td>\n",
       "      <td>60634</td>\n",
       "      <td>...</td>\n",
       "      <td>Fail</td>\n",
       "      <td>25. CONSUMER ADVISORY PROVIDED FOR RAW/UNDERCO...</td>\n",
       "      <td>41.952437</td>\n",
       "      <td>-87.816496</td>\n",
       "      <td>{'longitude': '41.95243739681394', 'latitude':...</td>\n",
       "      <td>False</td>\n",
       "      <td>DUNNING</td>\n",
       "      <td>Northwest Side</td>\n",
       "      <td>[51, 53, 56, 25, 60]</td>\n",
       "      <td>[2, 2, 2, 4, 2]</td>\n",
       "    </tr>\n",
       "    <tr>\n",
       "      <td>2</td>\n",
       "      <td>2345987</td>\n",
       "      <td>PORK AND MINDY'S</td>\n",
       "      <td>PORK AND MINDY'S</td>\n",
       "      <td>2437422</td>\n",
       "      <td>Restaurant</td>\n",
       "      <td>Risk 1 (High)</td>\n",
       "      <td>1623 N MILWAUKEE AVE</td>\n",
       "      <td>Chicago</td>\n",
       "      <td>IL</td>\n",
       "      <td>60647</td>\n",
       "      <td>...</td>\n",
       "      <td>No Entry</td>\n",
       "      <td></td>\n",
       "      <td>41.910980</td>\n",
       "      <td>-87.678171</td>\n",
       "      <td>{'longitude': '41.91098004283084', 'latitude':...</td>\n",
       "      <td>False</td>\n",
       "      <td>WEST TOWN</td>\n",
       "      <td>West Side</td>\n",
       "      <td>[]</td>\n",
       "      <td>[]</td>\n",
       "    </tr>\n",
       "    <tr>\n",
       "      <td>3</td>\n",
       "      <td>2345921</td>\n",
       "      <td>NEW BANPOJUNG, INC.</td>\n",
       "      <td>Ban Po Chung</td>\n",
       "      <td>1847417</td>\n",
       "      <td>Restaurant</td>\n",
       "      <td>Risk 1 (High)</td>\n",
       "      <td>3450 W FOSTER AVE</td>\n",
       "      <td>Chicago</td>\n",
       "      <td>IL</td>\n",
       "      <td>60625</td>\n",
       "      <td>...</td>\n",
       "      <td>Pass</td>\n",
       "      <td>49. NON-FOOD/FOOD CONTACT SURFACES CLEAN - Com...</td>\n",
       "      <td>41.975778</td>\n",
       "      <td>-87.715618</td>\n",
       "      <td>{'longitude': '41.97577826268285', 'latitude':...</td>\n",
       "      <td>False</td>\n",
       "      <td>NORTH PARK</td>\n",
       "      <td>Far North Side</td>\n",
       "      <td>[49, 51, 55]</td>\n",
       "      <td>[3, 2, 2]</td>\n",
       "    </tr>\n",
       "    <tr>\n",
       "      <td>4</td>\n",
       "      <td>2345906</td>\n",
       "      <td>HUB 51</td>\n",
       "      <td>HUB 51/T5 M10</td>\n",
       "      <td>2192977</td>\n",
       "      <td>Restaurant</td>\n",
       "      <td>Risk 1 (High)</td>\n",
       "      <td>11601 W TOUHY AVE</td>\n",
       "      <td>Chicago</td>\n",
       "      <td>IL</td>\n",
       "      <td>60666</td>\n",
       "      <td>...</td>\n",
       "      <td>Pass</td>\n",
       "      <td>47. FOOD &amp; NON-FOOD CONTACT SURFACES CLEANABLE...</td>\n",
       "      <td>42.008536</td>\n",
       "      <td>-87.914428</td>\n",
       "      <td>{'longitude': '42.008536400868735', 'latitude'...</td>\n",
       "      <td>False</td>\n",
       "      <td>O'HARE INTERNATIONAL AIRPORT</td>\n",
       "      <td>Far North Side</td>\n",
       "      <td>[51, 55, 47]</td>\n",
       "      <td>[2, 2, 3]</td>\n",
       "    </tr>\n",
       "  </tbody>\n",
       "</table>\n",
       "<p>5 rows × 22 columns</p>\n",
       "</div>"
      ],
      "text/plain": [
       "   Inspection ID             DBA Name             AKA Name  License #  \\\n",
       "0        2345959        DUNKIN DONUTS        DUNKIN DONUTS    1803815   \n",
       "1        2345980  A & J KRAZY KITCHEN  A & J KRAZY KITCHEN    2570118   \n",
       "2        2345987     PORK AND MINDY'S     PORK AND MINDY'S    2437422   \n",
       "3        2345921  NEW BANPOJUNG, INC.         Ban Po Chung    1847417   \n",
       "4        2345906               HUB 51        HUB 51/T5 M10    2192977   \n",
       "\n",
       "  Facility Type             Risk                 Address     City State  \\\n",
       "0    Restaurant  Risk 2 (Medium)      4453 S ARCHER AVE   Chicago    IL   \n",
       "1    Restaurant    Risk 1 (High)  7547 W IRVING PARK RD   Chicago    IL   \n",
       "2    Restaurant    Risk 1 (High)   1623 N MILWAUKEE AVE   Chicago    IL   \n",
       "3    Restaurant    Risk 1 (High)      3450 W FOSTER AVE   Chicago    IL   \n",
       "4    Restaurant    Risk 1 (High)      11601 W TOUHY AVE   Chicago    IL   \n",
       "\n",
       "     Zip  ...             Results  \\\n",
       "0  60632  ...  Pass w/ Conditions   \n",
       "1  60634  ...                Fail   \n",
       "2  60647  ...            No Entry   \n",
       "3  60625  ...                Pass   \n",
       "4  60666  ...                Pass   \n",
       "\n",
       "                                          Violations   Latitude  Longitude  \\\n",
       "0  3. MANAGEMENT, FOOD EMPLOYEE AND CONDITIONAL E...  41.812307 -87.706919   \n",
       "1  25. CONSUMER ADVISORY PROVIDED FOR RAW/UNDERCO...  41.952437 -87.816496   \n",
       "2                                                     41.910980 -87.678171   \n",
       "3  49. NON-FOOD/FOOD CONTACT SURFACES CLEAN - Com...  41.975778 -87.715618   \n",
       "4  47. FOOD & NON-FOOD CONTACT SURFACES CLEANABLE...  42.008536 -87.914428   \n",
       "\n",
       "                                            Location  Re-inspection  \\\n",
       "0  {'longitude': '41.81230749019629', 'latitude':...          False   \n",
       "1  {'longitude': '41.95243739681394', 'latitude':...          False   \n",
       "2  {'longitude': '41.91098004283084', 'latitude':...          False   \n",
       "3  {'longitude': '41.97577826268285', 'latitude':...          False   \n",
       "4  {'longitude': '42.008536400868735', 'latitude'...          False   \n",
       "\n",
       "                      Community        District          Violation Codes  \\\n",
       "0                 BRIGHTON PARK  Southwest Side  [3, 37, 16, 53, 55, 57]   \n",
       "1                       DUNNING  Northwest Side     [51, 53, 56, 25, 60]   \n",
       "2                     WEST TOWN       West Side                       []   \n",
       "3                    NORTH PARK  Far North Side             [49, 51, 55]   \n",
       "4  O'HARE INTERNATIONAL AIRPORT  Far North Side             [51, 55, 47]   \n",
       "\n",
       "  Violation Codes Generalized  \n",
       "0          [4, 1, 3, 2, 2, 4]  \n",
       "1             [2, 2, 2, 4, 2]  \n",
       "2                          []  \n",
       "3                   [3, 2, 2]  \n",
       "4                   [2, 2, 3]  \n",
       "\n",
       "[5 rows x 22 columns]"
      ]
     },
     "execution_count": 81,
     "metadata": {},
     "output_type": "execute_result"
    }
   ],
   "source": [
    "mapped_inspections = mapped_inspections_before_change.append(mapped_inspections_after_change)\n",
    "# Add additional column with violation codes by our general categories\n",
    "inspections = inspections.merge(mapped_inspections, left_index=True, right_index=True, suffixes=('', ' Generalized'))\n",
    "inspections.head()"
   ]
  },
  {
   "cell_type": "markdown",
   "metadata": {
    "colab_type": "text",
    "id": "Md_neAjzwu80"
   },
   "source": [
    "### Extract information on critical/serious violation"
   ]
  },
  {
   "cell_type": "markdown",
   "metadata": {
    "colab_type": "text",
    "id": "XjhG2i3XC1yr"
   },
   "source": [
    "Not all the violations have the same weight, right? For instance, it is not the same to have dirty toilet sink and serve expired food. Therefore, we want to make a distinction between violations, not only based on the category, but based on how serous the violation was.\n",
    "\n",
    "In order to differentiate restaurants and neighborhoods based on the severity of the violations they make, we need to know whether in some inspection there were some critical violations broken. For this, our analysis again differs before and after 1.7.2018. \n",
    "\n",
    "In the official description of the dataset, which applies to violations before 1st of July 2018, it is stated that violations with code 1-14 are classified as **critical violations**, 15-29 are **serious violations**, and the rest are **minor violations**. \n",
    "\n",
    "[After the change of the violations in 2018](https://www.chicago.gov/content/dam/city/depts/cdph/food_env/general/Food_Protection/2019_ChicagoFoodCodeMajorChanges.pdf), different renaming of critical, serious and minor violation was applied and they are called **priority**, **priority foundation** and **core violation** respectively. Moreover, there was no more clear separation which violation code belongs to which group. The way to deduct the severity of the violation in each inspection is to look at the **comments made by inspectors.** If there was a critical violation broken, it would be marked as priority violation.\n",
    "\n",
    "We will use this information to check if there was any critical or serious violation for each inspection. We will create 2 new columns which will contain boolean values: Critical Violation Noticed and Serious Violation Noticed. "
   ]
  },
  {
   "cell_type": "code",
   "execution_count": 82,
   "metadata": {
    "colab": {},
    "colab_type": "code",
    "id": "9XhfL5r-EIPO"
   },
   "outputs": [],
   "source": [
    "# Function that applies for inspections before change (1.7.2018) and checks if there is any critical violation among given violation codes \n",
    "def is_critical_violation_before_change(violation_codes):\n",
    "    critical_violations = np.arange(1,15).tolist()\n",
    "    return (list(set(violation_codes) & set(critical_violations)) != [])\n",
    "\n",
    "# Function that applies for inspections after change (1.7.2018) and checks if there is any critical violation among given violation codes \n",
    "def is_critical_violation_after_change(comment):\n",
    "    return ('priority violation' in comment.lower())\n",
    "\n",
    "# Function that checks if during the inspection it was observed at least one critical violation\n",
    "def check_critical_violation(row):\n",
    "    change_date = datetime.datetime.strptime('2018-07-01', '%Y-%m-%d')\n",
    "    if((row['Inspection Date'] < change_date) and (is_critical_violation_before_change(row['Violation Codes']))):\n",
    "        return True\n",
    "    if((row['Inspection Date'] >= change_date) and (is_critical_violation_after_change(row['Violations']))):\n",
    "        return True\n",
    "    return False"
   ]
  },
  {
   "cell_type": "code",
   "execution_count": 83,
   "metadata": {
    "colab": {},
    "colab_type": "code",
    "id": "6f1MDWy_ET6r"
   },
   "outputs": [],
   "source": [
    "# Create new column which shows if during the inspection it was observed at least one critical violation\n",
    "inspections['Critical Violation Noticed'] = inspections.apply(lambda x : check_critical_violation(x), axis = 1)"
   ]
  },
  {
   "cell_type": "markdown",
   "metadata": {
    "colab_type": "text",
    "id": "B14RF-N5Id7L"
   },
   "source": [
    "Similarily, we will check serious violations. They are slighlty less dangerous than critical ones, but still considered harmful for human's health."
   ]
  },
  {
   "cell_type": "code",
   "execution_count": 84,
   "metadata": {
    "colab": {},
    "colab_type": "code",
    "id": "X46G0O3FEjWx"
   },
   "outputs": [],
   "source": [
    "# Function that applies for inspections before change (1.7.2018) and checks if there is any serious violation among given violation codes \n",
    "def is_serious_violation_before_change(violation_codes):\n",
    "    serious_violations = np.arange(15,30).tolist()\n",
    "    return (list(set(violation_codes) & set(serious_violations)) != [])\n",
    "\n",
    "# Function that applies for inspections after change (1.7.2018) and checks if there is any critical violation among given violation codes \n",
    "def is_serious_violation_after_change(comment):\n",
    "    return ('priority foundation' in comment.lower())\n",
    "\n",
    "# Function that checks if during the inspection it was observed at least one serious violation\n",
    "def check_serious_violation(row):\n",
    "    change_date = datetime.datetime.strptime('2018-07-01', '%Y-%m-%d')\n",
    "    if((row['Inspection Date'] < change_date) and (is_serious_violation_before_change(row['Violation Codes']))):\n",
    "        return True\n",
    "    if((row['Inspection Date'] >= change_date) and (is_serious_violation_after_change(row['Violations']))):\n",
    "        return True\n",
    "    return False"
   ]
  },
  {
   "cell_type": "code",
   "execution_count": 85,
   "metadata": {
    "colab": {},
    "colab_type": "code",
    "id": "HQ-sv9EdJwBz"
   },
   "outputs": [],
   "source": [
    "# Create new column which shows if during the inspection it was observed at least one serious violation\n",
    "inspections['Serious Violation Noticed'] = inspections.apply(lambda x: check_serious_violation(x), axis=1)"
   ]
  },
  {
   "cell_type": "code",
   "execution_count": 86,
   "metadata": {
    "colab": {
     "base_uri": "https://localhost:8080/",
     "height": 573
    },
    "colab_type": "code",
    "id": "vgLiv537ZTEO",
    "outputId": "14f3b718-9ee4-44c3-cc39-e74ca0ca33be"
   },
   "outputs": [
    {
     "data": {
      "text/html": [
       "<div>\n",
       "<style scoped>\n",
       "    .dataframe tbody tr th:only-of-type {\n",
       "        vertical-align: middle;\n",
       "    }\n",
       "\n",
       "    .dataframe tbody tr th {\n",
       "        vertical-align: top;\n",
       "    }\n",
       "\n",
       "    .dataframe thead th {\n",
       "        text-align: right;\n",
       "    }\n",
       "</style>\n",
       "<table border=\"1\" class=\"dataframe\">\n",
       "  <thead>\n",
       "    <tr style=\"text-align: right;\">\n",
       "      <th></th>\n",
       "      <th>Inspection ID</th>\n",
       "      <th>DBA Name</th>\n",
       "      <th>AKA Name</th>\n",
       "      <th>License #</th>\n",
       "      <th>Facility Type</th>\n",
       "      <th>Risk</th>\n",
       "      <th>Address</th>\n",
       "      <th>City</th>\n",
       "      <th>State</th>\n",
       "      <th>Zip</th>\n",
       "      <th>...</th>\n",
       "      <th>Latitude</th>\n",
       "      <th>Longitude</th>\n",
       "      <th>Location</th>\n",
       "      <th>Re-inspection</th>\n",
       "      <th>Community</th>\n",
       "      <th>District</th>\n",
       "      <th>Violation Codes</th>\n",
       "      <th>Violation Codes Generalized</th>\n",
       "      <th>Critical Violation Noticed</th>\n",
       "      <th>Serious Violation Noticed</th>\n",
       "    </tr>\n",
       "  </thead>\n",
       "  <tbody>\n",
       "    <tr>\n",
       "      <td>0</td>\n",
       "      <td>2345959</td>\n",
       "      <td>DUNKIN DONUTS</td>\n",
       "      <td>DUNKIN DONUTS</td>\n",
       "      <td>1803815</td>\n",
       "      <td>Restaurant</td>\n",
       "      <td>Risk 2 (Medium)</td>\n",
       "      <td>4453 S ARCHER AVE</td>\n",
       "      <td>Chicago</td>\n",
       "      <td>IL</td>\n",
       "      <td>60632</td>\n",
       "      <td>...</td>\n",
       "      <td>41.812307</td>\n",
       "      <td>-87.706919</td>\n",
       "      <td>{'longitude': '41.81230749019629', 'latitude':...</td>\n",
       "      <td>False</td>\n",
       "      <td>BRIGHTON PARK</td>\n",
       "      <td>Southwest Side</td>\n",
       "      <td>[3, 37, 16, 53, 55, 57]</td>\n",
       "      <td>[4, 1, 3, 2, 2, 4]</td>\n",
       "      <td>False</td>\n",
       "      <td>True</td>\n",
       "    </tr>\n",
       "    <tr>\n",
       "      <td>1</td>\n",
       "      <td>2345980</td>\n",
       "      <td>A &amp; J KRAZY KITCHEN</td>\n",
       "      <td>A &amp; J KRAZY KITCHEN</td>\n",
       "      <td>2570118</td>\n",
       "      <td>Restaurant</td>\n",
       "      <td>Risk 1 (High)</td>\n",
       "      <td>7547 W IRVING PARK RD</td>\n",
       "      <td>Chicago</td>\n",
       "      <td>IL</td>\n",
       "      <td>60634</td>\n",
       "      <td>...</td>\n",
       "      <td>41.952437</td>\n",
       "      <td>-87.816496</td>\n",
       "      <td>{'longitude': '41.95243739681394', 'latitude':...</td>\n",
       "      <td>False</td>\n",
       "      <td>DUNNING</td>\n",
       "      <td>Northwest Side</td>\n",
       "      <td>[51, 53, 56, 25, 60]</td>\n",
       "      <td>[2, 2, 2, 4, 2]</td>\n",
       "      <td>False</td>\n",
       "      <td>True</td>\n",
       "    </tr>\n",
       "    <tr>\n",
       "      <td>2</td>\n",
       "      <td>2345987</td>\n",
       "      <td>PORK AND MINDY'S</td>\n",
       "      <td>PORK AND MINDY'S</td>\n",
       "      <td>2437422</td>\n",
       "      <td>Restaurant</td>\n",
       "      <td>Risk 1 (High)</td>\n",
       "      <td>1623 N MILWAUKEE AVE</td>\n",
       "      <td>Chicago</td>\n",
       "      <td>IL</td>\n",
       "      <td>60647</td>\n",
       "      <td>...</td>\n",
       "      <td>41.910980</td>\n",
       "      <td>-87.678171</td>\n",
       "      <td>{'longitude': '41.91098004283084', 'latitude':...</td>\n",
       "      <td>False</td>\n",
       "      <td>WEST TOWN</td>\n",
       "      <td>West Side</td>\n",
       "      <td>[]</td>\n",
       "      <td>[]</td>\n",
       "      <td>False</td>\n",
       "      <td>False</td>\n",
       "    </tr>\n",
       "    <tr>\n",
       "      <td>3</td>\n",
       "      <td>2345921</td>\n",
       "      <td>NEW BANPOJUNG, INC.</td>\n",
       "      <td>Ban Po Chung</td>\n",
       "      <td>1847417</td>\n",
       "      <td>Restaurant</td>\n",
       "      <td>Risk 1 (High)</td>\n",
       "      <td>3450 W FOSTER AVE</td>\n",
       "      <td>Chicago</td>\n",
       "      <td>IL</td>\n",
       "      <td>60625</td>\n",
       "      <td>...</td>\n",
       "      <td>41.975778</td>\n",
       "      <td>-87.715618</td>\n",
       "      <td>{'longitude': '41.97577826268285', 'latitude':...</td>\n",
       "      <td>False</td>\n",
       "      <td>NORTH PARK</td>\n",
       "      <td>Far North Side</td>\n",
       "      <td>[49, 51, 55]</td>\n",
       "      <td>[3, 2, 2]</td>\n",
       "      <td>False</td>\n",
       "      <td>False</td>\n",
       "    </tr>\n",
       "    <tr>\n",
       "      <td>4</td>\n",
       "      <td>2345906</td>\n",
       "      <td>HUB 51</td>\n",
       "      <td>HUB 51/T5 M10</td>\n",
       "      <td>2192977</td>\n",
       "      <td>Restaurant</td>\n",
       "      <td>Risk 1 (High)</td>\n",
       "      <td>11601 W TOUHY AVE</td>\n",
       "      <td>Chicago</td>\n",
       "      <td>IL</td>\n",
       "      <td>60666</td>\n",
       "      <td>...</td>\n",
       "      <td>42.008536</td>\n",
       "      <td>-87.914428</td>\n",
       "      <td>{'longitude': '42.008536400868735', 'latitude'...</td>\n",
       "      <td>False</td>\n",
       "      <td>O'HARE INTERNATIONAL AIRPORT</td>\n",
       "      <td>Far North Side</td>\n",
       "      <td>[51, 55, 47]</td>\n",
       "      <td>[2, 2, 3]</td>\n",
       "      <td>False</td>\n",
       "      <td>False</td>\n",
       "    </tr>\n",
       "  </tbody>\n",
       "</table>\n",
       "<p>5 rows × 24 columns</p>\n",
       "</div>"
      ],
      "text/plain": [
       "   Inspection ID             DBA Name             AKA Name  License #  \\\n",
       "0        2345959        DUNKIN DONUTS        DUNKIN DONUTS    1803815   \n",
       "1        2345980  A & J KRAZY KITCHEN  A & J KRAZY KITCHEN    2570118   \n",
       "2        2345987     PORK AND MINDY'S     PORK AND MINDY'S    2437422   \n",
       "3        2345921  NEW BANPOJUNG, INC.         Ban Po Chung    1847417   \n",
       "4        2345906               HUB 51        HUB 51/T5 M10    2192977   \n",
       "\n",
       "  Facility Type             Risk                 Address     City State  \\\n",
       "0    Restaurant  Risk 2 (Medium)      4453 S ARCHER AVE   Chicago    IL   \n",
       "1    Restaurant    Risk 1 (High)  7547 W IRVING PARK RD   Chicago    IL   \n",
       "2    Restaurant    Risk 1 (High)   1623 N MILWAUKEE AVE   Chicago    IL   \n",
       "3    Restaurant    Risk 1 (High)      3450 W FOSTER AVE   Chicago    IL   \n",
       "4    Restaurant    Risk 1 (High)      11601 W TOUHY AVE   Chicago    IL   \n",
       "\n",
       "     Zip  ...   Latitude  Longitude  \\\n",
       "0  60632  ...  41.812307 -87.706919   \n",
       "1  60634  ...  41.952437 -87.816496   \n",
       "2  60647  ...  41.910980 -87.678171   \n",
       "3  60625  ...  41.975778 -87.715618   \n",
       "4  60666  ...  42.008536 -87.914428   \n",
       "\n",
       "                                            Location Re-inspection  \\\n",
       "0  {'longitude': '41.81230749019629', 'latitude':...         False   \n",
       "1  {'longitude': '41.95243739681394', 'latitude':...         False   \n",
       "2  {'longitude': '41.91098004283084', 'latitude':...         False   \n",
       "3  {'longitude': '41.97577826268285', 'latitude':...         False   \n",
       "4  {'longitude': '42.008536400868735', 'latitude'...         False   \n",
       "\n",
       "                      Community        District          Violation Codes  \\\n",
       "0                 BRIGHTON PARK  Southwest Side  [3, 37, 16, 53, 55, 57]   \n",
       "1                       DUNNING  Northwest Side     [51, 53, 56, 25, 60]   \n",
       "2                     WEST TOWN       West Side                       []   \n",
       "3                    NORTH PARK  Far North Side             [49, 51, 55]   \n",
       "4  O'HARE INTERNATIONAL AIRPORT  Far North Side             [51, 55, 47]   \n",
       "\n",
       "   Violation Codes Generalized Critical Violation Noticed  \\\n",
       "0           [4, 1, 3, 2, 2, 4]                      False   \n",
       "1              [2, 2, 2, 4, 2]                      False   \n",
       "2                           []                      False   \n",
       "3                    [3, 2, 2]                      False   \n",
       "4                    [2, 2, 3]                      False   \n",
       "\n",
       "  Serious Violation Noticed  \n",
       "0                      True  \n",
       "1                      True  \n",
       "2                     False  \n",
       "3                     False  \n",
       "4                     False  \n",
       "\n",
       "[5 rows x 24 columns]"
      ]
     },
     "execution_count": 86,
     "metadata": {},
     "output_type": "execute_result"
    }
   ],
   "source": [
    "inspections.head()"
   ]
  },
  {
   "cell_type": "markdown",
   "metadata": {
    "colab_type": "text",
    "id": "dBuRi-oFczrR"
   },
   "source": [
    "## Descriptive analysis"
   ]
  },
  {
   "cell_type": "markdown",
   "metadata": {
    "colab_type": "text",
    "id": "-DhIIVi3wvZk"
   },
   "source": [
    "In this part we prepare some basic plots to get more visual insight in our dataset."
   ]
  },
  {
   "cell_type": "markdown",
   "metadata": {
    "colab_type": "text",
    "id": "fwcoDd2Jwza_"
   },
   "source": [
    "We start with number of inspections per year to see if we can observe any trend in that matter"
   ]
  },
  {
   "cell_type": "code",
   "execution_count": 87,
   "metadata": {
    "colab": {
     "base_uri": "https://localhost:8080/",
     "height": 617
    },
    "colab_type": "code",
    "id": "67auQHxaw0DL",
    "outputId": "7196fd0d-72e1-44b6-eaed-1cd6111ecf1d"
   },
   "outputs": [
    {
     "data": {
      "text/html": [
       "\n",
       "        <iframe\n",
       "            width=\"1000\"\n",
       "            height=\"600\"\n",
       "            src=\"inspections_per_year.html\"\n",
       "            frameborder=\"0\"\n",
       "            allowfullscreen\n",
       "        ></iframe>\n",
       "        "
      ],
      "text/plain": [
       "<IPython.lib.display.IFrame at 0x2082bfa5940>"
      ]
     },
     "execution_count": 87,
     "metadata": {},
     "output_type": "execute_result"
    }
   ],
   "source": [
    "data = inspections.groupby(inspections[\"Inspection Date\"].dt.year)[\"Inspection ID\"].count().to_frame().reset_index()\n",
    "data = data.rename(columns={\"Inspection ID\": \"Number of inspections\"})\n",
    "\n",
    "colorscale = ['#FDCB36']\n",
    "fig = px.bar(data, x='Inspection Date', y='Number of inspections',barmode='group', template='plotly_white', color_discrete_sequence=colorscale)\n",
    "#fig.show()\n",
    "plot_offline(fig,\"inspections_per_year.html\")"
   ]
  },
  {
   "cell_type": "markdown",
   "metadata": {
    "colab_type": "text",
    "id": "L4CCPkhyw2CY"
   },
   "source": [
    "Next we want to look into inspections results each year"
   ]
  },
  {
   "cell_type": "code",
   "execution_count": 88,
   "metadata": {
    "colab": {
     "base_uri": "https://localhost:8080/",
     "height": 206
    },
    "colab_type": "code",
    "id": "VSFjXOHSY3Nb",
    "outputId": "1f134a56-d908-4a95-efb6-3ad722e37736"
   },
   "outputs": [
    {
     "data": {
      "text/html": [
       "<div>\n",
       "<style scoped>\n",
       "    .dataframe tbody tr th:only-of-type {\n",
       "        vertical-align: middle;\n",
       "    }\n",
       "\n",
       "    .dataframe tbody tr th {\n",
       "        vertical-align: top;\n",
       "    }\n",
       "\n",
       "    .dataframe thead th {\n",
       "        text-align: right;\n",
       "    }\n",
       "</style>\n",
       "<table border=\"1\" class=\"dataframe\">\n",
       "  <thead>\n",
       "    <tr style=\"text-align: right;\">\n",
       "      <th></th>\n",
       "      <th>Inspection Date</th>\n",
       "      <th>Number of inspections</th>\n",
       "    </tr>\n",
       "  </thead>\n",
       "  <tbody>\n",
       "    <tr>\n",
       "      <td>0</td>\n",
       "      <td>2010</td>\n",
       "      <td>10745</td>\n",
       "    </tr>\n",
       "    <tr>\n",
       "      <td>1</td>\n",
       "      <td>2011</td>\n",
       "      <td>11246</td>\n",
       "    </tr>\n",
       "    <tr>\n",
       "      <td>2</td>\n",
       "      <td>2012</td>\n",
       "      <td>11329</td>\n",
       "    </tr>\n",
       "    <tr>\n",
       "      <td>3</td>\n",
       "      <td>2013</td>\n",
       "      <td>13948</td>\n",
       "    </tr>\n",
       "    <tr>\n",
       "      <td>4</td>\n",
       "      <td>2014</td>\n",
       "      <td>15060</td>\n",
       "    </tr>\n",
       "  </tbody>\n",
       "</table>\n",
       "</div>"
      ],
      "text/plain": [
       "   Inspection Date  Number of inspections\n",
       "0             2010                  10745\n",
       "1             2011                  11246\n",
       "2             2012                  11329\n",
       "3             2013                  13948\n",
       "4             2014                  15060"
      ]
     },
     "execution_count": 88,
     "metadata": {},
     "output_type": "execute_result"
    }
   ],
   "source": [
    "data.head()"
   ]
  },
  {
   "cell_type": "code",
   "execution_count": 89,
   "metadata": {
    "colab": {
     "base_uri": "https://localhost:8080/",
     "height": 617
    },
    "colab_type": "code",
    "id": "ozTmzCv2w5nX",
    "outputId": "0e2bef94-50b1-4609-a79a-db91261546a7"
   },
   "outputs": [
    {
     "data": {
      "text/html": [
       "\n",
       "        <iframe\n",
       "            width=\"1000\"\n",
       "            height=\"600\"\n",
       "            src=\"ispections_per_year_per_type.html\"\n",
       "            frameborder=\"0\"\n",
       "            allowfullscreen\n",
       "        ></iframe>\n",
       "        "
      ],
      "text/plain": [
       "<IPython.lib.display.IFrame at 0x2082c4369b0>"
      ]
     },
     "execution_count": 89,
     "metadata": {},
     "output_type": "execute_result"
    }
   ],
   "source": [
    "data = inspections.groupby([inspections[\"Inspection Date\"].dt.year, inspections[\"Results\"]])[\"Inspection ID\"].count().to_frame().reset_index()\n",
    "data = data.rename(columns={\"Inspection ID\": \"Number of inspections\"})\n",
    "colorscale = ['#BE4986', '#FDCB36', '#ED7953', '#BE4987', '#7D356F', '#774AA8', '#1C3587']\n",
    "fig = px.bar(data, x='Inspection Date', y='Number of inspections', color='Results', barmode='group', template='plotly_white', color_discrete_sequence=colorscale)\n",
    "#fig.show()\n",
    "plot_offline(fig,\"ispections_per_year_per_type.html\")"
   ]
  },
  {
   "cell_type": "markdown",
   "metadata": {
    "colab_type": "text",
    "id": "hFJvBPuyw8KV"
   },
   "source": [
    "It seems that Chicago sanitary got more strict as we can see in 2018 and 2019 far less restaurants pass an inspection in favour of passing with conditions."
   ]
  },
  {
   "cell_type": "markdown",
   "metadata": {
    "colab_type": "text",
    "id": "03vwjvEu3C06"
   },
   "source": [
    "Before we proceed, using the information about critical and serious violations made during inspections, let's check how often do restaurants make those violations."
   ]
  },
  {
   "cell_type": "code",
   "execution_count": 90,
   "metadata": {
    "colab": {
     "base_uri": "https://localhost:8080/",
     "height": 34
    },
    "colab_type": "code",
    "id": "SV0ubcMx25MM",
    "outputId": "a630e13f-cc67-4d8d-8df2-80e583fcdefe"
   },
   "outputs": [
    {
     "name": "stdout",
     "output_type": "stream",
     "text": [
      "14% of inspections had at least one critical violation.\n"
     ]
    }
   ],
   "source": [
    "critical_violations_percentage = int(100*inspections[inspections['Critical Violation Noticed']].shape[0]/ inspections.shape[0])\n",
    "print('{0}% of inspections had at least one critical violation.'.format(critical_violations_percentage))"
   ]
  },
  {
   "cell_type": "code",
   "execution_count": 91,
   "metadata": {
    "colab": {
     "base_uri": "https://localhost:8080/",
     "height": 34
    },
    "colab_type": "code",
    "id": "Ucrxd8yrYwYy",
    "outputId": "5ba65956-e7d8-4cd9-f5f0-7dc46d42349d"
   },
   "outputs": [
    {
     "name": "stdout",
     "output_type": "stream",
     "text": [
      "26% of inspections had at least one serious violation.\n"
     ]
    }
   ],
   "source": [
    "serious_violations_percentage = int(100*inspections[inspections['Serious Violation Noticed']].shape[0]/ inspections.shape[0])\n",
    "print('{0}% of inspections had at least one serious violation.'.format(serious_violations_percentage))"
   ]
  },
  {
   "cell_type": "code",
   "execution_count": 92,
   "metadata": {
    "colab": {
     "base_uri": "https://localhost:8080/",
     "height": 159
    },
    "colab_type": "code",
    "id": "XkNJ_cDgY4Aw",
    "outputId": "16d2d9e8-f0ef-44d6-e95b-a2ee31b2ca60"
   },
   "outputs": [
    {
     "data": {
      "image/png": "[encoded data removed]",
      "text/plain": [
       "<Figure size 432x288 with 2 Axes>"
      ]
     },
     "metadata": {},
     "output_type": "display_data"
    }
   ],
   "source": [
    "# Plot proportion of critical and serious violations in inspections\n",
    "fig = plt.figure()\n",
    "plt.suptitle('Percentage of inspections having critical or serious violations');\n",
    "\n",
    "startingRadius=1\n",
    "# First donut plot - Plotting proportion of critical violations\n",
    "ax1 = fig.add_subplot(221)\n",
    "critical_violation_donut = [100-critical_violations_percentage, critical_violations_percentage]\n",
    "ax1.text(0.13, startingRadius + 0.17, \"Critical violations: \"+str(critical_violations_percentage)+\"%\", \n",
    "         horizontalalignment='center', verticalalignment='center')\n",
    "ax1.pie(critical_violation_donut, radius=startingRadius, startangle=90, colors=['#fce0de', '#ed5b51'],\n",
    "            wedgeprops={\"edgecolor\": \"white\", 'linewidth': 1})\n",
    "circle = plt.Circle(xy=(0, 0), radius=0.45, facecolor='white')\n",
    "plt.gca().add_artist(circle)\n",
    "\n",
    "# Second donut plot - Plotting proportion of serious violations\n",
    "ax2 = fig.add_subplot(222)\n",
    "ax2.text(0.13, startingRadius + 0.17, \"Serious violations: \"+str(serious_violations_percentage)+\"%\", \n",
    "         horizontalalignment='center', verticalalignment='center')\n",
    "serious_violation_donut = [100-serious_violations_percentage, serious_violations_percentage]\n",
    "ax2.pie(serious_violation_donut, radius=startingRadius, startangle=90, colors=['#fce0de', '#f0776e'],\n",
    "            wedgeprops={\"edgecolor\": \"white\", 'linewidth': 1})\n",
    "circle = plt.Circle(xy=(0, 0), radius=0.45, facecolor='white')\n",
    "plt.gca().add_artist(circle)\n",
    "\n",
    "plt.show()"
   ]
  },
  {
   "cell_type": "markdown",
   "metadata": {
    "colab_type": "text",
    "id": "6nw-SmuR3Rd6"
   },
   "source": [
    "Every 1 out of four inspections found at least one serious violation. Considering the fact that both critical and serious violations are considered harmful to humans' health, these persentages are really not naive!"
   ]
  },
  {
   "cell_type": "markdown",
   "metadata": {
    "colab_type": "text",
    "id": "WsI7B14CeJo5"
   },
   "source": [
    "## Research questions\n",
    "\n",
    "Below we present data analysis for each of the research questions we defined. These analysis leads to initial answers to these questions, we also describe one question we decided to drop (see Question 5). At the end of data analysis for each research question, we briefly describe what will/can be done with regards to the posed question."
   ]
  },
  {
   "cell_type": "markdown",
   "metadata": {
    "colab_type": "text",
    "id": "bR1d2fBDTaLR"
   },
   "source": [
    "### Question 1\n",
    "**What are the most common reasons for a restaurant not passing an inspection?**"
   ]
  },
  {
   "cell_type": "markdown",
   "metadata": {
    "colab_type": "text",
    "id": "ViL3bM7D4Pd9"
   },
   "source": [
    "In this first question we want to explore the most common violations in the inspections that ended in failure. We will use Violation Codes and categories that we previously defined, and then we will do an analysis of most common violations for different communities. As a reminder, because of violation's changes, we will have different analysis for before and after the change."
   ]
  },
  {
   "cell_type": "markdown",
   "metadata": {
    "colab_type": "text",
    "id": "3IccLAW7A0Xn"
   },
   "source": [
    "#### Generalized violations analysis"
   ]
  },
  {
   "cell_type": "code",
   "execution_count": 93,
   "metadata": {
    "colab": {},
    "colab_type": "code",
    "id": "IDwVp-1D7c95"
   },
   "outputs": [],
   "source": [
    "# Focus only on failed inspections\n",
    "failed_inspections_before = inspections_before_change[inspections_before_change['Results'] == 'Fail']\n",
    "failed_inspections_after = inspections_after_change[inspections_after_change['Results'] == 'Fail']"
   ]
  },
  {
   "cell_type": "markdown",
   "metadata": {
    "colab_type": "text",
    "id": "GI5x9gfFBs9c"
   },
   "source": [
    "Apart from grouping violations in 5 categories, we also named all of the validations, both before and after change. This is going to help us in better visualization of the violations."
   ]
  },
  {
   "cell_type": "code",
   "execution_count": 94,
   "metadata": {
    "colab": {
     "base_uri": "https://localhost:8080/",
     "height": 206
    },
    "colab_type": "code",
    "id": "Qcr_2p0dBvky",
    "outputId": "08b03566-29b4-4d11-853d-64be944c8d05"
   },
   "outputs": [
    {
     "data": {
      "text/html": [
       "<div>\n",
       "<style scoped>\n",
       "    .dataframe tbody tr th:only-of-type {\n",
       "        vertical-align: middle;\n",
       "    }\n",
       "\n",
       "    .dataframe tbody tr th {\n",
       "        vertical-align: top;\n",
       "    }\n",
       "\n",
       "    .dataframe thead th {\n",
       "        text-align: right;\n",
       "    }\n",
       "</style>\n",
       "<table border=\"1\" class=\"dataframe\">\n",
       "  <thead>\n",
       "    <tr style=\"text-align: right;\">\n",
       "      <th></th>\n",
       "      <th>Violation code</th>\n",
       "      <th>Violation name</th>\n",
       "    </tr>\n",
       "  </thead>\n",
       "  <tbody>\n",
       "    <tr>\n",
       "      <td>0</td>\n",
       "      <td>1</td>\n",
       "      <td>Approved food sources (1)</td>\n",
       "    </tr>\n",
       "    <tr>\n",
       "      <td>1</td>\n",
       "      <td>2</td>\n",
       "      <td>Proper facilities temperature (2)</td>\n",
       "    </tr>\n",
       "    <tr>\n",
       "      <td>2</td>\n",
       "      <td>3</td>\n",
       "      <td>Proper storage temperature (3)</td>\n",
       "    </tr>\n",
       "    <tr>\n",
       "      <td>3</td>\n",
       "      <td>4</td>\n",
       "      <td>Controlled cross contamination (4)</td>\n",
       "    </tr>\n",
       "    <tr>\n",
       "      <td>4</td>\n",
       "      <td>5</td>\n",
       "      <td>Healthy personnel (5)</td>\n",
       "    </tr>\n",
       "  </tbody>\n",
       "</table>\n",
       "</div>"
      ],
      "text/plain": [
       "   Violation code                      Violation name\n",
       "0               1           Approved food sources (1)\n",
       "1               2   Proper facilities temperature (2)\n",
       "2               3      Proper storage temperature (3)\n",
       "3               4  Controlled cross contamination (4)\n",
       "4               5               Healthy personnel (5)"
      ]
     },
     "execution_count": 94,
     "metadata": {},
     "output_type": "execute_result"
    }
   ],
   "source": [
    "violations_before_change = pd.read_excel(os.path.join(data_folder,'violation_names_before_2018.xlsx'))\n",
    "violations_before_change.head()"
   ]
  },
  {
   "cell_type": "markdown",
   "metadata": {
    "colab_type": "text",
    "id": "719x66v4B1b4"
   },
   "source": [
    "Since we want to focus on the most common reasons for failing an inspection, we want to count how many times each violation occured in inspections that ended in failure."
   ]
  },
  {
   "cell_type": "code",
   "execution_count": 95,
   "metadata": {
    "colab": {
     "base_uri": "https://localhost:8080/",
     "height": 206
    },
    "colab_type": "code",
    "id": "AMJPqtrrB2MF",
    "outputId": "962fea9a-9d0c-4265-8489-1918cdf6fe90"
   },
   "outputs": [
    {
     "data": {
      "text/html": [
       "<div>\n",
       "<style scoped>\n",
       "    .dataframe tbody tr th:only-of-type {\n",
       "        vertical-align: middle;\n",
       "    }\n",
       "\n",
       "    .dataframe tbody tr th {\n",
       "        vertical-align: top;\n",
       "    }\n",
       "\n",
       "    .dataframe thead th {\n",
       "        text-align: right;\n",
       "    }\n",
       "</style>\n",
       "<table border=\"1\" class=\"dataframe\">\n",
       "  <thead>\n",
       "    <tr style=\"text-align: right;\">\n",
       "      <th></th>\n",
       "      <th>Violation code</th>\n",
       "      <th>Violation name</th>\n",
       "      <th># violated</th>\n",
       "    </tr>\n",
       "  </thead>\n",
       "  <tbody>\n",
       "    <tr>\n",
       "      <td>14</td>\n",
       "      <td>15</td>\n",
       "      <td>No re-served food (15)</td>\n",
       "      <td>1</td>\n",
       "    </tr>\n",
       "    <tr>\n",
       "      <td>22</td>\n",
       "      <td>23</td>\n",
       "      <td>Proper dishes cleaning (23)</td>\n",
       "      <td>5</td>\n",
       "    </tr>\n",
       "    <tr>\n",
       "      <td>4</td>\n",
       "      <td>5</td>\n",
       "      <td>Healthy personnel (5)</td>\n",
       "      <td>9</td>\n",
       "    </tr>\n",
       "    <tr>\n",
       "      <td>19</td>\n",
       "      <td>20</td>\n",
       "      <td>Proper garbage disposal - inside (20)</td>\n",
       "      <td>43</td>\n",
       "    </tr>\n",
       "    <tr>\n",
       "      <td>16</td>\n",
       "      <td>17</td>\n",
       "      <td>Proper thawning (17)</td>\n",
       "      <td>54</td>\n",
       "    </tr>\n",
       "  </tbody>\n",
       "</table>\n",
       "</div>"
      ],
      "text/plain": [
       "    Violation code                         Violation name  # violated\n",
       "14              15                 No re-served food (15)           1\n",
       "22              23            Proper dishes cleaning (23)           5\n",
       "4                5                  Healthy personnel (5)           9\n",
       "19              20  Proper garbage disposal - inside (20)          43\n",
       "16              17                   Proper thawning (17)          54"
      ]
     },
     "execution_count": 95,
     "metadata": {},
     "output_type": "execute_result"
    }
   ],
   "source": [
    "# Create list of all violation codes found during failed inspections\n",
    "all_violations_before_change_list = failed_inspections_before['Violation Codes'].values.tolist()\n",
    "all_violations_before_change_list = [item for sublist in all_violations_before_change_list for item in sublist]\n",
    "\n",
    "# Count occurencies of each validation\n",
    "from collections import Counter\n",
    "counted_violations_before_change = Counter(all_violations_before_change_list)\n",
    "counted_violations_before_change = pd.DataFrame.from_dict(counted_violations_before_change, orient='index').reset_index()\n",
    "\n",
    "violations_before_change = violations_before_change.merge(counted_violations_before_change, left_on = 'Violation code', right_on ='index').sort_values(by=0,ascending = True).rename(columns={0:'# violated'}).drop(columns='index')\n",
    "violations_before_change.head()"
   ]
  },
  {
   "cell_type": "markdown",
   "metadata": {
    "colab_type": "text",
    "id": "xNaPQSNpB4vy"
   },
   "source": [
    "Apart from getting the number of violation, we will enrich this data frame with three additional columns: Violation Category, Critical Violation and Serious Violation. Violation Category will be one of the previously mentioned 5 categories that we created. Critical Violation and Serious Violation are boolean valued columns saying whether violation is critical or serious, respectively. As we explained, validation codes 1-14 are critical violations, and 15-29 are serious violations. Note that we won't be able to create those two columns for the violations after change."
   ]
  },
  {
   "cell_type": "code",
   "execution_count": 96,
   "metadata": {
    "colab": {},
    "colab_type": "code",
    "id": "pwn44wqEB-ie"
   },
   "outputs": [],
   "source": [
    "# Function that returns violation category for violations before 1.7.2018.\n",
    "def get_violation_category_before_change(violationCode):\n",
    "    # Definiton of code mappings\n",
    "    food_codes_before = [1, 3, 15, 16, 17, 30]\n",
    "    facility_codes_before = [2, 7, 9, 11, 13, 18, 22, 23, 24, 25, 26, 29, 32, 35, 36, 37, 38, 40, 42, 43]\n",
    "    sanitary_codes_before = [4, 8, 10, 12, 19, 20, 27, 31, 33, 34, 39, 41]\n",
    "    staff_codes_before = [5, 6, 21, 44, 45]\n",
    "    unknown_codes_before = [14, 28, 70]\n",
    "    \n",
    "    if (violationCode in food_codes_before):\n",
    "        return 'Food related violations'\n",
    "    if (violationCode in facility_codes_before):\n",
    "        return 'Facility related violations'\n",
    "    if (violationCode in sanitary_codes_before):\n",
    "        return 'Sanitary related violations'\n",
    "    if (violationCode in staff_codes_before):\n",
    "        return 'Staff related violations'\n",
    "    if (violationCode in unknown_codes_before):\n",
    "        return 'Other'\n",
    "    return None"
   ]
  },
  {
   "cell_type": "code",
   "execution_count": 97,
   "metadata": {
    "colab": {
     "base_uri": "https://localhost:8080/",
     "height": 206
    },
    "colab_type": "code",
    "id": "4aPmfr29CCn8",
    "outputId": "1b3af8f2-c5d6-4ee2-cc08-629a202dfae9"
   },
   "outputs": [
    {
     "data": {
      "text/html": [
       "<div>\n",
       "<style scoped>\n",
       "    .dataframe tbody tr th:only-of-type {\n",
       "        vertical-align: middle;\n",
       "    }\n",
       "\n",
       "    .dataframe tbody tr th {\n",
       "        vertical-align: top;\n",
       "    }\n",
       "\n",
       "    .dataframe thead th {\n",
       "        text-align: right;\n",
       "    }\n",
       "</style>\n",
       "<table border=\"1\" class=\"dataframe\">\n",
       "  <thead>\n",
       "    <tr style=\"text-align: right;\">\n",
       "      <th></th>\n",
       "      <th>Violation code</th>\n",
       "      <th>Violation name</th>\n",
       "      <th># violated</th>\n",
       "      <th>Violation Category</th>\n",
       "      <th>Critical Violation</th>\n",
       "      <th>Serious Violation</th>\n",
       "    </tr>\n",
       "  </thead>\n",
       "  <tbody>\n",
       "    <tr>\n",
       "      <td>33</td>\n",
       "      <td>34</td>\n",
       "      <td>Proper floors maintenance (34)</td>\n",
       "      <td>12399</td>\n",
       "      <td>Sanitary related violations</td>\n",
       "      <td>False</td>\n",
       "      <td>False</td>\n",
       "    </tr>\n",
       "    <tr>\n",
       "      <td>34</td>\n",
       "      <td>35</td>\n",
       "      <td>Walls and ceiling maintenace (35)</td>\n",
       "      <td>11450</td>\n",
       "      <td>Facility related violations</td>\n",
       "      <td>False</td>\n",
       "      <td>False</td>\n",
       "    </tr>\n",
       "    <tr>\n",
       "      <td>32</td>\n",
       "      <td>33</td>\n",
       "      <td>Clean equipement (33)</td>\n",
       "      <td>11316</td>\n",
       "      <td>Sanitary related violations</td>\n",
       "      <td>False</td>\n",
       "      <td>False</td>\n",
       "    </tr>\n",
       "    <tr>\n",
       "      <td>17</td>\n",
       "      <td>18</td>\n",
       "      <td>Areas protected from rodents or insects (18)</td>\n",
       "      <td>10199</td>\n",
       "      <td>Facility related violations</td>\n",
       "      <td>False</td>\n",
       "      <td>True</td>\n",
       "    </tr>\n",
       "    <tr>\n",
       "      <td>31</td>\n",
       "      <td>32</td>\n",
       "      <td>Design and maintenance of food preparation sur...</td>\n",
       "      <td>10097</td>\n",
       "      <td>Facility related violations</td>\n",
       "      <td>False</td>\n",
       "      <td>False</td>\n",
       "    </tr>\n",
       "  </tbody>\n",
       "</table>\n",
       "</div>"
      ],
      "text/plain": [
       "    Violation code                                     Violation name  \\\n",
       "33              34                     Proper floors maintenance (34)   \n",
       "34              35                  Walls and ceiling maintenace (35)   \n",
       "32              33                              Clean equipement (33)   \n",
       "17              18       Areas protected from rodents or insects (18)   \n",
       "31              32  Design and maintenance of food preparation sur...   \n",
       "\n",
       "    # violated           Violation Category  Critical Violation  \\\n",
       "33       12399  Sanitary related violations               False   \n",
       "34       11450  Facility related violations               False   \n",
       "32       11316  Sanitary related violations               False   \n",
       "17       10199  Facility related violations               False   \n",
       "31       10097  Facility related violations               False   \n",
       "\n",
       "    Serious Violation  \n",
       "33              False  \n",
       "34              False  \n",
       "32              False  \n",
       "17               True  \n",
       "31              False  "
      ]
     },
     "execution_count": 97,
     "metadata": {},
     "output_type": "execute_result"
    }
   ],
   "source": [
    "# Create columns - Violation Category, Critical Violation & Serious Violation\n",
    "violations_before_change['Violation Category'] = violations_before_change['Violation code'].apply(lambda x: get_violation_category_before_change(x))\n",
    "violations_before_change['Critical Violation'] = violations_before_change['Violation code'].apply(lambda x: is_critical_violation_before_change([x]))\n",
    "violations_before_change['Serious Violation'] = violations_before_change['Violation code'].apply(lambda x: is_serious_violation_before_change([x]))\n",
    "\n",
    "violations_before_change = violations_before_change.sort_values('# violated', ascending= False)\n",
    "violations_before_change.head()"
   ]
  },
  {
   "cell_type": "markdown",
   "metadata": {
    "colab_type": "text",
    "id": "XB9gAhSbCFaj"
   },
   "source": [
    "Now that we prepared the data for the analysis, we first want to see which violations are the ones that are present in the biggest number of failed inspections. We will plot all the violations names and the corresponding number of violations made, as well as the category to which that violation belongs to."
   ]
  },
  {
   "cell_type": "code",
   "execution_count": 98,
   "metadata": {
    "colab": {
     "base_uri": "https://localhost:8080/",
     "height": 542
    },
    "colab_type": "code",
    "id": "2OpBd2iCCJTa",
    "outputId": "2c332b91-7895-4ec0-9c6b-4c5bd851196d"
   },
   "outputs": [
    {
     "data": {
      "text/html": [
       "\n",
       "        <iframe\n",
       "            width=\"1000\"\n",
       "            height=\"600\"\n",
       "            src=\"violations_failed_before.html\"\n",
       "            frameborder=\"0\"\n",
       "            allowfullscreen\n",
       "        ></iframe>\n",
       "        "
      ],
      "text/plain": [
       "<IPython.lib.display.IFrame at 0x2082d75ba90>"
      ]
     },
     "execution_count": 98,
     "metadata": {},
     "output_type": "execute_result"
    }
   ],
   "source": [
    "# Visualising only 25 most frequent violations\n",
    "top_violations_before_change = violations_before_change.iloc[:25, :].copy()\n",
    "\n",
    "categories = ['Food related violations', 'Facility related violations','Sanitary related violations','Staff related violations','Other']\n",
    "\n",
    "fig = go.Figure()\n",
    "\n",
    "colorscale = [px.colors.sequential.Plasma[0],\n",
    "              px.colors.sequential.Plasma[2],\n",
    "              px.colors.sequential.Plasma[5],\n",
    "              px.colors.sequential.Plasma[7],\n",
    "              px.colors.sequential.Plasma[9]\n",
    "              ]\n",
    "\n",
    "for (category,color) in zip(categories,colorscale):\n",
    "    fig.add_trace(go.Bar(x=top_violations_before_change[top_violations_before_change['Violation Category']==category]['# violated'],\n",
    "                y=top_violations_before_change[top_violations_before_change['Violation Category']==category]['Violation name'],\n",
    "                name=category,\n",
    "                orientation='h',\n",
    "                hovertemplate='%{y}<br>Number of violations: %{x}',\n",
    "                # choose color palette\n",
    "                marker_color=color\n",
    "                ))\n",
    "fig.update_layout(\n",
    "    title={\n",
    "        'text': \"Number of violations for failed inspection result\",\n",
    "        #'y':0.9,\n",
    "        'x':0.5,\n",
    "        'xanchor': 'center',\n",
    "        'yanchor': 'top'},\n",
    "    xaxis_tickfont_size=14,\n",
    "    yaxis=dict(\n",
    "        title='Violation name',\n",
    "        titlefont_size=20,\n",
    "        tickfont_size=12,\n",
    "        dtick= 1,\n",
    "        categoryorder=\"total ascending\"\n",
    "    ),\n",
    "    xaxis_title=\"Number of violations\",\n",
    "    bargap=0.4,\n",
    "    legend=dict(\n",
    "        bgcolor='rgba(255, 255, 255, 0)',\n",
    "        bordercolor='rgba(255, 255, 255, 0)'\n",
    "    ),\n",
    "    template=\"plotly_white\"\n",
    "    #height = 1200,\n",
    "    #width = 1200\n",
    ")\n",
    "plot_offline(fig,\"violations_failed_before.html\")"
   ]
  },
  {
   "cell_type": "markdown",
   "metadata": {
    "colab_type": "text",
    "id": "BmxS8SwPCRLO"
   },
   "source": [
    "We have a winner! Among the failed inspections, **dirty floor was mentioned the most** as one of the violations. Two out of top three violations are related to cleaningness in the restaurant. Interestingly, many restaurants have problems with walls and ceiling constructions. Due to the fact that we created the categories by ourselves and that we are assigning each violation to strictly one category, there could be that some part of ceiling and wall problems is also due to dirtiness apart from construction. \n",
    "\n",
    "It seems that \"most popular violations\" are sanitary and facility related. What suprises is that, even though we are analysing restaurants, there is only one food related violation among the top 10 and it is on 10th place."
   ]
  },
  {
   "cell_type": "markdown",
   "metadata": {
    "colab_type": "text",
    "id": "DhIGpKJdCVZ5"
   },
   "source": [
    "Looking at the top violations in failing, the inadequate floor or ceiling maitenance does not seem so severe. Let's now focus only on critical violations and see what is the most frequent critical violation."
   ]
  },
  {
   "cell_type": "code",
   "execution_count": 99,
   "metadata": {
    "colab": {
     "base_uri": "https://localhost:8080/",
     "height": 542
    },
    "colab_type": "code",
    "id": "FeYqpcAlCUSE",
    "outputId": "b56062ac-9b45-4b42-a42b-0f4e1c25d0ec"
   },
   "outputs": [
    {
     "data": {
      "text/html": [
       "\n",
       "        <iframe\n",
       "            width=\"1000\"\n",
       "            height=\"600\"\n",
       "            src=\"critical_violations_before.html\"\n",
       "            frameborder=\"0\"\n",
       "            allowfullscreen\n",
       "        ></iframe>\n",
       "        "
      ],
      "text/plain": [
       "<IPython.lib.display.IFrame at 0x2082d0b3e10>"
      ]
     },
     "execution_count": 99,
     "metadata": {},
     "output_type": "execute_result"
    }
   ],
   "source": [
    "# Visualize critical violations\n",
    "\n",
    "critical_before_change = violations_before_change[violations_before_change['Critical Violation']]\n",
    "fig = go.Figure()\n",
    "\n",
    "for (category,color) in zip(categories,colorscale):\n",
    "  fig.add_trace(go.Bar(x=critical_before_change[critical_before_change['Violation Category']==category]['# violated'],\n",
    "                y=critical_before_change[critical_before_change['Violation Category']==category]['Violation name'],\n",
    "                name=category,\n",
    "                orientation='h',\n",
    "                hovertemplate='%{y}<br>Number of violations: %{x}',\n",
    "                # choose color palette\n",
    "                marker_color=color\n",
    "                ))\n",
    "fig.update_layout(\n",
    "    title=\"Number of critical violations for failed inspection result\",\n",
    "    xaxis_title=\"Number of violations\",\n",
    "    yaxis_title=\"Critical violation name\",\n",
    "    yaxis_dtick= 1,\n",
    "    # bargap=0.1,\n",
    "    yaxis_categoryorder = \"total ascending\",\n",
    "    template=\"plotly_white\"\n",
    ")\n",
    "plot_offline(fig,\"critical_violations_before.html\")"
   ]
  },
  {
   "cell_type": "markdown",
   "metadata": {
    "colab_type": "text",
    "id": "QXeS9ezeCnXT"
   },
   "source": [
    "When looking at critical violations only, the top violation is related to **proper food storage temperature**. According to the full violation description, it means that potentially hazardous food meets temperature requirements during storage, preparation and service. On second and third place we have facility related violations, and then come the ones related to adequate cleaning of all necessary areas and equipement."
   ]
  },
  {
   "cell_type": "code",
   "execution_count": 100,
   "metadata": {
    "colab": {
     "base_uri": "https://localhost:8080/",
     "height": 542
    },
    "colab_type": "code",
    "id": "qLEwN4uGChfo",
    "outputId": "556d7c1f-778d-4edc-e922-b822907808f4"
   },
   "outputs": [
    {
     "data": {
      "text/html": [
       "\n",
       "        <iframe\n",
       "            width=\"1000\"\n",
       "            height=\"600\"\n",
       "            src=\"serious_violations_before.html\"\n",
       "            frameborder=\"0\"\n",
       "            allowfullscreen\n",
       "        ></iframe>\n",
       "        "
      ],
      "text/plain": [
       "<IPython.lib.display.IFrame at 0x2082cacecc0>"
      ]
     },
     "execution_count": 100,
     "metadata": {},
     "output_type": "execute_result"
    }
   ],
   "source": [
    "# Visualize serious violations\n",
    "\n",
    "serious_before_change = violations_before_change[violations_before_change['Serious Violation']]\n",
    "fig = go.Figure()\n",
    "\n",
    "for (category,color) in zip(categories,colorscale):\n",
    "  fig.add_trace(go.Bar(x=serious_before_change[serious_before_change['Violation Category']==category]['# violated'],\n",
    "                y=serious_before_change[serious_before_change['Violation Category']==category]['Violation name'],\n",
    "                name=category,\n",
    "                orientation='h',\n",
    "                hovertemplate='%{y}<br>Number of violations: %{x}',\n",
    "                # choose color palette\n",
    "                marker_color=color\n",
    "                ))\n",
    "\n",
    "fig.update_layout(\n",
    "    title=\"Number of serious violations for failed inspection result\",\n",
    "    xaxis_title=\"Number of violations\",\n",
    "    yaxis_title=\"Serious violation name\",\n",
    "    yaxis_dtick= 1,\n",
    "    bargap=0.2,\n",
    "    yaxis_categoryorder = \"total ascending\",\n",
    "    template=\"plotly_white\"\n",
    ")\n",
    "plot_offline(fig,\"serious_violations_before.html\")"
   ]
  },
  {
   "cell_type": "markdown",
   "metadata": {
    "colab_type": "text",
    "id": "nmEe5D65CzTr"
   },
   "source": [
    "Among the serious violations, the big problem for restaurants is that they do not have adequate protection from entrance of rodents and insects in the building. Also, many restaurants do not manage to correct serious violations they made, which also brings up the possibility to think about the performance of restaurants on re-inspections, which we will discuss later."
   ]
  },
  {
   "cell_type": "markdown",
   "metadata": {
    "colab_type": "text",
    "id": "-FAEaUHyC3sK"
   },
   "source": [
    "Now, we will do the same analysis for the violations after the change on 1.7.2018."
   ]
  },
  {
   "cell_type": "code",
   "execution_count": 101,
   "metadata": {
    "colab": {
     "base_uri": "https://localhost:8080/",
     "height": 206
    },
    "colab_type": "code",
    "id": "lBLtXHHHCwM7",
    "outputId": "42b73ae9-0046-4d77-bbb5-ef33f9416fcf"
   },
   "outputs": [
    {
     "data": {
      "text/html": [
       "<div>\n",
       "<style scoped>\n",
       "    .dataframe tbody tr th:only-of-type {\n",
       "        vertical-align: middle;\n",
       "    }\n",
       "\n",
       "    .dataframe tbody tr th {\n",
       "        vertical-align: top;\n",
       "    }\n",
       "\n",
       "    .dataframe thead th {\n",
       "        text-align: right;\n",
       "    }\n",
       "</style>\n",
       "<table border=\"1\" class=\"dataframe\">\n",
       "  <thead>\n",
       "    <tr style=\"text-align: right;\">\n",
       "      <th></th>\n",
       "      <th>Violation code</th>\n",
       "      <th>Violation name</th>\n",
       "    </tr>\n",
       "  </thead>\n",
       "  <tbody>\n",
       "    <tr>\n",
       "      <td>0</td>\n",
       "      <td>1</td>\n",
       "      <td>Presence of person in charge (1)</td>\n",
       "    </tr>\n",
       "    <tr>\n",
       "      <td>1</td>\n",
       "      <td>2</td>\n",
       "      <td>Food service sanitation certificate holder (2)</td>\n",
       "    </tr>\n",
       "    <tr>\n",
       "      <td>2</td>\n",
       "      <td>3</td>\n",
       "      <td>Adequate management (3)</td>\n",
       "    </tr>\n",
       "    <tr>\n",
       "      <td>3</td>\n",
       "      <td>5</td>\n",
       "      <td>Procedures for reacting to customer sickness (5)</td>\n",
       "    </tr>\n",
       "    <tr>\n",
       "      <td>4</td>\n",
       "      <td>6</td>\n",
       "      <td>Proper eating, tasting, drinking or tobacco us...</td>\n",
       "    </tr>\n",
       "  </tbody>\n",
       "</table>\n",
       "</div>"
      ],
      "text/plain": [
       "   Violation code                                     Violation name\n",
       "0               1                   Presence of person in charge (1)\n",
       "1               2     Food service sanitation certificate holder (2)\n",
       "2               3                            Adequate management (3)\n",
       "3               5   Procedures for reacting to customer sickness (5)\n",
       "4               6  Proper eating, tasting, drinking or tobacco us..."
      ]
     },
     "execution_count": 101,
     "metadata": {},
     "output_type": "execute_result"
    }
   ],
   "source": [
    "violations_after_change = pd.read_excel(os.path.join(data_folder,'violation_names_after_2018.xlsx'))\n",
    "violations_after_change.head()"
   ]
  },
  {
   "cell_type": "code",
   "execution_count": 102,
   "metadata": {
    "colab": {
     "base_uri": "https://localhost:8080/",
     "height": 206
    },
    "colab_type": "code",
    "id": "YkC-kXhdC8-J",
    "outputId": "32c8dcb5-291d-4532-d860-05011e18b2fc"
   },
   "outputs": [
    {
     "data": {
      "text/html": [
       "<div>\n",
       "<style scoped>\n",
       "    .dataframe tbody tr th:only-of-type {\n",
       "        vertical-align: middle;\n",
       "    }\n",
       "\n",
       "    .dataframe tbody tr th {\n",
       "        vertical-align: top;\n",
       "    }\n",
       "\n",
       "    .dataframe thead th {\n",
       "        text-align: right;\n",
       "    }\n",
       "</style>\n",
       "<table border=\"1\" class=\"dataframe\">\n",
       "  <thead>\n",
       "    <tr style=\"text-align: right;\">\n",
       "      <th></th>\n",
       "      <th>Violation code</th>\n",
       "      <th>Violation name</th>\n",
       "      <th># violated</th>\n",
       "    </tr>\n",
       "  </thead>\n",
       "  <tbody>\n",
       "    <tr>\n",
       "      <td>46</td>\n",
       "      <td>55</td>\n",
       "      <td>Adequate physical facilities (55)</td>\n",
       "      <td>1935</td>\n",
       "    </tr>\n",
       "    <tr>\n",
       "      <td>3</td>\n",
       "      <td>5</td>\n",
       "      <td>Procedures for reacting to customer sickness (5)</td>\n",
       "      <td>1927</td>\n",
       "    </tr>\n",
       "    <tr>\n",
       "      <td>2</td>\n",
       "      <td>3</td>\n",
       "      <td>Adequate management (3)</td>\n",
       "      <td>1891</td>\n",
       "    </tr>\n",
       "    <tr>\n",
       "      <td>49</td>\n",
       "      <td>58</td>\n",
       "      <td>Allergen training (58)</td>\n",
       "      <td>1506</td>\n",
       "    </tr>\n",
       "    <tr>\n",
       "      <td>31</td>\n",
       "      <td>38</td>\n",
       "      <td>No rodents or insects (38)</td>\n",
       "      <td>1387</td>\n",
       "    </tr>\n",
       "  </tbody>\n",
       "</table>\n",
       "</div>"
      ],
      "text/plain": [
       "    Violation code                                    Violation name  \\\n",
       "46              55                 Adequate physical facilities (55)   \n",
       "3                5  Procedures for reacting to customer sickness (5)   \n",
       "2                3                           Adequate management (3)   \n",
       "49              58                            Allergen training (58)   \n",
       "31              38                        No rodents or insects (38)   \n",
       "\n",
       "    # violated  \n",
       "46        1935  \n",
       "3         1927  \n",
       "2         1891  \n",
       "49        1506  \n",
       "31        1387  "
      ]
     },
     "execution_count": 102,
     "metadata": {},
     "output_type": "execute_result"
    }
   ],
   "source": [
    "# Create list of all violation codes found during failed inspections\n",
    "all_violations_after_change_list = failed_inspections_after['Violation Codes'].values.tolist()\n",
    "all_violations_after_change_list = [item for sublist in all_violations_after_change_list for item in sublist]\n",
    "\n",
    "# Count occurencies of each validation\n",
    "counted_violations_after_change = Counter(all_violations_after_change_list)\n",
    "counted_violations_after_change = pd.DataFrame.from_dict(counted_violations_after_change, orient='index').reset_index()\n",
    "\n",
    "violations_after_change = violations_after_change.merge(counted_violations_after_change, left_on = 'Violation code', right_on ='index').sort_values(by=0,ascending = False).rename(columns={0:'# violated'}).drop(columns='index')\n",
    "violations_after_change.head()"
   ]
  },
  {
   "cell_type": "code",
   "execution_count": 103,
   "metadata": {
    "colab": {},
    "colab_type": "code",
    "id": "caqeoyXnC_Kk"
   },
   "outputs": [],
   "source": [
    "# Function that returns violation category for violations before 1.7.2018.\n",
    "def get_violation_category_after_change(violationCode):\n",
    "    # Definiton of code mappings\n",
    "    food_codes_after = [11, 12, 13, 14, 15, 17, 23, 26, 27, 28, 30, 31, 37, 39, 42]\n",
    "    facility_codes_after = [10, 18, 19, 20, 21, 22, 33, 35, 36, 38, 41, 43, 44, 48, 50, 51, 53, 55, 56, 59, 60, 62]\n",
    "    sanitary_codes_after = [2, 8, 16, 40, 45, 46, 47, 49, 52, 54]\n",
    "    staff_codes_after = [1, 3, 7, 9, 25, 57, 58]\n",
    "    unknown_codes_after = [4, 5, 6, 24, 29, 32, 61, 63]\n",
    "    \n",
    "    if (violationCode in food_codes_after):\n",
    "        return 'Food related violations'\n",
    "    if (violationCode in facility_codes_after):\n",
    "        return 'Facility related violations'\n",
    "    if (violationCode in sanitary_codes_after):\n",
    "        return 'Sanitary related violations'\n",
    "    if (violationCode in staff_codes_after):\n",
    "        return 'Staff related violations'\n",
    "    if (violationCode in unknown_codes_after):\n",
    "        return 'Other'\n",
    "    return None"
   ]
  },
  {
   "cell_type": "code",
   "execution_count": 104,
   "metadata": {
    "colab": {
     "base_uri": "https://localhost:8080/",
     "height": 206
    },
    "colab_type": "code",
    "id": "q8Xj8xF0DBmp",
    "outputId": "a9be870e-5e61-4512-f041-e3373ed06dc7"
   },
   "outputs": [
    {
     "data": {
      "text/html": [
       "<div>\n",
       "<style scoped>\n",
       "    .dataframe tbody tr th:only-of-type {\n",
       "        vertical-align: middle;\n",
       "    }\n",
       "\n",
       "    .dataframe tbody tr th {\n",
       "        vertical-align: top;\n",
       "    }\n",
       "\n",
       "    .dataframe thead th {\n",
       "        text-align: right;\n",
       "    }\n",
       "</style>\n",
       "<table border=\"1\" class=\"dataframe\">\n",
       "  <thead>\n",
       "    <tr style=\"text-align: right;\">\n",
       "      <th></th>\n",
       "      <th>Violation code</th>\n",
       "      <th>Violation name</th>\n",
       "      <th># violated</th>\n",
       "      <th>Violation Category</th>\n",
       "    </tr>\n",
       "  </thead>\n",
       "  <tbody>\n",
       "    <tr>\n",
       "      <td>46</td>\n",
       "      <td>55</td>\n",
       "      <td>Adequate physical facilities (55)</td>\n",
       "      <td>1935</td>\n",
       "      <td>Facility related violations</td>\n",
       "    </tr>\n",
       "    <tr>\n",
       "      <td>3</td>\n",
       "      <td>5</td>\n",
       "      <td>Procedures for reacting to customer sickness (5)</td>\n",
       "      <td>1927</td>\n",
       "      <td>Other</td>\n",
       "    </tr>\n",
       "    <tr>\n",
       "      <td>2</td>\n",
       "      <td>3</td>\n",
       "      <td>Adequate management (3)</td>\n",
       "      <td>1891</td>\n",
       "      <td>Staff related violations</td>\n",
       "    </tr>\n",
       "    <tr>\n",
       "      <td>49</td>\n",
       "      <td>58</td>\n",
       "      <td>Allergen training (58)</td>\n",
       "      <td>1506</td>\n",
       "      <td>Staff related violations</td>\n",
       "    </tr>\n",
       "    <tr>\n",
       "      <td>31</td>\n",
       "      <td>38</td>\n",
       "      <td>No rodents or insects (38)</td>\n",
       "      <td>1387</td>\n",
       "      <td>Facility related violations</td>\n",
       "    </tr>\n",
       "  </tbody>\n",
       "</table>\n",
       "</div>"
      ],
      "text/plain": [
       "    Violation code                                    Violation name  \\\n",
       "46              55                 Adequate physical facilities (55)   \n",
       "3                5  Procedures for reacting to customer sickness (5)   \n",
       "2                3                           Adequate management (3)   \n",
       "49              58                            Allergen training (58)   \n",
       "31              38                        No rodents or insects (38)   \n",
       "\n",
       "    # violated           Violation Category  \n",
       "46        1935  Facility related violations  \n",
       "3         1927                        Other  \n",
       "2         1891     Staff related violations  \n",
       "49        1506     Staff related violations  \n",
       "31        1387  Facility related violations  "
      ]
     },
     "execution_count": 104,
     "metadata": {},
     "output_type": "execute_result"
    }
   ],
   "source": [
    "# Create columns - Violation Category, Critical Violation & Serious Violation\n",
    "violations_after_change['Violation Category'] = violations_after_change['Violation code'].apply(lambda x: get_violation_category_after_change(x))\n",
    "violations_after_change.head()"
   ]
  },
  {
   "cell_type": "code",
   "execution_count": 105,
   "metadata": {
    "colab": {
     "base_uri": "https://localhost:8080/",
     "height": 542
    },
    "colab_type": "code",
    "id": "33Mq5JV4DEDl",
    "outputId": "f2d6d57a-cf47-4c7a-ea46-c1bb922c894c"
   },
   "outputs": [
    {
     "data": {
      "text/html": [
       "\n",
       "        <iframe\n",
       "            width=\"1000\"\n",
       "            height=\"600\"\n",
       "            src=\"violations_after_change.html\"\n",
       "            frameborder=\"0\"\n",
       "            allowfullscreen\n",
       "        ></iframe>\n",
       "        "
      ],
      "text/plain": [
       "<IPython.lib.display.IFrame at 0x20830fcdf60>"
      ]
     },
     "execution_count": 105,
     "metadata": {},
     "output_type": "execute_result"
    }
   ],
   "source": [
    "# Visualising only 25 most frequent violations\n",
    "top_violations_after_change = violations_after_change.iloc[0:25,:].copy()\n",
    "\n",
    "categories = ['Food related violations', 'Facility related violations','Sanitary related violations','Staff related violations','Other']\n",
    "\n",
    "fig = go.Figure()\n",
    "\n",
    "\n",
    "colorscale = [px.colors.sequential.Plasma[0],\n",
    "              px.colors.sequential.Plasma[2],\n",
    "              px.colors.sequential.Plasma[5],\n",
    "              px.colors.sequential.Plasma[7],\n",
    "              px.colors.sequential.Plasma[9]\n",
    "              ]\n",
    "              \n",
    "for (category,color) in zip(categories, colorscale):\n",
    "    fig.add_trace(go.Bar(x=top_violations_after_change[top_violations_after_change['Violation Category']==category]['# violated'],\n",
    "                y=top_violations_after_change[top_violations_after_change['Violation Category']==category]['Violation name'],\n",
    "                name=category,\n",
    "                orientation='h',\n",
    "                hovertemplate='%{y}<br>Number of violations: %{x}',\n",
    "                # marker=dict(\n",
    "                # color=px.colors.sequential.Plasma),\n",
    "                # marker={'colorscale': 'Plasma'}\n",
    "                # choose color palette\n",
    "                marker_color=color\n",
    "                        )\n",
    "                )\n",
    "fig.update_layout(\n",
    "    template='plotly_white',\n",
    "    title={\n",
    "        'text': \"Number of violations for failed inspection result\",\n",
    "        #'y':0.9,\n",
    "        'x':0.5,\n",
    "        'xanchor': 'center',\n",
    "        'yanchor': 'top'},\n",
    "    xaxis_tickfont_size=14,\n",
    "    yaxis=dict(\n",
    "        title='Violation name',\n",
    "        titlefont_size=16,\n",
    "        tickfont_size=12,\n",
    "        dtick= 1,\n",
    "        categoryorder=\"total ascending\"\n",
    "    ),\n",
    "    xaxis_title=\"Number of violations\",\n",
    "    bargap=0.4\n",
    ")\n",
    "plot_offline(fig,\"violations_after_change.html\")"
   ]
  },
  {
   "cell_type": "markdown",
   "metadata": {
    "colab_type": "text",
    "id": "kFoWiaJCDPCI"
   },
   "source": [
    "We already mentioned the big differences and stricter criteria after the change date. That can also be noticed in the violations that are made the most. Now for the first time we can see a big impact of **violations related to employees training**. Apparently, many restaurants did not have time do adjust properly to the new regulations and failed in the past year and a half due to inadequate management or lack of allergen training for the staff. Also, the City of Chicago requires defined procedures for many situations that can happen in a restaurant, and one that is the most problematic for restaurants to comply with is **reacting in case of customer sickness.** So be careful and remind yourself of your first aid knowledge, because the restaurant employees apparently cannot help you properly. Of course, when looking at these reasons, we have to take into account that these changed violation list is valid for less than 18 months, so there is smaller amount of inspections which can be analyzed. "
   ]
  },
  {
   "cell_type": "markdown",
   "metadata": {
    "colab_type": "text",
    "id": "90OCkSwWOkqK"
   },
   "source": [
    "#### Visualize most common violations"
   ]
  },
  {
   "cell_type": "markdown",
   "metadata": {
    "colab_type": "text",
    "id": "d3aWwVEnBItB"
   },
   "source": [
    "Below we present the visualizations of the most common violations, both for our generalized categories and original violation codes before and after the change of violations. Following functions are used for aggregations and extracting most common violations per community."
   ]
  },
  {
   "cell_type": "code",
   "execution_count": 106,
   "metadata": {
    "colab": {},
    "colab_type": "code",
    "id": "Ro83M0hTCYZb"
   },
   "outputs": [],
   "source": [
    "# Get violation codes list for each neighbourhood (zip code)\n",
    "def violation_codes_by(data, by_column, violation_column):\n",
    "  return data.groupby(by=by_column)[violation_column].apply(merge_violation_codes)\n",
    "\n",
    "# Find top most common violations in given violations list\n",
    "def most_common_violations(violations, max_violation_code, top=1):\n",
    "  counts, _ = violation_counts(violations, max_violation_code)\n",
    "  return np.argsort(counts)[::-1][:top] + 1  # add one to convert to violation code from index\n",
    "\n",
    "# Find top most common violations in each neighbourhood (zip code)\n",
    "def most_common_violations_by(data, by_column, violation_column, max_violation_code, top=1):\n",
    "  return violation_codes_by(data, by_column, violation_column).apply(most_common_violations, max_violation_code=max_violation_code, top=top)\n",
    "\n",
    "# Merges all violation codes from the column into one flat array\n",
    "def merge_violation_codes(violation_series):\n",
    "  return [code for inspection_violation_codes in violation_series.values for code in inspection_violation_codes]\n",
    "\n",
    "# Creates the histogram for violation codes\n",
    "def violation_counts(violations, max_violation_code):\n",
    "  counts, code_bins = np.histogram(violations, bins=np.arange(1, max_violation_code + 2))\n",
    "  return counts, code_bins\n",
    "\n",
    "# Creates violation codes distribution from the dataframe\n",
    "def violations_distribution(df, violation_column='Violation Codes', max_violation_code=70):\n",
    "  # https://stackoverflow.com/a/38258158\n",
    "  all_codes = merge_violation_codes(df[violation_column])\n",
    "  counts, code_bins = violation_counts(all_codes, max_violation_code)\n",
    "  return code_bins[:-1], counts"
   ]
  },
  {
   "cell_type": "code",
   "execution_count": 107,
   "metadata": {
    "colab": {},
    "colab_type": "code",
    "id": "ObACHQLGPWNi"
   },
   "outputs": [],
   "source": [
    "# For each community get the most common violation regarding original violations and created categories as well as the change in violations\n",
    "by = 'Community'\n",
    "most_common_violations_by_community_before_change = most_common_violations_by(inspections_before_change, by, 'Violation Codes', 70, top=1)\n",
    "most_common_violations_by_community_after_change = most_common_violations_by(inspections_after_change, by, 'Violation Codes', 63, top=1)\n",
    "most_common_generalized_violations_by_community = most_common_violations_by(inspections, by, 'Violation Codes Generalized', 5, top=1)"
   ]
  },
  {
   "cell_type": "code",
   "execution_count": 108,
   "metadata": {
    "colab": {},
    "colab_type": "code",
    "id": "HP92X8iCPbYs"
   },
   "outputs": [],
   "source": [
    "# Comine most common violations into one dataframe\n",
    "most_common = pd.DataFrame(most_common_generalized_violations_by_community) \\\n",
    "    .rename(columns={'Violation Codes Generalized': 'general_most_common'}) \\\n",
    "    .merge(most_common_violations_by_community_before_change, left_index=True, right_index=True) \\\n",
    "    .rename(columns={'Violation Codes': 'before_most_common'}) \\\n",
    "    .merge(most_common_violations_by_community_after_change, left_index=True, right_index=True) \\\n",
    "    .rename(columns={'Violation Codes': 'after_most_common'}) \\\n",
    "    .reset_index()"
   ]
  },
  {
   "cell_type": "code",
   "execution_count": 109,
   "metadata": {
    "colab": {},
    "colab_type": "code",
    "id": "Cs92u09APsoc"
   },
   "outputs": [],
   "source": [
    "# Transform most common general violation to value from list\n",
    "most_common = most_common.explode('general_most_common')\n",
    "most_common['community_name'] = most_common['Community'] # for plotting purposes"
   ]
  },
  {
   "cell_type": "code",
   "execution_count": 110,
   "metadata": {
    "colab": {},
    "colab_type": "code",
    "id": "1j2gRmVBPti4"
   },
   "outputs": [],
   "source": [
    "# Transform violation codes into names\n",
    "def transform_violation_codes_into_names(violation_codes, names_mapping_df):\n",
    "    names_array = [names_mapping_df[names_mapping_df['Violation code'] == code]['Violation name'].values for code in violation_codes]\n",
    "    if len(names_array) > 0:\n",
    "        return ', '.join([names[0] for names in names_array])\n",
    "    else:\n",
    "        return 'None'\n",
    "\n",
    "most_common['before_most_common_names'] = most_common['before_most_common'].apply(transform_violation_codes_into_names, names_mapping_df=violations_before_change)\n",
    "most_common['after_most_common_names'] = most_common['after_most_common'].apply(transform_violation_codes_into_names, names_mapping_df=violations_after_change)"
   ]
  },
  {
   "cell_type": "code",
   "execution_count": 111,
   "metadata": {
    "colab": {},
    "colab_type": "code",
    "id": "5nfgkbB7PwL6"
   },
   "outputs": [],
   "source": [
    "# Create separate dataframes with limitted columns for ploting on maps\n",
    "most_common_before = most_common.copy().drop(columns=['general_most_common', 'after_most_common', 'after_most_common_names']).explode('before_most_common')\n",
    "most_common_after = most_common.copy().drop(columns=['general_most_common', 'before_most_common', 'before_most_common_names']).explode('after_most_common')\n",
    "most_common.drop(columns=['before_most_common', 'after_most_common'], inplace=True)\n",
    "\n",
    "# Reordering columns for plotting purposes (variables interpolation in template)\n",
    "most_common = most_common[['Community', 'general_most_common', 'community_name', 'before_most_common_names', 'after_most_common_names']]"
   ]
  },
  {
   "cell_type": "code",
   "execution_count": 112,
   "metadata": {
    "colab": {},
    "colab_type": "code",
    "id": "ewx1Mt5MQQcf"
   },
   "outputs": [],
   "source": [
    "template = '<b>{}</b><br><b>Before 1/07/2018:</b> {}<br><b>After 1/07/2018:</b> {}'"
   ]
  },
  {
   "cell_type": "code",
   "execution_count": 113,
   "metadata": {
    "colab": {
     "base_uri": "https://localhost:8080/",
     "height": 542
    },
    "colab_type": "code",
    "id": "Ndq61RbfQUAP",
    "outputId": "ce7165bf-ef6f-48eb-900d-d7ea553937e6"
   },
   "outputs": [
    {
     "data": {
      "text/html": [
       "\n",
       "        <iframe\n",
       "            width=\"1000\"\n",
       "            height=\"600\"\n",
       "            src=\"common_violations_community.html\"\n",
       "            frameborder=\"0\"\n",
       "            allowfullscreen\n",
       "        ></iframe>\n",
       "        "
      ],
      "text/plain": [
       "<IPython.lib.display.IFrame at 0x2081f2fc240>"
      ]
     },
     "execution_count": 113,
     "metadata": {},
     "output_type": "execute_result"
    }
   ],
   "source": [
    "figure = plot_map('Most common violations for Chicago communities', \n",
    "  geodata_path=os.path.join(data_folder, 'chicago-community-boundaries.json'), \n",
    "  dataframe=most_common, \n",
    "  key_property='community', key_column='Community', value_column='general_most_common',\n",
    "  template=template,\n",
    "  mapbox_access_token=MAPBOX_ACCESS_TOKEN,\n",
    "  options={}\n",
    ")\n",
    "#figure.show()\n",
    "plot_offline(figure,\"common_violations_community.html\")"
   ]
  },
  {
   "cell_type": "markdown",
   "metadata": {
    "colab_type": "text",
    "id": "XguFHrItvnIJ"
   },
   "source": [
    "The above plot shows that for all of the communities (apart from only the one that is not included in our geojson file for which the data is not displayed) the most common violation belonged to the \"Facility related\" violations. Hovering over the cells one can also inspect the most common original violation for a particular community before and after the change of violations.\n",
    "\n",
    "Below we do separte plots for most common violations before and after the change of violations."
   ]
  },
  {
   "cell_type": "markdown",
   "metadata": {
    "colab_type": "text",
    "id": "SA1q5Tk2Qdj5"
   },
   "source": [
    "**Most common violations per neighborhood visualization (before 1/07/2018)**"
   ]
  },
  {
   "cell_type": "code",
   "execution_count": 114,
   "metadata": {
    "colab": {},
    "colab_type": "code",
    "id": "QXA0gxScQY-F"
   },
   "outputs": [],
   "source": [
    "# https://community.plot.ly/t/colors-for-discrete-ranges-in-heatmaps/7780\n",
    "# Creates a colorscale with discrete steps for plotting given start and end rgb tuples and number of discrete values\n",
    "def make_discrete_colorscale(start, end, n_categories):\n",
    "    rs, gs, bs = start\n",
    "    re, ge, be = end\n",
    "    r, g, b = (re - rs)/(n_categories - 1), (ge - gs)/(n_categories - 1), (be - bs)/(n_categories - 1)\n",
    "    colors = []\n",
    "    for cat in range(n_categories):\n",
    "        for i in range(2):\n",
    "            colors.append([(cat + i) / n_categories, f'rgb({rs + cat*r}, {gs + cat*g}, {bs + cat*b})'])\n",
    "    return colors\n",
    "\n",
    "# Map violation codes to ordered values starting from 0\n",
    "def map_violations_to_discrete_ordered_values(dataframe, mapped_column):\n",
    "    original_values = list(dataframe[mapped_column].unique())\n",
    "    mapped_to = list(range(len(original_values)))\n",
    "    mapping = dict(zip(original_values, mapped_to))  # https://stackoverflow.com/a/209854\n",
    "    dataframe[mapped_column] = dataframe[mapped_column].map(mapping)"
   ]
  },
  {
   "cell_type": "code",
   "execution_count": 115,
   "metadata": {
    "colab": {
     "base_uri": "https://localhost:8080/",
     "height": 542
    },
    "colab_type": "code",
    "id": "VuHgdG3yQoiO",
    "outputId": "6f111096-aecf-49b8-879d-438145d64c2c"
   },
   "outputs": [
    {
     "data": {
      "text/html": [
       "\n",
       "        <iframe\n",
       "            width=\"1000\"\n",
       "            height=\"600\"\n",
       "            src=\"common_violations_community_before.html\"\n",
       "            frameborder=\"0\"\n",
       "            allowfullscreen\n",
       "        ></iframe>\n",
       "        "
      ],
      "text/plain": [
       "<IPython.lib.display.IFrame at 0x20831a75080>"
      ]
     },
     "execution_count": 115,
     "metadata": {},
     "output_type": "execute_result"
    }
   ],
   "source": [
    "map_violations_to_discrete_ordered_values(most_common_before, 'before_most_common')\n",
    "\n",
    "# Plot the map\n",
    "n_categories = len(most_common_before['before_most_common'])\n",
    "template = '<b>{}</b><br>{}'\n",
    "figure = plot_map('Most common violations for Chicago communities before 1/07/2018', \n",
    "  geodata_path=os.path.join(data_folder, 'chicago-community-boundaries.json'), \n",
    "  dataframe=most_common_before, \n",
    "  key_property='community', key_column='Community', value_column='before_most_common',\n",
    "  template=template,\n",
    "  mapbox_access_token=MAPBOX_ACCESS_TOKEN,\n",
    "  options={\n",
    "      'colorscale': make_discrete_colorscale((200, 200, 255), (0, 0, 255), n_categories),\n",
    "      'showscale': False\n",
    "})\n",
    "#figure.show()\n",
    "plot_offline(figure,\"common_violations_community_before.html\")"
   ]
  },
  {
   "cell_type": "markdown",
   "metadata": {
    "colab_type": "text",
    "id": "iNUr0iMrxA3V"
   },
   "source": [
    "On the plot above one can identify, that most of the communities in Chicago have \"Proper floor maintenance\" as the most common violation. There is also a region of 7 communities in the soth-west part of Chicago for which \"Clear equipment\" was the most predominant violation in inspections."
   ]
  },
  {
   "cell_type": "markdown",
   "metadata": {
    "colab_type": "text",
    "id": "V6pCEYqhQsD_"
   },
   "source": [
    "**Most common violations per neighborhood visualization (after 1/07/2018)**"
   ]
  },
  {
   "cell_type": "code",
   "execution_count": 116,
   "metadata": {
    "colab": {
     "base_uri": "https://localhost:8080/",
     "height": 542
    },
    "colab_type": "code",
    "id": "ZlIWsZgqQ2h6",
    "outputId": "105e3e48-4371-4d09-dca7-bc0f3dbf31f1"
   },
   "outputs": [
    {
     "data": {
      "text/html": [
       "\n",
       "        <iframe\n",
       "            width=\"1000\"\n",
       "            height=\"600\"\n",
       "            src=\"common_violations_community_after.html\"\n",
       "            frameborder=\"0\"\n",
       "            allowfullscreen\n",
       "        ></iframe>\n",
       "        "
      ],
      "text/plain": [
       "<IPython.lib.display.IFrame at 0x2082c348080>"
      ]
     },
     "execution_count": 116,
     "metadata": {},
     "output_type": "execute_result"
    }
   ],
   "source": [
    "map_violations_to_discrete_ordered_values(most_common_after, 'after_most_common')\n",
    "\n",
    "# Plot the map\n",
    "n_categories = len(most_common_after['after_most_common'])\n",
    "template = '<b>{}</b><br>{}'\n",
    "figure = plot_map('Most common violations for Chicago communities after 1/07/2018', \n",
    "  geodata_path=os.path.join(data_folder, 'chicago-community-boundaries.json'), \n",
    "  dataframe=most_common_after, \n",
    "  key_property='community', key_column='Community', value_column='after_most_common',\n",
    "  template=template,\n",
    "  mapbox_access_token=MAPBOX_ACCESS_TOKEN,\n",
    "  options={\n",
    "      'colorscale': make_discrete_colorscale((200, 200, 255), (0, 0, 255), n_categories),\n",
    "      'showscale': False\n",
    "})\n",
    "#figure.show()\n",
    "plot_offline(figure,\"common_violations_community_after.html\")"
   ]
  },
  {
   "cell_type": "markdown",
   "metadata": {
    "colab_type": "text",
    "id": "wHOldf5Cxa2Y"
   },
   "source": [
    "After the change of violations there are a lot of communities with \"Procedures for reacting to customer sickness\" as the predominant violated cirterion. There is also a big region of communities in the middle and south bay side area with \"Adequate management\" violation as the most common one. This violation relates to hierarchy and reporting among the personell of the restaurants.\n",
    "\n"
   ]
  },
  {
   "cell_type": "markdown",
   "metadata": {
    "colab_type": "text",
    "id": "LsHq2FrQVi5c"
   },
   "source": [
    "### Question 2\n",
    "**Are there \"safe to eat\" areas or \"dangerous to eat\" areas in Chicago?**"
   ]
  },
  {
   "cell_type": "markdown",
   "metadata": {
    "colab_type": "text",
    "id": "nHh8lvCQP9jW"
   },
   "source": [
    "We decided to explore safety of the community areas using following criteria:\n",
    "\n",
    "1. **Percentage of inspections in which there were observed critical violations** : We consider areas in which restaurants make more critical violations as more dangerous.\n",
    "2. **Percentage of failed inspections**: Naturally, if there are more failures, the area is more dangerous.\n",
    "3. **Percentage of failed re-inspections**: If the restaurants do not correct their own mistakes, that is deffinitely not a safe place to eat\n",
    "4. **Number of inspections of type Complaint or Suspected Food Poisoning**: These inspections imply that users haven't been satisfied with the conditions in the restaurants.\n",
    "5. **Hand-crafted safety score**: This score should take into account all the results of inspections in that area, giving different weight to each Result - failures will decrease the score, passes with conditions increase, but not as much as clear pass etc.\n",
    "\n"
   ]
  },
  {
   "cell_type": "markdown",
   "metadata": {
    "colab_type": "text",
    "id": "WWjGSK5C_3YO"
   },
   "source": [
    "First four criteria we want to explore both by districts and by community areas. Therefore we first prepare dataframes with all necessary information for the analysis."
   ]
  },
  {
   "cell_type": "code",
   "execution_count": 117,
   "metadata": {
    "colab": {},
    "colab_type": "code",
    "id": "MKC7lDZLAH4J"
   },
   "outputs": [],
   "source": [
    "# Function that creates dataframe with all necessary columns for safe-danger analysis, grouping by District or Community Area\n",
    "def create_df_for_group_analysis(groupingColumn):\n",
    "    group = inspections.copy().groupby(groupingColumn)\n",
    "\n",
    "    # Column for total number of inspections\n",
    "    df = group['Inspection ID'].count().rename('Total inspections').to_frame()\n",
    "\n",
    "    # Column for number of inspections with critical violations\n",
    "    df['# ins with critical violation'] = group.apply(lambda x: x[x['Critical Violation Noticed']]['Inspection ID'].count())\n",
    "\n",
    "    # Column for number of failed inspections\n",
    "    df['Failed inspections'] = group['Results'].apply(lambda x: (x=='Fail').sum())\n",
    "\n",
    "    # Column for number of failed re-inspections\n",
    "    re_inspections = inspections[inspections['Re-inspection']].copy()\n",
    "    df['Total re-inspections'] = re_inspections.groupby(groupingColumn).count()['Inspection ID']\n",
    "    df['Failed re-inspections']= re_inspections.groupby(groupingColumn)['Results'].apply(lambda x: (x=='Fail').sum())\n",
    "\n",
    "    # Column for number of complaint/suspected food poisoning inspections\n",
    "    complaint_inspections  = inspections[(inspections['Inspection Type']=='Complaint') | (inspections['Inspection Type']=='Suspected Food Poisoning')].copy()\n",
    "    df['Complaint/SFP inspections'] = complaint_inspections.groupby(groupingColumn)['Inspection ID'].count()\n",
    "\n",
    "    # Column for number of restaurants\n",
    "    df['# restaurants'] = group['License #'].apply(set).apply(len)\n",
    "    df.reset_index(level=0,inplace=True)\n",
    "    return df"
   ]
  },
  {
   "cell_type": "code",
   "execution_count": 118,
   "metadata": {
    "colab": {},
    "colab_type": "code",
    "id": "ZfqeBjccANZ7"
   },
   "outputs": [],
   "source": [
    "district_metrics = create_df_for_group_analysis('District')\n",
    "community_metrics = create_df_for_group_analysis('Community')"
   ]
  },
  {
   "cell_type": "code",
   "execution_count": 119,
   "metadata": {
    "colab": {
     "base_uri": "https://localhost:8080/",
     "height": 177
    },
    "colab_type": "code",
    "id": "maVy0lRBAPw8",
    "outputId": "5362d52d-a575-4c35-b1fa-a733ad9dd60b"
   },
   "outputs": [
    {
     "data": {
      "text/plain": [
       "District                         False\n",
       "Total inspections                False\n",
       "# ins with critical violation    False\n",
       "Failed inspections               False\n",
       "Total re-inspections             False\n",
       "Failed re-inspections            False\n",
       "Complaint/SFP inspections        False\n",
       "# restaurants                    False\n",
       "dtype: bool"
      ]
     },
     "execution_count": 119,
     "metadata": {},
     "output_type": "execute_result"
    }
   ],
   "source": [
    "district_metrics.isna().any()"
   ]
  },
  {
   "cell_type": "code",
   "execution_count": 120,
   "metadata": {
    "colab": {
     "base_uri": "https://localhost:8080/",
     "height": 177
    },
    "colab_type": "code",
    "id": "5fresVcqATXf",
    "outputId": "d90b5632-12c8-40e9-aee8-0389facdd23a"
   },
   "outputs": [
    {
     "data": {
      "text/plain": [
       "Community                        False\n",
       "Total inspections                False\n",
       "# ins with critical violation    False\n",
       "Failed inspections               False\n",
       "Total re-inspections             False\n",
       "Failed re-inspections            False\n",
       "Complaint/SFP inspections         True\n",
       "# restaurants                    False\n",
       "dtype: bool"
      ]
     },
     "execution_count": 120,
     "metadata": {},
     "output_type": "execute_result"
    }
   ],
   "source": [
    "community_metrics.isna().any()"
   ]
  },
  {
   "cell_type": "code",
   "execution_count": 121,
   "metadata": {
    "colab": {
     "base_uri": "https://localhost:8080/",
     "height": 93
    },
    "colab_type": "code",
    "id": "XkhetEPbAcz-",
    "outputId": "b9a6fab2-c6d2-4bbb-fc36-085894e15ac2"
   },
   "outputs": [
    {
     "data": {
      "text/html": [
       "<div>\n",
       "<style scoped>\n",
       "    .dataframe tbody tr th:only-of-type {\n",
       "        vertical-align: middle;\n",
       "    }\n",
       "\n",
       "    .dataframe tbody tr th {\n",
       "        vertical-align: top;\n",
       "    }\n",
       "\n",
       "    .dataframe thead th {\n",
       "        text-align: right;\n",
       "    }\n",
       "</style>\n",
       "<table border=\"1\" class=\"dataframe\">\n",
       "  <thead>\n",
       "    <tr style=\"text-align: right;\">\n",
       "      <th></th>\n",
       "      <th>Community</th>\n",
       "      <th>Total inspections</th>\n",
       "      <th># ins with critical violation</th>\n",
       "      <th>Failed inspections</th>\n",
       "      <th>Total re-inspections</th>\n",
       "      <th>Failed re-inspections</th>\n",
       "      <th>Complaint/SFP inspections</th>\n",
       "      <th># restaurants</th>\n",
       "    </tr>\n",
       "  </thead>\n",
       "  <tbody>\n",
       "    <tr>\n",
       "      <td>55</td>\n",
       "      <td>OAKLAND</td>\n",
       "      <td>14</td>\n",
       "      <td>3</td>\n",
       "      <td>5</td>\n",
       "      <td>5</td>\n",
       "      <td>2</td>\n",
       "      <td>NaN</td>\n",
       "      <td>6</td>\n",
       "    </tr>\n",
       "  </tbody>\n",
       "</table>\n",
       "</div>"
      ],
      "text/plain": [
       "   Community  Total inspections  # ins with critical violation  \\\n",
       "55   OAKLAND                 14                              3   \n",
       "\n",
       "    Failed inspections  Total re-inspections  Failed re-inspections  \\\n",
       "55                   5                     5                      2   \n",
       "\n",
       "    Complaint/SFP inspections  # restaurants  \n",
       "55                        NaN              6  "
      ]
     },
     "execution_count": 121,
     "metadata": {},
     "output_type": "execute_result"
    }
   ],
   "source": [
    "# Check missing values\n",
    "community_metrics[community_metrics['Complaint/SFP inspections'].isna()]"
   ]
  },
  {
   "cell_type": "code",
   "execution_count": 122,
   "metadata": {
    "colab": {
     "base_uri": "https://localhost:8080/",
     "height": 101
    },
    "colab_type": "code",
    "id": "RTQXOTZ3AgqQ",
    "outputId": "9a6e170f-21d3-46ff-f541-6c00e78fa634"
   },
   "outputs": [
    {
     "data": {
      "text/html": [
       "<div>\n",
       "<style scoped>\n",
       "    .dataframe tbody tr th:only-of-type {\n",
       "        vertical-align: middle;\n",
       "    }\n",
       "\n",
       "    .dataframe tbody tr th {\n",
       "        vertical-align: top;\n",
       "    }\n",
       "\n",
       "    .dataframe thead th {\n",
       "        text-align: right;\n",
       "    }\n",
       "</style>\n",
       "<table border=\"1\" class=\"dataframe\">\n",
       "  <thead>\n",
       "    <tr style=\"text-align: right;\">\n",
       "      <th></th>\n",
       "      <th>Inspection ID</th>\n",
       "      <th>DBA Name</th>\n",
       "      <th>AKA Name</th>\n",
       "      <th>License #</th>\n",
       "      <th>Facility Type</th>\n",
       "      <th>Risk</th>\n",
       "      <th>Address</th>\n",
       "      <th>City</th>\n",
       "      <th>State</th>\n",
       "      <th>Zip</th>\n",
       "      <th>...</th>\n",
       "      <th>Latitude</th>\n",
       "      <th>Longitude</th>\n",
       "      <th>Location</th>\n",
       "      <th>Re-inspection</th>\n",
       "      <th>Community</th>\n",
       "      <th>District</th>\n",
       "      <th>Violation Codes</th>\n",
       "      <th>Violation Codes Generalized</th>\n",
       "      <th>Critical Violation Noticed</th>\n",
       "      <th>Serious Violation Noticed</th>\n",
       "    </tr>\n",
       "  </thead>\n",
       "  <tbody>\n",
       "  </tbody>\n",
       "</table>\n",
       "<p>0 rows × 24 columns</p>\n",
       "</div>"
      ],
      "text/plain": [
       "Empty DataFrame\n",
       "Columns: [Inspection ID, DBA Name, AKA Name, License #, Facility Type, Risk, Address, City, State, Zip, Inspection Date, Inspection Type, Results, Violations, Latitude, Longitude, Location, Re-inspection, Community, District, Violation Codes, Violation Codes Generalized, Critical Violation Noticed, Serious Violation Noticed]\n",
       "Index: []\n",
       "\n",
       "[0 rows x 24 columns]"
      ]
     },
     "execution_count": 122,
     "metadata": {},
     "output_type": "execute_result"
    }
   ],
   "source": [
    "# Check if there were Complaints or Suspected Food Poisonings in OAKLAND\n",
    "inspections[(((inspections['Inspection Type']=='Complaint') | (inspections['Inspection Type']=='Suspected Food Poisoning'))&(inspections['Community']=='OAKLAND'))]"
   ]
  },
  {
   "cell_type": "code",
   "execution_count": 123,
   "metadata": {
    "colab": {},
    "colab_type": "code",
    "id": "kRTEFYw-Akj1"
   },
   "outputs": [],
   "source": [
    "# Since there were no complaints, fill with 0\n",
    "community_metrics['Complaint/SFP inspections'] = community_metrics['Complaint/SFP inspections'].fillna(0)"
   ]
  },
  {
   "cell_type": "code",
   "execution_count": 124,
   "metadata": {
    "colab": {
     "base_uri": "https://localhost:8080/",
     "height": 177
    },
    "colab_type": "code",
    "id": "PuCe5mVBAqnk",
    "outputId": "647e2fff-b7f6-4b84-fc41-77a463100943"
   },
   "outputs": [
    {
     "data": {
      "text/plain": [
       "Community                        False\n",
       "Total inspections                False\n",
       "# ins with critical violation    False\n",
       "Failed inspections               False\n",
       "Total re-inspections             False\n",
       "Failed re-inspections            False\n",
       "Complaint/SFP inspections        False\n",
       "# restaurants                    False\n",
       "dtype: bool"
      ]
     },
     "execution_count": 124,
     "metadata": {},
     "output_type": "execute_result"
    }
   ],
   "source": [
    "community_metrics.isna().any()"
   ]
  },
  {
   "cell_type": "code",
   "execution_count": 125,
   "metadata": {
    "colab": {},
    "colab_type": "code",
    "id": "B4t5QXUYAswl"
   },
   "outputs": [],
   "source": [
    "# Function that enriches dataframe with parameters we want to analyze\n",
    "def compute_parameters_for_group_analysis(df):\n",
    "\n",
    "    # Column for percentage of inspections with critical violations\n",
    "    df['% Critical'] = df['# ins with critical violation']/df['Total inspections']*100\n",
    "    \n",
    "    # Column for percentage of failed inspections\n",
    "    df['% Failed'] = df['Failed inspections']/df['Total inspections']*100\n",
    "    \n",
    "    # Column for percentage of failed re-inspections\n",
    "    df['% Re-Failed'] = df['Failed re-inspections']/df['Total re-inspections']*100\n",
    "    \n",
    "    # Column for percentage of failed re-inspections\n",
    "    df['Average complaints/SFP'] = df['Complaint/SFP inspections']/df['# restaurants']\n",
    "    \n",
    "    return df"
   ]
  },
  {
   "cell_type": "code",
   "execution_count": 126,
   "metadata": {
    "colab": {
     "base_uri": "https://localhost:8080/",
     "height": 295
    },
    "colab_type": "code",
    "id": "TFiU2mvbA65w",
    "outputId": "2b6a3e36-7d94-4a5d-fb05-7b6c9c92a180"
   },
   "outputs": [
    {
     "data": {
      "text/html": [
       "<div>\n",
       "<style scoped>\n",
       "    .dataframe tbody tr th:only-of-type {\n",
       "        vertical-align: middle;\n",
       "    }\n",
       "\n",
       "    .dataframe tbody tr th {\n",
       "        vertical-align: top;\n",
       "    }\n",
       "\n",
       "    .dataframe thead th {\n",
       "        text-align: right;\n",
       "    }\n",
       "</style>\n",
       "<table border=\"1\" class=\"dataframe\">\n",
       "  <thead>\n",
       "    <tr style=\"text-align: right;\">\n",
       "      <th></th>\n",
       "      <th>District</th>\n",
       "      <th>Total inspections</th>\n",
       "      <th># ins with critical violation</th>\n",
       "      <th>Failed inspections</th>\n",
       "      <th>Total re-inspections</th>\n",
       "      <th>Failed re-inspections</th>\n",
       "      <th>Complaint/SFP inspections</th>\n",
       "      <th># restaurants</th>\n",
       "      <th>% Critical</th>\n",
       "      <th>% Failed</th>\n",
       "      <th>% Re-Failed</th>\n",
       "      <th>Average complaints/SFP</th>\n",
       "    </tr>\n",
       "  </thead>\n",
       "  <tbody>\n",
       "    <tr>\n",
       "      <td>0</td>\n",
       "      <td>Central</td>\n",
       "      <td>25194</td>\n",
       "      <td>3729</td>\n",
       "      <td>3842</td>\n",
       "      <td>4068</td>\n",
       "      <td>228</td>\n",
       "      <td>4386</td>\n",
       "      <td>4053</td>\n",
       "      <td>14.801143</td>\n",
       "      <td>15.249663</td>\n",
       "      <td>5.604720</td>\n",
       "      <td>1.082161</td>\n",
       "    </tr>\n",
       "    <tr>\n",
       "      <td>1</td>\n",
       "      <td>Far North Side</td>\n",
       "      <td>21943</td>\n",
       "      <td>3384</td>\n",
       "      <td>4426</td>\n",
       "      <td>4516</td>\n",
       "      <td>303</td>\n",
       "      <td>3595</td>\n",
       "      <td>3021</td>\n",
       "      <td>15.421775</td>\n",
       "      <td>20.170442</td>\n",
       "      <td>6.709477</td>\n",
       "      <td>1.190003</td>\n",
       "    </tr>\n",
       "    <tr>\n",
       "      <td>2</td>\n",
       "      <td>Far South Side</td>\n",
       "      <td>4912</td>\n",
       "      <td>684</td>\n",
       "      <td>974</td>\n",
       "      <td>1011</td>\n",
       "      <td>79</td>\n",
       "      <td>1790</td>\n",
       "      <td>743</td>\n",
       "      <td>13.925081</td>\n",
       "      <td>19.828990</td>\n",
       "      <td>7.814045</td>\n",
       "      <td>2.409152</td>\n",
       "    </tr>\n",
       "    <tr>\n",
       "      <td>3</td>\n",
       "      <td>Far Southwest Side</td>\n",
       "      <td>4352</td>\n",
       "      <td>503</td>\n",
       "      <td>788</td>\n",
       "      <td>765</td>\n",
       "      <td>47</td>\n",
       "      <td>1207</td>\n",
       "      <td>645</td>\n",
       "      <td>11.557904</td>\n",
       "      <td>18.106618</td>\n",
       "      <td>6.143791</td>\n",
       "      <td>1.871318</td>\n",
       "    </tr>\n",
       "    <tr>\n",
       "      <td>4</td>\n",
       "      <td>North Side</td>\n",
       "      <td>21077</td>\n",
       "      <td>3030</td>\n",
       "      <td>4036</td>\n",
       "      <td>4128</td>\n",
       "      <td>282</td>\n",
       "      <td>3398</td>\n",
       "      <td>3332</td>\n",
       "      <td>14.375860</td>\n",
       "      <td>19.148835</td>\n",
       "      <td>6.831395</td>\n",
       "      <td>1.019808</td>\n",
       "    </tr>\n",
       "  </tbody>\n",
       "</table>\n",
       "</div>"
      ],
      "text/plain": [
       "             District  Total inspections  # ins with critical violation  \\\n",
       "0             Central              25194                           3729   \n",
       "1      Far North Side              21943                           3384   \n",
       "2      Far South Side               4912                            684   \n",
       "3  Far Southwest Side               4352                            503   \n",
       "4          North Side              21077                           3030   \n",
       "\n",
       "   Failed inspections  Total re-inspections  Failed re-inspections  \\\n",
       "0                3842                  4068                    228   \n",
       "1                4426                  4516                    303   \n",
       "2                 974                  1011                     79   \n",
       "3                 788                   765                     47   \n",
       "4                4036                  4128                    282   \n",
       "\n",
       "   Complaint/SFP inspections  # restaurants  % Critical   % Failed  \\\n",
       "0                       4386           4053   14.801143  15.249663   \n",
       "1                       3595           3021   15.421775  20.170442   \n",
       "2                       1790            743   13.925081  19.828990   \n",
       "3                       1207            645   11.557904  18.106618   \n",
       "4                       3398           3332   14.375860  19.148835   \n",
       "\n",
       "   % Re-Failed  Average complaints/SFP  \n",
       "0     5.604720                1.082161  \n",
       "1     6.709477                1.190003  \n",
       "2     7.814045                2.409152  \n",
       "3     6.143791                1.871318  \n",
       "4     6.831395                1.019808  "
      ]
     },
     "execution_count": 126,
     "metadata": {},
     "output_type": "execute_result"
    }
   ],
   "source": [
    "district_metrics = compute_parameters_for_group_analysis(district_metrics)\n",
    "district_metrics.head()"
   ]
  },
  {
   "cell_type": "code",
   "execution_count": 127,
   "metadata": {
    "colab": {
     "base_uri": "https://localhost:8080/",
     "height": 295
    },
    "colab_type": "code",
    "id": "5wt2gwa_A9kN",
    "outputId": "1b64ca9b-cbe1-4b0f-f446-d7567d1db661"
   },
   "outputs": [
    {
     "data": {
      "text/html": [
       "<div>\n",
       "<style scoped>\n",
       "    .dataframe tbody tr th:only-of-type {\n",
       "        vertical-align: middle;\n",
       "    }\n",
       "\n",
       "    .dataframe tbody tr th {\n",
       "        vertical-align: top;\n",
       "    }\n",
       "\n",
       "    .dataframe thead th {\n",
       "        text-align: right;\n",
       "    }\n",
       "</style>\n",
       "<table border=\"1\" class=\"dataframe\">\n",
       "  <thead>\n",
       "    <tr style=\"text-align: right;\">\n",
       "      <th></th>\n",
       "      <th>Community</th>\n",
       "      <th>Total inspections</th>\n",
       "      <th># ins with critical violation</th>\n",
       "      <th>Failed inspections</th>\n",
       "      <th>Total re-inspections</th>\n",
       "      <th>Failed re-inspections</th>\n",
       "      <th>Complaint/SFP inspections</th>\n",
       "      <th># restaurants</th>\n",
       "      <th>% Critical</th>\n",
       "      <th>% Failed</th>\n",
       "      <th>% Re-Failed</th>\n",
       "      <th>Average complaints/SFP</th>\n",
       "    </tr>\n",
       "  </thead>\n",
       "  <tbody>\n",
       "    <tr>\n",
       "      <td>0</td>\n",
       "      <td>ALBANY PARK</td>\n",
       "      <td>2274</td>\n",
       "      <td>305</td>\n",
       "      <td>485</td>\n",
       "      <td>493</td>\n",
       "      <td>44</td>\n",
       "      <td>313.0</td>\n",
       "      <td>367</td>\n",
       "      <td>13.412489</td>\n",
       "      <td>21.328056</td>\n",
       "      <td>8.924949</td>\n",
       "      <td>0.852861</td>\n",
       "    </tr>\n",
       "    <tr>\n",
       "      <td>1</td>\n",
       "      <td>ARCHER HEIGHTS</td>\n",
       "      <td>676</td>\n",
       "      <td>79</td>\n",
       "      <td>123</td>\n",
       "      <td>125</td>\n",
       "      <td>7</td>\n",
       "      <td>81.0</td>\n",
       "      <td>108</td>\n",
       "      <td>11.686391</td>\n",
       "      <td>18.195266</td>\n",
       "      <td>5.600000</td>\n",
       "      <td>0.750000</td>\n",
       "    </tr>\n",
       "    <tr>\n",
       "      <td>2</td>\n",
       "      <td>ARMOUR SQUARE</td>\n",
       "      <td>2050</td>\n",
       "      <td>361</td>\n",
       "      <td>500</td>\n",
       "      <td>506</td>\n",
       "      <td>53</td>\n",
       "      <td>521.0</td>\n",
       "      <td>284</td>\n",
       "      <td>17.609756</td>\n",
       "      <td>24.390244</td>\n",
       "      <td>10.474308</td>\n",
       "      <td>1.834507</td>\n",
       "    </tr>\n",
       "    <tr>\n",
       "      <td>3</td>\n",
       "      <td>ASHBURN</td>\n",
       "      <td>896</td>\n",
       "      <td>91</td>\n",
       "      <td>122</td>\n",
       "      <td>121</td>\n",
       "      <td>6</td>\n",
       "      <td>235.0</td>\n",
       "      <td>135</td>\n",
       "      <td>10.156250</td>\n",
       "      <td>13.616071</td>\n",
       "      <td>4.958678</td>\n",
       "      <td>1.740741</td>\n",
       "    </tr>\n",
       "    <tr>\n",
       "      <td>4</td>\n",
       "      <td>AUBURN GRESHAM</td>\n",
       "      <td>1086</td>\n",
       "      <td>140</td>\n",
       "      <td>245</td>\n",
       "      <td>235</td>\n",
       "      <td>21</td>\n",
       "      <td>381.0</td>\n",
       "      <td>170</td>\n",
       "      <td>12.891344</td>\n",
       "      <td>22.559853</td>\n",
       "      <td>8.936170</td>\n",
       "      <td>2.241176</td>\n",
       "    </tr>\n",
       "  </tbody>\n",
       "</table>\n",
       "</div>"
      ],
      "text/plain": [
       "        Community  Total inspections  # ins with critical violation  \\\n",
       "0     ALBANY PARK               2274                            305   \n",
       "1  ARCHER HEIGHTS                676                             79   \n",
       "2   ARMOUR SQUARE               2050                            361   \n",
       "3         ASHBURN                896                             91   \n",
       "4  AUBURN GRESHAM               1086                            140   \n",
       "\n",
       "   Failed inspections  Total re-inspections  Failed re-inspections  \\\n",
       "0                 485                   493                     44   \n",
       "1                 123                   125                      7   \n",
       "2                 500                   506                     53   \n",
       "3                 122                   121                      6   \n",
       "4                 245                   235                     21   \n",
       "\n",
       "   Complaint/SFP inspections  # restaurants  % Critical   % Failed  \\\n",
       "0                      313.0            367   13.412489  21.328056   \n",
       "1                       81.0            108   11.686391  18.195266   \n",
       "2                      521.0            284   17.609756  24.390244   \n",
       "3                      235.0            135   10.156250  13.616071   \n",
       "4                      381.0            170   12.891344  22.559853   \n",
       "\n",
       "   % Re-Failed  Average complaints/SFP  \n",
       "0     8.924949                0.852861  \n",
       "1     5.600000                0.750000  \n",
       "2    10.474308                1.834507  \n",
       "3     4.958678                1.740741  \n",
       "4     8.936170                2.241176  "
      ]
     },
     "execution_count": 127,
     "metadata": {},
     "output_type": "execute_result"
    }
   ],
   "source": [
    "community_metrics = compute_parameters_for_group_analysis(community_metrics)\n",
    "community_metrics.head()"
   ]
  },
  {
   "cell_type": "code",
   "execution_count": 128,
   "metadata": {
    "colab": {},
    "colab_type": "code",
    "id": "RRPBrbfYA_40"
   },
   "outputs": [],
   "source": [
    "# Function that plots map divided into districts of communities (grouped_by) by using value from value_column\n",
    "def plot_by_criteria(grouped_by, df, key_column, value_column, chart_name, options):\n",
    "    \n",
    "    # Drop unused columns\n",
    "    columns = df.columns.values\n",
    "    used_columns = set([key_column, value_column])\n",
    "    dropped_columns = [column for column in columns if column not in used_columns]\n",
    "    dataframe = df.drop(columns=dropped_columns)\n",
    "    \n",
    "    # Duplicate key and value columns for plotting with interpolated variables on hover\n",
    "    dataframe[grouped_by] = dataframe[key_column]\n",
    "    dataframe['value'] = dataframe[value_column]\n",
    "\n",
    "    # Plot the map\n",
    "    geodata_filename = f'chicago-{grouped_by}-boundaries.json'  # TODO: maybe rename the communities file\n",
    "    return plot_map(title=chart_name, geodata_path=os.path.join(data_folder, geodata_filename),\n",
    "             dataframe=dataframe, key_property=grouped_by, key_column=key_column,\n",
    "             value_column=value_column,\n",
    "             template='<b>{}</b>: {}',\n",
    "             mapbox_access_token=MAPBOX_ACCESS_TOKEN,\n",
    "             options=options)"
   ]
  },
  {
   "cell_type": "markdown",
   "metadata": {
    "colab_type": "text",
    "id": "EkZprGpQSiEM"
   },
   "source": [
    "#### Analysis by critical violations"
   ]
  },
  {
   "cell_type": "markdown",
   "metadata": {
    "colab_type": "text",
    "id": "avlk3N_OSnJH"
   },
   "source": [
    "As we previously discussed, not all violations are the same, and the most severe ones are critical violations. Therefore, if there are many inspections in which they were discovered, the area is considered more dangerous."
   ]
  },
  {
   "cell_type": "code",
   "execution_count": 129,
   "metadata": {
    "colab": {
     "base_uri": "https://localhost:8080/",
     "height": 542
    },
    "colab_type": "code",
    "id": "nc4CqW2fBWUC",
    "outputId": "aae536e1-3d09-466c-c69d-a84ddaa6f414"
   },
   "outputs": [
    {
     "data": {
      "text/html": [
       "\n",
       "        <iframe\n",
       "            width=\"1000\"\n",
       "            height=\"600\"\n",
       "            src=\"sd_critical_district.html\"\n",
       "            frameborder=\"0\"\n",
       "            allowfullscreen\n",
       "        ></iframe>\n",
       "        "
      ],
      "text/plain": [
       "<IPython.lib.display.IFrame at 0x2083145ebe0>"
      ]
     },
     "execution_count": 129,
     "metadata": {},
     "output_type": "execute_result"
    }
   ],
   "source": [
    "options = {\n",
    "    'colorscale': 'Reds',\n",
    "    'colorbar': {\n",
    "        'title': 'Percentage',\n",
    "        'ticksuffix': '%'\n",
    "    }\n",
    "}\n",
    "figure = plot_by_criteria('district', district_metrics, 'District', '% Critical', 'Percentage of inspections with critical violations per district', options)\n",
    "#figure.show()\n",
    "plot_offline(figure,\"sd_critical_district.html\")"
   ]
  },
  {
   "cell_type": "markdown",
   "metadata": {
    "colab_type": "text",
    "id": "obGUXLJJmOoY"
   },
   "source": [
    "By looking at districts, we can see that South Side restaurants make the most critical violations, where Northwest side is the safest district considering this criteria."
   ]
  },
  {
   "cell_type": "code",
   "execution_count": 130,
   "metadata": {
    "colab": {
     "base_uri": "https://localhost:8080/",
     "height": 542
    },
    "colab_type": "code",
    "id": "xFQmWSz6BT0C",
    "outputId": "b7d23de2-ff53-4171-ae1a-679373a873ea"
   },
   "outputs": [
    {
     "data": {
      "text/html": [
       "\n",
       "        <iframe\n",
       "            width=\"1000\"\n",
       "            height=\"600\"\n",
       "            src=\"sd_critical_area.html\"\n",
       "            frameborder=\"0\"\n",
       "            allowfullscreen\n",
       "        ></iframe>\n",
       "        "
      ],
      "text/plain": [
       "<IPython.lib.display.IFrame at 0x2082c3bc3c8>"
      ]
     },
     "execution_count": 130,
     "metadata": {},
     "output_type": "execute_result"
    }
   ],
   "source": [
    "figure = plot_by_criteria('community', community_metrics, 'Community', '% Critical', 'Percentage of inspections with critical violations per community', options)\n",
    "#figure.show()\n",
    "plot_offline(figure,\"sd_critical_area.html\")"
   ]
  },
  {
   "cell_type": "markdown",
   "metadata": {
    "colab_type": "text",
    "id": "F5KoZjIdU-iN"
   },
   "source": [
    "If we take a closer look, Washington park restaurants on average make critical violation every fourth inspection. Oakland in South Side and Uptown in Far North Side are also highly ranked and can get a title of dangerous areas."
   ]
  },
  {
   "cell_type": "markdown",
   "metadata": {
    "colab_type": "text",
    "id": "hTide4EPL_yx"
   },
   "source": [
    "#### Analysis by failures"
   ]
  },
  {
   "cell_type": "markdown",
   "metadata": {
    "colab_type": "text",
    "id": "w8PKV4nhMD8O"
   },
   "source": [
    "If the proportion of failures among total inspections is higher for some areas then for others, we consider them more dangerous areas."
   ]
  },
  {
   "cell_type": "code",
   "execution_count": 131,
   "metadata": {
    "colab": {
     "base_uri": "https://localhost:8080/",
     "height": 542
    },
    "colab_type": "code",
    "id": "qIzI2-_jBwBU",
    "outputId": "4bb08302-1e91-4c44-f266-a3e61946c140"
   },
   "outputs": [
    {
     "data": {
      "text/html": [
       "\n",
       "        <iframe\n",
       "            width=\"1000\"\n",
       "            height=\"600\"\n",
       "            src=\"sd_failures_district.html\"\n",
       "            frameborder=\"0\"\n",
       "            allowfullscreen\n",
       "        ></iframe>\n",
       "        "
      ],
      "text/plain": [
       "<IPython.lib.display.IFrame at 0x208315a0f28>"
      ]
     },
     "execution_count": 131,
     "metadata": {},
     "output_type": "execute_result"
    }
   ],
   "source": [
    "figure = plot_by_criteria('district', district_metrics, 'District', '% Failed','Percentage of failed inspections per district', options)\n",
    "#figure.show()\n",
    "plot_offline(figure,\"sd_failures_district.html\")"
   ]
  },
  {
   "cell_type": "markdown",
   "metadata": {
    "colab_type": "text",
    "id": "4oKXbLvkPn2N"
   },
   "source": [
    "South Side is really leading in number of failures. Almost every 4th inspection ended in failure! City centre seems to have the least problems with failures."
   ]
  },
  {
   "cell_type": "code",
   "execution_count": 132,
   "metadata": {
    "colab": {
     "base_uri": "https://localhost:8080/",
     "height": 542
    },
    "colab_type": "code",
    "id": "Kbn81HcbB4GN",
    "outputId": "7474cd7b-81fa-4472-ddd0-f0c65ba5439e"
   },
   "outputs": [
    {
     "data": {
      "text/html": [
       "\n",
       "        <iframe\n",
       "            width=\"1000\"\n",
       "            height=\"600\"\n",
       "            src=\"sd_failures_area.html\"\n",
       "            frameborder=\"0\"\n",
       "            allowfullscreen\n",
       "        ></iframe>\n",
       "        "
      ],
      "text/plain": [
       "<IPython.lib.display.IFrame at 0x2082d443828>"
      ]
     },
     "execution_count": 132,
     "metadata": {},
     "output_type": "execute_result"
    }
   ],
   "source": [
    "figure = plot_by_criteria('community', community_metrics, 'Community', '% Failed','Percentage of failed inspections per community area', options)\n",
    "#figure.show()\n",
    "plot_offline(figure,\"sd_failures_area.html\")"
   ]
  },
  {
   "cell_type": "markdown",
   "metadata": {
    "colab_type": "text",
    "id": "yXjtxWPnRNWL"
   },
   "source": [
    "We can now clearly see that the source for such bad results of South Side are Oakland and Washington Park. Every third inspection in these community areas is a failed one. City center and Airports are pretty safe, as well as community areas in Far Southeast side."
   ]
  },
  {
   "cell_type": "markdown",
   "metadata": {
    "colab_type": "text",
    "id": "E0_-36jnkprL"
   },
   "source": [
    "#### Analysis by failed re-inspections"
   ]
  },
  {
   "cell_type": "code",
   "execution_count": 133,
   "metadata": {
    "colab": {
     "base_uri": "https://localhost:8080/",
     "height": 542
    },
    "colab_type": "code",
    "id": "XkHUZqGsCDzY",
    "outputId": "bdb00a5e-64c9-4d23-ebdc-93251b02cba3"
   },
   "outputs": [
    {
     "data": {
      "text/html": [
       "\n",
       "        <iframe\n",
       "            width=\"1000\"\n",
       "            height=\"600\"\n",
       "            src=\"sd_reinspection_failed_district.html\"\n",
       "            frameborder=\"0\"\n",
       "            allowfullscreen\n",
       "        ></iframe>\n",
       "        "
      ],
      "text/plain": [
       "<IPython.lib.display.IFrame at 0x2082d9f8fd0>"
      ]
     },
     "execution_count": 133,
     "metadata": {},
     "output_type": "execute_result"
    }
   ],
   "source": [
    "figure = plot_by_criteria('district', district_metrics, 'District', '% Re-Failed','Percentage of failed re-inspections per district', options)\n",
    "#figure.show()\n",
    "plot_offline(figure,\"sd_reinspection_failed_district.html\")"
   ]
  },
  {
   "cell_type": "markdown",
   "metadata": {
    "colab_type": "text",
    "id": "Ux2tsZYJm56v"
   },
   "source": [
    "Again, worst performing district is South Side."
   ]
  },
  {
   "cell_type": "code",
   "execution_count": 134,
   "metadata": {
    "colab": {
     "base_uri": "https://localhost:8080/",
     "height": 542
    },
    "colab_type": "code",
    "id": "FUYz4dCdCLLp",
    "outputId": "8509b8df-e2ba-458e-fbff-a9d21bebed77"
   },
   "outputs": [
    {
     "data": {
      "text/html": [
       "\n",
       "        <iframe\n",
       "            width=\"1000\"\n",
       "            height=\"600\"\n",
       "            src=\"sd_reinspection_failed_district.html\"\n",
       "            frameborder=\"0\"\n",
       "            allowfullscreen\n",
       "        ></iframe>\n",
       "        "
      ],
      "text/plain": [
       "<IPython.lib.display.IFrame at 0x2082bc600f0>"
      ]
     },
     "execution_count": 134,
     "metadata": {},
     "output_type": "execute_result"
    }
   ],
   "source": [
    "figure = plot_by_criteria('community', community_metrics, 'Community', '% Re-Failed', 'Percentage of failed re-inspections per community area', options)\n",
    "#figure.show()\n",
    "plot_offline(figure,\"sd_reinspection_failed_district.html\")"
   ]
  },
  {
   "cell_type": "markdown",
   "metadata": {
    "colab_type": "text",
    "id": "FUhGKjX9CI1k"
   },
   "source": [
    "With 40% of failed-reinspections, Oakland deffinitely deserves to be avoided when choosing restaurants."
   ]
  },
  {
   "cell_type": "markdown",
   "metadata": {
    "colab_type": "text",
    "id": "MmIIrul8CQkN"
   },
   "source": [
    "#### Analysis by Complaints/Suspected Food Poisoning"
   ]
  },
  {
   "cell_type": "code",
   "execution_count": 135,
   "metadata": {
    "colab": {
     "base_uri": "https://localhost:8080/",
     "height": 542
    },
    "colab_type": "code",
    "id": "g69b0QtCCYrb",
    "outputId": "b6d43c97-56a0-467c-fbe1-79c497ac2454"
   },
   "outputs": [
    {
     "data": {
      "text/html": [
       "\n",
       "        <iframe\n",
       "            width=\"1000\"\n",
       "            height=\"600\"\n",
       "            src=\"sd_complaint_district.html\"\n",
       "            frameborder=\"0\"\n",
       "            allowfullscreen\n",
       "        ></iframe>\n",
       "        "
      ],
      "text/plain": [
       "<IPython.lib.display.IFrame at 0x2082c45f438>"
      ]
     },
     "execution_count": 135,
     "metadata": {},
     "output_type": "execute_result"
    }
   ],
   "source": [
    "options = {\n",
    "    'colorscale': 'Reds',\n",
    "    'colorbar': {\n",
    "        'title': 'Avg. no. of complaints'\n",
    "    }\n",
    "}\n",
    "figure = plot_by_criteria('district', district_metrics,'District', 'Average complaints/SFP',' Average number of complaint or suspected food poisioning inspections per restaurant per district', options)\n",
    "#figure.show()\n",
    "plot_offline(figure,\"sd_complaint_district.html\")"
   ]
  },
  {
   "cell_type": "markdown",
   "metadata": {
    "colab_type": "text",
    "id": "bf2eYcmBCrN8"
   },
   "source": [
    "We can clearly see that South is deffinitely more problematic than North."
   ]
  },
  {
   "cell_type": "code",
   "execution_count": 136,
   "metadata": {
    "colab": {
     "base_uri": "https://localhost:8080/",
     "height": 542
    },
    "colab_type": "code",
    "id": "wDTA86ulCxpO",
    "outputId": "e12605d7-d231-4cee-c9a0-ebfbd650544d"
   },
   "outputs": [
    {
     "data": {
      "text/html": [
       "\n",
       "        <iframe\n",
       "            width=\"1000\"\n",
       "            height=\"600\"\n",
       "            src=\"sd_complaint_community.html\"\n",
       "            frameborder=\"0\"\n",
       "            allowfullscreen\n",
       "        ></iframe>\n",
       "        "
      ],
      "text/plain": [
       "<IPython.lib.display.IFrame at 0x208311b04a8>"
      ]
     },
     "execution_count": 136,
     "metadata": {},
     "output_type": "execute_result"
    }
   ],
   "source": [
    "figure = plot_by_criteria('community', community_metrics, 'Community', 'Average complaints/SFP',' Average number of complaint or suspected food poisioning inspections per restaurant per community area', options)\n",
    "#figure.show()\n",
    "plot_offline(figure,\"sd_complaint_community.html\")"
   ]
  },
  {
   "cell_type": "markdown",
   "metadata": {
    "colab_type": "text",
    "id": "mE2k4XOWDBAO"
   },
   "source": [
    "Chatham and Calumet Heights have on average around 3.5 complaints per restaurant. What is really interesting that Oakland, previously considered as food-dangerous area, didn't have any complaint inspection in the previous ten years!"
   ]
  },
  {
   "cell_type": "markdown",
   "metadata": {
    "colab_type": "text",
    "id": "YIj3eUw-P6dE"
   },
   "source": [
    "#### Analysis by Safety Score"
   ]
  },
  {
   "cell_type": "markdown",
   "metadata": {
    "colab_type": "text",
    "id": "ntndFY8QMp7O"
   },
   "source": [
    "As a last criteria for measuring whether neighborhood is \"safe to eat\" or \"dangerous to eat\", we will take into account the aggregate results of inspections for the restaurants in that area."
   ]
  },
  {
   "cell_type": "code",
   "execution_count": 137,
   "metadata": {
    "colab": {
     "base_uri": "https://localhost:8080/",
     "height": 223
    },
    "colab_type": "code",
    "id": "fmzM88SQOLd5",
    "outputId": "ed27db27-fab8-45f7-d749-fee276c9c393"
   },
   "outputs": [
    {
     "data": {
      "text/html": [
       "<div>\n",
       "<style scoped>\n",
       "    .dataframe tbody tr th:only-of-type {\n",
       "        vertical-align: middle;\n",
       "    }\n",
       "\n",
       "    .dataframe tbody tr th {\n",
       "        vertical-align: top;\n",
       "    }\n",
       "\n",
       "    .dataframe thead th {\n",
       "        text-align: right;\n",
       "    }\n",
       "</style>\n",
       "<table border=\"1\" class=\"dataframe\">\n",
       "  <thead>\n",
       "    <tr style=\"text-align: right;\">\n",
       "      <th>Results</th>\n",
       "      <th>Business Not Located</th>\n",
       "      <th>Fail</th>\n",
       "      <th>No Entry</th>\n",
       "      <th>Not Ready</th>\n",
       "      <th>Out of Business</th>\n",
       "      <th>Pass</th>\n",
       "      <th>Pass w/ Conditions</th>\n",
       "    </tr>\n",
       "    <tr>\n",
       "      <th>Community</th>\n",
       "      <th></th>\n",
       "      <th></th>\n",
       "      <th></th>\n",
       "      <th></th>\n",
       "      <th></th>\n",
       "      <th></th>\n",
       "      <th></th>\n",
       "    </tr>\n",
       "  </thead>\n",
       "  <tbody>\n",
       "    <tr>\n",
       "      <td>ALBANY PARK</td>\n",
       "      <td>0</td>\n",
       "      <td>485</td>\n",
       "      <td>103</td>\n",
       "      <td>27</td>\n",
       "      <td>211</td>\n",
       "      <td>1128</td>\n",
       "      <td>320</td>\n",
       "    </tr>\n",
       "    <tr>\n",
       "      <td>ARCHER HEIGHTS</td>\n",
       "      <td>0</td>\n",
       "      <td>123</td>\n",
       "      <td>22</td>\n",
       "      <td>8</td>\n",
       "      <td>49</td>\n",
       "      <td>368</td>\n",
       "      <td>106</td>\n",
       "    </tr>\n",
       "    <tr>\n",
       "      <td>ARMOUR SQUARE</td>\n",
       "      <td>0</td>\n",
       "      <td>500</td>\n",
       "      <td>40</td>\n",
       "      <td>14</td>\n",
       "      <td>129</td>\n",
       "      <td>1079</td>\n",
       "      <td>288</td>\n",
       "    </tr>\n",
       "    <tr>\n",
       "      <td>ASHBURN</td>\n",
       "      <td>0</td>\n",
       "      <td>122</td>\n",
       "      <td>21</td>\n",
       "      <td>6</td>\n",
       "      <td>68</td>\n",
       "      <td>542</td>\n",
       "      <td>137</td>\n",
       "    </tr>\n",
       "    <tr>\n",
       "      <td>AUBURN GRESHAM</td>\n",
       "      <td>0</td>\n",
       "      <td>245</td>\n",
       "      <td>45</td>\n",
       "      <td>13</td>\n",
       "      <td>106</td>\n",
       "      <td>537</td>\n",
       "      <td>140</td>\n",
       "    </tr>\n",
       "  </tbody>\n",
       "</table>\n",
       "</div>"
      ],
      "text/plain": [
       "Results         Business Not Located  Fail  No Entry  Not Ready  \\\n",
       "Community                                                         \n",
       "ALBANY PARK                        0   485       103         27   \n",
       "ARCHER HEIGHTS                     0   123        22          8   \n",
       "ARMOUR SQUARE                      0   500        40         14   \n",
       "ASHBURN                            0   122        21          6   \n",
       "AUBURN GRESHAM                     0   245        45         13   \n",
       "\n",
       "Results         Out of Business  Pass  Pass w/ Conditions  \n",
       "Community                                                  \n",
       "ALBANY PARK                 211  1128                 320  \n",
       "ARCHER HEIGHTS               49   368                 106  \n",
       "ARMOUR SQUARE               129  1079                 288  \n",
       "ASHBURN                      68   542                 137  \n",
       "AUBURN GRESHAM              106   537                 140  "
      ]
     },
     "execution_count": 137,
     "metadata": {},
     "output_type": "execute_result"
    }
   ],
   "source": [
    "# Get contigency table\n",
    "inspections_scores_by_area = inspections.groupby(['Community','Results']).size().unstack('Results', fill_value=0)\n",
    "inspections_scores_by_area.head()"
   ]
  },
  {
   "cell_type": "markdown",
   "metadata": {
    "colab_type": "text",
    "id": "fGHSuDbXOccs"
   },
   "source": [
    "We decided to create a formula which will give the overall score for each neighborhood, taking into account the number of inspections per each category, as well as penalizing the negative results and awarding the positive ones. \n",
    "If the restaurant was suspended, which means Out of Business or Business Not Located (according to the docs), that gives -2 point. If the restaurant failed, it will be -1 points. If it passes with condition, the score is 0.5 points. If the restaurant passed clearly, it gives 1 point. We then divide that by the total amount of restaurants in the neighborhood."
   ]
  },
  {
   "cell_type": "code",
   "execution_count": 138,
   "metadata": {
    "colab": {},
    "colab_type": "code",
    "id": "Wiu1mcsZPKux"
   },
   "outputs": [],
   "source": [
    "# Function that gives the safety score for the neighborhood\n",
    "def get_safety_score(df):\n",
    "    score = (-2)*df['Business Not Located']+(-2)*df['Out of Business']+(-1)*df['Fail']+0.5*df['Pass w/ Conditions']+1*df['Pass'] \n",
    "    number_of_inspections = df.sum(axis=1)\n",
    "    return round(score/number_of_inspections, 2)"
   ]
  },
  {
   "cell_type": "code",
   "execution_count": 139,
   "metadata": {
    "colab": {
     "base_uri": "https://localhost:8080/",
     "height": 223
    },
    "colab_type": "code",
    "id": "Mh9Ihe03PWhC",
    "outputId": "53dc087c-0161-4503-910f-84af66953a3a"
   },
   "outputs": [
    {
     "data": {
      "text/html": [
       "<div>\n",
       "<style scoped>\n",
       "    .dataframe tbody tr th:only-of-type {\n",
       "        vertical-align: middle;\n",
       "    }\n",
       "\n",
       "    .dataframe tbody tr th {\n",
       "        vertical-align: top;\n",
       "    }\n",
       "\n",
       "    .dataframe thead th {\n",
       "        text-align: right;\n",
       "    }\n",
       "</style>\n",
       "<table border=\"1\" class=\"dataframe\">\n",
       "  <thead>\n",
       "    <tr style=\"text-align: right;\">\n",
       "      <th>Results</th>\n",
       "      <th>Business Not Located</th>\n",
       "      <th>Fail</th>\n",
       "      <th>No Entry</th>\n",
       "      <th>Not Ready</th>\n",
       "      <th>Out of Business</th>\n",
       "      <th>Pass</th>\n",
       "      <th>Pass w/ Conditions</th>\n",
       "      <th>Safety score</th>\n",
       "    </tr>\n",
       "    <tr>\n",
       "      <th>Community</th>\n",
       "      <th></th>\n",
       "      <th></th>\n",
       "      <th></th>\n",
       "      <th></th>\n",
       "      <th></th>\n",
       "      <th></th>\n",
       "      <th></th>\n",
       "      <th></th>\n",
       "    </tr>\n",
       "  </thead>\n",
       "  <tbody>\n",
       "    <tr>\n",
       "      <td>O'HARE INTERNATIONAL AIRPORT</td>\n",
       "      <td>0</td>\n",
       "      <td>355</td>\n",
       "      <td>11</td>\n",
       "      <td>29</td>\n",
       "      <td>101</td>\n",
       "      <td>1744</td>\n",
       "      <td>433</td>\n",
       "      <td>0.53</td>\n",
       "    </tr>\n",
       "    <tr>\n",
       "      <td>CLEARING</td>\n",
       "      <td>0</td>\n",
       "      <td>66</td>\n",
       "      <td>13</td>\n",
       "      <td>4</td>\n",
       "      <td>26</td>\n",
       "      <td>354</td>\n",
       "      <td>74</td>\n",
       "      <td>0.51</td>\n",
       "    </tr>\n",
       "    <tr>\n",
       "      <td>GARFIELD RIDGE</td>\n",
       "      <td>0</td>\n",
       "      <td>192</td>\n",
       "      <td>30</td>\n",
       "      <td>4</td>\n",
       "      <td>101</td>\n",
       "      <td>992</td>\n",
       "      <td>195</td>\n",
       "      <td>0.46</td>\n",
       "    </tr>\n",
       "    <tr>\n",
       "      <td>LOOP</td>\n",
       "      <td>2</td>\n",
       "      <td>1580</td>\n",
       "      <td>87</td>\n",
       "      <td>129</td>\n",
       "      <td>642</td>\n",
       "      <td>7002</td>\n",
       "      <td>1724</td>\n",
       "      <td>0.45</td>\n",
       "    </tr>\n",
       "    <tr>\n",
       "      <td>SOUTH DEERING</td>\n",
       "      <td>0</td>\n",
       "      <td>62</td>\n",
       "      <td>10</td>\n",
       "      <td>1</td>\n",
       "      <td>27</td>\n",
       "      <td>271</td>\n",
       "      <td>59</td>\n",
       "      <td>0.43</td>\n",
       "    </tr>\n",
       "  </tbody>\n",
       "</table>\n",
       "</div>"
      ],
      "text/plain": [
       "Results                       Business Not Located  Fail  No Entry  Not Ready  \\\n",
       "Community                                                                       \n",
       "O'HARE INTERNATIONAL AIRPORT                     0   355        11         29   \n",
       "CLEARING                                         0    66        13          4   \n",
       "GARFIELD RIDGE                                   0   192        30          4   \n",
       "LOOP                                             2  1580        87        129   \n",
       "SOUTH DEERING                                    0    62        10          1   \n",
       "\n",
       "Results                       Out of Business  Pass  Pass w/ Conditions  \\\n",
       "Community                                                                 \n",
       "O'HARE INTERNATIONAL AIRPORT              101  1744                 433   \n",
       "CLEARING                                   26   354                  74   \n",
       "GARFIELD RIDGE                            101   992                 195   \n",
       "LOOP                                      642  7002                1724   \n",
       "SOUTH DEERING                              27   271                  59   \n",
       "\n",
       "Results                       Safety score  \n",
       "Community                                   \n",
       "O'HARE INTERNATIONAL AIRPORT          0.53  \n",
       "CLEARING                              0.51  \n",
       "GARFIELD RIDGE                        0.46  \n",
       "LOOP                                  0.45  \n",
       "SOUTH DEERING                         0.43  "
      ]
     },
     "execution_count": 139,
     "metadata": {},
     "output_type": "execute_result"
    }
   ],
   "source": [
    "# Add safety score to DF\n",
    "inspections_scores_by_area['Safety score'] = pd.Series(get_safety_score(inspections_scores_by_area))\n",
    "inspections_scores_by_area.sort_values('Safety score', ascending=False).head()"
   ]
  },
  {
   "cell_type": "markdown",
   "metadata": {
    "colab_type": "text",
    "id": "_9AUvgUIPgV_"
   },
   "source": [
    "Now, we want to visualise the results in order to see if there is any pattern."
   ]
  },
  {
   "cell_type": "code",
   "execution_count": 140,
   "metadata": {
    "colab": {},
    "colab_type": "code",
    "id": "i746BDvCPcj1"
   },
   "outputs": [],
   "source": [
    "inspections_scores_by_area.reset_index(level=0,inplace=True)"
   ]
  },
  {
   "cell_type": "code",
   "execution_count": 141,
   "metadata": {
    "colab": {
     "base_uri": "https://localhost:8080/",
     "height": 542
    },
    "colab_type": "code",
    "id": "sH_fqpQpPnQK",
    "outputId": "d5aedc96-999d-4f24-fac5-54961c3c8874"
   },
   "outputs": [
    {
     "data": {
      "text/html": [
       "\n",
       "        <iframe\n",
       "            width=\"1000\"\n",
       "            height=\"600\"\n",
       "            src=\"sd_safety_score_area.html\"\n",
       "            frameborder=\"0\"\n",
       "            allowfullscreen\n",
       "        ></iframe>\n",
       "        "
      ],
      "text/plain": [
       "<IPython.lib.display.IFrame at 0x2082cacea90>"
      ]
     },
     "execution_count": 141,
     "metadata": {},
     "output_type": "execute_result"
    }
   ],
   "source": [
    "# Visualise neighorhoods with respect to the Safety Score they got\n",
    "colorscale1 = px.colors.sequential.YlOrRd\n",
    "colorscale1.reverse()\n",
    "\n",
    "options = {\n",
    "    'colorscale': colorscale1,\n",
    "    'colorbar': {\n",
    "        'title': 'Safety score'\n",
    "    }\n",
    "}\n",
    "figure = plot_by_criteria('community', inspections_scores_by_area, 'Community', 'Safety score', 'Safety scores by community areas', options)\n",
    "#figure.show()\n",
    "plot_offline(figure,\"sd_safety_score_area.html\")"
   ]
  },
  {
   "cell_type": "markdown",
   "metadata": {
    "colab_type": "text",
    "id": "rx3hv9tzQ9t9"
   },
   "source": [
    "According to the safety scores we calculated, it seems that the safest places to eat are the **the two Airports and the City Center.** That's right, you may need to pay extra, since those are central tourist points, but you can be quite sure that the restaurant you are eating is fulfulling the regulations. As you are going further from this places, the risk increases. \n"
   ]
  },
  {
   "cell_type": "markdown",
   "metadata": {
    "colab_type": "text",
    "id": "UC4EbRDxTMfI"
   },
   "source": [
    "### Question 3\n",
    "**Checking restaurants history of inspections, how are restaurants or whole areas changing in their inspection scores? Can one see any patterns in improvements with respect to inspection results? Are there areas/restaurant chains/restaurant types that follow some trends?**"
   ]
  },
  {
   "cell_type": "markdown",
   "metadata": {
    "colab_type": "text",
    "id": "9bEDuJmnMfSS"
   },
   "source": [
    "#### Evolution with respect to Inspection Results"
   ]
  },
  {
   "cell_type": "markdown",
   "metadata": {
    "colab_type": "text",
    "id": "m71J6D3SZqct"
   },
   "source": [
    "For the analysis of the history of inspections, we will use only the three most frequent results: Pass, Pass w/ conditions and Fail."
   ]
  },
  {
   "cell_type": "markdown",
   "metadata": {
    "colab_type": "text",
    "id": "ePi-LJz6Z4Tb"
   },
   "source": [
    "As a first indicator of restaurant quality, we will use the number of safety violations per inspection."
   ]
  },
  {
   "cell_type": "code",
   "execution_count": 142,
   "metadata": {
    "colab": {
     "base_uri": "https://localhost:8080/",
     "height": 619
    },
    "colab_type": "code",
    "id": "dX00RowCandg",
    "outputId": "80b5a0fc-8924-461e-cf01-edf7cd803e18"
   },
   "outputs": [
    {
     "data": {
      "text/html": [
       "<div>\n",
       "<style scoped>\n",
       "    .dataframe tbody tr th:only-of-type {\n",
       "        vertical-align: middle;\n",
       "    }\n",
       "\n",
       "    .dataframe tbody tr th {\n",
       "        vertical-align: top;\n",
       "    }\n",
       "\n",
       "    .dataframe thead th {\n",
       "        text-align: right;\n",
       "    }\n",
       "</style>\n",
       "<table border=\"1\" class=\"dataframe\">\n",
       "  <thead>\n",
       "    <tr style=\"text-align: right;\">\n",
       "      <th></th>\n",
       "      <th>Inspection ID</th>\n",
       "      <th>DBA Name</th>\n",
       "      <th>AKA Name</th>\n",
       "      <th>License #</th>\n",
       "      <th>Facility Type</th>\n",
       "      <th>Risk</th>\n",
       "      <th>Address</th>\n",
       "      <th>City</th>\n",
       "      <th>State</th>\n",
       "      <th>Zip</th>\n",
       "      <th>...</th>\n",
       "      <th>Longitude</th>\n",
       "      <th>Location</th>\n",
       "      <th>Re-inspection</th>\n",
       "      <th>Community</th>\n",
       "      <th>District</th>\n",
       "      <th>Violation Codes</th>\n",
       "      <th>Violation Codes Generalized</th>\n",
       "      <th>Critical Violation Noticed</th>\n",
       "      <th>Serious Violation Noticed</th>\n",
       "      <th>nb_violations</th>\n",
       "    </tr>\n",
       "  </thead>\n",
       "  <tbody>\n",
       "    <tr>\n",
       "      <td>10740</td>\n",
       "      <td>2244123</td>\n",
       "      <td>SUBWAY</td>\n",
       "      <td>SUBWAY</td>\n",
       "      <td>1679112</td>\n",
       "      <td>Restaurant</td>\n",
       "      <td>Risk 1 (High)</td>\n",
       "      <td>8711 S ASHLAND AVE</td>\n",
       "      <td>Chicago</td>\n",
       "      <td>IL</td>\n",
       "      <td>60620</td>\n",
       "      <td>...</td>\n",
       "      <td>-87.662910</td>\n",
       "      <td>{'longitude': '41.735408702583165', 'latitude'...</td>\n",
       "      <td>False</td>\n",
       "      <td>AUBURN GRESHAM</td>\n",
       "      <td>Far Southwest Side</td>\n",
       "      <td>[2, 3, 5, 10, 54, 55, 58]</td>\n",
       "      <td>[3, 4, 5, 2, 3, 2, 4]</td>\n",
       "      <td>False</td>\n",
       "      <td>True</td>\n",
       "      <td>7</td>\n",
       "    </tr>\n",
       "    <tr>\n",
       "      <td>28842</td>\n",
       "      <td>2071559</td>\n",
       "      <td>DON FRESCO</td>\n",
       "      <td>DON FRESCO</td>\n",
       "      <td>2411114</td>\n",
       "      <td>Restaurant</td>\n",
       "      <td>Risk 1 (High)</td>\n",
       "      <td>520 W HARRISON ST</td>\n",
       "      <td>Chicago</td>\n",
       "      <td>IL</td>\n",
       "      <td>60607</td>\n",
       "      <td>...</td>\n",
       "      <td>-87.640466</td>\n",
       "      <td>{'longitude': '41.874504999844035', 'latitude'...</td>\n",
       "      <td>False</td>\n",
       "      <td>NEAR WEST SIDE</td>\n",
       "      <td>West Side</td>\n",
       "      <td>[3, 38, 40, 19, 21]</td>\n",
       "      <td>[1, 2, 2, 3, 4]</td>\n",
       "      <td>True</td>\n",
       "      <td>True</td>\n",
       "      <td>5</td>\n",
       "    </tr>\n",
       "    <tr>\n",
       "      <td>71689</td>\n",
       "      <td>1482455</td>\n",
       "      <td>TOKYO MARINA</td>\n",
       "      <td>TOKYO MARINA</td>\n",
       "      <td>10611</td>\n",
       "      <td>Restaurant</td>\n",
       "      <td>Risk 1 (High)</td>\n",
       "      <td>5058-5060 N CLARK ST</td>\n",
       "      <td>Chicago</td>\n",
       "      <td>IL</td>\n",
       "      <td>60640</td>\n",
       "      <td>...</td>\n",
       "      <td>-87.668333</td>\n",
       "      <td>{'longitude': '41.97417662844776', 'latitude':...</td>\n",
       "      <td>False</td>\n",
       "      <td>UPTOWN</td>\n",
       "      <td>Far North Side</td>\n",
       "      <td>[]</td>\n",
       "      <td>[]</td>\n",
       "      <td>False</td>\n",
       "      <td>False</td>\n",
       "      <td>0</td>\n",
       "    </tr>\n",
       "    <tr>\n",
       "      <td>65125</td>\n",
       "      <td>1532645</td>\n",
       "      <td>VIA LIMA RESTAURANT</td>\n",
       "      <td>VIA LIMA RESTAURANT</td>\n",
       "      <td>2368585</td>\n",
       "      <td>Restaurant</td>\n",
       "      <td>Risk 1 (High)</td>\n",
       "      <td>4024 N LINCOLN AVE</td>\n",
       "      <td>Chicago</td>\n",
       "      <td>IL</td>\n",
       "      <td>60618</td>\n",
       "      <td>...</td>\n",
       "      <td>-87.679457</td>\n",
       "      <td>{'longitude': '41.95492303714853', 'latitude':...</td>\n",
       "      <td>False</td>\n",
       "      <td>NORTH CENTER</td>\n",
       "      <td>North Side</td>\n",
       "      <td>[32]</td>\n",
       "      <td>[2]</td>\n",
       "      <td>False</td>\n",
       "      <td>False</td>\n",
       "      <td>1</td>\n",
       "    </tr>\n",
       "    <tr>\n",
       "      <td>41707</td>\n",
       "      <td>1965861</td>\n",
       "      <td>Starbucks</td>\n",
       "      <td>STARBUCKS (T1/B CONCOURSE-BAGGAGE CLAIM)</td>\n",
       "      <td>34229</td>\n",
       "      <td>Restaurant</td>\n",
       "      <td>Risk 2 (Medium)</td>\n",
       "      <td>11601 W TOUHY AVE</td>\n",
       "      <td>Chicago</td>\n",
       "      <td>IL</td>\n",
       "      <td>60666</td>\n",
       "      <td>...</td>\n",
       "      <td>-87.914428</td>\n",
       "      <td>{'longitude': '42.008536400868735', 'latitude'...</td>\n",
       "      <td>False</td>\n",
       "      <td>O'HARE INTERNATIONAL AIRPORT</td>\n",
       "      <td>Far North Side</td>\n",
       "      <td>[33, 34]</td>\n",
       "      <td>[3, 3]</td>\n",
       "      <td>False</td>\n",
       "      <td>False</td>\n",
       "      <td>2</td>\n",
       "    </tr>\n",
       "  </tbody>\n",
       "</table>\n",
       "<p>5 rows × 25 columns</p>\n",
       "</div>"
      ],
      "text/plain": [
       "       Inspection ID             DBA Name  \\\n",
       "10740        2244123               SUBWAY   \n",
       "28842        2071559           DON FRESCO   \n",
       "71689        1482455         TOKYO MARINA   \n",
       "65125        1532645  VIA LIMA RESTAURANT   \n",
       "41707        1965861            Starbucks   \n",
       "\n",
       "                                       AKA Name  License # Facility Type  \\\n",
       "10740                                    SUBWAY    1679112    Restaurant   \n",
       "28842                                DON FRESCO    2411114    Restaurant   \n",
       "71689                              TOKYO MARINA      10611    Restaurant   \n",
       "65125                       VIA LIMA RESTAURANT    2368585    Restaurant   \n",
       "41707  STARBUCKS (T1/B CONCOURSE-BAGGAGE CLAIM)      34229    Restaurant   \n",
       "\n",
       "                  Risk                Address     City State    Zip  ...  \\\n",
       "10740    Risk 1 (High)    8711 S ASHLAND AVE   Chicago    IL  60620  ...   \n",
       "28842    Risk 1 (High)     520 W HARRISON ST   Chicago    IL  60607  ...   \n",
       "71689    Risk 1 (High)  5058-5060 N CLARK ST   Chicago    IL  60640  ...   \n",
       "65125    Risk 1 (High)    4024 N LINCOLN AVE   Chicago    IL  60618  ...   \n",
       "41707  Risk 2 (Medium)     11601 W TOUHY AVE   Chicago    IL  60666  ...   \n",
       "\n",
       "       Longitude                                           Location  \\\n",
       "10740 -87.662910  {'longitude': '41.735408702583165', 'latitude'...   \n",
       "28842 -87.640466  {'longitude': '41.874504999844035', 'latitude'...   \n",
       "71689 -87.668333  {'longitude': '41.97417662844776', 'latitude':...   \n",
       "65125 -87.679457  {'longitude': '41.95492303714853', 'latitude':...   \n",
       "41707 -87.914428  {'longitude': '42.008536400868735', 'latitude'...   \n",
       "\n",
       "      Re-inspection                     Community            District  \\\n",
       "10740         False                AUBURN GRESHAM  Far Southwest Side   \n",
       "28842         False                NEAR WEST SIDE           West Side   \n",
       "71689         False                        UPTOWN      Far North Side   \n",
       "65125         False                  NORTH CENTER          North Side   \n",
       "41707         False  O'HARE INTERNATIONAL AIRPORT      Far North Side   \n",
       "\n",
       "                 Violation Codes Violation Codes Generalized  \\\n",
       "10740  [2, 3, 5, 10, 54, 55, 58]       [3, 4, 5, 2, 3, 2, 4]   \n",
       "28842        [3, 38, 40, 19, 21]             [1, 2, 2, 3, 4]   \n",
       "71689                         []                          []   \n",
       "65125                       [32]                         [2]   \n",
       "41707                   [33, 34]                      [3, 3]   \n",
       "\n",
       "       Critical Violation Noticed Serious Violation Noticed nb_violations  \n",
       "10740                       False                      True             7  \n",
       "28842                        True                      True             5  \n",
       "71689                       False                     False             0  \n",
       "65125                       False                     False             1  \n",
       "41707                       False                     False             2  \n",
       "\n",
       "[5 rows x 25 columns]"
      ]
     },
     "execution_count": 142,
     "metadata": {},
     "output_type": "execute_result"
    }
   ],
   "source": [
    "inspections[\"nb_violations\"] = inspections.apply(lambda row: len(row['Violation Codes']), axis=1)\n",
    "inspections.sample(5)"
   ]
  },
  {
   "cell_type": "markdown",
   "metadata": {
    "colab_type": "text",
    "id": "f3yWbd_bbAsi"
   },
   "source": [
    "Let's compare the number of violations for inspections with results \"Pass\", \"Pass w/ conditions\" and \"Fail\" :"
   ]
  },
  {
   "cell_type": "code",
   "execution_count": 143,
   "metadata": {
    "colab": {
     "base_uri": "https://localhost:8080/",
     "height": 177
    },
    "colab_type": "code",
    "id": "lzzcketla2Cy",
    "outputId": "624b904e-e26c-475e-e6bd-f09b2045a7c4"
   },
   "outputs": [
    {
     "data": {
      "text/plain": [
       "count    70453.000000\n",
       "mean         2.585113\n",
       "std          2.056755\n",
       "min          0.000000\n",
       "25%          1.000000\n",
       "50%          2.000000\n",
       "75%          4.000000\n",
       "max         13.000000\n",
       "Name: nb_violations, dtype: float64"
      ]
     },
     "execution_count": 143,
     "metadata": {},
     "output_type": "execute_result"
    }
   ],
   "source": [
    "inspections[inspections.Results == \"Pass\"].nb_violations.describe()"
   ]
  },
  {
   "cell_type": "code",
   "execution_count": 144,
   "metadata": {
    "colab": {
     "base_uri": "https://localhost:8080/",
     "height": 177
    },
    "colab_type": "code",
    "id": "T2-EPhGOa_Y2",
    "outputId": "ff14418a-0c9e-41fe-abe6-f187888fa5b4"
   },
   "outputs": [
    {
     "data": {
      "text/plain": [
       "count    24375.000000\n",
       "mean         5.957949\n",
       "std          3.490894\n",
       "min          0.000000\n",
       "25%          4.000000\n",
       "50%          6.000000\n",
       "75%          8.000000\n",
       "max         25.000000\n",
       "Name: nb_violations, dtype: float64"
      ]
     },
     "execution_count": 144,
     "metadata": {},
     "output_type": "execute_result"
    }
   ],
   "source": [
    "inspections[inspections.Results == \"Fail\"].nb_violations.describe()"
   ]
  },
  {
   "cell_type": "markdown",
   "metadata": {
    "colab_type": "text",
    "id": "Goc3f3gdbIsi"
   },
   "source": [
    "As expected, the average number of violations is higher for restaurants who failed their inspection. However, an important detail shouldn't be overlooked: quartiles show that some failing restaurants have less violations than passing ones. We will therefore consider two parameters to evaluate how much restaurants improve over time: the difference between the intial average number of violations and the same average number at the last inspection, and their inspection result (Pass, Pass w/ conditions and Fail). "
   ]
  },
  {
   "cell_type": "code",
   "execution_count": 145,
   "metadata": {
    "colab": {},
    "colab_type": "code",
    "id": "2gG6J7HTa_IX"
   },
   "outputs": [],
   "source": [
    "def nvdiff(group):\n",
    "    tmp = group.sort_values(by=\"Inspection Date\")\n",
    "    return (tmp.iloc[-1].nb_violations-tmp.iloc[0].nb_violations)\n",
    "violations_evo = inspections.groupby(\"License #\").apply(nvdiff)\n",
    "violations_evo = pd.DataFrame({'License #':violations_evo.index, 'Violations evolution':violations_evo.values})"
   ]
  },
  {
   "cell_type": "code",
   "execution_count": 146,
   "metadata": {
    "colab": {
     "base_uri": "https://localhost:8080/",
     "height": 194
    },
    "colab_type": "code",
    "id": "qPVyuu-1bWVZ",
    "outputId": "c9a3c852-4244-49e4-cb60-094021778a46"
   },
   "outputs": [
    {
     "data": {
      "text/html": [
       "<div>\n",
       "<style scoped>\n",
       "    .dataframe tbody tr th:only-of-type {\n",
       "        vertical-align: middle;\n",
       "    }\n",
       "\n",
       "    .dataframe tbody tr th {\n",
       "        vertical-align: top;\n",
       "    }\n",
       "\n",
       "    .dataframe thead th {\n",
       "        text-align: right;\n",
       "    }\n",
       "</style>\n",
       "<table border=\"1\" class=\"dataframe\">\n",
       "  <thead>\n",
       "    <tr style=\"text-align: right;\">\n",
       "      <th></th>\n",
       "      <th>License #</th>\n",
       "      <th>Violations evolution</th>\n",
       "    </tr>\n",
       "  </thead>\n",
       "  <tbody>\n",
       "    <tr>\n",
       "      <td>9650</td>\n",
       "      <td>2121141</td>\n",
       "      <td>-10</td>\n",
       "    </tr>\n",
       "    <tr>\n",
       "      <td>19389</td>\n",
       "      <td>2658051</td>\n",
       "      <td>0</td>\n",
       "    </tr>\n",
       "    <tr>\n",
       "      <td>14252</td>\n",
       "      <td>2397605</td>\n",
       "      <td>0</td>\n",
       "    </tr>\n",
       "    <tr>\n",
       "      <td>17637</td>\n",
       "      <td>2564899</td>\n",
       "      <td>7</td>\n",
       "    </tr>\n",
       "    <tr>\n",
       "      <td>9746</td>\n",
       "      <td>2125616</td>\n",
       "      <td>0</td>\n",
       "    </tr>\n",
       "  </tbody>\n",
       "</table>\n",
       "</div>"
      ],
      "text/plain": [
       "       License #  Violations evolution\n",
       "9650     2121141                   -10\n",
       "19389    2658051                     0\n",
       "14252    2397605                     0\n",
       "17637    2564899                     7\n",
       "9746     2125616                     0"
      ]
     },
     "execution_count": 146,
     "metadata": {},
     "output_type": "execute_result"
    }
   ],
   "source": [
    "violations_evo.sample(5)"
   ]
  },
  {
   "cell_type": "markdown",
   "metadata": {
    "colab_type": "text",
    "id": "typNeE-WblWx"
   },
   "source": [
    "We can now compute the average evolution score per community area (which is the average of the difference between the number of violations at first and last inspections for all restaurants of a given area)."
   ]
  },
  {
   "cell_type": "code",
   "execution_count": 147,
   "metadata": {
    "colab": {
     "base_uri": "https://localhost:8080/",
     "height": 194
    },
    "colab_type": "code",
    "id": "Pw3_YxvWbqwt",
    "outputId": "ff3a588f-8889-4a8b-cccc-95ad2dccf73d"
   },
   "outputs": [
    {
     "data": {
      "text/html": [
       "<div>\n",
       "<style scoped>\n",
       "    .dataframe tbody tr th:only-of-type {\n",
       "        vertical-align: middle;\n",
       "    }\n",
       "\n",
       "    .dataframe tbody tr th {\n",
       "        vertical-align: top;\n",
       "    }\n",
       "\n",
       "    .dataframe thead th {\n",
       "        text-align: right;\n",
       "    }\n",
       "</style>\n",
       "<table border=\"1\" class=\"dataframe\">\n",
       "  <thead>\n",
       "    <tr style=\"text-align: right;\">\n",
       "      <th></th>\n",
       "      <th>Community</th>\n",
       "      <th>evolution</th>\n",
       "    </tr>\n",
       "  </thead>\n",
       "  <tbody>\n",
       "    <tr>\n",
       "      <td>11</td>\n",
       "      <td>BRIGHTON PARK</td>\n",
       "      <td>-2.205965</td>\n",
       "    </tr>\n",
       "    <tr>\n",
       "      <td>34</td>\n",
       "      <td>JEFFERSON PARK</td>\n",
       "      <td>0.354463</td>\n",
       "    </tr>\n",
       "    <tr>\n",
       "      <td>22</td>\n",
       "      <td>ENGLEWOOD</td>\n",
       "      <td>-1.766590</td>\n",
       "    </tr>\n",
       "    <tr>\n",
       "      <td>63</td>\n",
       "      <td>SOUTH LAWNDALE</td>\n",
       "      <td>-2.514224</td>\n",
       "    </tr>\n",
       "    <tr>\n",
       "      <td>46</td>\n",
       "      <td>NEAR NORTH SIDE</td>\n",
       "      <td>-0.506176</td>\n",
       "    </tr>\n",
       "  </tbody>\n",
       "</table>\n",
       "</div>"
      ],
      "text/plain": [
       "          Community  evolution\n",
       "11    BRIGHTON PARK  -2.205965\n",
       "34   JEFFERSON PARK   0.354463\n",
       "22        ENGLEWOOD  -1.766590\n",
       "63   SOUTH LAWNDALE  -2.514224\n",
       "46  NEAR NORTH SIDE  -0.506176"
      ]
     },
     "execution_count": 147,
     "metadata": {},
     "output_type": "execute_result"
    }
   ],
   "source": [
    "violations_evo_community = violations_evo.merge(inspections[['License #','Community']], on='License #', how='left')\\\n",
    "                         .groupby('Community')['Violations evolution'].mean()\n",
    "violations_evo_community = pd.DataFrame({'Community': violations_evo_community.index, 'evolution': violations_evo_community.values})\n",
    "violations_evo_community.sample(5)"
   ]
  },
  {
   "cell_type": "code",
   "execution_count": 148,
   "metadata": {
    "colab": {
     "base_uri": "https://localhost:8080/",
     "height": 542
    },
    "colab_type": "code",
    "id": "mc-QOLO4bshh",
    "outputId": "a7f5f020-df79-499f-b38c-469a06aa101b"
   },
   "outputs": [
    {
     "data": {
      "text/html": [
       "\n",
       "        <iframe\n",
       "            width=\"1000\"\n",
       "            height=\"600\"\n",
       "            src=\"violations_evolution_community.html\"\n",
       "            frameborder=\"0\"\n",
       "            allowfullscreen\n",
       "        ></iframe>\n",
       "        "
      ],
      "text/plain": [
       "<IPython.lib.display.IFrame at 0x20831bb9a20>"
      ]
     },
     "execution_count": 148,
     "metadata": {},
     "output_type": "execute_result"
    }
   ],
   "source": [
    "options = {\n",
    "    'colorscale': 'Reds',\n",
    "    'colorbar': {\n",
    "        'title': 'Evolution score'\n",
    "    }\n",
    "}\n",
    "figure = plot_by_criteria('community', violations_evo_community, 'Community', 'evolution', 'Violations evolution score by community', options)\n",
    "#figure.show()\n",
    "plot_offline(figure,\"violations_evolution_community.html\")"
   ]
  },
  {
   "cell_type": "markdown",
   "metadata": {
    "colab_type": "text",
    "id": "5qKtVdjobzLh"
   },
   "source": [
    "We can see that in most areas, restaurants manage to decrease their number of violations over time. But in a few areas, restaurants have increased their number of violations."
   ]
  },
  {
   "cell_type": "markdown",
   "metadata": {
    "colab_type": "text",
    "id": "megzr1CWb34X"
   },
   "source": [
    "We can also visualize the number of restaurants who have improved, got worse or stagnated over time."
   ]
  },
  {
   "cell_type": "code",
   "execution_count": 149,
   "metadata": {
    "colab": {
     "base_uri": "https://localhost:8080/",
     "height": 442
    },
    "colab_type": "code",
    "id": "dQUGD5qIb-cw",
    "outputId": "e5a57368-2aba-4c4a-b894-9f96d1ad6a86"
   },
   "outputs": [
    {
     "data": {
      "text/plain": [
       "<matplotlib.axes._subplots.AxesSubplot at 0x2082c0352b0>"
      ]
     },
     "execution_count": 149,
     "metadata": {},
     "output_type": "execute_result"
    },
    {
     "data": {
      "image/png": "[encoded data removed]",
      "text/plain": [
       "<Figure size 432x288 with 1 Axes>"
      ]
     },
     "metadata": {
      "needs_background": "light"
     },
     "output_type": "display_data"
    }
   ],
   "source": [
    "bins = [-np.inf,-0.1,0.1,np.inf]\n",
    "cats = [\"Improved\", \"Stagnated\", \"Worsened\"]\n",
    "pd.cut(violations_evo[\"Violations evolution\"], bins, labels=cats).value_counts().plot.bar()"
   ]
  },
  {
   "cell_type": "markdown",
   "metadata": {
    "colab_type": "text",
    "id": "v1tpcFOacM3e"
   },
   "source": [
    "Most restaurants have improved or stagnated over time in their number of violations. The number of restaurants which got worse over time is smaller than the two other categories."
   ]
  },
  {
   "cell_type": "markdown",
   "metadata": {
    "colab_type": "text",
    "id": "13exspTZcaH-"
   },
   "source": [
    "We will now compare the amount of restaurants who passed their most recent inspection in 2010 and 2018, per area. This will give us some insight in restaurant safety evolution over time."
   ]
  },
  {
   "cell_type": "code",
   "execution_count": 150,
   "metadata": {
    "colab": {
     "base_uri": "https://localhost:8080/",
     "height": 35
    },
    "colab_type": "code",
    "id": "MoXs2-kmbWAU",
    "outputId": "8c872e35-549f-4d1a-b02a-9d8fc6533f93"
   },
   "outputs": [
    {
     "data": {
      "text/plain": [
       "6444"
      ]
     },
     "execution_count": 150,
     "metadata": {},
     "output_type": "execute_result"
    }
   ],
   "source": [
    "# Number of inspections done in 2010\n",
    "inspections[(inspections['Inspection Date'] >= '2010-01-01') & (inspections['Inspection Date'] < '2011-01-01')]['License #'].nunique()"
   ]
  },
  {
   "cell_type": "code",
   "execution_count": 151,
   "metadata": {
    "colab": {
     "base_uri": "https://localhost:8080/",
     "height": 35
    },
    "colab_type": "code",
    "id": "JezY9y3-cqT6",
    "outputId": "13145709-cdd7-4d0b-aece-b8b23bd0d3d7"
   },
   "outputs": [
    {
     "data": {
      "text/plain": [
       "7409"
      ]
     },
     "execution_count": 151,
     "metadata": {},
     "output_type": "execute_result"
    }
   ],
   "source": [
    "# Number of inspections done in 2018\n",
    "inspections[(inspections['Inspection Date'] >= '2018-01-01') & (inspections['Inspection Date'] < '2019-01-01')]['License #'].nunique()"
   ]
  },
  {
   "cell_type": "code",
   "execution_count": 152,
   "metadata": {
    "colab": {},
    "colab_type": "code",
    "id": "S9zTfaB0cr7v"
   },
   "outputs": [],
   "source": [
    "# Selecting inspections done in 2010 and 2018\n",
    "chicago_2010 = inspections[(inspections['Inspection Date'] >= '2010-01-01') & (inspections['Inspection Date'] < '2011-01-01')].copy()\n",
    "chicago_2018 = inspections[(inspections['Inspection Date'] >= '2018-01-01') & (inspections['Inspection Date'] < '2019-01-01')].copy()\n",
    "chicago_2010[\"Results\"] = chicago_2010[\"Results\"].apply(lambda x : x.startswith(\"Pass\"))\n",
    "chicago_2018[\"Results\"] = chicago_2018[\"Results\"].apply(lambda x : x.startswith(\"Pass\"))"
   ]
  },
  {
   "cell_type": "code",
   "execution_count": 153,
   "metadata": {
    "colab": {},
    "colab_type": "code",
    "id": "z1cofRmVcy2R"
   },
   "outputs": [],
   "source": [
    "# Computing number of restaurants which passed their last inspection per community\n",
    "\n",
    "pass_by_community2010 = chicago_2010.groupby([\"License #\", \"Community\"])\\\n",
    "                                .apply(lambda g : g.sort_values(by=\"Inspection Date\").iloc[-1].Results)\\\n",
    "                                .groupby(\"Community\")\\\n",
    "                                .sum()\n",
    "pass_by_community2018 = chicago_2018.groupby([\"License #\", \"Community\"])\\\n",
    "                                .apply(lambda g : g.sort_values(by=\"Inspection Date\").iloc[-1].Results)\\\n",
    "                                .groupby(\"Community\")\\\n",
    "                                .sum()"
   ]
  },
  {
   "cell_type": "code",
   "execution_count": 154,
   "metadata": {
    "colab": {},
    "colab_type": "code",
    "id": "iX0m_SIPbVpZ"
   },
   "outputs": [],
   "source": [
    "# Converting counts to int\n",
    "pass_by_community2010 = pd.DataFrame({\"Community\": pass_by_community2010.index, \"Pass\": pass_by_community2010.values})\n",
    "pass_by_community2018 = pd.DataFrame({\"Community\": pass_by_community2018.index, \"Pass\": pass_by_community2018.values})\n",
    "pass_by_community2010.Pass = pass_by_community2010.Pass.apply(lambda x : int(x))\n",
    "pass_by_community2018.Pass = pass_by_community2018.Pass.apply(lambda x : int(x))"
   ]
  },
  {
   "cell_type": "markdown",
   "metadata": {
    "colab_type": "text",
    "id": "rc1yGbJrc9za"
   },
   "source": [
    "As not all areas have the same amount of restaurants, for each area we need to divide the number of restaurants passing inspections by the number of restaurants in the area to get a percentage."
   ]
  },
  {
   "cell_type": "code",
   "execution_count": 155,
   "metadata": {
    "colab": {},
    "colab_type": "code",
    "id": "xnIe1pZGc9ev"
   },
   "outputs": [],
   "source": [
    "community_count_2010 = chicago_2010.groupby(\"Community\").apply(lambda g : g[\"License #\"].nunique())\n",
    "community_count_2018 = chicago_2018.groupby(\"Community\").apply(lambda g : g[\"License #\"].nunique())"
   ]
  },
  {
   "cell_type": "code",
   "execution_count": 156,
   "metadata": {
    "colab": {},
    "colab_type": "code",
    "id": "q9D8JU4KdLRq"
   },
   "outputs": [],
   "source": [
    "community_count_2010 = pass_by_community2010.merge(pd.DataFrame({\"Community\": community_count_2010.index, \"Count\": community_count_2010.values}),on='Community', how='left')\n",
    "community_count_2018 = pass_by_community2018.merge(pd.DataFrame({\"Community\": community_count_2018.index, \"Count\": community_count_2018.values}),on='Community', how='left')"
   ]
  },
  {
   "cell_type": "code",
   "execution_count": 157,
   "metadata": {
    "colab": {},
    "colab_type": "code",
    "id": "JUmpBQzrdJ9M"
   },
   "outputs": [],
   "source": [
    "# Computing pass percentages\n",
    "\n",
    "community_count_2010.Pass = community_count_2010.apply(lambda row : row.Pass/row.Count, axis=1)\n",
    "community_count_2018.Pass = community_count_2018.apply(lambda row : row.Pass/row.Count, axis=1)"
   ]
  },
  {
   "cell_type": "code",
   "execution_count": 158,
   "metadata": {
    "colab": {},
    "colab_type": "code",
    "id": "L09cMY7ndk8F"
   },
   "outputs": [],
   "source": [
    "community_count_2010 = community_count_2010.drop(\"Count\",axis=1)\n",
    "community_count_2018 = community_count_2018.drop(\"Count\",axis=1)"
   ]
  },
  {
   "cell_type": "code",
   "execution_count": 159,
   "metadata": {
    "colab": {},
    "colab_type": "code",
    "id": "erQFnqGjqW1m"
   },
   "outputs": [],
   "source": [
    "# Convert from 0 to 1 floats to percentages and round it\n",
    "def convert_to_rounded_percentages(dataframe, column):\n",
    "    dataframe[column] = dataframe[column].apply(lambda x: round(100 * x, ndigits=1))"
   ]
  },
  {
   "cell_type": "code",
   "execution_count": 160,
   "metadata": {
    "colab": {},
    "colab_type": "code",
    "id": "j74LN20IqYQY"
   },
   "outputs": [],
   "source": [
    "convert_to_rounded_percentages(community_count_2010, 'Pass')\n",
    "convert_to_rounded_percentages(community_count_2018, 'Pass')"
   ]
  },
  {
   "cell_type": "markdown",
   "metadata": {
    "colab_type": "text",
    "id": "RRKdH-Jqdmh1"
   },
   "source": [
    "We can now plot the percentage of valid restaurants per area in 2010..."
   ]
  },
  {
   "cell_type": "code",
   "execution_count": 161,
   "metadata": {
    "colab": {
     "base_uri": "https://localhost:8080/",
     "height": 542
    },
    "colab_type": "code",
    "id": "FqcvHmEcc8vx",
    "outputId": "601838f1-52ad-4680-fb68-3c8531226f26"
   },
   "outputs": [
    {
     "data": {
      "text/html": [
       "\n",
       "        <iframe\n",
       "            width=\"1000\"\n",
       "            height=\"600\"\n",
       "            src=\"percentage_passing_2010.html\"\n",
       "            frameborder=\"0\"\n",
       "            allowfullscreen\n",
       "        ></iframe>\n",
       "        "
      ],
      "text/plain": [
       "<IPython.lib.display.IFrame at 0x20831454f60>"
      ]
     },
     "execution_count": 161,
     "metadata": {},
     "output_type": "execute_result"
    }
   ],
   "source": [
    "options = {\n",
    "    'colorscale': [\n",
    "        [0.0, 'rgb(255, 0, 0)'],\n",
    "        [1.0, 'rgb(255, 255, 0)']\n",
    "    ],\n",
    "    'colorbar': {\n",
    "        'title': 'Percentage',\n",
    "        'ticksuffix': '%'\n",
    "    }\n",
    "}\n",
    "figure = plot_by_criteria('community', community_count_2010, 'Community', 'Pass', 'Percentage of passing restaurants in 2010', options)\n",
    "#figure.show()\n",
    "plot_offline(figure,\"percentage_passing_2010.html\")"
   ]
  },
  {
   "cell_type": "markdown",
   "metadata": {
    "colab_type": "text",
    "id": "ttsW7bBieDN0"
   },
   "source": [
    "... and in 2018 :"
   ]
  },
  {
   "cell_type": "code",
   "execution_count": 162,
   "metadata": {
    "colab": {
     "base_uri": "https://localhost:8080/",
     "height": 542
    },
    "colab_type": "code",
    "id": "v6vD7Cjga-xw",
    "outputId": "a3af77a0-1f57-4625-ccc7-02923e2fc773"
   },
   "outputs": [
    {
     "data": {
      "text/html": [
       "\n",
       "        <iframe\n",
       "            width=\"1000\"\n",
       "            height=\"600\"\n",
       "            src=\"percentage_passing_2018.html\"\n",
       "            frameborder=\"0\"\n",
       "            allowfullscreen\n",
       "        ></iframe>\n",
       "        "
      ],
      "text/plain": [
       "<IPython.lib.display.IFrame at 0x2082d981080>"
      ]
     },
     "execution_count": 162,
     "metadata": {},
     "output_type": "execute_result"
    }
   ],
   "source": [
    "figure = plot_by_criteria('community', community_count_2018, 'Community', 'Pass', 'Percentage of passing restaurants in 2018', options)\n",
    "#figure.show()\n",
    "plot_offline(figure,\"percentage_passing_2018.html\")"
   ]
  },
  {
   "cell_type": "markdown",
   "metadata": {
    "colab_type": "text",
    "id": "cxyYLnxDeWgy"
   },
   "source": [
    "Overall, it seems that the percentage of restaurants passing inspections has decreased between 2010 and 2018 (which shows that the number of safety violations and and inspection results are not related, as we saw previously that most areas have decreased their number of violations over time). We can notice that the lowest percentage is lower in 2018 compared to 2010."
   ]
  },
  {
   "cell_type": "markdown",
   "metadata": {
    "colab_type": "text",
    "id": "izUrMzZTM3Hw"
   },
   "source": [
    "#### Evolution with respect to the risk level"
   ]
  },
  {
   "cell_type": "markdown",
   "metadata": {
    "colab_type": "text",
    "id": "Ba2YaM3vCJlI"
   },
   "source": [
    "We can now look into the evolution of risk levels over time. We define the risk level of a community area as the average of the risk levels of all restaurants in that area, as determined by their latest inspection. We will compare average risk levels between 2010 and 2018."
   ]
  },
  {
   "cell_type": "code",
   "execution_count": 163,
   "metadata": {
    "colab": {
     "base_uri": "https://localhost:8080/",
     "height": 52
    },
    "colab_type": "code",
    "id": "AaHI_JVRCOjq",
    "outputId": "cf626e70-7916-4696-fd11-e887c40c66c5"
   },
   "outputs": [
    {
     "data": {
      "text/plain": [
       "array(['Risk 1 (High)', 'Risk 2 (Medium)', 'Risk 3 (Low)', 'All'],\n",
       "      dtype=object)"
      ]
     },
     "execution_count": 163,
     "metadata": {},
     "output_type": "execute_result"
    }
   ],
   "source": [
    "chicago_2018.Risk.unique()"
   ]
  },
  {
   "cell_type": "code",
   "execution_count": 164,
   "metadata": {
    "colab": {
     "base_uri": "https://localhost:8080/",
     "height": 227
    },
    "colab_type": "code",
    "id": "U-utGZdHCP-N",
    "outputId": "cdd16439-22c2-4ae1-9408-028f04024eef"
   },
   "outputs": [
    {
     "data": {
      "text/html": [
       "<div>\n",
       "<style scoped>\n",
       "    .dataframe tbody tr th:only-of-type {\n",
       "        vertical-align: middle;\n",
       "    }\n",
       "\n",
       "    .dataframe tbody tr th {\n",
       "        vertical-align: top;\n",
       "    }\n",
       "\n",
       "    .dataframe thead th {\n",
       "        text-align: right;\n",
       "    }\n",
       "</style>\n",
       "<table border=\"1\" class=\"dataframe\">\n",
       "  <thead>\n",
       "    <tr style=\"text-align: right;\">\n",
       "      <th></th>\n",
       "      <th>Inspection ID</th>\n",
       "      <th>DBA Name</th>\n",
       "      <th>AKA Name</th>\n",
       "      <th>License #</th>\n",
       "      <th>Facility Type</th>\n",
       "      <th>Risk</th>\n",
       "      <th>Address</th>\n",
       "      <th>City</th>\n",
       "      <th>State</th>\n",
       "      <th>Zip</th>\n",
       "      <th>...</th>\n",
       "      <th>Longitude</th>\n",
       "      <th>Location</th>\n",
       "      <th>Re-inspection</th>\n",
       "      <th>Community</th>\n",
       "      <th>District</th>\n",
       "      <th>Violation Codes</th>\n",
       "      <th>Violation Codes Generalized</th>\n",
       "      <th>Critical Violation Noticed</th>\n",
       "      <th>Serious Violation Noticed</th>\n",
       "      <th>nb_violations</th>\n",
       "    </tr>\n",
       "  </thead>\n",
       "  <tbody>\n",
       "    <tr>\n",
       "      <td>14699</td>\n",
       "      <td>2200988</td>\n",
       "      <td>111 COFFEE BAR</td>\n",
       "      <td>NaN</td>\n",
       "      <td>2608177</td>\n",
       "      <td>Restaurant</td>\n",
       "      <td>All</td>\n",
       "      <td>1419 W 111 TH ST</td>\n",
       "      <td>Chicago</td>\n",
       "      <td>IL</td>\n",
       "      <td>60643</td>\n",
       "      <td>...</td>\n",
       "      <td>-87.657782</td>\n",
       "      <td>{'longitude': '41.692058710097896', 'latitude'...</td>\n",
       "      <td>False</td>\n",
       "      <td>MORGAN PARK</td>\n",
       "      <td>Far Southwest Side</td>\n",
       "      <td>[]</td>\n",
       "      <td>[]</td>\n",
       "      <td>False</td>\n",
       "      <td>False</td>\n",
       "      <td>0</td>\n",
       "    </tr>\n",
       "    <tr>\n",
       "      <td>21148</td>\n",
       "      <td>2145021</td>\n",
       "      <td>SAY GRACE RESTAURANT GROUP</td>\n",
       "      <td>LOVE TACO</td>\n",
       "      <td>2506479</td>\n",
       "      <td>Restaurant</td>\n",
       "      <td>All</td>\n",
       "      <td>109 E 51ST ST</td>\n",
       "      <td>Chicago</td>\n",
       "      <td>IL</td>\n",
       "      <td>60615</td>\n",
       "      <td>...</td>\n",
       "      <td>-87.622200</td>\n",
       "      <td>{'longitude': '41.80189763712391', 'latitude':...</td>\n",
       "      <td>False</td>\n",
       "      <td>WASHINGTON PARK</td>\n",
       "      <td>South Side</td>\n",
       "      <td>[]</td>\n",
       "      <td>[]</td>\n",
       "      <td>False</td>\n",
       "      <td>False</td>\n",
       "      <td>0</td>\n",
       "    </tr>\n",
       "  </tbody>\n",
       "</table>\n",
       "<p>2 rows × 25 columns</p>\n",
       "</div>"
      ],
      "text/plain": [
       "       Inspection ID                    DBA Name   AKA Name  License #  \\\n",
       "14699        2200988              111 COFFEE BAR        NaN    2608177   \n",
       "21148        2145021  SAY GRACE RESTAURANT GROUP  LOVE TACO    2506479   \n",
       "\n",
       "      Facility Type Risk            Address     City State    Zip  ...  \\\n",
       "14699    Restaurant  All  1419 W 111 TH ST   Chicago    IL  60643  ...   \n",
       "21148    Restaurant  All     109 E 51ST ST   Chicago    IL  60615  ...   \n",
       "\n",
       "       Longitude                                           Location  \\\n",
       "14699 -87.657782  {'longitude': '41.692058710097896', 'latitude'...   \n",
       "21148 -87.622200  {'longitude': '41.80189763712391', 'latitude':...   \n",
       "\n",
       "       Re-inspection        Community            District  Violation Codes  \\\n",
       "14699          False      MORGAN PARK  Far Southwest Side               []   \n",
       "21148          False  WASHINGTON PARK          South Side               []   \n",
       "\n",
       "      Violation Codes Generalized  Critical Violation Noticed  \\\n",
       "14699                          []                       False   \n",
       "21148                          []                       False   \n",
       "\n",
       "      Serious Violation Noticed nb_violations  \n",
       "14699                     False             0  \n",
       "21148                     False             0  \n",
       "\n",
       "[2 rows x 25 columns]"
      ]
     },
     "execution_count": 164,
     "metadata": {},
     "output_type": "execute_result"
    }
   ],
   "source": [
    "chicago_2018[chicago_2018.Risk == \"All\"]"
   ]
  },
  {
   "cell_type": "markdown",
   "metadata": {
    "colab_type": "text",
    "id": "FKSxzTy7CUnW"
   },
   "source": [
    "We can see that two restaurants have the string \"All\" in their Risk column instead of a risk level. As these two restaurants have just been granted their license and have no inspection results, we will consider their risk level to be maximal (Risk 1 - High)."
   ]
  },
  {
   "cell_type": "code",
   "execution_count": 165,
   "metadata": {
    "colab": {},
    "colab_type": "code",
    "id": "ab5PYnPXCSDS"
   },
   "outputs": [],
   "source": [
    "chicago_2018.replace({'Risk':{'All':'Risk 1 (High)'}},inplace=True)"
   ]
  },
  {
   "cell_type": "code",
   "execution_count": 166,
   "metadata": {
    "colab": {
     "base_uri": "https://localhost:8080/",
     "height": 552
    },
    "colab_type": "code",
    "id": "5i6AFwLkCZuS",
    "outputId": "1345e264-981d-4915-82b9-11ead2b0f4c6"
   },
   "outputs": [
    {
     "data": {
      "text/html": [
       "<div>\n",
       "<style scoped>\n",
       "    .dataframe tbody tr th:only-of-type {\n",
       "        vertical-align: middle;\n",
       "    }\n",
       "\n",
       "    .dataframe tbody tr th {\n",
       "        vertical-align: top;\n",
       "    }\n",
       "\n",
       "    .dataframe thead th {\n",
       "        text-align: right;\n",
       "    }\n",
       "</style>\n",
       "<table border=\"1\" class=\"dataframe\">\n",
       "  <thead>\n",
       "    <tr style=\"text-align: right;\">\n",
       "      <th></th>\n",
       "      <th>Inspection ID</th>\n",
       "      <th>DBA Name</th>\n",
       "      <th>AKA Name</th>\n",
       "      <th>License #</th>\n",
       "      <th>Facility Type</th>\n",
       "      <th>Risk</th>\n",
       "      <th>Address</th>\n",
       "      <th>City</th>\n",
       "      <th>State</th>\n",
       "      <th>Zip</th>\n",
       "      <th>...</th>\n",
       "      <th>Longitude</th>\n",
       "      <th>Location</th>\n",
       "      <th>Re-inspection</th>\n",
       "      <th>Community</th>\n",
       "      <th>District</th>\n",
       "      <th>Violation Codes</th>\n",
       "      <th>Violation Codes Generalized</th>\n",
       "      <th>Critical Violation Noticed</th>\n",
       "      <th>Serious Violation Noticed</th>\n",
       "      <th>nb_violations</th>\n",
       "    </tr>\n",
       "  </thead>\n",
       "  <tbody>\n",
       "    <tr>\n",
       "      <td>122897</td>\n",
       "      <td>413930</td>\n",
       "      <td>MY LITTLE SPACE CYBER CAFE</td>\n",
       "      <td>MY LITTLE SPACE CYBER CAFE</td>\n",
       "      <td>2054682</td>\n",
       "      <td>Restaurant</td>\n",
       "      <td>1</td>\n",
       "      <td>2943 W IRVING PARK RD</td>\n",
       "      <td>Chicago</td>\n",
       "      <td>IL</td>\n",
       "      <td>60618</td>\n",
       "      <td>...</td>\n",
       "      <td>-87.702437</td>\n",
       "      <td>{'longitude': '41.95384422496512', 'latitude':...</td>\n",
       "      <td>True</td>\n",
       "      <td>IRVING PARK</td>\n",
       "      <td>Northwest Side</td>\n",
       "      <td>[]</td>\n",
       "      <td>[]</td>\n",
       "      <td>False</td>\n",
       "      <td>False</td>\n",
       "      <td>0</td>\n",
       "    </tr>\n",
       "    <tr>\n",
       "      <td>127396</td>\n",
       "      <td>233768</td>\n",
       "      <td>IL VICINATO INC</td>\n",
       "      <td>IL VICINATO</td>\n",
       "      <td>6509</td>\n",
       "      <td>Restaurant</td>\n",
       "      <td>1</td>\n",
       "      <td>2435 S WESTERN AVE</td>\n",
       "      <td>Chicago</td>\n",
       "      <td>IL</td>\n",
       "      <td>60608</td>\n",
       "      <td>...</td>\n",
       "      <td>-87.685363</td>\n",
       "      <td>{'longitude': '41.847385062646644', 'latitude'...</td>\n",
       "      <td>False</td>\n",
       "      <td>LOWER WEST SIDE</td>\n",
       "      <td>West Side</td>\n",
       "      <td>[32, 33, 34, 35, 43, 16, 30]</td>\n",
       "      <td>[2, 3, 3, 2, 2, 1, 1]</td>\n",
       "      <td>False</td>\n",
       "      <td>True</td>\n",
       "      <td>7</td>\n",
       "    </tr>\n",
       "    <tr>\n",
       "      <td>122302</td>\n",
       "      <td>419429</td>\n",
       "      <td>Booil Restaurant</td>\n",
       "      <td>Booil Restaurant</td>\n",
       "      <td>1990863</td>\n",
       "      <td>Restaurant</td>\n",
       "      <td>1</td>\n",
       "      <td>3346 W Bryn Mawr AVE</td>\n",
       "      <td>Chicago</td>\n",
       "      <td>IL</td>\n",
       "      <td>60659</td>\n",
       "      <td>...</td>\n",
       "      <td>-87.713212</td>\n",
       "      <td>{'longitude': '41.98312305188657', 'latitude':...</td>\n",
       "      <td>False</td>\n",
       "      <td>NORTH PARK</td>\n",
       "      <td>Far North Side</td>\n",
       "      <td>[32, 33, 34, 35, 36, 38, 41]</td>\n",
       "      <td>[2, 3, 3, 2, 2, 2, 3]</td>\n",
       "      <td>False</td>\n",
       "      <td>False</td>\n",
       "      <td>7</td>\n",
       "    </tr>\n",
       "    <tr>\n",
       "      <td>125627</td>\n",
       "      <td>277142</td>\n",
       "      <td>CARNICERIA&amp;FRUTERIA EL MITOTE</td>\n",
       "      <td>CARNICERIA &amp; FRUTERIA EL MITOTE</td>\n",
       "      <td>49322</td>\n",
       "      <td>Restaurant</td>\n",
       "      <td>1</td>\n",
       "      <td>4459 W BELMONT AVE</td>\n",
       "      <td>Chicago</td>\n",
       "      <td>IL</td>\n",
       "      <td>60641</td>\n",
       "      <td>...</td>\n",
       "      <td>-87.739434</td>\n",
       "      <td>{'longitude': '41.93881951468354', 'latitude':...</td>\n",
       "      <td>True</td>\n",
       "      <td>HERMOSA</td>\n",
       "      <td>Northwest Side</td>\n",
       "      <td>[32, 33, 34, 35, 36, 30, 31]</td>\n",
       "      <td>[2, 3, 3, 2, 2, 1, 3]</td>\n",
       "      <td>False</td>\n",
       "      <td>False</td>\n",
       "      <td>7</td>\n",
       "    </tr>\n",
       "    <tr>\n",
       "      <td>129352</td>\n",
       "      <td>231231</td>\n",
       "      <td>WING CHAN</td>\n",
       "      <td>WING CHAN</td>\n",
       "      <td>6097</td>\n",
       "      <td>Restaurant</td>\n",
       "      <td>1</td>\n",
       "      <td>2157 S CHINA PL</td>\n",
       "      <td>Chicago</td>\n",
       "      <td>IL</td>\n",
       "      <td>60616</td>\n",
       "      <td>...</td>\n",
       "      <td>-87.635025</td>\n",
       "      <td>{'longitude': '41.85363922646491', 'latitude':...</td>\n",
       "      <td>True</td>\n",
       "      <td>ARMOUR SQUARE</td>\n",
       "      <td>South Side</td>\n",
       "      <td>[32, 33, 3, 36, 35, 38, 41]</td>\n",
       "      <td>[2, 3, 1, 2, 2, 2, 3]</td>\n",
       "      <td>True</td>\n",
       "      <td>False</td>\n",
       "      <td>7</td>\n",
       "    </tr>\n",
       "  </tbody>\n",
       "</table>\n",
       "<p>5 rows × 25 columns</p>\n",
       "</div>"
      ],
      "text/plain": [
       "        Inspection ID                       DBA Name  \\\n",
       "122897         413930     MY LITTLE SPACE CYBER CAFE   \n",
       "127396         233768                IL VICINATO INC   \n",
       "122302         419429               Booil Restaurant   \n",
       "125627         277142  CARNICERIA&FRUTERIA EL MITOTE   \n",
       "129352         231231                      WING CHAN   \n",
       "\n",
       "                               AKA Name  License # Facility Type  Risk  \\\n",
       "122897       MY LITTLE SPACE CYBER CAFE    2054682    Restaurant     1   \n",
       "127396                      IL VICINATO       6509    Restaurant     1   \n",
       "122302                 Booil Restaurant    1990863    Restaurant     1   \n",
       "125627  CARNICERIA & FRUTERIA EL MITOTE      49322    Restaurant     1   \n",
       "129352                        WING CHAN       6097    Restaurant     1   \n",
       "\n",
       "                       Address     City State    Zip  ...  Longitude  \\\n",
       "122897  2943 W IRVING PARK RD   Chicago    IL  60618  ... -87.702437   \n",
       "127396     2435 S WESTERN AVE   Chicago    IL  60608  ... -87.685363   \n",
       "122302   3346 W Bryn Mawr AVE   Chicago    IL  60659  ... -87.713212   \n",
       "125627     4459 W BELMONT AVE   Chicago    IL  60641  ... -87.739434   \n",
       "129352        2157 S CHINA PL   Chicago    IL  60616  ... -87.635025   \n",
       "\n",
       "                                                 Location  Re-inspection  \\\n",
       "122897  {'longitude': '41.95384422496512', 'latitude':...           True   \n",
       "127396  {'longitude': '41.847385062646644', 'latitude'...          False   \n",
       "122302  {'longitude': '41.98312305188657', 'latitude':...          False   \n",
       "125627  {'longitude': '41.93881951468354', 'latitude':...           True   \n",
       "129352  {'longitude': '41.85363922646491', 'latitude':...           True   \n",
       "\n",
       "              Community        District               Violation Codes  \\\n",
       "122897      IRVING PARK  Northwest Side                            []   \n",
       "127396  LOWER WEST SIDE       West Side  [32, 33, 34, 35, 43, 16, 30]   \n",
       "122302       NORTH PARK  Far North Side  [32, 33, 34, 35, 36, 38, 41]   \n",
       "125627          HERMOSA  Northwest Side  [32, 33, 34, 35, 36, 30, 31]   \n",
       "129352    ARMOUR SQUARE      South Side   [32, 33, 3, 36, 35, 38, 41]   \n",
       "\n",
       "       Violation Codes Generalized  Critical Violation Noticed  \\\n",
       "122897                          []                       False   \n",
       "127396       [2, 3, 3, 2, 2, 1, 1]                       False   \n",
       "122302       [2, 3, 3, 2, 2, 2, 3]                       False   \n",
       "125627       [2, 3, 3, 2, 2, 1, 3]                       False   \n",
       "129352       [2, 3, 1, 2, 2, 2, 3]                        True   \n",
       "\n",
       "       Serious Violation Noticed nb_violations  \n",
       "122897                     False             0  \n",
       "127396                      True             7  \n",
       "122302                     False             7  \n",
       "125627                     False             7  \n",
       "129352                     False             7  \n",
       "\n",
       "[5 rows x 25 columns]"
      ]
     },
     "execution_count": 166,
     "metadata": {},
     "output_type": "execute_result"
    }
   ],
   "source": [
    "chicago_2010 = chicago_2010[~chicago_2010.Risk.isna()]\n",
    "chicago_2010.loc[:,'Risk'] = chicago_2010.Risk.apply(lambda r : int(r.split(\" \")[1]))\n",
    "chicago_2010.sample(5)"
   ]
  },
  {
   "cell_type": "code",
   "execution_count": 167,
   "metadata": {
    "colab": {},
    "colab_type": "code",
    "id": "dThAfLFjCctE"
   },
   "outputs": [],
   "source": [
    "chicago_2018 = chicago_2018[~chicago_2018.Risk.isna()]\n",
    "chicago_2018.loc[:,'Risk'] = chicago_2018.Risk.apply(lambda r : int(r.split(\" \")[1]))"
   ]
  },
  {
   "cell_type": "code",
   "execution_count": 168,
   "metadata": {
    "colab": {},
    "colab_type": "code",
    "id": "dVfXfHU0CfIB"
   },
   "outputs": [],
   "source": [
    "# Computing average risk level per area\n",
    "\n",
    "risk_by_com2010 = chicago_2010.groupby([\"License #\",\"Community\"])\\\n",
    "                                .apply(lambda g : g.sort_values(by=\"Inspection Date\").iloc[-1].Risk)\\\n",
    "                                .groupby(\"Community\")\\\n",
    "                                .mean()\n",
    "risk_by_com2018 = chicago_2018.groupby([\"License #\",\"Community\"])\\\n",
    "                                .apply(lambda g : g.sort_values(by=\"Inspection Date\").iloc[-1].Risk)\\\n",
    "                                .groupby(\"Community\")\\\n",
    "                                .mean()"
   ]
  },
  {
   "cell_type": "code",
   "execution_count": 169,
   "metadata": {
    "colab": {
     "base_uri": "https://localhost:8080/",
     "height": 248
    },
    "colab_type": "code",
    "id": "m8Ze9JAnDdSA",
    "outputId": "e4158426-ec29-41d8-915f-c83fa74d649f"
   },
   "outputs": [
    {
     "data": {
      "text/plain": [
       "Community\n",
       "ALBANY PARK       1.203704\n",
       "ARCHER HEIGHTS    1.076923\n",
       "ARMOUR SQUARE     1.191781\n",
       "ASHBURN           1.384615\n",
       "AUBURN GRESHAM    1.416667\n",
       "                    ...   \n",
       "WEST LAWN         1.144928\n",
       "WEST PULLMAN      1.437500\n",
       "WEST RIDGE        1.088235\n",
       "WEST TOWN         1.201863\n",
       "WOODLAWN          1.611111\n",
       "Length: 75, dtype: float64"
      ]
     },
     "execution_count": 169,
     "metadata": {},
     "output_type": "execute_result"
    }
   ],
   "source": [
    "risk_by_com2010"
   ]
  },
  {
   "cell_type": "code",
   "execution_count": 170,
   "metadata": {
    "colab": {},
    "colab_type": "code",
    "id": "_XIMFNjpDfuC"
   },
   "outputs": [],
   "source": [
    "risk_by_com2010 = pd.DataFrame({\"Community\":risk_by_com2010.index,\"Mean risk\": risk_by_com2010.values})\n",
    "risk_by_com2018 = pd.DataFrame({\"Community\":risk_by_com2018.index,\"Mean risk\": risk_by_com2018.values})"
   ]
  },
  {
   "cell_type": "markdown",
   "metadata": {
    "colab_type": "text",
    "id": "Obf3XMQ_Dknx"
   },
   "source": [
    "We can now visualize the average risk level per area in 2010 :"
   ]
  },
  {
   "cell_type": "code",
   "execution_count": 171,
   "metadata": {
    "colab": {
     "base_uri": "https://localhost:8080/",
     "height": 542
    },
    "colab_type": "code",
    "id": "0UFNru65Dfl-",
    "outputId": "05c6c63b-30b8-45da-8eee-59186b50e366"
   },
   "outputs": [
    {
     "data": {
      "text/html": [
       "\n",
       "        <iframe\n",
       "            width=\"1000\"\n",
       "            height=\"600\"\n",
       "            src=\"mean_risk_area_2010.html\"\n",
       "            frameborder=\"0\"\n",
       "            allowfullscreen\n",
       "        ></iframe>\n",
       "        "
      ],
      "text/plain": [
       "<IPython.lib.display.IFrame at 0x2081f522080>"
      ]
     },
     "execution_count": 171,
     "metadata": {},
     "output_type": "execute_result"
    }
   ],
   "source": [
    "options = {\n",
    "    'colorscale': [\n",
    "        [0.0, 'rgb(255, 0, 0)'],\n",
    "        [1.0, 'rgb(255, 255, 0)']\n",
    "    ],\n",
    "    'colorbar': {\n",
    "        'title': 'Risk level'\n",
    "    }\n",
    "}\n",
    "\n",
    "figure = plot_by_criteria('community', risk_by_com2010, 'Community', 'Mean risk',\\\n",
    "                 'Mean risk level per area in 2010', options)\n",
    "plot_offline(figure,\"mean_risk_area_2010.html\")"
   ]
  },
  {
   "cell_type": "markdown",
   "metadata": {
    "colab_type": "text",
    "id": "wCX4gq2WDsIk"
   },
   "source": [
    "And in 2018 : "
   ]
  },
  {
   "cell_type": "code",
   "execution_count": 172,
   "metadata": {
    "colab": {
     "base_uri": "https://localhost:8080/",
     "height": 542
    },
    "colab_type": "code",
    "id": "kc_q0pA8Dv7Z",
    "outputId": "66314b55-0f65-4210-e372-3b0ee0ab5f0c"
   },
   "outputs": [
    {
     "data": {
      "text/html": [
       "\n",
       "        <iframe\n",
       "            width=\"1000\"\n",
       "            height=\"600\"\n",
       "            src=\"mean_risk_area_2018.html\"\n",
       "            frameborder=\"0\"\n",
       "            allowfullscreen\n",
       "        ></iframe>\n",
       "        "
      ],
      "text/plain": [
       "<IPython.lib.display.IFrame at 0x20830cddda0>"
      ]
     },
     "execution_count": 172,
     "metadata": {},
     "output_type": "execute_result"
    }
   ],
   "source": [
    "options = {\n",
    "    'colorscale': [\n",
    "        [0.0, 'rgb(255, 0, 0)'],\n",
    "        [1.0, 'rgb(255, 255, 0)']\n",
    "    ],\n",
    "    'colorbar': {\n",
    "        'title': 'Risk level'\n",
    "    }\n",
    "}\n",
    "\n",
    "figure = plot_by_criteria('community', risk_by_com2018, 'Community', 'Mean risk',\\\n",
    "                 'Mean risk level per area in 2018', options)\n",
    "plot_offline(figure,\"mean_risk_area_2018.html\")"
   ]
  },
  {
   "cell_type": "markdown",
   "metadata": {
    "colab_type": "text",
    "id": "LrCjmA2wD0kf"
   },
   "source": [
    "It seems that risk level averages have decreased, which means that restaurants are overall considered less safe.\n"
   ]
  },
  {
   "cell_type": "markdown",
   "metadata": {
    "colab_type": "text",
    "id": "Q2LTaa50NIpJ"
   },
   "source": [
    "#### Analysis on popular Restaurant chains"
   ]
  },
  {
   "cell_type": "markdown",
   "metadata": {
    "colab_type": "text",
    "id": "jEZSYdxSDz8H"
   },
   "source": [
    "Let's now have at look at how the performance of famous restaurant chains changes over time."
   ]
  },
  {
   "cell_type": "code",
   "execution_count": 173,
   "metadata": {
    "colab": {
     "base_uri": "https://localhost:8080/",
     "height": 956
    },
    "colab_type": "code",
    "id": "iJxgEWQlDfCO",
    "outputId": "7f526531-08d7-4671-e65f-e571da32eb76"
   },
   "outputs": [
    {
     "data": {
      "text/html": [
       "<div>\n",
       "<style scoped>\n",
       "    .dataframe tbody tr th:only-of-type {\n",
       "        vertical-align: middle;\n",
       "    }\n",
       "\n",
       "    .dataframe tbody tr th {\n",
       "        vertical-align: top;\n",
       "    }\n",
       "\n",
       "    .dataframe thead th {\n",
       "        text-align: right;\n",
       "    }\n",
       "</style>\n",
       "<table border=\"1\" class=\"dataframe\">\n",
       "  <thead>\n",
       "    <tr style=\"text-align: right;\">\n",
       "      <th></th>\n",
       "      <th>count</th>\n",
       "    </tr>\n",
       "    <tr>\n",
       "      <th>AKA Name</th>\n",
       "      <th></th>\n",
       "    </tr>\n",
       "  </thead>\n",
       "  <tbody>\n",
       "    <tr>\n",
       "      <td>SUBWAY</td>\n",
       "      <td>336</td>\n",
       "    </tr>\n",
       "    <tr>\n",
       "      <td>DUNKIN DONUTS</td>\n",
       "      <td>172</td>\n",
       "    </tr>\n",
       "    <tr>\n",
       "      <td>MCDONALD'S</td>\n",
       "      <td>62</td>\n",
       "    </tr>\n",
       "    <tr>\n",
       "      <td>STARBUCKS</td>\n",
       "      <td>56</td>\n",
       "    </tr>\n",
       "    <tr>\n",
       "      <td>STARBUCKS COFFEE</td>\n",
       "      <td>55</td>\n",
       "    </tr>\n",
       "    <tr>\n",
       "      <td>BURGER KING</td>\n",
       "      <td>52</td>\n",
       "    </tr>\n",
       "    <tr>\n",
       "      <td>PIZZA HUT</td>\n",
       "      <td>46</td>\n",
       "    </tr>\n",
       "    <tr>\n",
       "      <td>TACO BELL</td>\n",
       "      <td>37</td>\n",
       "    </tr>\n",
       "    <tr>\n",
       "      <td>DUNKIN DONUTS/BASKIN ROBBINS</td>\n",
       "      <td>35</td>\n",
       "    </tr>\n",
       "    <tr>\n",
       "      <td>WENDY'S</td>\n",
       "      <td>34</td>\n",
       "    </tr>\n",
       "    <tr>\n",
       "      <td>KFC</td>\n",
       "      <td>34</td>\n",
       "    </tr>\n",
       "    <tr>\n",
       "      <td>FRESHII</td>\n",
       "      <td>33</td>\n",
       "    </tr>\n",
       "    <tr>\n",
       "      <td>JIMMY JOHN'S</td>\n",
       "      <td>30</td>\n",
       "    </tr>\n",
       "    <tr>\n",
       "      <td>DOMINO'S PIZZA</td>\n",
       "      <td>29</td>\n",
       "    </tr>\n",
       "    <tr>\n",
       "      <td>MCDONALDS</td>\n",
       "      <td>28</td>\n",
       "    </tr>\n",
       "    <tr>\n",
       "      <td>JAMBA JUICE</td>\n",
       "      <td>27</td>\n",
       "    </tr>\n",
       "    <tr>\n",
       "      <td>WINGSTOP</td>\n",
       "      <td>26</td>\n",
       "    </tr>\n",
       "    <tr>\n",
       "      <td>KENTUCKY FRIED CHICKEN</td>\n",
       "      <td>25</td>\n",
       "    </tr>\n",
       "    <tr>\n",
       "      <td>CHIPOTLE MEXICAN GRILL</td>\n",
       "      <td>25</td>\n",
       "    </tr>\n",
       "    <tr>\n",
       "      <td>AU BON PAIN</td>\n",
       "      <td>21</td>\n",
       "    </tr>\n",
       "    <tr>\n",
       "      <td>SHARKS FISH &amp; CHICKEN</td>\n",
       "      <td>20</td>\n",
       "    </tr>\n",
       "    <tr>\n",
       "      <td>POTBELLY SANDWICH WORKS</td>\n",
       "      <td>20</td>\n",
       "    </tr>\n",
       "    <tr>\n",
       "      <td>Subway</td>\n",
       "      <td>19</td>\n",
       "    </tr>\n",
       "    <tr>\n",
       "      <td>HAROLD'S CHICKEN</td>\n",
       "      <td>19</td>\n",
       "    </tr>\n",
       "    <tr>\n",
       "      <td>HAROLD'S CHICKEN SHACK</td>\n",
       "      <td>19</td>\n",
       "    </tr>\n",
       "    <tr>\n",
       "      <td>SUBWAY SANDWICHES</td>\n",
       "      <td>18</td>\n",
       "    </tr>\n",
       "    <tr>\n",
       "      <td>FLAT TOP GRILL</td>\n",
       "      <td>17</td>\n",
       "    </tr>\n",
       "    <tr>\n",
       "      <td>CORNER BAKERY CAFE</td>\n",
       "      <td>17</td>\n",
       "    </tr>\n",
       "    <tr>\n",
       "      <td>SEE THRU CHINESE KITCHEN</td>\n",
       "      <td>17</td>\n",
       "    </tr>\n",
       "    <tr>\n",
       "      <td>LA MICHOACANA</td>\n",
       "      <td>17</td>\n",
       "    </tr>\n",
       "  </tbody>\n",
       "</table>\n",
       "</div>"
      ],
      "text/plain": [
       "                              count\n",
       "AKA Name                           \n",
       "SUBWAY                          336\n",
       "DUNKIN DONUTS                   172\n",
       "MCDONALD'S                       62\n",
       "STARBUCKS                        56\n",
       "STARBUCKS COFFEE                 55\n",
       "BURGER KING                      52\n",
       "PIZZA HUT                        46\n",
       "TACO BELL                        37\n",
       "DUNKIN DONUTS/BASKIN ROBBINS     35\n",
       "WENDY'S                          34\n",
       "KFC                              34\n",
       "FRESHII                          33\n",
       "JIMMY JOHN'S                     30\n",
       "DOMINO'S PIZZA                   29\n",
       "MCDONALDS                        28\n",
       "JAMBA JUICE                      27\n",
       "WINGSTOP                         26\n",
       "KENTUCKY FRIED CHICKEN           25\n",
       "CHIPOTLE MEXICAN GRILL           25\n",
       "AU BON PAIN                      21\n",
       "SHARKS FISH & CHICKEN            20\n",
       "POTBELLY SANDWICH WORKS          20\n",
       "Subway                           19\n",
       "HAROLD'S CHICKEN                 19\n",
       "HAROLD'S CHICKEN SHACK           19\n",
       "SUBWAY SANDWICHES                18\n",
       "FLAT TOP GRILL                   17\n",
       "CORNER BAKERY CAFE               17\n",
       "SEE THRU CHINESE KITCHEN         17\n",
       "LA MICHOACANA                    17"
      ]
     },
     "execution_count": 173,
     "metadata": {},
     "output_type": "execute_result"
    }
   ],
   "source": [
    "chain_counts = inspections[[\"License #\",\"AKA Name\"]].drop_duplicates().groupby(\"AKA Name\")\\\n",
    "                .agg('count').rename(columns={'License #':'count'}).sort_values(by=\"count\",ascending=False)\n",
    "chain_counts.head(30)"
   ]
  },
  {
   "cell_type": "markdown",
   "metadata": {
    "colab_type": "text",
    "id": "YrXVkV-RETN4"
   },
   "source": [
    "We will study some of the most popular restaurant chains in America :\n",
    "* McDonalds\n",
    "* Subway\n",
    "* Dunkin Donuts\n",
    "* KFC\n",
    "* Burger King\n",
    "* Pizza hut\n",
    "* Taco bell\n",
    "* Starbucks\n",
    "  \n",
    "Unfortunately, restaurant names in the dataset contain different spellings, and some also contain numbers. To identify restaurant chains, we need to find a substring for each chain name that is present only in the names of restaurants belonging to that chain."
   ]
  },
  {
   "cell_type": "code",
   "execution_count": 174,
   "metadata": {
    "colab": {
     "base_uri": "https://localhost:8080/",
     "height": 426
    },
    "colab_type": "code",
    "id": "_MpDOr_9DejN",
    "outputId": "e1d6fff2-aee6-4abf-a5e3-19fcf1911cf8"
   },
   "outputs": [
    {
     "data": {
      "text/plain": [
       "array([\"McDONALD'S\", 'MCDONALDS RESTAURANT', \"MCDONALD'S\",\n",
       "       'MCDONALDS #27672', 'MCDONALDï¿½S', 'MCDONALDS  (T3  K9)',\n",
       "       \"MCDONALD'S RESTAURANT  (T3 H9)\", 'MCDONALDï¿½S 28128',\n",
       "       'MCDONALDS', 'McDonalds', 'MCDONALDS #4655',\n",
       "       \"MCDONALD'S  (T3 HK FOOD COURT)\", 'Mc DONALDS', \"MCDONALD'S #490\",\n",
       "       'MCDONALD?S 28128', 'MC DONALDS', \"MC DONALD'S\",\n",
       "       \"McDONALD'S  (T2  E/F)\", \"Mc DONALD'S  (T3  L4)\",\n",
       "       \"McDONALD'S  (T1  B11)\", 'McDONALDS (T1 C10)', \"MCDONALD'S #20104\",\n",
       "       \"MCDONALD'S RESTAURANTS\", 'MCDONALD?S', \"McDONALD'S  (T5 ARRIVAL)\",\n",
       "       \"MCDONALD'S RESTAURANT\", \"McDonald's Restaurant\", 'McDONALDS',\n",
       "       \"McDonald's\", \"MCDONALD'S #5813\", \"MC DONALD'S RESTAURANT\",\n",
       "       \"MC DONALD' S  # 6888\", 'Mc DONALDS # 25509',\n",
       "       \"MCDONALD'S - McCAFE'\", 'MC DONALDS-MCCORMICK PLACE NORTH',\n",
       "       \"MCDONALD'S #26364\", 'Mc DONALDS # 6771', \"McDONALD'S STORE #4061\",\n",
       "       \"MC DONALD' S # 22100\", \"MCDONALD'S EXPRESS\",\n",
       "       \"MCDONALD'S REST. OF ILLINOIS, INC\", \"MCDONALD'S #11290\",\n",
       "       \"McDONALD'S  (T1-B11)\", \"MCDONALD'S (T5/ARRIVAL)\",\n",
       "       \"MCDONALD'S  (T1-C10)\", \"MCDONALD'S   (T3- L4)\",\n",
       "       \"MCDONALD'S  (T2   E/F)\", 'MCDONALDS #12003', \"MCDONALD' S # 5618\",\n",
       "       \"MCDONALD'S #6337\", 'McDonalds#6337', \"MCDONALD'S #6310\",\n",
       "       'MCDONALDS #7069', \"MCDONALD'S CORPORATION\", 'MCDONALDS #7463',\n",
       "       'ROCK & ROLL MCDONALDS', 'MC DONALDS RESTAURANT',\n",
       "       \"MCDONALD' S RESTAURANT\", 'mcdonalds'], dtype=object)"
      ]
     },
     "execution_count": 174,
     "metadata": {},
     "output_type": "execute_result"
    }
   ],
   "source": [
    "# Filtering McDonalds\n",
    "\n",
    "chicago_clean_names = inspections[~inspections[\"AKA Name\"].isna()]\n",
    "chicago_clean_names[(chicago_clean_names[\"AKA Name\"].str.contains(\"Donald\",case=False)) & ~\n",
    "                    (chicago_clean_names[\"AKA Name\"].str.contains(\"dogs\",case=False))][\"AKA Name\"].unique()"
   ]
  },
  {
   "cell_type": "markdown",
   "metadata": {
    "colab_type": "text",
    "id": "wa6dda5xEnij"
   },
   "source": [
    "We can see that all McDonalds restaurants, despite different names, all contain \"Donald\" in their names; hence we will use \"Donald\" to identify McDonalds."
   ]
  },
  {
   "cell_type": "code",
   "execution_count": 175,
   "metadata": {
    "colab": {
     "base_uri": "https://localhost:8080/",
     "height": 337
    },
    "colab_type": "code",
    "id": "H1Y9ksWCDedd",
    "outputId": "ea9b33cc-e1f6-4fc4-d614-79528d4b2e52"
   },
   "outputs": [
    {
     "data": {
      "text/plain": [
       "array(['DUNKIN DONUTS', 'DUNKIN DONUTS/BASKIN ROBBINS',\n",
       "       'DUNKIN DONUTS / BASKIN ROBBINS', 'DUNKIN DONUTS-BASKIN ROBBINS',\n",
       "       'GRAND CITGO/ MR. SUB / DUNKIN DONUTS',\n",
       "       'DUNKIN DONUTS / BASKIN ROBINS',\n",
       "       'HALSTED SHELL, DUNKIN DONUTS, MR SUB',\n",
       "       \"DUNKIN DONUTS BASKIN ROBBINS TOGO'S\",\n",
       "       'DUNKIN DONUTS/ BASKIN ROBBINS', 'Dunkin Donuts',\n",
       "       'Dunkin Donuts Baskin Robbins', 'DUNKIN DONUTS & BASKIN ROBBINS',\n",
       "       'DUNKIN DONUTS & BASKIN ROBINS', 'DUNKIN DONUTS (T3 HK FOODCOURT)',\n",
       "       'DUNKIN DONUTS BASKIN ROBBINS', 'DUNKIN DONUTS / BASKIN & ROBBINS',\n",
       "       'JETBOX WITH DUNKIN DONUTS', 'BASKIN ROBBINS/ DUNKIN DONUTS',\n",
       "       'DUNKIN DONUTS AND BASKIN ROBBINS', 'SNAPPY, DUNKIN DONUTS, MOBIL',\n",
       "       'Baskin Robbins/Dunkin Donuts', 'DUNKIN DONUTS /  BASKIN ROBBINS',\n",
       "       'DUNKIN DONUTS/BASKIN  ROBBINS', 'DUNKIN DONUTS INC',\n",
       "       'CITGO/DUNKIN DONUTS', 'DUNKIN DONUTS/BASKIN ROBINS',\n",
       "       'DUNKIN DONUTS  BASKIN ROBBINS', 'DUNKIN DONUTS /  BASKIN ROBINS',\n",
       "       \"DUNKIN DONUTS/BR/TOGO'S\", 'DUNKIN DONUTS/BASKIN-ROBBINS'],\n",
       "      dtype=object)"
      ]
     },
     "execution_count": 175,
     "metadata": {},
     "output_type": "execute_result"
    }
   ],
   "source": [
    "# Filtering Dunkin Donuts\n",
    "\n",
    "chicago_clean_names[chicago_clean_names[\"AKA Name\"].str.contains(\"dunkin donuts\",case=False)][\"AKA Name\"].unique()"
   ]
  },
  {
   "cell_type": "code",
   "execution_count": 176,
   "metadata": {
    "colab": {
     "base_uri": "https://localhost:8080/",
     "height": 248
    },
    "colab_type": "code",
    "id": "g_vX6oJ9EtoJ",
    "outputId": "87a5bf6e-3a26-4759-b8fa-9b2ab98ee3e7"
   },
   "outputs": [
    {
     "data": {
      "text/plain": [
       "array(['SUBWAY', 'Subway', 'BP/SUBWAY', 'SUBWAY RESTAURANT',\n",
       "       'SUBWAY (T3 ROTUNDA)', 'SUBWAY SANDWICHES', 'Subway Sandwiches',\n",
       "       'SUBWAY SANDWICHES & SALADS', 'SUBWAY SANDWICH', 'SHELL SUBWAY',\n",
       "       'SUBWAY SANDWICH STORE', 'BP & SUBWAY', 'SUBWAY SANDWICH & SALAD',\n",
       "       'SUBWAY 28330', 'BP GAS & SUBWAY', 'SUBWAY #3333',\n",
       "       'ROAD RANGER/SUBWAY',\n",
       "       'Snappy Convenience Center/Subway/Dunkin Donut', 'SUBWAY 48735',\n",
       "       'SUBWAY 47512', 'SUBWAY #45927', 'SUBWAY 24028', 'LALO SUBWAY INC',\n",
       "       'MADISON SUBWAY LLC', 'SUBWAY #267771', 'Lakeview Subway',\n",
       "       'SUBWAY #25917', 'SUBWAY SANDWICHES & SALAD',\n",
       "       'SUBWAY SANDWICH & SALADS', 'SUBWAY FULLERTON & ASHLAND',\n",
       "       'SUBWAY #23340', 'SUBWAY # 23333', 'SUBWAY #42676',\n",
       "       'SUBWAY #23983', 'SUBWAY 24454'], dtype=object)"
      ]
     },
     "execution_count": 176,
     "metadata": {},
     "output_type": "execute_result"
    }
   ],
   "source": [
    "# Filtering Subway\n",
    "\n",
    "chicago_clean_names[chicago_clean_names[\"AKA Name\"].str.contains(\"Subway\",case=False)][\"AKA Name\"].unique()"
   ]
  },
  {
   "cell_type": "code",
   "execution_count": 177,
   "metadata": {
    "colab": {
     "base_uri": "https://localhost:8080/",
     "height": 266
    },
    "colab_type": "code",
    "id": "eVrvzHGyExTg",
    "outputId": "0b635e73-4e03-4ee7-83b4-3070b6f463c1"
   },
   "outputs": [
    {
     "data": {
      "text/plain": [
       "array(['KFC/TACO BELL', 'KFC', 'KENTUCKY FRIED CHICKEN', 'KFC EXPRESS',\n",
       "       'KENTUCKY FRIED CHICKEN/LONG JOHN SILVERS',\n",
       "       'Kentucky Fried Chicken', 'KENTUCKY FRIED CHICKEN 521054',\n",
       "       'KFC/Long John Silver', 'KENTUCKY FRIED CHICKEN 521041',\n",
       "       'KENTUCKY FRIED CHICKEN 521040', 'KENTUCKY FRIED CHICKEN 521039',\n",
       "       'KENTUCKY FRIED CHICKEN 521037', 'KENTUCKY FRIED CHICKEN 521043',\n",
       "       'KENTUCKY FRIED CHICKEN 521049', 'KENTUCKY FRIED CHICKEN 521035',\n",
       "       'KENTUCKY FRIED CHICKEN 521046', 'KENTUCKY FRIED CHICKEN 521038',\n",
       "       'KENTUCKY FRIED CHICKEN 521036', 'KENTUCKY FRIED CHICKEN 521047',\n",
       "       'KENTUCKY FRIED CHICKEN 521042', 'KENTUCKY FRIED CHICKEN 521048',\n",
       "       'KENTUCKY FRIED CHICKEN 521052', 'KENTUCKY FRIED CHICKEN 521044',\n",
       "       'KFC/PIZZAHUT EXPRESS', 'KENTUCKY FRIED CHICKEN 200-049',\n",
       "       'KENTUCKY FRIED CHICKEN 200 106', 'KENTUCKY FRIED CHICKEN 200 122',\n",
       "       'KFC/LONG JOHN SILVER'], dtype=object)"
      ]
     },
     "execution_count": 177,
     "metadata": {},
     "output_type": "execute_result"
    }
   ],
   "source": [
    "# Filtering KFC\n",
    "\n",
    "chicago_clean_names[chicago_clean_names[\"AKA Name\"].str.contains(\"KFC\",case=False) | \\\n",
    "                   chicago_clean_names[\"AKA Name\"].str.contains(\"Kentucky\",case=False)][\"AKA Name\"].unique()"
   ]
  },
  {
   "cell_type": "code",
   "execution_count": 178,
   "metadata": {
    "colab": {
     "base_uri": "https://localhost:8080/",
     "height": 284
    },
    "colab_type": "code",
    "id": "y5RANcC7E1cg",
    "outputId": "f92a3fde-fcbe-4e5b-fd45-8a0273ae9956"
   },
   "outputs": [
    {
     "data": {
      "text/plain": [
       "array(['BURGER KING #7623', 'BURGER KING #11967', 'BURGER KING',\n",
       "       'BURGER KING #10366', 'BURGER KING #207', 'BURGER KING #17392',\n",
       "       'BURGER KING #22995', 'BURGER KING #2654', 'BURGER KING #25272',\n",
       "       'BURGER KING 19467', 'BURGER KING  #1512', 'BURGER KING#7112',\n",
       "       'BURGER KING #', 'BURGER KING #7112', 'BURGER KING #1512',\n",
       "       'BURGER KING #11297', 'BURGER KING #244', 'BURGER KING #7674',\n",
       "       'BURGER KING #10345', 'BURGER KING #5986', 'BURGER KING #7268',\n",
       "       'BURGER KING #5818', 'BURGER KING #181', 'BURGER KING #7288',\n",
       "       'BURGER KING #16882', 'BURGER KING #1250', 'BURGER KING #1308',\n",
       "       'Burger King', 'BURGER KING #5495', 'BURGER KING #1272',\n",
       "       'BURGER KING #1232', 'BURGER KING # 10797', 'BURGER KING # 215',\n",
       "       'BURGER KING # 3386', 'BURGER KING  #11297', 'BURGER KING #12371',\n",
       "       'BURGER KING 16598', 'BURGER KING #1303', 'BURGER KING # 14476',\n",
       "       'BURGER KING # 12663', 'BURGER KING #8312', 'BURGER KING # 6345',\n",
       "       'BURGER KING #1310'], dtype=object)"
      ]
     },
     "execution_count": 178,
     "metadata": {},
     "output_type": "execute_result"
    }
   ],
   "source": [
    "# Filtering Burger King\n",
    "\n",
    "chicago_clean_names[(chicago_clean_names[\"AKA Name\"].str.contains(\"burger king\",case=False)) & ~\n",
    "                    (chicago_clean_names[\"AKA Name\"].str.contains(\"hamburger\",case=False))][\"AKA Name\"].unique()"
   ]
  },
  {
   "cell_type": "code",
   "execution_count": 179,
   "metadata": {
    "colab": {
     "base_uri": "https://localhost:8080/",
     "height": 124
    },
    "colab_type": "code",
    "id": "iheF18wVE5rO",
    "outputId": "2b17a09a-d0a9-4d01-9764-442d6297d790"
   },
   "outputs": [
    {
     "data": {
      "text/plain": [
       "array(['Pizza Hut', 'PIZZA HUT', 'TARGET/STARBUCKS/PIZZA HUT',\n",
       "       'PIZZA HUT/WING STREET', 'PIZZA HUT RESTAURANT',\n",
       "       'PIZZA HUT 317249', 'TARGET/PIZZA HUT/STARBUCKS',\n",
       "       'PIZZA HUT #405192', 'PIZZA HUT 317253', 'PIZZA HUT EXPRESS',\n",
       "       'PIZZA HUT #405039', 'PIZZA HUT #714363',\n",
       "       'Pizza Hut Express-Goldcoast Dogs'], dtype=object)"
      ]
     },
     "execution_count": 179,
     "metadata": {},
     "output_type": "execute_result"
    }
   ],
   "source": [
    "# Filtering Pizza Hut\n",
    "\n",
    "chicago_clean_names[chicago_clean_names[\"AKA Name\"].str.contains(\"pizza hut\",case=False)][\"AKA Name\"].unique()"
   ]
  },
  {
   "cell_type": "code",
   "execution_count": 180,
   "metadata": {
    "colab": {
     "base_uri": "https://localhost:8080/",
     "height": 106
    },
    "colab_type": "code",
    "id": "nN3aPvfBE67o",
    "outputId": "e8bcb044-d04f-41be-edcc-d976e425e738"
   },
   "outputs": [
    {
     "data": {
      "text/plain": [
       "array(['TACO BELL', 'KFC/TACO BELL', 'TACO BELL #2513',\n",
       "       \"TACO BELL & LONG JOHN SILVER'S\", 'TACO BELL CANTINA',\n",
       "       'TACO BELL 32575', 'TACO BELL 34921', 'TACO BELL #30407',\n",
       "       'Taco Bell', 'TACO BELL_#4171', 'TACO BELL #15855',\n",
       "       'TACO BELL #15875', 'TACO BELL #5751'], dtype=object)"
      ]
     },
     "execution_count": 180,
     "metadata": {},
     "output_type": "execute_result"
    }
   ],
   "source": [
    "# Filtering Taco Bell\n",
    "\n",
    "chicago_clean_names[(chicago_clean_names[\"AKA Name\"].str.contains(\"taco\",case=False)) & (chicago_clean_names[\"AKA Name\"].str.contains(\"bell\",case=False))][\"AKA Name\"].unique()"
   ]
  },
  {
   "cell_type": "code",
   "execution_count": 181,
   "metadata": {
    "colab": {
     "base_uri": "https://localhost:8080/",
     "height": 1000
    },
    "colab_type": "code",
    "id": "yqtQKwJaE83c",
    "outputId": "c5f2b526-74cc-4b5c-a277-94ca4a80e944"
   },
   "outputs": [
    {
     "data": {
      "text/plain": [
       "array(['STARBUCKS  (T1  C-07)', 'STARBUCKS', 'STARBUCKS RESERVE ROASTERY',\n",
       "       'STARBUCKS COFFEE', 'STARBUCKS COFFEE #49695',\n",
       "       'STARBUCKS COFFEE #57239', 'Starbucks Coffee#2229',\n",
       "       'Starbucks Coffee #2428', 'STARBUCKS COFFEE #2565',\n",
       "       'STARBUCKS COFFEE #2545', 'STARBUCKS COFFEE #9942',\n",
       "       'TARGET/STARBUCKS/PIZZA HUT', 'STARBUCKS #2756',\n",
       "       'STARBUCKS  (T1-C27)', 'STARBUCKS COFFEE #13439',\n",
       "       'STARBUCKS COFFEE #2527', 'STARBUCKS COFFEE #228',\n",
       "       'STARBUCKS COFFEE #2410', 'STARBUCKS (T3/BAGGAGE CLAIM)',\n",
       "       'STARBUCKS (T3 K15 FOOD COURT)', 'STARBUCKS  (T3 H6)',\n",
       "       'STARBUCKS   T3 H-13', 'STARBUCKS  T3 L20',\n",
       "       'STARBUCKS COFFEE (T1-B5)', 'STARBUCKS COFFEE (T1-B14)',\n",
       "       'STARBUCKS COFFEE#2261', 'STARBUCKS COFFEE #2949',\n",
       "       'STARBUCKS (T2 LL ARRIVAL)', 'STARBUCKS COFFEE #11751',\n",
       "       'STARBUCKS  (T3 H2)', 'STARBUCKS COFFEE #2334',\n",
       "       'STARBUCKS (T1/B CONCOURSE-BAGGAGE CLAIM)',\n",
       "       'STARBUCKS (MAIN FLOOR)', 'STARBUCKS (T2 MAIN)',\n",
       "       'STARBUCKS COFFEE #2639', 'STARBUCKS COFFEE #10905',\n",
       "       'STARBUCKS COFFEE #2252', 'Starbucks Coffee',\n",
       "       'STARBUCKS COFFEE #2479', 'Starbucks Coffee #233',\n",
       "       'STARBUCKS HK APEX (T3 HK FOODCOURT)', 'STARBUCKS (T3  G14 LL)',\n",
       "       'STARBUCKS COFFEE #233', 'STARBUCKS/T3 L3',\n",
       "       'STARBUCKS (ST XAVIER MORRIS HALL)', 'STARBUCKS COFFEE #2515',\n",
       "       'STARBUCKS COFFEE #2224', 'STARBUCKS ON 1ST FLOOR STREET LEVEL',\n",
       "       'MARKET PLACE/STARBUCKS COFFE/FRANGO/GODIVA',\n",
       "       'STARBUCKS COFFEE #212', 'STARBUCKS COFFEE # 2449',\n",
       "       'STARBUCKS COFFEE #232', 'STARBUCKS COFFEE #2264',\n",
       "       'STARBUCKS COFFEE #15683',\n",
       "       'STARBUCKS/ W KITCHEN/ F1,F2 POD/WAREHSE/LA BREA',\n",
       "       'STARBUCKS COFFEE #2223', 'STARBUCKS COFFEE #8972',\n",
       "       'STARBUCKS COFFEE #9757', 'STARBUCKS COFFEE #13319',\n",
       "       'STARBUCKS COFFEE #2401', 'STARBUCKS # 2483',\n",
       "       'STARBUCKS COFFEE #14433', 'STARBUCKS COFFEE #2484',\n",
       "       'THE UNIVERSITY OF  CHICAGO  SAIEH HALL/STARBUCKS',\n",
       "       'MAIN KITCHEN/STARBUCKS /ETA/ EMPL CAFE', 'STARBUCKS COFFEE #217',\n",
       "       'STARBUCKS COFFEE #8954', 'STARBUCKS COFFEE #2689',\n",
       "       'STARBUCKS COFFEE #203', 'STARBUCKS COFFEE  #2635',\n",
       "       'STARBUCKS COFFEE #211', 'STARBUCKS COFFEE #2412',\n",
       "       'STARBUCKS COFFEE #2329', 'STARBUCKS COFFEE #2247',\n",
       "       'STARBUCKS COFFEE #2229', 'STARBUCKS COFFEE #19549',\n",
       "       'STARBUCKS COFFEE #11048', 'STARBUCKS COFFEE #2877',\n",
       "       'STARBUCKS COFFEE #2226', 'STARBUCKS & 23RD STREET CAFE MARKET',\n",
       "       'STARBUCKS COFFEE #2372', 'STARBUCKS COFFEE #2370',\n",
       "       'Starbucks Coffee#51641', 'STARBUCKS COFFEE #2513',\n",
       "       'STARBUCKS COFFEE #2369', 'STARBUCKS COFFEE #10594',\n",
       "       'STARBUCKS COFFEE #10199', 'STARBUCKS COFFEE #14256',\n",
       "       'STARBUCKS COFFEE #2492', 'STARBUCKS COFFEE #2230',\n",
       "       'STARBUCKS COFFEE #2335', 'STARBUCKS COFFEE # 2624',\n",
       "       'STARBUCKS COFFEE #289', 'STARBUCKS COFFEE #209',\n",
       "       'STARBUCKS COFFEE #10957', 'STARBUCKS COFFEE #238',\n",
       "       'STARBUCKS COFFEE #25092', 'STARBUCKS COFFEE #2375',\n",
       "       'STARBUCKS COFFEE #2443', 'STARBUCKS COFFEE #221',\n",
       "       'STARBUCKS COFFEE #2827', 'TARGET/PIZZA HUT/STARBUCKS',\n",
       "       'STARBUCKS COFFEE #2337', 'STARBUCKS COFFEE #204',\n",
       "       'STARBUCKS #10634', 'STARBUCKS/ IN MORRIS HALL',\n",
       "       'STARBUCKS COFFEE #2201', 'STARBUCKS COFFEE #2510',\n",
       "       'STARBUCKS COFFEE #2213', 'STARBUCKS COFFEE #11719',\n",
       "       'STARBUCKS COFFEE #216', 'STARBUCKS COFFEE #13468',\n",
       "       'STARBUCKS COFFEE #9426', 'STARBUCKS #272', 'STARBUCKS/T3 L2',\n",
       "       'STARBUCKS COFFEE #222', 'COURTYARD BY MARRIOTT/ STARBUCKS',\n",
       "       'STARBUCKS COFFEE #226', 'STARBUCKS WEST',\n",
       "       'STARBUCKS EAST- BISTRO 23', 'STARBUCKS COFFEE #231',\n",
       "       'STARBUCKS COFFEE #202', 'STARBUCKS COFFEE #223',\n",
       "       'STARBUCKS COFFEE #2901', 'STARBUCKS COFFEE #2373',\n",
       "       'STARBUCKS COFFEE #7948', 'STARBUCKS COFFEE #2624'], dtype=object)"
      ]
     },
     "execution_count": 181,
     "metadata": {},
     "output_type": "execute_result"
    }
   ],
   "source": [
    "# Filtering Starbucks\n",
    "\n",
    "chicago_clean_names[chicago_clean_names[\"AKA Name\"].str.contains(\"starbucks\",case=False)][\"AKA Name\"].unique()"
   ]
  },
  {
   "cell_type": "code",
   "execution_count": 182,
   "metadata": {
    "colab": {},
    "colab_type": "code",
    "id": "Ws9R8eFCFElf"
   },
   "outputs": [],
   "source": [
    "def avg_violations_chain(df) :\n",
    "    return [df[df[\"Inspection Date\"].dt.year == year][[\"License #\",\"nb_violations\"]]\\\n",
    "            .groupby(\"License #\").agg(\"mean\").mean() for year in range(2010,2020)]"
   ]
  },
  {
   "cell_type": "code",
   "execution_count": 183,
   "metadata": {
    "colab": {},
    "colab_type": "code",
    "id": "93yHFTwpFHNK"
   },
   "outputs": [],
   "source": [
    "mcdo = chicago_clean_names[(chicago_clean_names[\"AKA Name\"].str.contains(\"Donald\",case=False)) & ~\n",
    "                    (chicago_clean_names[\"AKA Name\"].str.contains(\"dogs\",case=False))]\n",
    "subway = chicago_clean_names[chicago_clean_names[\"AKA Name\"].str.contains(\"Subway\",case=False)]\n",
    "ddonuts = chicago_clean_names[chicago_clean_names[\"AKA Name\"].str.contains(\"dunkin donuts\",case=False)]\n",
    "kfc = chicago_clean_names[chicago_clean_names[\"AKA Name\"].str.contains(\"KFC\",case=False) | \\\n",
    "                   chicago_clean_names[\"AKA Name\"].str.contains(\"Kentucky\",case=False)]\n",
    "burgerk = chicago_clean_names[(chicago_clean_names[\"AKA Name\"].str.contains(\"burger king\",case=False)) & ~\n",
    "                    (chicago_clean_names[\"AKA Name\"].str.contains(\"hamburger\",case=False))]\n",
    "pizza_hut = chicago_clean_names[chicago_clean_names[\"AKA Name\"].str.contains(\"pizza hut\",case=False)]\n",
    "taco_bell = chicago_clean_names[(chicago_clean_names[\"AKA Name\"].str.contains(\"taco\",case=False)) & (chicago_clean_names[\"AKA Name\"].str.contains(\"bell\",case=False))]\n",
    "starbucks = chicago_clean_names[chicago_clean_names[\"AKA Name\"].str.contains(\"starbucks\",case=False)]"
   ]
  },
  {
   "cell_type": "code",
   "execution_count": 184,
   "metadata": {
    "colab": {},
    "colab_type": "code",
    "id": "If_MUtJzFD9E"
   },
   "outputs": [],
   "source": [
    "chains_df = pd.DataFrame({\"Chain\":[\"McDonald's\",\"Subway\",\"Dunkin Donuts\",\"KFC\",\"Pizza Hut\",\\\n",
    "                                  \"Taco Bell\",\"Starbucks\"],\"Year\":[list(range(2010,2020)) for i in \\\n",
    "                           range(7)],\"avg_violation\":\n",
    "                         [[y.values[0] for y in avg_violations_chain(x)] for x in [mcdo,subway,ddonuts,kfc,pizza_hut,taco_bell,\\\n",
    "                                                 starbucks]]})\n",
    "chains_df = chains_df.set_index(['Chain']).apply(pd.Series.explode).reset_index()\n",
    "chains_df = chains_df.rename(columns={\"avg_violation\":\"Average number of violations\"})"
   ]
  },
  {
   "cell_type": "markdown",
   "metadata": {
    "colab_type": "text",
    "id": "cDPZA7T4FVUW"
   },
   "source": [
    "We can now plot the average number of violations per inspection, for each year, for the restaurant chains we selected :"
   ]
  },
  {
   "cell_type": "code",
   "execution_count": 185,
   "metadata": {
    "colab": {
     "base_uri": "https://localhost:8080/",
     "height": 542
    },
    "colab_type": "code",
    "id": "0KTYp1IoFS2E",
    "outputId": "44c7f409-e25d-49d4-d212-1deeee18835a"
   },
   "outputs": [
    {
     "data": {
      "text/html": [
       "\n",
       "        <iframe\n",
       "            width=\"1000\"\n",
       "            height=\"600\"\n",
       "            src=\"average_violation.html\"\n",
       "            frameborder=\"0\"\n",
       "            allowfullscreen\n",
       "        ></iframe>\n",
       "        "
      ],
      "text/plain": [
       "<IPython.lib.display.IFrame at 0x20830f2deb8>"
      ]
     },
     "execution_count": 185,
     "metadata": {},
     "output_type": "execute_result"
    }
   ],
   "source": [
    "import plotly.graph_objects as go\n",
    "\n",
    "fig = go.Figure()\n",
    "for chain in chains_df.Chain.unique() :\n",
    "    fig.add_trace(go.Scatter(\n",
    "        x = chains_df[chains_df.Chain == chain].Year,\n",
    "        y = chains_df[chains_df.Chain == chain][\"Average number of violations\"],\n",
    "        mode = 'lines+markers',\n",
    "        name = chain,\n",
    "        hovertemplate =\n",
    "        f'<b>{chain}</b>' +\n",
    "        '<br><i>Year</i>: %{x}'+\n",
    "        '<br><b>Average number of violations</b>: %{y:.2f}<br>'\n",
    "    ))\n",
    "fig.update_layout(hovermode='x')\n",
    "#fig.show()\n",
    "plot_offline(fig,\"average_violation.html\")\n"
   ]
  },
  {
   "cell_type": "markdown",
   "metadata": {
    "colab_type": "text",
    "id": "dydFq8Y7GSK6"
   },
   "source": [
    "The restaurant chains with the lowest average number of violations, are (in chronological order) Subway, Starbucks, Subway, Starbucks, Taco Bell, KFC then Taco Bell.\n",
    "What about their average inspection passing rates ?\n",
    "\n"
   ]
  },
  {
   "cell_type": "code",
   "execution_count": 186,
   "metadata": {
    "colab": {
     "base_uri": "https://localhost:8080/",
     "height": 617
    },
    "colab_type": "code",
    "id": "W8EYyQWqFYco",
    "outputId": "fd143088-de5d-45d8-a257-077ec57f3141"
   },
   "outputs": [
    {
     "data": {
      "text/html": [
       "\n",
       "        <iframe\n",
       "            width=\"1000\"\n",
       "            height=\"600\"\n",
       "            src=\"inspections_pass_rate.html\"\n",
       "            frameborder=\"0\"\n",
       "            allowfullscreen\n",
       "        ></iframe>\n",
       "        "
      ],
      "text/plain": [
       "<IPython.lib.display.IFrame at 0x2082c035208>"
      ]
     },
     "execution_count": 186,
     "metadata": {},
     "output_type": "execute_result"
    }
   ],
   "source": [
    "chains_pass_df = pd.DataFrame({\"Chain\":[\"McDonald's\",\"Subway\",\"Dunkin Donuts\",\"KFC\",\"Pizza Hut\",\\\n",
    "                                  \"Taco Bell\",\"Starbucks\"],\"Inspection pass rate\":\n",
    "                          [(1-x[x.Results == \"Fail\"].shape[0]/x.shape[0]) for x in [mcdo,subway,ddonuts,kfc,pizza_hut,taco_bell,\\\n",
    "                                                 starbucks]]})\n",
    "fig = px.bar(chains_pass_df,x=\"Chain\",y=\"Inspection pass rate\",color=\"Inspection pass rate\")\\\n",
    "    .for_each_trace(lambda t: t.update(name=t.name.replace(\"Chain=\",\"\")))\n",
    "#fig.show()\n",
    "plot_offline(figure,\"inspections_pass_rate.html\")"
   ]
  },
  {
   "cell_type": "markdown",
   "metadata": {
    "colab_type": "text",
    "id": "LIIgUs7SGe69"
   },
   "source": [
    "The restaurant chain with the lowest passing rate is McDonald's, and the highest rate belongs to Starbucks."
   ]
  },
  {
   "cell_type": "markdown",
   "metadata": {
    "colab_type": "text",
    "id": "BX0IF2BPGqaR"
   },
   "source": [
    "### Question 4\n",
    "**How is restaurant performance in terms of inpection results related to geodemographic charactestics of the area (e.g. Life Quality Index)?**"
   ]
  },
  {
   "cell_type": "code",
   "execution_count": 187,
   "metadata": {
    "colab": {
     "base_uri": "https://localhost:8080/",
     "height": 194
    },
    "colab_type": "code",
    "id": "NsOGsteQG4SA",
    "outputId": "eab1052c-0440-42ea-bdfb-f1e62f52ad1f"
   },
   "outputs": [
    {
     "data": {
      "text/html": [
       "<div>\n",
       "<style scoped>\n",
       "    .dataframe tbody tr th:only-of-type {\n",
       "        vertical-align: middle;\n",
       "    }\n",
       "\n",
       "    .dataframe tbody tr th {\n",
       "        vertical-align: top;\n",
       "    }\n",
       "\n",
       "    .dataframe thead th {\n",
       "        text-align: right;\n",
       "    }\n",
       "</style>\n",
       "<table border=\"1\" class=\"dataframe\">\n",
       "  <thead>\n",
       "    <tr style=\"text-align: right;\">\n",
       "      <th></th>\n",
       "      <th>Unnamed: 0</th>\n",
       "      <th>zip_code</th>\n",
       "      <th>life_quality_index</th>\n",
       "    </tr>\n",
       "  </thead>\n",
       "  <tbody>\n",
       "    <tr>\n",
       "      <td>0</td>\n",
       "      <td>0</td>\n",
       "      <td>60603</td>\n",
       "      <td>90</td>\n",
       "    </tr>\n",
       "    <tr>\n",
       "      <td>1</td>\n",
       "      <td>1</td>\n",
       "      <td>60604</td>\n",
       "      <td>90</td>\n",
       "    </tr>\n",
       "    <tr>\n",
       "      <td>2</td>\n",
       "      <td>2</td>\n",
       "      <td>60610</td>\n",
       "      <td>90</td>\n",
       "    </tr>\n",
       "    <tr>\n",
       "      <td>3</td>\n",
       "      <td>3</td>\n",
       "      <td>60654</td>\n",
       "      <td>89</td>\n",
       "    </tr>\n",
       "    <tr>\n",
       "      <td>4</td>\n",
       "      <td>4</td>\n",
       "      <td>60605</td>\n",
       "      <td>89</td>\n",
       "    </tr>\n",
       "  </tbody>\n",
       "</table>\n",
       "</div>"
      ],
      "text/plain": [
       "   Unnamed: 0  zip_code  life_quality_index\n",
       "0           0     60603                  90\n",
       "1           1     60604                  90\n",
       "2           2     60610                  90\n",
       "3           3     60654                  89\n",
       "4           4     60605                  89"
      ]
     },
     "execution_count": 187,
     "metadata": {},
     "output_type": "execute_result"
    }
   ],
   "source": [
    "lqi_zipcode = pd.read_csv(os.path.join(data_folder, \"lqi_indexes.csv\"), index_col=False)\n",
    "lqi_zipcode.head()"
   ]
  },
  {
   "cell_type": "code",
   "execution_count": 188,
   "metadata": {
    "colab": {},
    "colab_type": "code",
    "id": "N6vbbGBlIKv0"
   },
   "outputs": [],
   "source": [
    "# Cast Zip code values to string\n",
    "lqi_zipcode.zip_code = lqi_zipcode.zip_code.apply(lambda x: str(x))"
   ]
  },
  {
   "cell_type": "code",
   "execution_count": 189,
   "metadata": {
    "colab": {
     "base_uri": "https://localhost:8080/",
     "height": 88
    },
    "colab_type": "code",
    "id": "_oWqjvwAIzN2",
    "outputId": "6902d923-a897-44b3-e7e8-004005166687"
   },
   "outputs": [
    {
     "data": {
      "text/plain": [
       "Unnamed: 0            58\n",
       "zip_code              58\n",
       "life_quality_index    26\n",
       "dtype: int64"
      ]
     },
     "execution_count": 189,
     "metadata": {},
     "output_type": "execute_result"
    }
   ],
   "source": [
    "lqi_zipcode.nunique()"
   ]
  },
  {
   "cell_type": "code",
   "execution_count": 190,
   "metadata": {
    "colab": {
     "base_uri": "https://localhost:8080/",
     "height": 35
    },
    "colab_type": "code",
    "id": "obDMKMeXI1-8",
    "outputId": "7526d6a0-8d17-45da-bccc-64c8b8f946a5"
   },
   "outputs": [
    {
     "data": {
      "text/plain": [
       "59"
      ]
     },
     "execution_count": 190,
     "metadata": {},
     "output_type": "execute_result"
    }
   ],
   "source": [
    "inspections.Zip.nunique()"
   ]
  },
  {
   "cell_type": "markdown",
   "metadata": {
    "colab_type": "text",
    "id": "6Tx6xjzBI4wq"
   },
   "source": [
    "There is one zip code missing in our life quality index, it corresponds to Chicago airport (which makes sense as the airport is not the area where people live). In our analysis we will therefore use it for all of the other neighborhoods."
   ]
  },
  {
   "cell_type": "code",
   "execution_count": 191,
   "metadata": {
    "colab": {},
    "colab_type": "code",
    "id": "9eJC-RZNq09a"
   },
   "outputs": [],
   "source": [
    "# Drop column before plotting\n",
    "lqi_zipcode.drop(columns='Unnamed: 0', inplace=True)"
   ]
  },
  {
   "cell_type": "code",
   "execution_count": 234,
   "metadata": {
    "colab": {
     "base_uri": "https://localhost:8080/",
     "height": 542
    },
    "colab_type": "code",
    "id": "FYKAIDLtGT6j",
    "outputId": "ba0739f5-d546-46d9-9f68-0e388137e83e"
   },
   "outputs": [
    {
     "data": {
      "text/html": [
       "\n",
       "        <iframe\n",
       "            width=\"1000\"\n",
       "            height=\"600\"\n",
       "            src=\"life_quality_index.html\"\n",
       "            frameborder=\"0\"\n",
       "            allowfullscreen\n",
       "        ></iframe>\n",
       "        "
      ],
      "text/plain": [
       "<IPython.lib.display.IFrame at 0x208169881d0>"
      ]
     },
     "execution_count": 234,
     "metadata": {},
     "output_type": "execute_result"
    }
   ],
   "source": [
    "options = {\n",
    "    'colorscale':'Plasma',\n",
    "    'colorbar': {\n",
    "        'title': 'LQI'\n",
    "    }\n",
    "}\n",
    "figure = plot_by_criteria('zip', lqi_zipcode, 'zip_code', 'life_quality_index', 'Life Quality Index by neighborhood', options)\n",
    "#figure.show()\n",
    "plot_offline(figure,\"life_quality_index.html\")"
   ]
  },
  {
   "cell_type": "markdown",
   "metadata": {
    "colab_type": "text",
    "id": "MUNAfCHWIlH-"
   },
   "source": [
    "Life quality index in Chicago is the highest in bay area and goes down as we move away, generally we can say that south part of the city has worse life quality than the north part.\n",
    "\n",
    "This actually matches the insights we got when analysing safe and dangerous areas in Chicago. Although we had many criteria for assessing how safe or dangerous it is to eat out in a particular area, in most of them South performed worse than North."
   ]
  },
  {
   "cell_type": "markdown",
   "metadata": {
    "colab_type": "text",
    "id": "sLmou0yTwD65"
   },
   "source": [
    "### Question 5\n",
    "**How are inspection results connected to customer reviews? Are the best scored restaurants the ones with the best inspection results as well? Which client-reported issues are also noticed by inspections? Which issues are only discovered by inspections?**"
   ]
  },
  {
   "cell_type": "markdown",
   "metadata": {
    "colab_type": "text",
    "id": "e1J73phuO_uz"
   },
   "source": [
    "#### Getting the users' rating"
   ]
  },
  {
   "cell_type": "markdown",
   "metadata": {
    "colab_type": "text",
    "id": "JH_EiO6FO95c"
   },
   "source": [
    "We decided to use Google Places API to retrieve information about restaurant ratings. We queried API by DBA Name value and Longitude and Latitude of a restaurant. Sometimes however, API responses didn't match the area we were concerned about, meaning that they returned a restaurant with similar name but not in Chicago. Some restaurants couldn't be retrieved at all. To be sure we analyze API response correctly we start by checking if restuarants for which we have ratings are the same ones as we queried for. We perform it by checking names similarity and addresses."
   ]
  },
  {
   "cell_type": "markdown",
   "metadata": {
    "colab_type": "text",
    "id": "ELo-F47Z0L-z"
   },
   "source": [
    "`restaurants.csv` is a file which contains place_id (returned by Google API), restaurant name, address, zip code, latitude and longitude from Chicago Inspections dataset. We will use this csv to compare with what was retrieved from Google API."
   ]
  },
  {
   "cell_type": "code",
   "execution_count": 193,
   "metadata": {
    "colab": {},
    "colab_type": "code",
    "id": "raNXqSkewKO7"
   },
   "outputs": [],
   "source": [
    "google_places_path = os.path.join(data_folder, \"google_places.csv\")\n",
    "restaurants_path = os.path.join(data_folder, \"restaurants.csv\")"
   ]
  },
  {
   "cell_type": "code",
   "execution_count": 194,
   "metadata": {
    "colab": {},
    "colab_type": "code",
    "id": "rdkqYrAIz-9w"
   },
   "outputs": [],
   "source": [
    "google_places = pd.read_csv(google_places_path)\n",
    "restaurants = pd.read_csv(restaurants_path)"
   ]
  },
  {
   "cell_type": "code",
   "execution_count": 195,
   "metadata": {
    "colab": {
     "base_uri": "https://localhost:8080/",
     "height": 194
    },
    "colab_type": "code",
    "id": "R1EI4O0b1ukD",
    "outputId": "65e6cc27-19bd-4c99-a3c1-aa5aa1ef3663"
   },
   "outputs": [
    {
     "data": {
      "text/html": [
       "<div>\n",
       "<style scoped>\n",
       "    .dataframe tbody tr th:only-of-type {\n",
       "        vertical-align: middle;\n",
       "    }\n",
       "\n",
       "    .dataframe tbody tr th {\n",
       "        vertical-align: top;\n",
       "    }\n",
       "\n",
       "    .dataframe thead th {\n",
       "        text-align: right;\n",
       "    }\n",
       "</style>\n",
       "<table border=\"1\" class=\"dataframe\">\n",
       "  <thead>\n",
       "    <tr style=\"text-align: right;\">\n",
       "      <th></th>\n",
       "      <th>place_id</th>\n",
       "      <th>place_name</th>\n",
       "      <th>rating</th>\n",
       "      <th>total_number_of_ratings</th>\n",
       "      <th>price_level</th>\n",
       "      <th>address</th>\n",
       "      <th>city</th>\n",
       "      <th>zip_code</th>\n",
       "    </tr>\n",
       "  </thead>\n",
       "  <tbody>\n",
       "    <tr>\n",
       "      <td>0</td>\n",
       "      <td>ChIJleWegJHTD4gRsIMGm3IjUcM</td>\n",
       "      <td>yolk - test kitchen</td>\n",
       "      <td>4.4</td>\n",
       "      <td>180.0</td>\n",
       "      <td>2.0</td>\n",
       "      <td>1767 n milwaukee ave</td>\n",
       "      <td>chicago</td>\n",
       "      <td>60647</td>\n",
       "    </tr>\n",
       "    <tr>\n",
       "      <td>1</td>\n",
       "      <td>ChIJI1dehI0xDogRRkvKIpUspHM</td>\n",
       "      <td>las asadas restaurant</td>\n",
       "      <td>4.0</td>\n",
       "      <td>166.0</td>\n",
       "      <td>2.0</td>\n",
       "      <td>3834 w 47th st</td>\n",
       "      <td>chicago</td>\n",
       "      <td>60632-4136</td>\n",
       "    </tr>\n",
       "    <tr>\n",
       "      <td>2</td>\n",
       "      <td>ChIJBRuLGC_MD4gRfUVkzaQBIZk</td>\n",
       "      <td>mini palapita</td>\n",
       "      <td>4.3</td>\n",
       "      <td>342.0</td>\n",
       "      <td>1.0</td>\n",
       "      <td>4968 n elston ave</td>\n",
       "      <td>chicago</td>\n",
       "      <td>60630</td>\n",
       "    </tr>\n",
       "    <tr>\n",
       "      <td>3</td>\n",
       "      <td>ChIJ-auSyWItDogRQwUqcwljejE</td>\n",
       "      <td>crazy bird chicken</td>\n",
       "      <td>4.7</td>\n",
       "      <td>67.0</td>\n",
       "      <td>NaN</td>\n",
       "      <td>1160 w grand ave</td>\n",
       "      <td>chicago</td>\n",
       "      <td>60642-5837</td>\n",
       "    </tr>\n",
       "    <tr>\n",
       "      <td>4</td>\n",
       "      <td>ChIJIYRFg7IsDogRAW0zLguKL-A</td>\n",
       "      <td>redhead piano bar</td>\n",
       "      <td>4.2</td>\n",
       "      <td>989.0</td>\n",
       "      <td>2.0</td>\n",
       "      <td>16 w ontario st</td>\n",
       "      <td>chicago</td>\n",
       "      <td>60654</td>\n",
       "    </tr>\n",
       "  </tbody>\n",
       "</table>\n",
       "</div>"
      ],
      "text/plain": [
       "                      place_id             place_name  rating  \\\n",
       "0  ChIJleWegJHTD4gRsIMGm3IjUcM    yolk - test kitchen     4.4   \n",
       "1  ChIJI1dehI0xDogRRkvKIpUspHM  las asadas restaurant     4.0   \n",
       "2  ChIJBRuLGC_MD4gRfUVkzaQBIZk          mini palapita     4.3   \n",
       "3  ChIJ-auSyWItDogRQwUqcwljejE     crazy bird chicken     4.7   \n",
       "4  ChIJIYRFg7IsDogRAW0zLguKL-A      redhead piano bar     4.2   \n",
       "\n",
       "   total_number_of_ratings  price_level               address     city  \\\n",
       "0                    180.0          2.0  1767 n milwaukee ave  chicago   \n",
       "1                    166.0          2.0        3834 w 47th st  chicago   \n",
       "2                    342.0          1.0     4968 n elston ave  chicago   \n",
       "3                     67.0          NaN      1160 w grand ave  chicago   \n",
       "4                    989.0          2.0       16 w ontario st  chicago   \n",
       "\n",
       "     zip_code  \n",
       "0       60647  \n",
       "1  60632-4136  \n",
       "2       60630  \n",
       "3  60642-5837  \n",
       "4       60654  "
      ]
     },
     "execution_count": 195,
     "metadata": {},
     "output_type": "execute_result"
    }
   ],
   "source": [
    "google_places.head()"
   ]
  },
  {
   "cell_type": "code",
   "execution_count": 196,
   "metadata": {
    "colab": {
     "base_uri": "https://localhost:8080/",
     "height": 194
    },
    "colab_type": "code",
    "id": "kYatTGBj129E",
    "outputId": "91e091b7-1fd5-4724-f49e-9c03f08f8224"
   },
   "outputs": [
    {
     "data": {
      "text/html": [
       "<div>\n",
       "<style scoped>\n",
       "    .dataframe tbody tr th:only-of-type {\n",
       "        vertical-align: middle;\n",
       "    }\n",
       "\n",
       "    .dataframe tbody tr th {\n",
       "        vertical-align: top;\n",
       "    }\n",
       "\n",
       "    .dataframe thead th {\n",
       "        text-align: right;\n",
       "    }\n",
       "</style>\n",
       "<table border=\"1\" class=\"dataframe\">\n",
       "  <thead>\n",
       "    <tr style=\"text-align: right;\">\n",
       "      <th></th>\n",
       "      <th>place_id</th>\n",
       "      <th>place_name</th>\n",
       "      <th>latitude</th>\n",
       "      <th>longitude</th>\n",
       "      <th>address</th>\n",
       "      <th>zip_code</th>\n",
       "    </tr>\n",
       "  </thead>\n",
       "  <tbody>\n",
       "    <tr>\n",
       "      <td>0</td>\n",
       "      <td>ChIJleWegJHTD4gRsIMGm3IjUcM</td>\n",
       "      <td>yolk test kitchen</td>\n",
       "      <td>41.913588</td>\n",
       "      <td>-87.682203</td>\n",
       "      <td>1767 n milwaukee ave</td>\n",
       "      <td>60647.0</td>\n",
       "    </tr>\n",
       "    <tr>\n",
       "      <td>1</td>\n",
       "      <td>ChIJI1dehI0xDogRRkvKIpUspHM</td>\n",
       "      <td>las asadas mexican grill</td>\n",
       "      <td>41.808025</td>\n",
       "      <td>-87.720037</td>\n",
       "      <td>3834 w 47th st</td>\n",
       "      <td>60632.0</td>\n",
       "    </tr>\n",
       "    <tr>\n",
       "      <td>2</td>\n",
       "      <td>ChIJBRuLGC_MD4gRfUVkzaQBIZk</td>\n",
       "      <td>la palapita</td>\n",
       "      <td>41.808025</td>\n",
       "      <td>-87.720037</td>\n",
       "      <td>3834 w 47th st</td>\n",
       "      <td>60632.0</td>\n",
       "    </tr>\n",
       "    <tr>\n",
       "      <td>3</td>\n",
       "      <td>ChIJ-auSyWItDogRQwUqcwljejE</td>\n",
       "      <td>crazy bird</td>\n",
       "      <td>41.891193</td>\n",
       "      <td>-87.657055</td>\n",
       "      <td>1160 w grand ave</td>\n",
       "      <td>60642.0</td>\n",
       "    </tr>\n",
       "    <tr>\n",
       "      <td>4</td>\n",
       "      <td>ChIJIYRFg7IsDogRAW0zLguKL-A</td>\n",
       "      <td>the redhead piano bar</td>\n",
       "      <td>41.893371</td>\n",
       "      <td>-87.628783</td>\n",
       "      <td>16-18 w ontario st</td>\n",
       "      <td>60654.0</td>\n",
       "    </tr>\n",
       "  </tbody>\n",
       "</table>\n",
       "</div>"
      ],
      "text/plain": [
       "                      place_id                place_name   latitude  \\\n",
       "0  ChIJleWegJHTD4gRsIMGm3IjUcM         yolk test kitchen  41.913588   \n",
       "1  ChIJI1dehI0xDogRRkvKIpUspHM  las asadas mexican grill  41.808025   \n",
       "2  ChIJBRuLGC_MD4gRfUVkzaQBIZk               la palapita  41.808025   \n",
       "3  ChIJ-auSyWItDogRQwUqcwljejE                crazy bird  41.891193   \n",
       "4  ChIJIYRFg7IsDogRAW0zLguKL-A     the redhead piano bar  41.893371   \n",
       "\n",
       "   longitude                address  zip_code  \n",
       "0 -87.682203  1767 n milwaukee ave    60647.0  \n",
       "1 -87.720037        3834 w 47th st    60632.0  \n",
       "2 -87.720037        3834 w 47th st    60632.0  \n",
       "3 -87.657055      1160 w grand ave    60642.0  \n",
       "4 -87.628783    16-18 w ontario st    60654.0  "
      ]
     },
     "execution_count": 196,
     "metadata": {},
     "output_type": "execute_result"
    }
   ],
   "source": [
    "restaurants.head()"
   ]
  },
  {
   "cell_type": "markdown",
   "metadata": {
    "colab_type": "text",
    "id": "D9wHuWGD1_vc"
   },
   "source": [
    "Let's see if all restaurants we got from Google are the ones we asked for and are located in Chicago:"
   ]
  },
  {
   "cell_type": "markdown",
   "metadata": {
    "colab_type": "text",
    "id": "1kWoSMfi2F7b"
   },
   "source": [
    "We noticed that address from Chicago database has whitespace at the end so we remove it from each row:"
   ]
  },
  {
   "cell_type": "code",
   "execution_count": 197,
   "metadata": {
    "colab": {},
    "colab_type": "code",
    "id": "xTXC-9M_2HQQ"
   },
   "outputs": [],
   "source": [
    "restaurants.address = restaurants.address.apply(str.strip)"
   ]
  },
  {
   "cell_type": "code",
   "execution_count": 198,
   "metadata": {
    "colab": {
     "base_uri": "https://localhost:8080/",
     "height": 35
    },
    "colab_type": "code",
    "id": "UgS69iEp2JCw",
    "outputId": "7aa1660f-9a62-4859-ea82-a174d9629835"
   },
   "outputs": [
    {
     "name": "stdout",
     "output_type": "stream",
     "text": [
      "Google places API returned 13006 restaurants\n"
     ]
    }
   ],
   "source": [
    "print(f\"Google places API returned {len(google_places)} restaurants\")"
   ]
  },
  {
   "cell_type": "markdown",
   "metadata": {
    "colab_type": "text",
    "id": "bzAfnXBs2QQl"
   },
   "source": [
    "Check if all restaurants are in Chicago:"
   ]
  },
  {
   "cell_type": "code",
   "execution_count": 199,
   "metadata": {
    "colab": {
     "base_uri": "https://localhost:8080/",
     "height": 35
    },
    "colab_type": "code",
    "id": "xZr0nbR12M9l",
    "outputId": "c7115a37-2aa4-48d5-ff39-a8b351042470"
   },
   "outputs": [
    {
     "name": "stdout",
     "output_type": "stream",
     "text": [
      "Number of restaurants with non-chicago city 2053\n"
     ]
    }
   ],
   "source": [
    "not_chicago_restaurants = google_places[~(google_places.city == \"chicago\")]\n",
    "print(f\"Number of restaurants with non-chicago city {len(not_chicago_restaurants)}\")"
   ]
  },
  {
   "cell_type": "code",
   "execution_count": 200,
   "metadata": {
    "colab": {
     "base_uri": "https://localhost:8080/",
     "height": 340
    },
    "colab_type": "code",
    "id": "EyoQ3a_12-AC",
    "outputId": "d89999a7-87e7-491e-91f7-0120751d167f"
   },
   "outputs": [
    {
     "data": {
      "text/html": [
       "<div>\n",
       "<style scoped>\n",
       "    .dataframe tbody tr th:only-of-type {\n",
       "        vertical-align: middle;\n",
       "    }\n",
       "\n",
       "    .dataframe tbody tr th {\n",
       "        vertical-align: top;\n",
       "    }\n",
       "\n",
       "    .dataframe thead th {\n",
       "        text-align: right;\n",
       "    }\n",
       "</style>\n",
       "<table border=\"1\" class=\"dataframe\">\n",
       "  <thead>\n",
       "    <tr style=\"text-align: right;\">\n",
       "      <th></th>\n",
       "      <th>place_id</th>\n",
       "      <th>place_name</th>\n",
       "      <th>rating</th>\n",
       "      <th>total_number_of_ratings</th>\n",
       "      <th>price_level</th>\n",
       "      <th>address</th>\n",
       "      <th>city</th>\n",
       "      <th>zip_code</th>\n",
       "    </tr>\n",
       "  </thead>\n",
       "  <tbody>\n",
       "    <tr>\n",
       "      <td>13</td>\n",
       "      <td>ChIJVwHOlyi0D4gRNjLVMUoK00A</td>\n",
       "      <td>romano's macaroni grill</td>\n",
       "      <td>3.7</td>\n",
       "      <td>860.0</td>\n",
       "      <td>2.0</td>\n",
       "      <td>chicago</td>\n",
       "      <td>60666</td>\n",
       "      <td>NaN</td>\n",
       "    </tr>\n",
       "    <tr>\n",
       "      <td>16</td>\n",
       "      <td>ChIJo_4DJAG3D4gRPsUur_-crLQ</td>\n",
       "      <td>mcdonald's</td>\n",
       "      <td>3.6</td>\n",
       "      <td>468.0</td>\n",
       "      <td>1.0</td>\n",
       "      <td>1101 e oakton st</td>\n",
       "      <td>des plaines</td>\n",
       "      <td>60018</td>\n",
       "    </tr>\n",
       "    <tr>\n",
       "      <td>24</td>\n",
       "      <td>ChIJQ0br6L-WD4gRxBPZES-H8io</td>\n",
       "      <td>dairy queen (treat)</td>\n",
       "      <td>4.5</td>\n",
       "      <td>106.0</td>\n",
       "      <td>1.0</td>\n",
       "      <td>502 s milwaukee ave</td>\n",
       "      <td>libertyville</td>\n",
       "      <td>60048-2823</td>\n",
       "    </tr>\n",
       "    <tr>\n",
       "      <td>25</td>\n",
       "      <td>ChIJ8W5KpKj0WYgRXlQU3Lknu-c</td>\n",
       "      <td>liberty house coffee and café</td>\n",
       "      <td>4.7</td>\n",
       "      <td>234.0</td>\n",
       "      <td>2.0</td>\n",
       "      <td>221 s liberty st</td>\n",
       "      <td>asheville</td>\n",
       "      <td>28801-2334</td>\n",
       "    </tr>\n",
       "    <tr>\n",
       "      <td>38</td>\n",
       "      <td>ChIJo_4DJAG3D4gRPsUur_-crLQ</td>\n",
       "      <td>mcdonald's</td>\n",
       "      <td>3.6</td>\n",
       "      <td>468.0</td>\n",
       "      <td>1.0</td>\n",
       "      <td>1101 e oakton st</td>\n",
       "      <td>des plaines</td>\n",
       "      <td>60018</td>\n",
       "    </tr>\n",
       "    <tr>\n",
       "      <td>46</td>\n",
       "      <td>ChIJsd4Bvr6vD4gRczYyW5bI0os</td>\n",
       "      <td>big bowl schaumburg</td>\n",
       "      <td>4.3</td>\n",
       "      <td>1014.0</td>\n",
       "      <td>2.0</td>\n",
       "      <td>e higgins rd</td>\n",
       "      <td>schaumburg</td>\n",
       "      <td>60173</td>\n",
       "    </tr>\n",
       "    <tr>\n",
       "      <td>47</td>\n",
       "      <td>ChIJj6gbC42xD4gR9EHXFjqir1w</td>\n",
       "      <td>krispy kreme</td>\n",
       "      <td>4.5</td>\n",
       "      <td>1218.0</td>\n",
       "      <td>1.0</td>\n",
       "      <td>412 e devon ave</td>\n",
       "      <td>elk grove village</td>\n",
       "      <td>60007</td>\n",
       "    </tr>\n",
       "    <tr>\n",
       "      <td>74</td>\n",
       "      <td>ChIJqQyWfSa0D4gRN_IZ45o_HCE</td>\n",
       "      <td>argo tea</td>\n",
       "      <td>3.5</td>\n",
       "      <td>45.0</td>\n",
       "      <td>1.0</td>\n",
       "      <td>chicago</td>\n",
       "      <td>60666</td>\n",
       "      <td>NaN</td>\n",
       "    </tr>\n",
       "    <tr>\n",
       "      <td>87</td>\n",
       "      <td>ChIJdwM9Ir7ID4gR0qNqi9vN3LM</td>\n",
       "      <td>charcoal flame</td>\n",
       "      <td>4.5</td>\n",
       "      <td>212.0</td>\n",
       "      <td>NaN</td>\n",
       "      <td>6800 dempster street</td>\n",
       "      <td>morton grove</td>\n",
       "      <td>60053</td>\n",
       "    </tr>\n",
       "    <tr>\n",
       "      <td>94</td>\n",
       "      <td>ChIJs1HOuK4FBYgREBfd2sHyGwg</td>\n",
       "      <td>la terraza</td>\n",
       "      <td>4.6</td>\n",
       "      <td>77.0</td>\n",
       "      <td>NaN</td>\n",
       "      <td>11520 w bluemound rd # 2</td>\n",
       "      <td>wauwatosa</td>\n",
       "      <td>53226-4000</td>\n",
       "    </tr>\n",
       "  </tbody>\n",
       "</table>\n",
       "</div>"
      ],
      "text/plain": [
       "                       place_id                     place_name  rating  \\\n",
       "13  ChIJVwHOlyi0D4gRNjLVMUoK00A        romano's macaroni grill     3.7   \n",
       "16  ChIJo_4DJAG3D4gRPsUur_-crLQ                     mcdonald's     3.6   \n",
       "24  ChIJQ0br6L-WD4gRxBPZES-H8io            dairy queen (treat)     4.5   \n",
       "25  ChIJ8W5KpKj0WYgRXlQU3Lknu-c  liberty house coffee and café     4.7   \n",
       "38  ChIJo_4DJAG3D4gRPsUur_-crLQ                     mcdonald's     3.6   \n",
       "46  ChIJsd4Bvr6vD4gRczYyW5bI0os            big bowl schaumburg     4.3   \n",
       "47  ChIJj6gbC42xD4gR9EHXFjqir1w                   krispy kreme     4.5   \n",
       "74  ChIJqQyWfSa0D4gRN_IZ45o_HCE                       argo tea     3.5   \n",
       "87  ChIJdwM9Ir7ID4gR0qNqi9vN3LM                 charcoal flame     4.5   \n",
       "94  ChIJs1HOuK4FBYgREBfd2sHyGwg                     la terraza     4.6   \n",
       "\n",
       "    total_number_of_ratings  price_level                   address  \\\n",
       "13                    860.0          2.0                   chicago   \n",
       "16                    468.0          1.0          1101 e oakton st   \n",
       "24                    106.0          1.0       502 s milwaukee ave   \n",
       "25                    234.0          2.0          221 s liberty st   \n",
       "38                    468.0          1.0          1101 e oakton st   \n",
       "46                   1014.0          2.0              e higgins rd   \n",
       "47                   1218.0          1.0           412 e devon ave   \n",
       "74                     45.0          1.0                   chicago   \n",
       "87                    212.0          NaN      6800 dempster street   \n",
       "94                     77.0          NaN  11520 w bluemound rd # 2   \n",
       "\n",
       "                 city    zip_code  \n",
       "13              60666         NaN  \n",
       "16        des plaines       60018  \n",
       "24       libertyville  60048-2823  \n",
       "25          asheville  28801-2334  \n",
       "38        des plaines       60018  \n",
       "46         schaumburg       60173  \n",
       "47  elk grove village       60007  \n",
       "74              60666         NaN  \n",
       "87       morton grove       60053  \n",
       "94          wauwatosa  53226-4000  "
      ]
     },
     "execution_count": 200,
     "metadata": {},
     "output_type": "execute_result"
    }
   ],
   "source": [
    "not_chicago_restaurants.head(10)"
   ]
  },
  {
   "cell_type": "markdown",
   "metadata": {
    "colab_type": "text",
    "id": "ZaxrD4p22tmp"
   },
   "source": [
    "We can see that sometimes the zip code was returned as a city, Chicago zip codes start with 60 therefore those entries where city is equal to a number starting with 60 are probably in Chicago and their city name is in the address column"
   ]
  },
  {
   "cell_type": "code",
   "execution_count": 201,
   "metadata": {
    "colab": {
     "base_uri": "https://localhost:8080/",
     "height": 35
    },
    "colab_type": "code",
    "id": "29qDmSpt3WG4",
    "outputId": "dd8b85b7-41c6-4154-866d-5ed2d3f7039c"
   },
   "outputs": [
    {
     "name": "stdout",
     "output_type": "stream",
     "text": [
      "Number of places with chicago as address and zip code in city column is 163\n"
     ]
    }
   ],
   "source": [
    "address_chicago_count = len(google_places[google_places.address == \"chicago\"])\n",
    "print(f\"Number of places with chicago as address and zip code in city column is {address_chicago_count}\")"
   ]
  },
  {
   "cell_type": "code",
   "execution_count": 202,
   "metadata": {
    "colab": {
     "base_uri": "https://localhost:8080/",
     "height": 399
    },
    "colab_type": "code",
    "id": "Reh2rjqu3an3",
    "outputId": "6ff320c0-c3ca-4bd0-c751-20948513b391"
   },
   "outputs": [
    {
     "data": {
      "text/html": [
       "<div>\n",
       "<style scoped>\n",
       "    .dataframe tbody tr th:only-of-type {\n",
       "        vertical-align: middle;\n",
       "    }\n",
       "\n",
       "    .dataframe tbody tr th {\n",
       "        vertical-align: top;\n",
       "    }\n",
       "\n",
       "    .dataframe thead th {\n",
       "        text-align: right;\n",
       "    }\n",
       "</style>\n",
       "<table border=\"1\" class=\"dataframe\">\n",
       "  <thead>\n",
       "    <tr style=\"text-align: right;\">\n",
       "      <th></th>\n",
       "      <th>place_id</th>\n",
       "      <th>place_name</th>\n",
       "      <th>rating</th>\n",
       "      <th>total_number_of_ratings</th>\n",
       "      <th>price_level</th>\n",
       "      <th>address</th>\n",
       "      <th>city</th>\n",
       "      <th>zip_code</th>\n",
       "    </tr>\n",
       "  </thead>\n",
       "  <tbody>\n",
       "    <tr>\n",
       "      <td>13</td>\n",
       "      <td>ChIJVwHOlyi0D4gRNjLVMUoK00A</td>\n",
       "      <td>romano's macaroni grill</td>\n",
       "      <td>3.7</td>\n",
       "      <td>860.0</td>\n",
       "      <td>2.0</td>\n",
       "      <td>chicago</td>\n",
       "      <td>60666</td>\n",
       "      <td>NaN</td>\n",
       "    </tr>\n",
       "    <tr>\n",
       "      <td>74</td>\n",
       "      <td>ChIJqQyWfSa0D4gRN_IZ45o_HCE</td>\n",
       "      <td>argo tea</td>\n",
       "      <td>3.5</td>\n",
       "      <td>45.0</td>\n",
       "      <td>1.0</td>\n",
       "      <td>chicago</td>\n",
       "      <td>60666</td>\n",
       "      <td>NaN</td>\n",
       "    </tr>\n",
       "    <tr>\n",
       "      <td>106</td>\n",
       "      <td>ChIJTxSyOsfSD4gRUy8JoHTgkVw</td>\n",
       "      <td>piece out</td>\n",
       "      <td>NaN</td>\n",
       "      <td>NaN</td>\n",
       "      <td>NaN</td>\n",
       "      <td>chicago</td>\n",
       "      <td>60622</td>\n",
       "      <td>NaN</td>\n",
       "    </tr>\n",
       "    <tr>\n",
       "      <td>183</td>\n",
       "      <td>ChIJIVrbHPjMD4gRQfUHdZXic5U</td>\n",
       "      <td>la estrella blanca</td>\n",
       "      <td>3.9</td>\n",
       "      <td>29.0</td>\n",
       "      <td>NaN</td>\n",
       "      <td>chicago</td>\n",
       "      <td>60641</td>\n",
       "      <td>NaN</td>\n",
       "    </tr>\n",
       "    <tr>\n",
       "      <td>278</td>\n",
       "      <td>ChIJM_1zjXe2D4gRDAmIxvGytuw</td>\n",
       "      <td>chili's grill &amp; bar</td>\n",
       "      <td>3.2</td>\n",
       "      <td>913.0</td>\n",
       "      <td>2.0</td>\n",
       "      <td>chicago</td>\n",
       "      <td>60666</td>\n",
       "      <td>NaN</td>\n",
       "    </tr>\n",
       "    <tr>\n",
       "      <td>...</td>\n",
       "      <td>...</td>\n",
       "      <td>...</td>\n",
       "      <td>...</td>\n",
       "      <td>...</td>\n",
       "      <td>...</td>\n",
       "      <td>...</td>\n",
       "      <td>...</td>\n",
       "      <td>...</td>\n",
       "    </tr>\n",
       "    <tr>\n",
       "      <td>12644</td>\n",
       "      <td>ChIJq9zsX_TSD4gRrRW0u2HLN1E</td>\n",
       "      <td>sweet bean &amp; more</td>\n",
       "      <td>5.0</td>\n",
       "      <td>2.0</td>\n",
       "      <td>NaN</td>\n",
       "      <td>chicago</td>\n",
       "      <td>60614</td>\n",
       "      <td>NaN</td>\n",
       "    </tr>\n",
       "    <tr>\n",
       "      <td>12699</td>\n",
       "      <td>ChIJj_2hl5DMD4gRNunA9w1SI1I</td>\n",
       "      <td>central starlite family restaurant</td>\n",
       "      <td>NaN</td>\n",
       "      <td>NaN</td>\n",
       "      <td>NaN</td>\n",
       "      <td>chicago</td>\n",
       "      <td>60639</td>\n",
       "      <td>NaN</td>\n",
       "    </tr>\n",
       "    <tr>\n",
       "      <td>12775</td>\n",
       "      <td>ChIJz5h8elIzDogRgDuu28QU6Ic</td>\n",
       "      <td>ruby's soul food</td>\n",
       "      <td>NaN</td>\n",
       "      <td>NaN</td>\n",
       "      <td>NaN</td>\n",
       "      <td>chicago</td>\n",
       "      <td>60651</td>\n",
       "      <td>NaN</td>\n",
       "    </tr>\n",
       "    <tr>\n",
       "      <td>12813</td>\n",
       "      <td>ChIJDcM0Ey4zDogR2rNIPGIV_gs</td>\n",
       "      <td>come &amp; get it</td>\n",
       "      <td>NaN</td>\n",
       "      <td>NaN</td>\n",
       "      <td>NaN</td>\n",
       "      <td>chicago</td>\n",
       "      <td>60644</td>\n",
       "      <td>NaN</td>\n",
       "    </tr>\n",
       "    <tr>\n",
       "      <td>12957</td>\n",
       "      <td>ChIJ3aY5ZpsvDogRlumoNGkp9Xk</td>\n",
       "      <td>amanda j unisex salon</td>\n",
       "      <td>NaN</td>\n",
       "      <td>NaN</td>\n",
       "      <td>NaN</td>\n",
       "      <td>chicago</td>\n",
       "      <td>60620</td>\n",
       "      <td>NaN</td>\n",
       "    </tr>\n",
       "  </tbody>\n",
       "</table>\n",
       "<p>173 rows × 8 columns</p>\n",
       "</div>"
      ],
      "text/plain": [
       "                          place_id                          place_name  \\\n",
       "13     ChIJVwHOlyi0D4gRNjLVMUoK00A             romano's macaroni grill   \n",
       "74     ChIJqQyWfSa0D4gRN_IZ45o_HCE                            argo tea   \n",
       "106    ChIJTxSyOsfSD4gRUy8JoHTgkVw                           piece out   \n",
       "183    ChIJIVrbHPjMD4gRQfUHdZXic5U                  la estrella blanca   \n",
       "278    ChIJM_1zjXe2D4gRDAmIxvGytuw                 chili's grill & bar   \n",
       "...                            ...                                 ...   \n",
       "12644  ChIJq9zsX_TSD4gRrRW0u2HLN1E                   sweet bean & more   \n",
       "12699  ChIJj_2hl5DMD4gRNunA9w1SI1I  central starlite family restaurant   \n",
       "12775  ChIJz5h8elIzDogRgDuu28QU6Ic                    ruby's soul food   \n",
       "12813  ChIJDcM0Ey4zDogR2rNIPGIV_gs                       come & get it   \n",
       "12957  ChIJ3aY5ZpsvDogRlumoNGkp9Xk               amanda j unisex salon   \n",
       "\n",
       "       rating  total_number_of_ratings  price_level  address   city zip_code  \n",
       "13        3.7                    860.0          2.0  chicago  60666      NaN  \n",
       "74        3.5                     45.0          1.0  chicago  60666      NaN  \n",
       "106       NaN                      NaN          NaN  chicago  60622      NaN  \n",
       "183       3.9                     29.0          NaN  chicago  60641      NaN  \n",
       "278       3.2                    913.0          2.0  chicago  60666      NaN  \n",
       "...       ...                      ...          ...      ...    ...      ...  \n",
       "12644     5.0                      2.0          NaN  chicago  60614      NaN  \n",
       "12699     NaN                      NaN          NaN  chicago  60639      NaN  \n",
       "12775     NaN                      NaN          NaN  chicago  60651      NaN  \n",
       "12813     NaN                      NaN          NaN  chicago  60644      NaN  \n",
       "12957     NaN                      NaN          NaN  chicago  60620      NaN  \n",
       "\n",
       "[173 rows x 8 columns]"
      ]
     },
     "execution_count": 202,
     "metadata": {},
     "output_type": "execute_result"
    }
   ],
   "source": [
    "google_places[google_places.city.str.startswith(\"60\", na=False)]"
   ]
  },
  {
   "cell_type": "markdown",
   "metadata": {
    "colab_type": "text",
    "id": "ubDfyJbL3hah"
   },
   "source": [
    "If zip code starts with 60 move it to zip code column"
   ]
  },
  {
   "cell_type": "code",
   "execution_count": 203,
   "metadata": {
    "colab": {},
    "colab_type": "code",
    "id": "DY6eVtKM2kPL"
   },
   "outputs": [],
   "source": [
    "chicago_idx = google_places.city.str.startswith(\"60\", na=False)\n",
    "google_places.loc[chicago_idx, 'zip_code'] = google_places['city']"
   ]
  },
  {
   "cell_type": "code",
   "execution_count": 204,
   "metadata": {
    "colab": {
     "base_uri": "https://localhost:8080/",
     "height": 399
    },
    "colab_type": "code",
    "id": "erG8CgcE3sVw",
    "outputId": "40e7f8e0-fbe9-4624-876c-5b07a0a7e538"
   },
   "outputs": [
    {
     "data": {
      "text/html": [
       "<div>\n",
       "<style scoped>\n",
       "    .dataframe tbody tr th:only-of-type {\n",
       "        vertical-align: middle;\n",
       "    }\n",
       "\n",
       "    .dataframe tbody tr th {\n",
       "        vertical-align: top;\n",
       "    }\n",
       "\n",
       "    .dataframe thead th {\n",
       "        text-align: right;\n",
       "    }\n",
       "</style>\n",
       "<table border=\"1\" class=\"dataframe\">\n",
       "  <thead>\n",
       "    <tr style=\"text-align: right;\">\n",
       "      <th></th>\n",
       "      <th>place_id</th>\n",
       "      <th>place_name</th>\n",
       "      <th>rating</th>\n",
       "      <th>total_number_of_ratings</th>\n",
       "      <th>price_level</th>\n",
       "      <th>address</th>\n",
       "      <th>city</th>\n",
       "      <th>zip_code</th>\n",
       "    </tr>\n",
       "  </thead>\n",
       "  <tbody>\n",
       "    <tr>\n",
       "      <td>13</td>\n",
       "      <td>ChIJVwHOlyi0D4gRNjLVMUoK00A</td>\n",
       "      <td>romano's macaroni grill</td>\n",
       "      <td>3.7</td>\n",
       "      <td>860.0</td>\n",
       "      <td>2.0</td>\n",
       "      <td>chicago</td>\n",
       "      <td>60666</td>\n",
       "      <td>60666</td>\n",
       "    </tr>\n",
       "    <tr>\n",
       "      <td>74</td>\n",
       "      <td>ChIJqQyWfSa0D4gRN_IZ45o_HCE</td>\n",
       "      <td>argo tea</td>\n",
       "      <td>3.5</td>\n",
       "      <td>45.0</td>\n",
       "      <td>1.0</td>\n",
       "      <td>chicago</td>\n",
       "      <td>60666</td>\n",
       "      <td>60666</td>\n",
       "    </tr>\n",
       "    <tr>\n",
       "      <td>106</td>\n",
       "      <td>ChIJTxSyOsfSD4gRUy8JoHTgkVw</td>\n",
       "      <td>piece out</td>\n",
       "      <td>NaN</td>\n",
       "      <td>NaN</td>\n",
       "      <td>NaN</td>\n",
       "      <td>chicago</td>\n",
       "      <td>60622</td>\n",
       "      <td>60622</td>\n",
       "    </tr>\n",
       "    <tr>\n",
       "      <td>183</td>\n",
       "      <td>ChIJIVrbHPjMD4gRQfUHdZXic5U</td>\n",
       "      <td>la estrella blanca</td>\n",
       "      <td>3.9</td>\n",
       "      <td>29.0</td>\n",
       "      <td>NaN</td>\n",
       "      <td>chicago</td>\n",
       "      <td>60641</td>\n",
       "      <td>60641</td>\n",
       "    </tr>\n",
       "    <tr>\n",
       "      <td>278</td>\n",
       "      <td>ChIJM_1zjXe2D4gRDAmIxvGytuw</td>\n",
       "      <td>chili's grill &amp; bar</td>\n",
       "      <td>3.2</td>\n",
       "      <td>913.0</td>\n",
       "      <td>2.0</td>\n",
       "      <td>chicago</td>\n",
       "      <td>60666</td>\n",
       "      <td>60666</td>\n",
       "    </tr>\n",
       "    <tr>\n",
       "      <td>...</td>\n",
       "      <td>...</td>\n",
       "      <td>...</td>\n",
       "      <td>...</td>\n",
       "      <td>...</td>\n",
       "      <td>...</td>\n",
       "      <td>...</td>\n",
       "      <td>...</td>\n",
       "      <td>...</td>\n",
       "    </tr>\n",
       "    <tr>\n",
       "      <td>12644</td>\n",
       "      <td>ChIJq9zsX_TSD4gRrRW0u2HLN1E</td>\n",
       "      <td>sweet bean &amp; more</td>\n",
       "      <td>5.0</td>\n",
       "      <td>2.0</td>\n",
       "      <td>NaN</td>\n",
       "      <td>chicago</td>\n",
       "      <td>60614</td>\n",
       "      <td>60614</td>\n",
       "    </tr>\n",
       "    <tr>\n",
       "      <td>12699</td>\n",
       "      <td>ChIJj_2hl5DMD4gRNunA9w1SI1I</td>\n",
       "      <td>central starlite family restaurant</td>\n",
       "      <td>NaN</td>\n",
       "      <td>NaN</td>\n",
       "      <td>NaN</td>\n",
       "      <td>chicago</td>\n",
       "      <td>60639</td>\n",
       "      <td>60639</td>\n",
       "    </tr>\n",
       "    <tr>\n",
       "      <td>12775</td>\n",
       "      <td>ChIJz5h8elIzDogRgDuu28QU6Ic</td>\n",
       "      <td>ruby's soul food</td>\n",
       "      <td>NaN</td>\n",
       "      <td>NaN</td>\n",
       "      <td>NaN</td>\n",
       "      <td>chicago</td>\n",
       "      <td>60651</td>\n",
       "      <td>60651</td>\n",
       "    </tr>\n",
       "    <tr>\n",
       "      <td>12813</td>\n",
       "      <td>ChIJDcM0Ey4zDogR2rNIPGIV_gs</td>\n",
       "      <td>come &amp; get it</td>\n",
       "      <td>NaN</td>\n",
       "      <td>NaN</td>\n",
       "      <td>NaN</td>\n",
       "      <td>chicago</td>\n",
       "      <td>60644</td>\n",
       "      <td>60644</td>\n",
       "    </tr>\n",
       "    <tr>\n",
       "      <td>12957</td>\n",
       "      <td>ChIJ3aY5ZpsvDogRlumoNGkp9Xk</td>\n",
       "      <td>amanda j unisex salon</td>\n",
       "      <td>NaN</td>\n",
       "      <td>NaN</td>\n",
       "      <td>NaN</td>\n",
       "      <td>chicago</td>\n",
       "      <td>60620</td>\n",
       "      <td>60620</td>\n",
       "    </tr>\n",
       "  </tbody>\n",
       "</table>\n",
       "<p>173 rows × 8 columns</p>\n",
       "</div>"
      ],
      "text/plain": [
       "                          place_id                          place_name  \\\n",
       "13     ChIJVwHOlyi0D4gRNjLVMUoK00A             romano's macaroni grill   \n",
       "74     ChIJqQyWfSa0D4gRN_IZ45o_HCE                            argo tea   \n",
       "106    ChIJTxSyOsfSD4gRUy8JoHTgkVw                           piece out   \n",
       "183    ChIJIVrbHPjMD4gRQfUHdZXic5U                  la estrella blanca   \n",
       "278    ChIJM_1zjXe2D4gRDAmIxvGytuw                 chili's grill & bar   \n",
       "...                            ...                                 ...   \n",
       "12644  ChIJq9zsX_TSD4gRrRW0u2HLN1E                   sweet bean & more   \n",
       "12699  ChIJj_2hl5DMD4gRNunA9w1SI1I  central starlite family restaurant   \n",
       "12775  ChIJz5h8elIzDogRgDuu28QU6Ic                    ruby's soul food   \n",
       "12813  ChIJDcM0Ey4zDogR2rNIPGIV_gs                       come & get it   \n",
       "12957  ChIJ3aY5ZpsvDogRlumoNGkp9Xk               amanda j unisex salon   \n",
       "\n",
       "       rating  total_number_of_ratings  price_level  address   city zip_code  \n",
       "13        3.7                    860.0          2.0  chicago  60666    60666  \n",
       "74        3.5                     45.0          1.0  chicago  60666    60666  \n",
       "106       NaN                      NaN          NaN  chicago  60622    60622  \n",
       "183       3.9                     29.0          NaN  chicago  60641    60641  \n",
       "278       3.2                    913.0          2.0  chicago  60666    60666  \n",
       "...       ...                      ...          ...      ...    ...      ...  \n",
       "12644     5.0                      2.0          NaN  chicago  60614    60614  \n",
       "12699     NaN                      NaN          NaN  chicago  60639    60639  \n",
       "12775     NaN                      NaN          NaN  chicago  60651    60651  \n",
       "12813     NaN                      NaN          NaN  chicago  60644    60644  \n",
       "12957     NaN                      NaN          NaN  chicago  60620    60620  \n",
       "\n",
       "[173 rows x 8 columns]"
      ]
     },
     "execution_count": 204,
     "metadata": {},
     "output_type": "execute_result"
    }
   ],
   "source": [
    "google_places[google_places.city.str.startswith(\"60\", na=False)]"
   ]
  },
  {
   "cell_type": "markdown",
   "metadata": {
    "colab_type": "text",
    "id": "FA3s1Jrp3w2o"
   },
   "source": [
    "If address is Chicago move it to city column"
   ]
  },
  {
   "cell_type": "code",
   "execution_count": 205,
   "metadata": {
    "colab": {},
    "colab_type": "code",
    "id": "Kcoq4eVD3uyX"
   },
   "outputs": [],
   "source": [
    "address_idx = (google_places.address == \"chicago\")\n",
    "google_places.loc[address_idx, \"city\"] = \"chicago\"\n",
    "google_places.loc[address_idx, \"address\"] = np.nan"
   ]
  },
  {
   "cell_type": "code",
   "execution_count": 206,
   "metadata": {
    "colab": {
     "base_uri": "https://localhost:8080/",
     "height": 35
    },
    "colab_type": "code",
    "id": "_9ibi3-83zZN",
    "outputId": "2c746193-0d7c-4bab-c815-5e9fa7938c18"
   },
   "outputs": [
    {
     "name": "stdout",
     "output_type": "stream",
     "text": [
      "Number of restaurants with non-chicago city 1890\n"
     ]
    }
   ],
   "source": [
    "not_chicago_restaurants = google_places[~(google_places.city == \"chicago\")]\n",
    "print(f\"Number of restaurants with non-chicago city {len(not_chicago_restaurants)}\")"
   ]
  },
  {
   "cell_type": "markdown",
   "metadata": {
    "colab_type": "text",
    "id": "_5Lt-32C3_yH"
   },
   "source": [
    "We can see that sometimes there are still cities denoted with zip codes starting with 60, let's check city for those values"
   ]
  },
  {
   "cell_type": "code",
   "execution_count": 207,
   "metadata": {
    "colab": {
     "base_uri": "https://localhost:8080/",
     "height": 546
    },
    "colab_type": "code",
    "id": "0Uy4geeS39UG",
    "outputId": "16d44776-655e-4eda-f596-7e9a109424b8"
   },
   "outputs": [
    {
     "data": {
      "text/html": [
       "<div>\n",
       "<style scoped>\n",
       "    .dataframe tbody tr th:only-of-type {\n",
       "        vertical-align: middle;\n",
       "    }\n",
       "\n",
       "    .dataframe tbody tr th {\n",
       "        vertical-align: top;\n",
       "    }\n",
       "\n",
       "    .dataframe thead th {\n",
       "        text-align: right;\n",
       "    }\n",
       "</style>\n",
       "<table border=\"1\" class=\"dataframe\">\n",
       "  <thead>\n",
       "    <tr style=\"text-align: right;\">\n",
       "      <th></th>\n",
       "      <th>place_id</th>\n",
       "      <th>place_name</th>\n",
       "      <th>rating</th>\n",
       "      <th>total_number_of_ratings</th>\n",
       "      <th>price_level</th>\n",
       "      <th>address</th>\n",
       "      <th>city</th>\n",
       "      <th>zip_code</th>\n",
       "    </tr>\n",
       "  </thead>\n",
       "  <tbody>\n",
       "    <tr>\n",
       "      <td>2408</td>\n",
       "      <td>ChIJ6xFHBL6vD4gRchf5OrA9qUg</td>\n",
       "      <td>northwest transportation center</td>\n",
       "      <td>4.0</td>\n",
       "      <td>20.0</td>\n",
       "      <td>NaN</td>\n",
       "      <td>schaumburg</td>\n",
       "      <td>60173</td>\n",
       "      <td>60173</td>\n",
       "    </tr>\n",
       "    <tr>\n",
       "      <td>5469</td>\n",
       "      <td>ChIJsTHl8TevD4gRVlyTfs6j5Y0</td>\n",
       "      <td>nic's organic fast food</td>\n",
       "      <td>3.1</td>\n",
       "      <td>31.0</td>\n",
       "      <td>NaN</td>\n",
       "      <td>schaumburg</td>\n",
       "      <td>60173</td>\n",
       "      <td>60173</td>\n",
       "    </tr>\n",
       "    <tr>\n",
       "      <td>6613</td>\n",
       "      <td>ChIJzQ0X9bYzDogRHT07KfAcfNA</td>\n",
       "      <td>mc café</td>\n",
       "      <td>4.5</td>\n",
       "      <td>2.0</td>\n",
       "      <td>NaN</td>\n",
       "      <td>cicero</td>\n",
       "      <td>60804</td>\n",
       "      <td>60804</td>\n",
       "    </tr>\n",
       "    <tr>\n",
       "      <td>7438</td>\n",
       "      <td>ChIJT0JHiqUzDogRlqHkJuSCgrs</td>\n",
       "      <td>nueva vida</td>\n",
       "      <td>4.2</td>\n",
       "      <td>6.0</td>\n",
       "      <td>NaN</td>\n",
       "      <td>cicero</td>\n",
       "      <td>60804</td>\n",
       "      <td>60804</td>\n",
       "    </tr>\n",
       "    <tr>\n",
       "      <td>8272</td>\n",
       "      <td>ChIJt1juNU80DogRzGgeK6nsrs0</td>\n",
       "      <td>red robin gourmet burgers and brews</td>\n",
       "      <td>3.9</td>\n",
       "      <td>1032.0</td>\n",
       "      <td>2.0</td>\n",
       "      <td>north riverside</td>\n",
       "      <td>60546</td>\n",
       "      <td>60546</td>\n",
       "    </tr>\n",
       "    <tr>\n",
       "      <td>8551</td>\n",
       "      <td>ChIJo3gfbs66D4gRNGDpJP0lFEo</td>\n",
       "      <td>mr d's sports bar &amp; grill</td>\n",
       "      <td>4.3</td>\n",
       "      <td>56.0</td>\n",
       "      <td>NaN</td>\n",
       "      <td>arlington heights</td>\n",
       "      <td>60005</td>\n",
       "      <td>60005</td>\n",
       "    </tr>\n",
       "    <tr>\n",
       "      <td>8572</td>\n",
       "      <td>ChIJR5CMqiGuD4gR3N5M6VH7ryE</td>\n",
       "      <td>vincenzo palmieri dpm</td>\n",
       "      <td>4.8</td>\n",
       "      <td>19.0</td>\n",
       "      <td>NaN</td>\n",
       "      <td>elk grove village</td>\n",
       "      <td>60007</td>\n",
       "      <td>60007</td>\n",
       "    </tr>\n",
       "    <tr>\n",
       "      <td>9575</td>\n",
       "      <td>ChIJQ-X4Dq4zDogR543sVOJGvsk</td>\n",
       "      <td>hibachi seafood buffet</td>\n",
       "      <td>3.4</td>\n",
       "      <td>8.0</td>\n",
       "      <td>NaN</td>\n",
       "      <td>cicero</td>\n",
       "      <td>60804</td>\n",
       "      <td>60804</td>\n",
       "    </tr>\n",
       "    <tr>\n",
       "      <td>9736</td>\n",
       "      <td>ChIJ7aMROx4FD4gRRAVVecrnbUY</td>\n",
       "      <td>fantasea destinations</td>\n",
       "      <td>NaN</td>\n",
       "      <td>NaN</td>\n",
       "      <td>NaN</td>\n",
       "      <td>elgin</td>\n",
       "      <td>60123</td>\n",
       "      <td>60123</td>\n",
       "    </tr>\n",
       "    <tr>\n",
       "      <td>9794</td>\n",
       "      <td>ChIJs-zK38JKDogROyQY0tbyclU</td>\n",
       "      <td>sharky's fish</td>\n",
       "      <td>4.5</td>\n",
       "      <td>2.0</td>\n",
       "      <td>NaN</td>\n",
       "      <td>bellwood</td>\n",
       "      <td>60104</td>\n",
       "      <td>60104</td>\n",
       "    </tr>\n",
       "    <tr>\n",
       "      <td>9878</td>\n",
       "      <td>ChIJEU3bws6wD4gRc-_2U0GQAwI</td>\n",
       "      <td>maraca's club</td>\n",
       "      <td>4.0</td>\n",
       "      <td>1.0</td>\n",
       "      <td>NaN</td>\n",
       "      <td>des plaines</td>\n",
       "      <td>60016</td>\n",
       "      <td>60016</td>\n",
       "    </tr>\n",
       "    <tr>\n",
       "      <td>10122</td>\n",
       "      <td>ChIJT0JHiqUzDogRlqHkJuSCgrs</td>\n",
       "      <td>nueva vida</td>\n",
       "      <td>4.2</td>\n",
       "      <td>6.0</td>\n",
       "      <td>NaN</td>\n",
       "      <td>cicero</td>\n",
       "      <td>60804</td>\n",
       "      <td>60804</td>\n",
       "    </tr>\n",
       "    <tr>\n",
       "      <td>10162</td>\n",
       "      <td>ChIJDXukEK4zDogRoL9f3mLUeFc</td>\n",
       "      <td>my twirl yogurt &amp; smoothies</td>\n",
       "      <td>4.6</td>\n",
       "      <td>8.0</td>\n",
       "      <td>NaN</td>\n",
       "      <td>cicero</td>\n",
       "      <td>60804</td>\n",
       "      <td>60804</td>\n",
       "    </tr>\n",
       "    <tr>\n",
       "      <td>10818</td>\n",
       "      <td>ChIJ3bHi-DbOD4gRcGXLyROZV-s</td>\n",
       "      <td>gfc buffalo's</td>\n",
       "      <td>3.6</td>\n",
       "      <td>18.0</td>\n",
       "      <td>NaN</td>\n",
       "      <td>lincolnwood</td>\n",
       "      <td>60712</td>\n",
       "      <td>60712</td>\n",
       "    </tr>\n",
       "    <tr>\n",
       "      <td>10935</td>\n",
       "      <td>ChIJJajT_VMrDogRhxDxFgORep8</td>\n",
       "      <td>ogden slip</td>\n",
       "      <td>4.3</td>\n",
       "      <td>3.0</td>\n",
       "      <td>NaN</td>\n",
       "      <td>streeterville</td>\n",
       "      <td>60611</td>\n",
       "      <td>60611</td>\n",
       "    </tr>\n",
       "    <tr>\n",
       "      <td>11686</td>\n",
       "      <td>ChIJkXTFui71DogR2MaMn2rp1t0</td>\n",
       "      <td>smiley's gyros &amp; beef</td>\n",
       "      <td>4.7</td>\n",
       "      <td>353.0</td>\n",
       "      <td>1.0</td>\n",
       "      <td>plainfield</td>\n",
       "      <td>60586</td>\n",
       "      <td>60586</td>\n",
       "    </tr>\n",
       "    <tr>\n",
       "      <td>12005</td>\n",
       "      <td>ChIJtUj3XHsjDogRqzYmJikzjTc</td>\n",
       "      <td>birria estilo ocotlan</td>\n",
       "      <td>4.4</td>\n",
       "      <td>7.0</td>\n",
       "      <td>NaN</td>\n",
       "      <td>blue island</td>\n",
       "      <td>60406</td>\n",
       "      <td>60406</td>\n",
       "    </tr>\n",
       "  </tbody>\n",
       "</table>\n",
       "</div>"
      ],
      "text/plain": [
       "                          place_id                           place_name  \\\n",
       "2408   ChIJ6xFHBL6vD4gRchf5OrA9qUg      northwest transportation center   \n",
       "5469   ChIJsTHl8TevD4gRVlyTfs6j5Y0              nic's organic fast food   \n",
       "6613   ChIJzQ0X9bYzDogRHT07KfAcfNA                              mc café   \n",
       "7438   ChIJT0JHiqUzDogRlqHkJuSCgrs                           nueva vida   \n",
       "8272   ChIJt1juNU80DogRzGgeK6nsrs0  red robin gourmet burgers and brews   \n",
       "8551   ChIJo3gfbs66D4gRNGDpJP0lFEo            mr d's sports bar & grill   \n",
       "8572   ChIJR5CMqiGuD4gR3N5M6VH7ryE                vincenzo palmieri dpm   \n",
       "9575   ChIJQ-X4Dq4zDogR543sVOJGvsk               hibachi seafood buffet   \n",
       "9736   ChIJ7aMROx4FD4gRRAVVecrnbUY                fantasea destinations   \n",
       "9794   ChIJs-zK38JKDogROyQY0tbyclU                        sharky's fish   \n",
       "9878   ChIJEU3bws6wD4gRc-_2U0GQAwI                        maraca's club   \n",
       "10122  ChIJT0JHiqUzDogRlqHkJuSCgrs                           nueva vida   \n",
       "10162  ChIJDXukEK4zDogRoL9f3mLUeFc          my twirl yogurt & smoothies   \n",
       "10818  ChIJ3bHi-DbOD4gRcGXLyROZV-s                        gfc buffalo's   \n",
       "10935  ChIJJajT_VMrDogRhxDxFgORep8                           ogden slip   \n",
       "11686  ChIJkXTFui71DogR2MaMn2rp1t0                smiley's gyros & beef   \n",
       "12005  ChIJtUj3XHsjDogRqzYmJikzjTc                birria estilo ocotlan   \n",
       "\n",
       "       rating  total_number_of_ratings  price_level            address   city  \\\n",
       "2408      4.0                     20.0          NaN         schaumburg  60173   \n",
       "5469      3.1                     31.0          NaN         schaumburg  60173   \n",
       "6613      4.5                      2.0          NaN             cicero  60804   \n",
       "7438      4.2                      6.0          NaN             cicero  60804   \n",
       "8272      3.9                   1032.0          2.0    north riverside  60546   \n",
       "8551      4.3                     56.0          NaN  arlington heights  60005   \n",
       "8572      4.8                     19.0          NaN  elk grove village  60007   \n",
       "9575      3.4                      8.0          NaN             cicero  60804   \n",
       "9736      NaN                      NaN          NaN              elgin  60123   \n",
       "9794      4.5                      2.0          NaN           bellwood  60104   \n",
       "9878      4.0                      1.0          NaN        des plaines  60016   \n",
       "10122     4.2                      6.0          NaN             cicero  60804   \n",
       "10162     4.6                      8.0          NaN             cicero  60804   \n",
       "10818     3.6                     18.0          NaN        lincolnwood  60712   \n",
       "10935     4.3                      3.0          NaN      streeterville  60611   \n",
       "11686     4.7                    353.0          1.0         plainfield  60586   \n",
       "12005     4.4                      7.0          NaN        blue island  60406   \n",
       "\n",
       "      zip_code  \n",
       "2408     60173  \n",
       "5469     60173  \n",
       "6613     60804  \n",
       "7438     60804  \n",
       "8272     60546  \n",
       "8551     60005  \n",
       "8572     60007  \n",
       "9575     60804  \n",
       "9736     60123  \n",
       "9794     60104  \n",
       "9878     60016  \n",
       "10122    60804  \n",
       "10162    60804  \n",
       "10818    60712  \n",
       "10935    60611  \n",
       "11686    60586  \n",
       "12005    60406  "
      ]
     },
     "execution_count": 207,
     "metadata": {},
     "output_type": "execute_result"
    }
   ],
   "source": [
    "google_places[google_places.city.str.startswith(\"60\", na=False)]"
   ]
  },
  {
   "cell_type": "markdown",
   "metadata": {
    "colab_type": "text",
    "id": "9UUyowtv4IeP"
   },
   "source": [
    "It turns out that entries as cicero, north riverside, schaumburg or elgin are within Chicago aglomeration they are smaller towns or districts."
   ]
  },
  {
   "cell_type": "code",
   "execution_count": 208,
   "metadata": {
    "colab": {
     "base_uri": "https://localhost:8080/",
     "height": 399
    },
    "colab_type": "code",
    "id": "5Ac1xe234DsC",
    "outputId": "1fc8d087-b995-403b-d7c8-bdefc19d4856"
   },
   "outputs": [
    {
     "data": {
      "text/html": [
       "<div>\n",
       "<style scoped>\n",
       "    .dataframe tbody tr th:only-of-type {\n",
       "        vertical-align: middle;\n",
       "    }\n",
       "\n",
       "    .dataframe tbody tr th {\n",
       "        vertical-align: top;\n",
       "    }\n",
       "\n",
       "    .dataframe thead th {\n",
       "        text-align: right;\n",
       "    }\n",
       "</style>\n",
       "<table border=\"1\" class=\"dataframe\">\n",
       "  <thead>\n",
       "    <tr style=\"text-align: right;\">\n",
       "      <th></th>\n",
       "      <th>place_id</th>\n",
       "      <th>place_name</th>\n",
       "      <th>rating</th>\n",
       "      <th>total_number_of_ratings</th>\n",
       "      <th>price_level</th>\n",
       "      <th>address</th>\n",
       "      <th>city</th>\n",
       "      <th>zip_code</th>\n",
       "    </tr>\n",
       "  </thead>\n",
       "  <tbody>\n",
       "    <tr>\n",
       "      <td>25</td>\n",
       "      <td>ChIJ8W5KpKj0WYgRXlQU3Lknu-c</td>\n",
       "      <td>liberty house coffee and café</td>\n",
       "      <td>4.7</td>\n",
       "      <td>234.0</td>\n",
       "      <td>2.0</td>\n",
       "      <td>221 s liberty st</td>\n",
       "      <td>asheville</td>\n",
       "      <td>28801-2334</td>\n",
       "    </tr>\n",
       "    <tr>\n",
       "      <td>94</td>\n",
       "      <td>ChIJs1HOuK4FBYgREBfd2sHyGwg</td>\n",
       "      <td>la terraza</td>\n",
       "      <td>4.6</td>\n",
       "      <td>77.0</td>\n",
       "      <td>NaN</td>\n",
       "      <td>11520 w bluemound rd # 2</td>\n",
       "      <td>wauwatosa</td>\n",
       "      <td>53226-4000</td>\n",
       "    </tr>\n",
       "    <tr>\n",
       "      <td>163</td>\n",
       "      <td>ChIJFXchGjxt_oYR3OZ7Dv4sz3A</td>\n",
       "      <td>mi linda michoacana</td>\n",
       "      <td>4.5</td>\n",
       "      <td>240.0</td>\n",
       "      <td>NaN</td>\n",
       "      <td>2002 34th st</td>\n",
       "      <td>lubbock</td>\n",
       "      <td>79411-1832</td>\n",
       "    </tr>\n",
       "    <tr>\n",
       "      <td>174</td>\n",
       "      <td>ChIJ2TzjVki8QIYR8rBeeXUQuGA</td>\n",
       "      <td>doña chela restaurant</td>\n",
       "      <td>4.3</td>\n",
       "      <td>212.0</td>\n",
       "      <td>1.0</td>\n",
       "      <td>1112 76th st</td>\n",
       "      <td>houston</td>\n",
       "      <td>77012-1004</td>\n",
       "    </tr>\n",
       "    <tr>\n",
       "      <td>186</td>\n",
       "      <td>ChIJf4UCjadCGYgRPk63PEDsfwo</td>\n",
       "      <td>compass group usa inc</td>\n",
       "      <td>NaN</td>\n",
       "      <td>NaN</td>\n",
       "      <td>NaN</td>\n",
       "      <td>6477 syers rd</td>\n",
       "      <td>holton</td>\n",
       "      <td>49425-7508</td>\n",
       "    </tr>\n",
       "    <tr>\n",
       "      <td>...</td>\n",
       "      <td>...</td>\n",
       "      <td>...</td>\n",
       "      <td>...</td>\n",
       "      <td>...</td>\n",
       "      <td>...</td>\n",
       "      <td>...</td>\n",
       "      <td>...</td>\n",
       "      <td>...</td>\n",
       "    </tr>\n",
       "    <tr>\n",
       "      <td>12967</td>\n",
       "      <td>ChIJ8WUga24zXIgRrtJ5T0sC08M</td>\n",
       "      <td>mediterranean delight</td>\n",
       "      <td>4.8</td>\n",
       "      <td>237.0</td>\n",
       "      <td>1.0</td>\n",
       "      <td>160 bus terminal rd a</td>\n",
       "      <td>oak ridge</td>\n",
       "      <td>37830</td>\n",
       "    </tr>\n",
       "    <tr>\n",
       "      <td>12974</td>\n",
       "      <td>ChIJScl8s92LOIgRwRKOCn4btuI</td>\n",
       "      <td>couscous house</td>\n",
       "      <td>4.9</td>\n",
       "      <td>100.0</td>\n",
       "      <td>1.0</td>\n",
       "      <td>1611 morse rd</td>\n",
       "      <td>columbus</td>\n",
       "      <td>43229</td>\n",
       "    </tr>\n",
       "    <tr>\n",
       "      <td>12975</td>\n",
       "      <td>ChIJrUpLxVkDBYgR2GJViXvlxkY</td>\n",
       "      <td>champion chicken</td>\n",
       "      <td>3.5</td>\n",
       "      <td>391.0</td>\n",
       "      <td>1.0</td>\n",
       "      <td>8718 w lisbon ave</td>\n",
       "      <td>milwaukee</td>\n",
       "      <td>53222-2859</td>\n",
       "    </tr>\n",
       "    <tr>\n",
       "      <td>13001</td>\n",
       "      <td>ChIJIVSzGQ3nEYgR8nZhwaBQ9ZM</td>\n",
       "      <td>food king china buffet</td>\n",
       "      <td>3.6</td>\n",
       "      <td>224.0</td>\n",
       "      <td>1.0</td>\n",
       "      <td>214 w ridge rd</td>\n",
       "      <td>griffith</td>\n",
       "      <td>46319-1041</td>\n",
       "    </tr>\n",
       "    <tr>\n",
       "      <td>13003</td>\n",
       "      <td>ChIJtf1ZQfzqEYgR9gh_2CPqkNE</td>\n",
       "      <td>cagney's saloon</td>\n",
       "      <td>4.0</td>\n",
       "      <td>380.0</td>\n",
       "      <td>1.0</td>\n",
       "      <td>236 main st</td>\n",
       "      <td>hobart</td>\n",
       "      <td>46342</td>\n",
       "    </tr>\n",
       "  </tbody>\n",
       "</table>\n",
       "<p>1071 rows × 8 columns</p>\n",
       "</div>"
      ],
      "text/plain": [
       "                          place_id                     place_name  rating  \\\n",
       "25     ChIJ8W5KpKj0WYgRXlQU3Lknu-c  liberty house coffee and café     4.7   \n",
       "94     ChIJs1HOuK4FBYgREBfd2sHyGwg                     la terraza     4.6   \n",
       "163    ChIJFXchGjxt_oYR3OZ7Dv4sz3A            mi linda michoacana     4.5   \n",
       "174    ChIJ2TzjVki8QIYR8rBeeXUQuGA          doña chela restaurant     4.3   \n",
       "186    ChIJf4UCjadCGYgRPk63PEDsfwo          compass group usa inc     NaN   \n",
       "...                            ...                            ...     ...   \n",
       "12967  ChIJ8WUga24zXIgRrtJ5T0sC08M          mediterranean delight     4.8   \n",
       "12974  ChIJScl8s92LOIgRwRKOCn4btuI                 couscous house     4.9   \n",
       "12975  ChIJrUpLxVkDBYgR2GJViXvlxkY               champion chicken     3.5   \n",
       "13001  ChIJIVSzGQ3nEYgR8nZhwaBQ9ZM         food king china buffet     3.6   \n",
       "13003  ChIJtf1ZQfzqEYgR9gh_2CPqkNE                cagney's saloon     4.0   \n",
       "\n",
       "       total_number_of_ratings  price_level                   address  \\\n",
       "25                       234.0          2.0          221 s liberty st   \n",
       "94                        77.0          NaN  11520 w bluemound rd # 2   \n",
       "163                      240.0          NaN              2002 34th st   \n",
       "174                      212.0          1.0              1112 76th st   \n",
       "186                        NaN          NaN             6477 syers rd   \n",
       "...                        ...          ...                       ...   \n",
       "12967                    237.0          1.0     160 bus terminal rd a   \n",
       "12974                    100.0          1.0             1611 morse rd   \n",
       "12975                    391.0          1.0         8718 w lisbon ave   \n",
       "13001                    224.0          1.0            214 w ridge rd   \n",
       "13003                    380.0          1.0               236 main st   \n",
       "\n",
       "            city    zip_code  \n",
       "25     asheville  28801-2334  \n",
       "94     wauwatosa  53226-4000  \n",
       "163      lubbock  79411-1832  \n",
       "174      houston  77012-1004  \n",
       "186       holton  49425-7508  \n",
       "...          ...         ...  \n",
       "12967  oak ridge       37830  \n",
       "12974   columbus       43229  \n",
       "12975  milwaukee  53222-2859  \n",
       "13001   griffith  46319-1041  \n",
       "13003     hobart       46342  \n",
       "\n",
       "[1071 rows x 8 columns]"
      ]
     },
     "execution_count": 208,
     "metadata": {},
     "output_type": "execute_result"
    }
   ],
   "source": [
    "google_places[(~(google_places.zip_code.str.startswith(\"60\", na=False)) & (google_places.city != \"chicago\"))]"
   ]
  },
  {
   "cell_type": "markdown",
   "metadata": {
    "colab_type": "text",
    "id": "nhh9C9i44NK9"
   },
   "source": [
    "We have 1071 rows which correspond to restaurants in different places than Chicago area. They are of no use to us so we remove them."
   ]
  },
  {
   "cell_type": "code",
   "execution_count": 209,
   "metadata": {
    "colab": {
     "base_uri": "https://localhost:8080/",
     "height": 194
    },
    "colab_type": "code",
    "id": "EliBl-gP4Pe3",
    "outputId": "d4be4f08-cf4c-407f-b491-26405969618b"
   },
   "outputs": [
    {
     "data": {
      "text/html": [
       "<div>\n",
       "<style scoped>\n",
       "    .dataframe tbody tr th:only-of-type {\n",
       "        vertical-align: middle;\n",
       "    }\n",
       "\n",
       "    .dataframe tbody tr th {\n",
       "        vertical-align: top;\n",
       "    }\n",
       "\n",
       "    .dataframe thead th {\n",
       "        text-align: right;\n",
       "    }\n",
       "</style>\n",
       "<table border=\"1\" class=\"dataframe\">\n",
       "  <thead>\n",
       "    <tr style=\"text-align: right;\">\n",
       "      <th></th>\n",
       "      <th>place_id</th>\n",
       "      <th>place_name</th>\n",
       "      <th>rating</th>\n",
       "      <th>total_number_of_ratings</th>\n",
       "      <th>price_level</th>\n",
       "      <th>address</th>\n",
       "      <th>city</th>\n",
       "      <th>zip_code</th>\n",
       "    </tr>\n",
       "  </thead>\n",
       "  <tbody>\n",
       "    <tr>\n",
       "      <td>0</td>\n",
       "      <td>ChIJleWegJHTD4gRsIMGm3IjUcM</td>\n",
       "      <td>yolk - test kitchen</td>\n",
       "      <td>4.4</td>\n",
       "      <td>180.0</td>\n",
       "      <td>2.0</td>\n",
       "      <td>1767 n milwaukee ave</td>\n",
       "      <td>chicago</td>\n",
       "      <td>60647</td>\n",
       "    </tr>\n",
       "    <tr>\n",
       "      <td>1</td>\n",
       "      <td>ChIJI1dehI0xDogRRkvKIpUspHM</td>\n",
       "      <td>las asadas restaurant</td>\n",
       "      <td>4.0</td>\n",
       "      <td>166.0</td>\n",
       "      <td>2.0</td>\n",
       "      <td>3834 w 47th st</td>\n",
       "      <td>chicago</td>\n",
       "      <td>60632-4136</td>\n",
       "    </tr>\n",
       "    <tr>\n",
       "      <td>2</td>\n",
       "      <td>ChIJBRuLGC_MD4gRfUVkzaQBIZk</td>\n",
       "      <td>mini palapita</td>\n",
       "      <td>4.3</td>\n",
       "      <td>342.0</td>\n",
       "      <td>1.0</td>\n",
       "      <td>4968 n elston ave</td>\n",
       "      <td>chicago</td>\n",
       "      <td>60630</td>\n",
       "    </tr>\n",
       "    <tr>\n",
       "      <td>3</td>\n",
       "      <td>ChIJ-auSyWItDogRQwUqcwljejE</td>\n",
       "      <td>crazy bird chicken</td>\n",
       "      <td>4.7</td>\n",
       "      <td>67.0</td>\n",
       "      <td>NaN</td>\n",
       "      <td>1160 w grand ave</td>\n",
       "      <td>chicago</td>\n",
       "      <td>60642-5837</td>\n",
       "    </tr>\n",
       "    <tr>\n",
       "      <td>4</td>\n",
       "      <td>ChIJIYRFg7IsDogRAW0zLguKL-A</td>\n",
       "      <td>redhead piano bar</td>\n",
       "      <td>4.2</td>\n",
       "      <td>989.0</td>\n",
       "      <td>2.0</td>\n",
       "      <td>16 w ontario st</td>\n",
       "      <td>chicago</td>\n",
       "      <td>60654</td>\n",
       "    </tr>\n",
       "  </tbody>\n",
       "</table>\n",
       "</div>"
      ],
      "text/plain": [
       "                      place_id             place_name  rating  \\\n",
       "0  ChIJleWegJHTD4gRsIMGm3IjUcM    yolk - test kitchen     4.4   \n",
       "1  ChIJI1dehI0xDogRRkvKIpUspHM  las asadas restaurant     4.0   \n",
       "2  ChIJBRuLGC_MD4gRfUVkzaQBIZk          mini palapita     4.3   \n",
       "3  ChIJ-auSyWItDogRQwUqcwljejE     crazy bird chicken     4.7   \n",
       "4  ChIJIYRFg7IsDogRAW0zLguKL-A      redhead piano bar     4.2   \n",
       "\n",
       "   total_number_of_ratings  price_level               address     city  \\\n",
       "0                    180.0          2.0  1767 n milwaukee ave  chicago   \n",
       "1                    166.0          2.0        3834 w 47th st  chicago   \n",
       "2                    342.0          1.0     4968 n elston ave  chicago   \n",
       "3                     67.0          NaN      1160 w grand ave  chicago   \n",
       "4                    989.0          2.0       16 w ontario st  chicago   \n",
       "\n",
       "     zip_code  \n",
       "0       60647  \n",
       "1  60632-4136  \n",
       "2       60630  \n",
       "3  60642-5837  \n",
       "4       60654  "
      ]
     },
     "execution_count": 209,
     "metadata": {},
     "output_type": "execute_result"
    }
   ],
   "source": [
    "google_places_cleaned = google_places[((google_places.zip_code.str.startswith(\"60\", na=False)) | (google_places.city == \"chicago\"))]\n",
    "google_places_cleaned.head()"
   ]
  },
  {
   "cell_type": "markdown",
   "metadata": {
    "colab_type": "text",
    "id": "CltyRWCp4U_u"
   },
   "source": [
    "We will remove any duplicating rows from both dataframes as sometimes Google API might have returned same place_id for two distinct restaurants"
   ]
  },
  {
   "cell_type": "code",
   "execution_count": 210,
   "metadata": {
    "colab": {
     "base_uri": "https://localhost:8080/",
     "height": 141
    },
    "colab_type": "code",
    "id": "mizSc_of4S0X",
    "outputId": "301238dd-5bea-45a3-d66f-f7bc09c8c61b"
   },
   "outputs": [],
   "source": [
    "pd.set_option('mode.chained_assignment', None)\n",
    "google_places_cleaned.drop_duplicates(inplace=True)\n",
    "restaurants.drop_duplicates(inplace=True)"
   ]
  },
  {
   "cell_type": "markdown",
   "metadata": {
    "colab_type": "text",
    "id": "7MMuLKAg4ebe"
   },
   "source": [
    "Now we want to compare addresses and names of restaurants. We will start with joining Google places API output dataframe with restaurants dataframe on place_id. We perform left join on `google_places_cleaned` as we are only interested in cases when we received a response from Google API."
   ]
  },
  {
   "cell_type": "code",
   "execution_count": 211,
   "metadata": {
    "colab": {
     "base_uri": "https://localhost:8080/",
     "height": 35
    },
    "colab_type": "code",
    "id": "2kVCS4q-4o2M",
    "outputId": "620a3150-bd4a-4b52-b2a5-d9b8033ab57e"
   },
   "outputs": [
    {
     "data": {
      "text/plain": [
       "12057"
      ]
     },
     "execution_count": 211,
     "metadata": {},
     "output_type": "execute_result"
    }
   ],
   "source": [
    "merged = google_places_cleaned.merge(restaurants, on=\"place_id\", how=\"left\", suffixes=(\"_google\", \"_restaurants\"))\n",
    "len(merged)"
   ]
  },
  {
   "cell_type": "code",
   "execution_count": 212,
   "metadata": {
    "colab": {
     "base_uri": "https://localhost:8080/",
     "height": 298
    },
    "colab_type": "code",
    "id": "DzKvsOBK4Vj1",
    "outputId": "69fec2f0-5526-4c6c-e007-d726eb7699d8"
   },
   "outputs": [
    {
     "data": {
      "text/html": [
       "<div>\n",
       "<style scoped>\n",
       "    .dataframe tbody tr th:only-of-type {\n",
       "        vertical-align: middle;\n",
       "    }\n",
       "\n",
       "    .dataframe tbody tr th {\n",
       "        vertical-align: top;\n",
       "    }\n",
       "\n",
       "    .dataframe thead th {\n",
       "        text-align: right;\n",
       "    }\n",
       "</style>\n",
       "<table border=\"1\" class=\"dataframe\">\n",
       "  <thead>\n",
       "    <tr style=\"text-align: right;\">\n",
       "      <th></th>\n",
       "      <th>place_id</th>\n",
       "      <th>place_name_google</th>\n",
       "      <th>rating</th>\n",
       "      <th>total_number_of_ratings</th>\n",
       "      <th>price_level</th>\n",
       "      <th>address_google</th>\n",
       "      <th>city</th>\n",
       "      <th>zip_code_google</th>\n",
       "      <th>place_name_restaurants</th>\n",
       "      <th>latitude</th>\n",
       "      <th>longitude</th>\n",
       "      <th>address_restaurants</th>\n",
       "      <th>zip_code_restaurants</th>\n",
       "    </tr>\n",
       "  </thead>\n",
       "  <tbody>\n",
       "    <tr>\n",
       "      <td>0</td>\n",
       "      <td>ChIJleWegJHTD4gRsIMGm3IjUcM</td>\n",
       "      <td>yolk - test kitchen</td>\n",
       "      <td>4.4</td>\n",
       "      <td>180.0</td>\n",
       "      <td>2.0</td>\n",
       "      <td>1767 n milwaukee ave</td>\n",
       "      <td>chicago</td>\n",
       "      <td>60647</td>\n",
       "      <td>yolk test kitchen</td>\n",
       "      <td>41.913588</td>\n",
       "      <td>-87.682203</td>\n",
       "      <td>1767 n milwaukee ave</td>\n",
       "      <td>60647.0</td>\n",
       "    </tr>\n",
       "    <tr>\n",
       "      <td>1</td>\n",
       "      <td>ChIJI1dehI0xDogRRkvKIpUspHM</td>\n",
       "      <td>las asadas restaurant</td>\n",
       "      <td>4.0</td>\n",
       "      <td>166.0</td>\n",
       "      <td>2.0</td>\n",
       "      <td>3834 w 47th st</td>\n",
       "      <td>chicago</td>\n",
       "      <td>60632-4136</td>\n",
       "      <td>las asadas mexican grill</td>\n",
       "      <td>41.808025</td>\n",
       "      <td>-87.720037</td>\n",
       "      <td>3834 w 47th st</td>\n",
       "      <td>60632.0</td>\n",
       "    </tr>\n",
       "    <tr>\n",
       "      <td>2</td>\n",
       "      <td>ChIJI1dehI0xDogRRkvKIpUspHM</td>\n",
       "      <td>las asadas restaurant</td>\n",
       "      <td>4.0</td>\n",
       "      <td>166.0</td>\n",
       "      <td>2.0</td>\n",
       "      <td>3834 w 47th st</td>\n",
       "      <td>chicago</td>\n",
       "      <td>60632-4136</td>\n",
       "      <td>las asadas</td>\n",
       "      <td>41.808025</td>\n",
       "      <td>-87.720037</td>\n",
       "      <td>3834 w 47th st</td>\n",
       "      <td>60632.0</td>\n",
       "    </tr>\n",
       "    <tr>\n",
       "      <td>3</td>\n",
       "      <td>ChIJI1dehI0xDogRRkvKIpUspHM</td>\n",
       "      <td>las asadas restaurant</td>\n",
       "      <td>4.0</td>\n",
       "      <td>166.0</td>\n",
       "      <td>2.0</td>\n",
       "      <td>3834 w 47th st</td>\n",
       "      <td>chicago</td>\n",
       "      <td>60632-4136</td>\n",
       "      <td>las asadas mar y tierra</td>\n",
       "      <td>41.844356</td>\n",
       "      <td>-87.725205</td>\n",
       "      <td>4014 w 26th st</td>\n",
       "      <td>60623.0</td>\n",
       "    </tr>\n",
       "    <tr>\n",
       "      <td>4</td>\n",
       "      <td>ChIJBRuLGC_MD4gRfUVkzaQBIZk</td>\n",
       "      <td>mini palapita</td>\n",
       "      <td>4.3</td>\n",
       "      <td>342.0</td>\n",
       "      <td>1.0</td>\n",
       "      <td>4968 n elston ave</td>\n",
       "      <td>chicago</td>\n",
       "      <td>60630</td>\n",
       "      <td>la palapita</td>\n",
       "      <td>41.808025</td>\n",
       "      <td>-87.720037</td>\n",
       "      <td>3834 w 47th st</td>\n",
       "      <td>60632.0</td>\n",
       "    </tr>\n",
       "  </tbody>\n",
       "</table>\n",
       "</div>"
      ],
      "text/plain": [
       "                      place_id      place_name_google  rating  \\\n",
       "0  ChIJleWegJHTD4gRsIMGm3IjUcM    yolk - test kitchen     4.4   \n",
       "1  ChIJI1dehI0xDogRRkvKIpUspHM  las asadas restaurant     4.0   \n",
       "2  ChIJI1dehI0xDogRRkvKIpUspHM  las asadas restaurant     4.0   \n",
       "3  ChIJI1dehI0xDogRRkvKIpUspHM  las asadas restaurant     4.0   \n",
       "4  ChIJBRuLGC_MD4gRfUVkzaQBIZk          mini palapita     4.3   \n",
       "\n",
       "   total_number_of_ratings  price_level        address_google     city  \\\n",
       "0                    180.0          2.0  1767 n milwaukee ave  chicago   \n",
       "1                    166.0          2.0        3834 w 47th st  chicago   \n",
       "2                    166.0          2.0        3834 w 47th st  chicago   \n",
       "3                    166.0          2.0        3834 w 47th st  chicago   \n",
       "4                    342.0          1.0     4968 n elston ave  chicago   \n",
       "\n",
       "  zip_code_google    place_name_restaurants   latitude  longitude  \\\n",
       "0           60647         yolk test kitchen  41.913588 -87.682203   \n",
       "1      60632-4136  las asadas mexican grill  41.808025 -87.720037   \n",
       "2      60632-4136                las asadas  41.808025 -87.720037   \n",
       "3      60632-4136   las asadas mar y tierra  41.844356 -87.725205   \n",
       "4           60630               la palapita  41.808025 -87.720037   \n",
       "\n",
       "    address_restaurants  zip_code_restaurants  \n",
       "0  1767 n milwaukee ave               60647.0  \n",
       "1        3834 w 47th st               60632.0  \n",
       "2        3834 w 47th st               60632.0  \n",
       "3        4014 w 26th st               60623.0  \n",
       "4        3834 w 47th st               60632.0  "
      ]
     },
     "execution_count": 212,
     "metadata": {},
     "output_type": "execute_result"
    }
   ],
   "source": [
    "merged.head()"
   ]
  },
  {
   "cell_type": "markdown",
   "metadata": {
    "colab_type": "text",
    "id": "nyGUjdjY5vTt"
   },
   "source": [
    "Sometimes we got a response from Google but we didn't get a rating, we drop rows where we couldn't retrieve rating from Google API.\n"
   ]
  },
  {
   "cell_type": "code",
   "execution_count": 213,
   "metadata": {
    "colab": {
     "base_uri": "https://localhost:8080/",
     "height": 487
    },
    "colab_type": "code",
    "id": "Qyd_-pgA6MTu",
    "outputId": "3d15c74e-610e-43a5-839d-72e8f8b91085"
   },
   "outputs": [
    {
     "data": {
      "text/html": [
       "<div>\n",
       "<style scoped>\n",
       "    .dataframe tbody tr th:only-of-type {\n",
       "        vertical-align: middle;\n",
       "    }\n",
       "\n",
       "    .dataframe tbody tr th {\n",
       "        vertical-align: top;\n",
       "    }\n",
       "\n",
       "    .dataframe thead th {\n",
       "        text-align: right;\n",
       "    }\n",
       "</style>\n",
       "<table border=\"1\" class=\"dataframe\">\n",
       "  <thead>\n",
       "    <tr style=\"text-align: right;\">\n",
       "      <th></th>\n",
       "      <th>place_id</th>\n",
       "      <th>place_name_google</th>\n",
       "      <th>rating</th>\n",
       "      <th>total_number_of_ratings</th>\n",
       "      <th>price_level</th>\n",
       "      <th>address_google</th>\n",
       "      <th>city</th>\n",
       "      <th>zip_code_google</th>\n",
       "      <th>place_name_restaurants</th>\n",
       "      <th>latitude</th>\n",
       "      <th>longitude</th>\n",
       "      <th>address_restaurants</th>\n",
       "      <th>zip_code_restaurants</th>\n",
       "    </tr>\n",
       "  </thead>\n",
       "  <tbody>\n",
       "    <tr>\n",
       "      <td>88</td>\n",
       "      <td>ChIJAQDAYrUsDogRP4hNEthCzr4</td>\n",
       "      <td>11 dining</td>\n",
       "      <td>NaN</td>\n",
       "      <td>NaN</td>\n",
       "      <td>NaN</td>\n",
       "      <td>363 w erie st</td>\n",
       "      <td>chicago</td>\n",
       "      <td>60654</td>\n",
       "      <td>11 dining, llc</td>\n",
       "      <td>41.871996</td>\n",
       "      <td>-87.639204</td>\n",
       "      <td>801 s canal st</td>\n",
       "      <td>60607.0</td>\n",
       "    </tr>\n",
       "    <tr>\n",
       "      <td>89</td>\n",
       "      <td>ChIJAQDAYrUsDogRP4hNEthCzr4</td>\n",
       "      <td>11 dining</td>\n",
       "      <td>NaN</td>\n",
       "      <td>NaN</td>\n",
       "      <td>NaN</td>\n",
       "      <td>363 w erie st</td>\n",
       "      <td>chicago</td>\n",
       "      <td>60654</td>\n",
       "      <td>11 dining,  llc</td>\n",
       "      <td>41.880705</td>\n",
       "      <td>-87.632476</td>\n",
       "      <td>50 s la salle st</td>\n",
       "      <td>60603.0</td>\n",
       "    </tr>\n",
       "    <tr>\n",
       "      <td>139</td>\n",
       "      <td>ChIJ_w7sVbHTD4gRYiLj4jA2o-Y</td>\n",
       "      <td>smokey's wing shack</td>\n",
       "      <td>NaN</td>\n",
       "      <td>NaN</td>\n",
       "      <td>NaN</td>\n",
       "      <td>2627 w division st</td>\n",
       "      <td>chicago</td>\n",
       "      <td>60622</td>\n",
       "      <td>smokey's wing shack</td>\n",
       "      <td>41.902849</td>\n",
       "      <td>-87.693068</td>\n",
       "      <td>2627 w division st</td>\n",
       "      <td>60622.0</td>\n",
       "    </tr>\n",
       "    <tr>\n",
       "      <td>149</td>\n",
       "      <td>ChIJdeaorlMtDogRgPr-G3W_Lho</td>\n",
       "      <td>rare form lounge</td>\n",
       "      <td>NaN</td>\n",
       "      <td>NaN</td>\n",
       "      <td>NaN</td>\n",
       "      <td>2251 w taylor st</td>\n",
       "      <td>chicago</td>\n",
       "      <td>60612</td>\n",
       "      <td>jerky jerk rare</td>\n",
       "      <td>41.868908</td>\n",
       "      <td>-87.683275</td>\n",
       "      <td>2251-2253 w taylor st</td>\n",
       "      <td>60612.0</td>\n",
       "    </tr>\n",
       "    <tr>\n",
       "      <td>154</td>\n",
       "      <td>ChIJTxSyOsfSD4gRUy8JoHTgkVw</td>\n",
       "      <td>piece out</td>\n",
       "      <td>NaN</td>\n",
       "      <td>NaN</td>\n",
       "      <td>NaN</td>\n",
       "      <td>NaN</td>\n",
       "      <td>chicago</td>\n",
       "      <td>60622</td>\n",
       "      <td>piece out</td>\n",
       "      <td>41.910400</td>\n",
       "      <td>-87.676011</td>\n",
       "      <td>1923 w north ave</td>\n",
       "      <td>60622.0</td>\n",
       "    </tr>\n",
       "    <tr>\n",
       "      <td>...</td>\n",
       "      <td>...</td>\n",
       "      <td>...</td>\n",
       "      <td>...</td>\n",
       "      <td>...</td>\n",
       "      <td>...</td>\n",
       "      <td>...</td>\n",
       "      <td>...</td>\n",
       "      <td>...</td>\n",
       "      <td>...</td>\n",
       "      <td>...</td>\n",
       "      <td>...</td>\n",
       "      <td>...</td>\n",
       "      <td>...</td>\n",
       "    </tr>\n",
       "    <tr>\n",
       "      <td>12045</td>\n",
       "      <td>ChIJRZ0swUgtDogRwJgm1QMCTNI</td>\n",
       "      <td>cuddle cupcakes</td>\n",
       "      <td>NaN</td>\n",
       "      <td>NaN</td>\n",
       "      <td>NaN</td>\n",
       "      <td>324 n leavitt st</td>\n",
       "      <td>chicago</td>\n",
       "      <td>60612-1671</td>\n",
       "      <td>foiled cupcakes</td>\n",
       "      <td>41.887434</td>\n",
       "      <td>-87.681849</td>\n",
       "      <td>324 n leavitt st</td>\n",
       "      <td>60612.0</td>\n",
       "    </tr>\n",
       "    <tr>\n",
       "      <td>12047</td>\n",
       "      <td>ChIJB3LyNm4wDogRg_HvhImIlNQ</td>\n",
       "      <td>west 79th street</td>\n",
       "      <td>NaN</td>\n",
       "      <td>NaN</td>\n",
       "      <td>NaN</td>\n",
       "      <td>w 79th st</td>\n",
       "      <td>chicago</td>\n",
       "      <td>NaN</td>\n",
       "      <td>79th  &amp; state brown's</td>\n",
       "      <td>41.751010</td>\n",
       "      <td>-87.624401</td>\n",
       "      <td>7859 s state st</td>\n",
       "      <td>60619.0</td>\n",
       "    </tr>\n",
       "    <tr>\n",
       "      <td>12048</td>\n",
       "      <td>ChIJg6P9MrcoDogRqBlzVpWEURY</td>\n",
       "      <td>a prepared table catering</td>\n",
       "      <td>NaN</td>\n",
       "      <td>NaN</td>\n",
       "      <td>NaN</td>\n",
       "      <td>553 e 79th st</td>\n",
       "      <td>chicago</td>\n",
       "      <td>60619-3035</td>\n",
       "      <td>a prepared table catering</td>\n",
       "      <td>41.751084</td>\n",
       "      <td>-87.610391</td>\n",
       "      <td>553 e 79th st</td>\n",
       "      <td>60619.0</td>\n",
       "    </tr>\n",
       "    <tr>\n",
       "      <td>12054</td>\n",
       "      <td>ChIJ5fNghEVMDogR4UWYi3iHLPE</td>\n",
       "      <td>dip'n good dips</td>\n",
       "      <td>NaN</td>\n",
       "      <td>NaN</td>\n",
       "      <td>NaN</td>\n",
       "      <td>17 monterey ave</td>\n",
       "      <td>villa park</td>\n",
       "      <td>60181-2822</td>\n",
       "      <td>dip &amp; flip</td>\n",
       "      <td>41.775224</td>\n",
       "      <td>-87.683682</td>\n",
       "      <td>6510 s western ave</td>\n",
       "      <td>60636.0</td>\n",
       "    </tr>\n",
       "    <tr>\n",
       "      <td>12056</td>\n",
       "      <td>ChIJubeVEQrTD4gRVKoy9DuCqsQ</td>\n",
       "      <td>surf associates</td>\n",
       "      <td>NaN</td>\n",
       "      <td>NaN</td>\n",
       "      <td>NaN</td>\n",
       "      <td>528 w surf st</td>\n",
       "      <td>chicago</td>\n",
       "      <td>60657-6066</td>\n",
       "      <td>surf &amp; turf where seafood &amp; steak meet, inc.</td>\n",
       "      <td>41.655351</td>\n",
       "      <td>-87.554280</td>\n",
       "      <td>13205 s muskegon ave</td>\n",
       "      <td>60633.0</td>\n",
       "    </tr>\n",
       "  </tbody>\n",
       "</table>\n",
       "<p>631 rows × 13 columns</p>\n",
       "</div>"
      ],
      "text/plain": [
       "                          place_id          place_name_google  rating  \\\n",
       "88     ChIJAQDAYrUsDogRP4hNEthCzr4                  11 dining     NaN   \n",
       "89     ChIJAQDAYrUsDogRP4hNEthCzr4                  11 dining     NaN   \n",
       "139    ChIJ_w7sVbHTD4gRYiLj4jA2o-Y        smokey's wing shack     NaN   \n",
       "149    ChIJdeaorlMtDogRgPr-G3W_Lho           rare form lounge     NaN   \n",
       "154    ChIJTxSyOsfSD4gRUy8JoHTgkVw                  piece out     NaN   \n",
       "...                            ...                        ...     ...   \n",
       "12045  ChIJRZ0swUgtDogRwJgm1QMCTNI            cuddle cupcakes     NaN   \n",
       "12047  ChIJB3LyNm4wDogRg_HvhImIlNQ           west 79th street     NaN   \n",
       "12048  ChIJg6P9MrcoDogRqBlzVpWEURY  a prepared table catering     NaN   \n",
       "12054  ChIJ5fNghEVMDogR4UWYi3iHLPE            dip'n good dips     NaN   \n",
       "12056  ChIJubeVEQrTD4gRVKoy9DuCqsQ            surf associates     NaN   \n",
       "\n",
       "       total_number_of_ratings  price_level      address_google        city  \\\n",
       "88                         NaN          NaN       363 w erie st     chicago   \n",
       "89                         NaN          NaN       363 w erie st     chicago   \n",
       "139                        NaN          NaN  2627 w division st     chicago   \n",
       "149                        NaN          NaN    2251 w taylor st     chicago   \n",
       "154                        NaN          NaN                 NaN     chicago   \n",
       "...                        ...          ...                 ...         ...   \n",
       "12045                      NaN          NaN    324 n leavitt st     chicago   \n",
       "12047                      NaN          NaN           w 79th st     chicago   \n",
       "12048                      NaN          NaN       553 e 79th st     chicago   \n",
       "12054                      NaN          NaN     17 monterey ave  villa park   \n",
       "12056                      NaN          NaN       528 w surf st     chicago   \n",
       "\n",
       "      zip_code_google                        place_name_restaurants  \\\n",
       "88              60654                                11 dining, llc   \n",
       "89              60654                               11 dining,  llc   \n",
       "139             60622                           smokey's wing shack   \n",
       "149             60612                               jerky jerk rare   \n",
       "154             60622                                     piece out   \n",
       "...               ...                                           ...   \n",
       "12045      60612-1671                               foiled cupcakes   \n",
       "12047             NaN                         79th  & state brown's   \n",
       "12048      60619-3035                     a prepared table catering   \n",
       "12054      60181-2822                                    dip & flip   \n",
       "12056      60657-6066  surf & turf where seafood & steak meet, inc.   \n",
       "\n",
       "        latitude  longitude    address_restaurants  zip_code_restaurants  \n",
       "88     41.871996 -87.639204         801 s canal st               60607.0  \n",
       "89     41.880705 -87.632476       50 s la salle st               60603.0  \n",
       "139    41.902849 -87.693068     2627 w division st               60622.0  \n",
       "149    41.868908 -87.683275  2251-2253 w taylor st               60612.0  \n",
       "154    41.910400 -87.676011       1923 w north ave               60622.0  \n",
       "...          ...        ...                    ...                   ...  \n",
       "12045  41.887434 -87.681849       324 n leavitt st               60612.0  \n",
       "12047  41.751010 -87.624401        7859 s state st               60619.0  \n",
       "12048  41.751084 -87.610391          553 e 79th st               60619.0  \n",
       "12054  41.775224 -87.683682     6510 s western ave               60636.0  \n",
       "12056  41.655351 -87.554280   13205 s muskegon ave               60633.0  \n",
       "\n",
       "[631 rows x 13 columns]"
      ]
     },
     "execution_count": 213,
     "metadata": {},
     "output_type": "execute_result"
    }
   ],
   "source": [
    "merged[merged.rating.isna()]"
   ]
  },
  {
   "cell_type": "code",
   "execution_count": 214,
   "metadata": {
    "colab": {},
    "colab_type": "code",
    "id": "B4d3uh565xZg"
   },
   "outputs": [],
   "source": [
    "merged.dropna(subset=[\"rating\"],axis=0, inplace=True)"
   ]
  },
  {
   "cell_type": "markdown",
   "metadata": {
    "colab_type": "text",
    "id": "L-R-Fz2L5e3D"
   },
   "source": [
    "To check if for sure we have correct entries we will compare zip codes. If no zip_code is available from restaurants then we will compare names. First step would be to check where `zip_code_restaurants` is NaN\n",
    "and second would be to remove second zip code component from `zip_code_google`"
   ]
  },
  {
   "cell_type": "code",
   "execution_count": 215,
   "metadata": {
    "colab": {
     "base_uri": "https://localhost:8080/",
     "height": 323
    },
    "colab_type": "code",
    "id": "JnmwyBR95aws",
    "outputId": "84403727-1e9a-47a2-8516-6f8b0272edc9"
   },
   "outputs": [
    {
     "data": {
      "text/html": [
       "<div>\n",
       "<style scoped>\n",
       "    .dataframe tbody tr th:only-of-type {\n",
       "        vertical-align: middle;\n",
       "    }\n",
       "\n",
       "    .dataframe tbody tr th {\n",
       "        vertical-align: top;\n",
       "    }\n",
       "\n",
       "    .dataframe thead th {\n",
       "        text-align: right;\n",
       "    }\n",
       "</style>\n",
       "<table border=\"1\" class=\"dataframe\">\n",
       "  <thead>\n",
       "    <tr style=\"text-align: right;\">\n",
       "      <th></th>\n",
       "      <th>place_id</th>\n",
       "      <th>place_name_google</th>\n",
       "      <th>rating</th>\n",
       "      <th>total_number_of_ratings</th>\n",
       "      <th>price_level</th>\n",
       "      <th>address_google</th>\n",
       "      <th>city</th>\n",
       "      <th>zip_code_google</th>\n",
       "      <th>place_name_restaurants</th>\n",
       "      <th>latitude</th>\n",
       "      <th>longitude</th>\n",
       "      <th>address_restaurants</th>\n",
       "      <th>zip_code_restaurants</th>\n",
       "    </tr>\n",
       "  </thead>\n",
       "  <tbody>\n",
       "    <tr>\n",
       "      <td>941</td>\n",
       "      <td>ChIJq7u58SPTD4gRqV7j2UThRLM</td>\n",
       "      <td>coffee lab &amp; roasters</td>\n",
       "      <td>4.9</td>\n",
       "      <td>40.0</td>\n",
       "      <td>NaN</td>\n",
       "      <td>2823 n lincoln ave</td>\n",
       "      <td>chicago</td>\n",
       "      <td>60657</td>\n",
       "      <td>s.g.a. coffee cafe</td>\n",
       "      <td>41.958548</td>\n",
       "      <td>-87.786919</td>\n",
       "      <td>4300 n narragansett</td>\n",
       "      <td>NaN</td>\n",
       "    </tr>\n",
       "    <tr>\n",
       "      <td>1315</td>\n",
       "      <td>ChIJo3LREajSD4gROdM5Sjl8pTg</td>\n",
       "      <td>casa central</td>\n",
       "      <td>3.5</td>\n",
       "      <td>31.0</td>\n",
       "      <td>NaN</td>\n",
       "      <td>1343 n california ave</td>\n",
       "      <td>chicago</td>\n",
       "      <td>60622-2803</td>\n",
       "      <td>casa central la posada</td>\n",
       "      <td>41.878100</td>\n",
       "      <td>NaN</td>\n",
       "      <td></td>\n",
       "      <td>NaN</td>\n",
       "    </tr>\n",
       "    <tr>\n",
       "      <td>7644</td>\n",
       "      <td>ChIJBV-jIEvTD4gROrQeGm3dLt0</td>\n",
       "      <td>starbucks</td>\n",
       "      <td>4.0</td>\n",
       "      <td>275.0</td>\n",
       "      <td>2.0</td>\n",
       "      <td>750 n franklin st</td>\n",
       "      <td>chicago</td>\n",
       "      <td>60654</td>\n",
       "      <td>starbucks coffee</td>\n",
       "      <td>41.896318</td>\n",
       "      <td>-87.635840</td>\n",
       "      <td>750 n franklin st.</td>\n",
       "      <td>NaN</td>\n",
       "    </tr>\n",
       "    <tr>\n",
       "      <td>8756</td>\n",
       "      <td>ChIJV1gyFIErDogR4vUnQw74VN4</td>\n",
       "      <td>mccormick place</td>\n",
       "      <td>4.5</td>\n",
       "      <td>8493.0</td>\n",
       "      <td>NaN</td>\n",
       "      <td>2301 s king dr</td>\n",
       "      <td>chicago</td>\n",
       "      <td>60616</td>\n",
       "      <td>mccornick place</td>\n",
       "      <td>41.851047</td>\n",
       "      <td>-87.622093</td>\n",
       "      <td>2301 s indiana</td>\n",
       "      <td>NaN</td>\n",
       "    </tr>\n",
       "    <tr>\n",
       "      <td>10696</td>\n",
       "      <td>ChIJTwjQ-HssDogRz558Go2FZu8</td>\n",
       "      <td>burger king</td>\n",
       "      <td>3.4</td>\n",
       "      <td>731.0</td>\n",
       "      <td>1.0</td>\n",
       "      <td>2328 s michigan ave</td>\n",
       "      <td>chicago</td>\n",
       "      <td>60616</td>\n",
       "      <td>burger king</td>\n",
       "      <td>41.850454</td>\n",
       "      <td>-87.623891</td>\n",
       "      <td>2320-2322 s michigan ave</td>\n",
       "      <td>NaN</td>\n",
       "    </tr>\n",
       "    <tr>\n",
       "      <td>11062</td>\n",
       "      <td>ChIJYZbHo0zTD4gReP8dX6Qfaco</td>\n",
       "      <td>think simple</td>\n",
       "      <td>5.0</td>\n",
       "      <td>2.0</td>\n",
       "      <td>NaN</td>\n",
       "      <td>770 n lasalle dr</td>\n",
       "      <td>chicago</td>\n",
       "      <td>60610</td>\n",
       "      <td>think simple foods</td>\n",
       "      <td>41.896504</td>\n",
       "      <td>-87.632784</td>\n",
       "      <td>141 w chicago ave</td>\n",
       "      <td>NaN</td>\n",
       "    </tr>\n",
       "    <tr>\n",
       "      <td>11155</td>\n",
       "      <td>ChIJV1gyFIErDogR4vUnQw74VN4</td>\n",
       "      <td>mccormick place</td>\n",
       "      <td>4.5</td>\n",
       "      <td>8494.0</td>\n",
       "      <td>NaN</td>\n",
       "      <td>2301 s king dr</td>\n",
       "      <td>chicago</td>\n",
       "      <td>60616</td>\n",
       "      <td>mccornick place</td>\n",
       "      <td>41.851047</td>\n",
       "      <td>-87.622093</td>\n",
       "      <td>2301 s indiana</td>\n",
       "      <td>NaN</td>\n",
       "    </tr>\n",
       "  </tbody>\n",
       "</table>\n",
       "</div>"
      ],
      "text/plain": [
       "                          place_id      place_name_google  rating  \\\n",
       "941    ChIJq7u58SPTD4gRqV7j2UThRLM  coffee lab & roasters     4.9   \n",
       "1315   ChIJo3LREajSD4gROdM5Sjl8pTg           casa central     3.5   \n",
       "7644   ChIJBV-jIEvTD4gROrQeGm3dLt0              starbucks     4.0   \n",
       "8756   ChIJV1gyFIErDogR4vUnQw74VN4        mccormick place     4.5   \n",
       "10696  ChIJTwjQ-HssDogRz558Go2FZu8            burger king     3.4   \n",
       "11062  ChIJYZbHo0zTD4gReP8dX6Qfaco           think simple     5.0   \n",
       "11155  ChIJV1gyFIErDogR4vUnQw74VN4        mccormick place     4.5   \n",
       "\n",
       "       total_number_of_ratings  price_level         address_google     city  \\\n",
       "941                       40.0          NaN     2823 n lincoln ave  chicago   \n",
       "1315                      31.0          NaN  1343 n california ave  chicago   \n",
       "7644                     275.0          2.0      750 n franklin st  chicago   \n",
       "8756                    8493.0          NaN         2301 s king dr  chicago   \n",
       "10696                    731.0          1.0    2328 s michigan ave  chicago   \n",
       "11062                      2.0          NaN       770 n lasalle dr  chicago   \n",
       "11155                   8494.0          NaN         2301 s king dr  chicago   \n",
       "\n",
       "      zip_code_google  place_name_restaurants   latitude  longitude  \\\n",
       "941             60657      s.g.a. coffee cafe  41.958548 -87.786919   \n",
       "1315       60622-2803  casa central la posada  41.878100        NaN   \n",
       "7644            60654       starbucks coffee   41.896318 -87.635840   \n",
       "8756            60616         mccornick place  41.851047 -87.622093   \n",
       "10696           60616            burger king   41.850454 -87.623891   \n",
       "11062           60610      think simple foods  41.896504 -87.632784   \n",
       "11155           60616         mccornick place  41.851047 -87.622093   \n",
       "\n",
       "            address_restaurants  zip_code_restaurants  \n",
       "941         4300 n narragansett                   NaN  \n",
       "1315                                              NaN  \n",
       "7644         750 n franklin st.                   NaN  \n",
       "8756             2301 s indiana                   NaN  \n",
       "10696  2320-2322 s michigan ave                   NaN  \n",
       "11062         141 w chicago ave                   NaN  \n",
       "11155            2301 s indiana                   NaN  "
      ]
     },
     "execution_count": 215,
     "metadata": {},
     "output_type": "execute_result"
    }
   ],
   "source": [
    "merged[merged.zip_code_restaurants.isna()]"
   ]
  },
  {
   "cell_type": "markdown",
   "metadata": {
    "colab_type": "text",
    "id": "InO7-G8A5nR1"
   },
   "source": [
    "We have only a couple of rows where zip_code_restaurants is not available, we can review them manually. It turns out that we will have to remove row 941, 11062 and McCormick place which is not a restaurant but a business center in Chicago."
   ]
  },
  {
   "cell_type": "code",
   "execution_count": 216,
   "metadata": {
    "colab": {},
    "colab_type": "code",
    "id": "qQzcCzhkcVnI"
   },
   "outputs": [],
   "source": [
    "merged.drop(axis=0, index=[941, 11062, 11155, 8756], inplace=True)"
   ]
  },
  {
   "cell_type": "markdown",
   "metadata": {
    "colab_type": "text",
    "id": "1Y4_CoLJ62lT"
   },
   "source": [
    "Now we will remove second `zip_code_google` component"
   ]
  },
  {
   "cell_type": "markdown",
   "metadata": {
    "colab_type": "text",
    "id": "GKTIdoed6-iy"
   },
   "source": [
    "Filling nans with string value to remove second `zip_code_google` component"
   ]
  },
  {
   "cell_type": "code",
   "execution_count": 217,
   "metadata": {
    "colab": {},
    "colab_type": "code",
    "id": "ofABeZMm6RPH"
   },
   "outputs": [],
   "source": [
    "merged.zip_code_google.fillna(\"nan\", inplace=True)"
   ]
  },
  {
   "cell_type": "code",
   "execution_count": 218,
   "metadata": {
    "colab": {
     "base_uri": "https://localhost:8080/",
     "height": 35
    },
    "colab_type": "code",
    "id": "VYkS1l5J7AwA",
    "outputId": "e46c5312-ed31-431d-8d5b-bfa916aeb3b1"
   },
   "outputs": [
    {
     "data": {
      "text/plain": [
       "array([ 5, 10,  3], dtype=int64)"
      ]
     },
     "execution_count": 218,
     "metadata": {},
     "output_type": "execute_result"
    }
   ],
   "source": [
    "merged.zip_code_google.str.len().unique()"
   ]
  },
  {
   "cell_type": "code",
   "execution_count": 219,
   "metadata": {
    "colab": {},
    "colab_type": "code",
    "id": "VD4Df6KI7B49"
   },
   "outputs": [],
   "source": [
    "merged.zip_code_google = merged.zip_code_google.apply(lambda x: x[:5])"
   ]
  },
  {
   "cell_type": "code",
   "execution_count": 220,
   "metadata": {
    "colab": {},
    "colab_type": "code",
    "id": "J-0gcuH_7DaC"
   },
   "outputs": [],
   "source": [
    "merged.zip_code_google = merged.zip_code_google.replace(\"nan\", np.nan)"
   ]
  },
  {
   "cell_type": "code",
   "execution_count": 221,
   "metadata": {
    "colab": {},
    "colab_type": "code",
    "id": "ZsKBBzd97FkK"
   },
   "outputs": [],
   "source": [
    "merged.zip_code_google = merged.zip_code_google.apply(float)"
   ]
  },
  {
   "cell_type": "markdown",
   "metadata": {
    "colab_type": "text",
    "id": "f5dmMJ9K7INF"
   },
   "source": [
    "Now we will take only those entries where every place has a matching zip code"
   ]
  },
  {
   "cell_type": "code",
   "execution_count": 222,
   "metadata": {
    "colab": {},
    "colab_type": "code",
    "id": "87j56R7J7HRm"
   },
   "outputs": [],
   "source": [
    "matching = merged[merged.zip_code_google == merged.zip_code_restaurants]"
   ]
  },
  {
   "cell_type": "markdown",
   "metadata": {
    "colab_type": "text",
    "id": "WiPMec2T7NJw"
   },
   "source": [
    "At last to be sure that we have rating corresponding to a correct place we will compare names using python difflib. From docs \"ratio() returns a float in [0, 1], measuring the similarity of the sequences. As a rule of thumb, a ratio() value over 0.6 means the sequences are close matches\". We will use this property to discard any rows where name similarity is lower than 0.6. This step is necessary as sometimes name from Chicago database doesn't exactly match a name returned by Google API for instance in Chicago database we have: \"yolk - test kitchen\" while Google's response name is \"yolk test kitchen\""
   ]
  },
  {
   "cell_type": "code",
   "execution_count": 223,
   "metadata": {
    "colab": {},
    "colab_type": "code",
    "id": "dBdkSO8m7K7C"
   },
   "outputs": [],
   "source": [
    "from difflib import SequenceMatcher\n",
    "\n",
    "def get_similarity_score(restaurant_name, google_name):\n",
    "    return SequenceMatcher(lambda x: x == \" \",\n",
    "                    restaurant_name,\n",
    "                    google_name).ratio()"
   ]
  },
  {
   "cell_type": "code",
   "execution_count": 224,
   "metadata": {
    "colab": {
     "base_uri": "https://localhost:8080/",
     "height": 159
    },
    "colab_type": "code",
    "id": "dIH6x8m_7eb3",
    "outputId": "152b710f-b8c8-445d-b629-9e8722d79c98"
   },
   "outputs": [],
   "source": [
    "matching['name_similarity_score'] = matching.apply(lambda row: get_similarity_score(row[\"place_name_restaurants\"], row[\"place_name_google\"]), axis=1)"
   ]
  },
  {
   "cell_type": "code",
   "execution_count": 225,
   "metadata": {
    "colab": {},
    "colab_type": "code",
    "id": "Sl8Kfb3f7f7v"
   },
   "outputs": [],
   "source": [
    "matching = matching[matching.name_similarity_score > 0.6]"
   ]
  },
  {
   "cell_type": "markdown",
   "metadata": {
    "colab_type": "text",
    "id": "95AqNBvB7jNs"
   },
   "source": [
    "As a last step we remove rows with duplicated place_id"
   ]
  },
  {
   "cell_type": "code",
   "execution_count": 226,
   "metadata": {
    "colab": {},
    "colab_type": "code",
    "id": "cphN2UYl7kyQ"
   },
   "outputs": [],
   "source": [
    "matching = matching.drop_duplicates(subset=[\"place_id\"])"
   ]
  },
  {
   "cell_type": "code",
   "execution_count": 227,
   "metadata": {
    "colab": {
     "base_uri": "https://localhost:8080/",
     "height": 35
    },
    "colab_type": "code",
    "id": "j21ic8sE7nac",
    "outputId": "80064028-d2d6-4589-c8e4-4d1de9c0781a"
   },
   "outputs": [
    {
     "data": {
      "text/plain": [
       "5700"
      ]
     },
     "execution_count": 227,
     "metadata": {},
     "output_type": "execute_result"
    }
   ],
   "source": [
    "len(matching)"
   ]
  },
  {
   "cell_type": "markdown",
   "metadata": {
    "colab_type": "text",
    "id": "k3Hhqy367p27"
   },
   "source": [
    "we have ratings for 5700 restaurants"
   ]
  },
  {
   "cell_type": "markdown",
   "metadata": {
    "colab_type": "text",
    "id": "nzGq2ICd7sxu"
   },
   "source": [
    "We will transform matching dataframe to use it for further analysis, we will remove useless columns and save it to csv file"
   ]
  },
  {
   "cell_type": "code",
   "execution_count": 228,
   "metadata": {
    "colab": {},
    "colab_type": "code",
    "id": "HBsYZKjp7o59"
   },
   "outputs": [],
   "source": [
    "matching.drop([\"name_similarity_score\", \"place_name_google\", \"price_level\", \"address_google\", \"zip_code_google\", \"city\"], axis=1, inplace=True)"
   ]
  },
  {
   "cell_type": "code",
   "execution_count": 229,
   "metadata": {
    "colab": {},
    "colab_type": "code",
    "id": "bSS0JRCN7vCn"
   },
   "outputs": [],
   "source": [
    "matching.rename(columns={\"place_name_restaurants\": \"place_name\", \"address_restaurants\": \"address\", \"zip_code_restaurants\": \"zip_code\"}, inplace=True)"
   ]
  },
  {
   "cell_type": "markdown",
   "metadata": {
    "colab_type": "text",
    "id": "kYfTsSho7z7i"
   },
   "source": [
    "#### Analysis of number of ratings available"
   ]
  },
  {
   "cell_type": "code",
   "execution_count": 230,
   "metadata": {
    "colab": {
     "base_uri": "https://localhost:8080/",
     "height": 177
    },
    "colab_type": "code",
    "id": "esxxrCgB73Oy",
    "outputId": "237d7c16-17f3-4d0b-aaa3-d7ab3c2375bc"
   },
   "outputs": [
    {
     "data": {
      "text/plain": [
       "count     5700.000000\n",
       "mean       325.868246\n",
       "std        659.889210\n",
       "min          1.000000\n",
       "25%         45.000000\n",
       "50%        148.500000\n",
       "75%        357.000000\n",
       "max      17040.000000\n",
       "Name: total_number_of_ratings, dtype: float64"
      ]
     },
     "execution_count": 230,
     "metadata": {},
     "output_type": "execute_result"
    }
   ],
   "source": [
    "matching.total_number_of_ratings.describe()"
   ]
  },
  {
   "cell_type": "code",
   "execution_count": 231,
   "metadata": {
    "colab": {
     "base_uri": "https://localhost:8080/",
     "height": 520
    },
    "colab_type": "code",
    "id": "qhY8xgY87-my",
    "outputId": "3bddda21-ad75-4b64-ce8a-3d45c9fc97dc"
   },
   "outputs": [
    {
     "data": {
      "text/plain": [
       "<matplotlib.axes._subplots.AxesSubplot at 0x2081f4e5be0>"
      ]
     },
     "execution_count": 231,
     "metadata": {},
     "output_type": "execute_result"
    },
    {
     "data": {
      "image/png": "[encoded data removed]",
      "text/plain": [
       "<Figure size 864x576 with 1 Axes>"
      ]
     },
     "metadata": {},
     "output_type": "display_data"
    }
   ],
   "source": [
    "sns.set(rc={'figure.figsize':(12,8)})\n",
    "sns.distplot(matching.total_number_of_ratings)"
   ]
  },
  {
   "cell_type": "code",
   "execution_count": 232,
   "metadata": {
    "colab": {
     "base_uri": "https://localhost:8080/",
     "height": 52
    },
    "colab_type": "code",
    "id": "z_1MsINQ7_r5",
    "outputId": "24a6d601-88d2-4801-fbe0-4eb7197ab96d"
   },
   "outputs": [
    {
     "data": {
      "text/plain": [
       "0    1.0\n",
       "dtype: float64"
      ]
     },
     "execution_count": 232,
     "metadata": {},
     "output_type": "execute_result"
    }
   ],
   "source": [
    "matching.total_number_of_ratings.mode()"
   ]
  },
  {
   "cell_type": "markdown",
   "metadata": {
    "colab_type": "text",
    "id": "tENdEO8lAoh4"
   },
   "source": [
    "As number of ratings seem to follow a power law and most of restaurants have low number of ratings it would be very biased to compare them with restaurants that have tenths of thousands of ratings. Therefore we decide to drop this research question."
   ]
  },
  {
   "cell_type": "markdown",
   "metadata": {
    "colab_type": "text",
    "id": "8dbvOyOnnWPg"
   },
   "source": [
    "### Data story \n",
    "\n",
    "Check out our data story [here](https://jczestochowska.github.io/)."
   ]
  }
 ],
 "metadata": {
  "colab": {
   "collapsed_sections": [],
   "name": "project_milestone3.ipynb",
   "provenance": []
  },
  "kernelspec": {
   "display_name": "Python 3",
   "language": "python",
   "name": "python3"
  },
  "language_info": {
   "codemirror_mode": {
    "name": "ipython",
    "version": 3
   },
   "file_extension": ".py",
   "mimetype": "text/x-python",
   "name": "python",
   "nbconvert_exporter": "python",
   "pygments_lexer": "ipython3",
   "version": "3.7.3"
  }
 },
 "nbformat": 4,
 "nbformat_minor": 1
}
