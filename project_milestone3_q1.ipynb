{
 "cells": [
  {
   "cell_type": "markdown",
   "metadata": {
    "colab_type": "text",
    "id": "kjOm3zJCcStO"
   },
   "source": [
    "#  Where (not) to eat in Chicago? Project milestone 2\n"
   ]
  },
  {
   "cell_type": "code",
   "execution_count": null,
   "metadata": {
    "colab": {
     "base_uri": "https://localhost:8080/",
     "height": 126
    },
    "colab_type": "code",
    "id": "7cWHL-XXchq1",
    "outputId": "09fa0f21-f6a9-4ff1-c17d-36674fe32904"
   },
   "outputs": [],
   "source": [
    "# from google.colab import drive\n",
    "# drive.mount('/content/drive', force_remount=True)"
   ]
  },
  {
   "cell_type": "code",
   "execution_count": null,
   "metadata": {
    "colab": {},
    "colab_type": "code",
    "id": "tYcyqd7jczJB"
   },
   "outputs": [],
   "source": [
    "data_folder = \"data\""
   ]
  },
  {
   "cell_type": "code",
   "execution_count": null,
   "metadata": {
    "colab": {},
    "colab_type": "code",
    "id": "_urKwc7HcX07"
   },
   "outputs": [],
   "source": [
    "import pandas as pd\n",
    "import numpy as np\n",
    "import os\n",
    "import matplotlib.pyplot as plt\n",
    "import seaborn as sns\n",
    "import datetime"
   ]
  },
  {
   "cell_type": "code",
   "execution_count": null,
   "metadata": {
    "colab": {},
    "colab_type": "code",
    "id": "lextC6fmGndH"
   },
   "outputs": [],
   "source": [
    "import json\n",
    "import folium\n",
    "from folium import plugins\n",
    "from folium.plugins import MarkerCluster, Search\n",
    "\n",
    "import shapely\n",
    "from shapely.geometry import shape, Point"
   ]
  },
  {
   "cell_type": "code",
   "execution_count": null,
   "metadata": {
    "colab": {},
    "colab_type": "code",
    "id": "Wbhz_besHe05"
   },
   "outputs": [],
   "source": [
    "import plotly.express as px\n",
    "import plotly.offline as pyo\n",
    "import plotly.graph_objects as go"
   ]
  },
  {
   "cell_type": "markdown",
   "metadata": {
    "colab_type": "text",
    "id": "5rJVEX6rddzd"
   },
   "source": [
    "We start by reading our data"
   ]
  },
  {
   "cell_type": "code",
   "execution_count": null,
   "metadata": {
    "colab": {},
    "colab_type": "code",
    "id": "ntoHPqEUcZV-"
   },
   "outputs": [],
   "source": [
    "inspections = pd.read_csv(os.path.join(data_folder, \"food-inspections.csv\"))"
   ]
  },
  {
   "cell_type": "markdown",
   "metadata": {
    "colab_type": "text",
    "id": "wAe2x-JUdiVJ"
   },
   "source": [
    "We can now look into the fetures and types of our dataset through a sample :"
   ]
  },
  {
   "cell_type": "code",
   "execution_count": null,
   "metadata": {
    "colab": {
     "base_uri": "https://localhost:8080/",
     "height": 653
    },
    "colab_type": "code",
    "id": "qWQsFoPRdmss",
    "outputId": "8458d29f-8359-44e7-ff31-0286c4b9e08b"
   },
   "outputs": [],
   "source": [
    "inspections.head()"
   ]
  },
  {
   "cell_type": "code",
   "execution_count": null,
   "metadata": {
    "colab": {
     "base_uri": "https://localhost:8080/",
     "height": 124
    },
    "colab_type": "code",
    "id": "fj93bBQMdnqX",
    "outputId": "16593c22-81fb-4d52-a34e-fda8f752a1d4"
   },
   "outputs": [],
   "source": [
    "inspections.columns"
   ]
  },
  {
   "cell_type": "markdown",
   "metadata": {
    "colab_type": "text",
    "id": "W5Hm4MS6aamG"
   },
   "source": [
    "First thing we notice is the strange presence of the columns Historical Wards 2003-2015, Zip Codes, Community Areas, Census Tracts and Wards. These columns all have only NaN values, so we are dropping them:"
   ]
  },
  {
   "cell_type": "code",
   "execution_count": null,
   "metadata": {
    "colab": {},
    "colab_type": "code",
    "id": "1VqcIkXUax9X"
   },
   "outputs": [],
   "source": [
    "inspections.drop(columns=['Historical Wards 2003-2015', 'Zip Codes',\n",
    "       'Community Areas', 'Census Tracts', 'Wards'],inplace=True)"
   ]
  },
  {
   "cell_type": "markdown",
   "metadata": {
    "colab_type": "text",
    "id": "mO72KQwCeFQt"
   },
   "source": [
    "Let's see what are the possible categories of our facilities:"
   ]
  },
  {
   "cell_type": "code",
   "execution_count": null,
   "metadata": {
    "colab": {
     "base_uri": "https://localhost:8080/",
     "height": 1000
    },
    "colab_type": "code",
    "id": "tcFug3xIeIVP",
    "outputId": "c317c1f3-5e22-4860-c0cc-0becc123ad2d"
   },
   "outputs": [],
   "source": [
    "inspections[\"Facility Type\"].unique()"
   ]
  },
  {
   "cell_type": "markdown",
   "metadata": {
    "colab_type": "text",
    "id": "uqTriNq8eCpn"
   },
   "source": [
    "We can notice very different facility types; as we want to analyze only restaurants we will keep only entries where \"Restaurant\" is the Facility Type. Let's see if we have any entries with missing Facility Type:"
   ]
  },
  {
   "cell_type": "code",
   "execution_count": null,
   "metadata": {
    "colab": {
     "base_uri": "https://localhost:8080/",
     "height": 35
    },
    "colab_type": "code",
    "id": "Bc_OCfRqea6R",
    "outputId": "3f15a3cd-a70f-4aa3-f7a3-5f22137cc3ee"
   },
   "outputs": [],
   "source": [
    "print(\"There are {0} missing values for Facility Type in the dataset\".format(len(inspections[inspections[\"Facility Type\"].isna()])))"
   ]
  },
  {
   "cell_type": "markdown",
   "metadata": {
    "colab_type": "text",
    "id": "3zk5QDmrfBXt"
   },
   "source": [
    "For now we will get rid of those rows as they are of no use to us:"
   ]
  },
  {
   "cell_type": "code",
   "execution_count": null,
   "metadata": {
    "colab": {},
    "colab_type": "code",
    "id": "G96ikBaGe0Ev"
   },
   "outputs": [],
   "source": [
    "inspections = inspections.dropna(subset=[\"Facility Type\"])"
   ]
  },
  {
   "cell_type": "markdown",
   "metadata": {
    "colab_type": "text",
    "id": "eOG9GQshdtCo"
   },
   "source": [
    "We only want to analyze entries which correspond to restaurants so we will keep only those rows"
   ]
  },
  {
   "cell_type": "code",
   "execution_count": null,
   "metadata": {
    "colab": {},
    "colab_type": "code",
    "id": "fUjQfBfHeqfD"
   },
   "outputs": [],
   "source": [
    "# Keep only restaurants for the rest of the analysis\n",
    "inspections = inspections[inspections[\"Facility Type\"].str.contains(\"restaurant\", case=False)]"
   ]
  },
  {
   "cell_type": "code",
   "execution_count": null,
   "metadata": {
    "colab": {
     "base_uri": "https://localhost:8080/",
     "height": 35
    },
    "colab_type": "code",
    "id": "F81pEomifF-c",
    "outputId": "50633bac-4de0-485e-ecef-dd5861e9132b"
   },
   "outputs": [],
   "source": [
    "print(f\"We have {len(inspections)} rows in our dataset, each row corresponds to one inspection\")"
   ]
  },
  {
   "cell_type": "markdown",
   "metadata": {
    "colab_type": "text",
    "id": "nbKyvzxufeGU"
   },
   "source": [
    "Since we are going to compare inspection's results over time, let's look at the time range we have for the inspections."
   ]
  },
  {
   "cell_type": "code",
   "execution_count": null,
   "metadata": {
    "colab": {},
    "colab_type": "code",
    "id": "vqRH0ijhfm2e"
   },
   "outputs": [],
   "source": [
    "# Cast Inspection Date to Datetime type\n",
    "inspections['Inspection Date'] = pd.to_datetime(inspections['Inspection Date'])"
   ]
  },
  {
   "cell_type": "code",
   "execution_count": null,
   "metadata": {
    "colab": {
     "base_uri": "https://localhost:8080/",
     "height": 35
    },
    "colab_type": "code",
    "id": "QzjU43aFgXVl",
    "outputId": "b43c9b19-8c1a-4408-81ab-670c1cc7b3a3"
   },
   "outputs": [],
   "source": [
    "print('The first inspection in the dataset happened in {0}, and the last one happened was on {1}'. \n",
    "      format(inspections['Inspection Date'].min().strftime(\"%d.%m.%Y\"), inspections['Inspection Date'].max().strftime(\"%d.%m.%Y.\")))"
   ]
  },
  {
   "cell_type": "markdown",
   "metadata": {
    "colab_type": "text",
    "id": "0cIYztkS7dne"
   },
   "source": [
    "## Data preprocessing"
   ]
  },
  {
   "cell_type": "markdown",
   "metadata": {
    "colab_type": "text",
    "id": "YgOrOlbI7iVB"
   },
   "source": [
    "We will now proceed with preparing the dataset for the analysis. Below we take the following preprocessing steps:\n",
    "1. Making Licence # column a unique identifier of restaurants in the dataset.\n",
    "2. Fixing the zip codes by completing the missing values based on the values of Longitude and Latitude.\n",
    "3. Fixing the City column by completing the missing values based on the zip code.\n",
    "4. Standardizing the Inspection Type values by cleaning various namings and reducing the number of categories."
   ]
  },
  {
   "cell_type": "markdown",
   "metadata": {
    "colab_type": "text",
    "id": "x7ZHrRJl45cE"
   },
   "source": [
    "### Making unique licenses"
   ]
  },
  {
   "cell_type": "markdown",
   "metadata": {
    "colab_type": "text",
    "id": "arz-Dy5fWpsa"
   },
   "source": [
    "The original dataset we have is inspections-oriented, but our analysis will be mainly focused on restaurants. That is why we need a feature which will help us uniquely identify each restaurant."
   ]
  },
  {
   "cell_type": "code",
   "execution_count": null,
   "metadata": {
    "colab": {
     "base_uri": "https://localhost:8080/",
     "height": 35
    },
    "colab_type": "code",
    "id": "GcmIpmpziSXc",
    "outputId": "e7a12eb9-56af-4f46-c17f-762576861d9e"
   },
   "outputs": [],
   "source": [
    "print(f\"Using DBA Name we can see there are {inspections['DBA Name'].nunique()} distinct restaurant names\")"
   ]
  },
  {
   "cell_type": "code",
   "execution_count": null,
   "metadata": {
    "colab": {
     "base_uri": "https://localhost:8080/",
     "height": 35
    },
    "colab_type": "code",
    "id": "usep6q1-oqqq",
    "outputId": "9d033fac-357a-4450-f406-f10fd85068e9"
   },
   "outputs": [],
   "source": [
    "print(f\"Using restaurant Licenses we can see there are {inspections['License #'].nunique()} distinct restaurants\")"
   ]
  },
  {
   "cell_type": "markdown",
   "metadata": {
    "colab_type": "text",
    "id": "DFrSySHZpBqO"
   },
   "source": [
    "We have probably many non unique names due to restaurants such as McDonalds and other large food-serving chains. We want to make the license number our primary key for restaurant identification as we assume different restaurants have different license numbers. First, let's check if there are any missing values in this column:"
   ]
  },
  {
   "cell_type": "code",
   "execution_count": null,
   "metadata": {
    "colab": {
     "base_uri": "https://localhost:8080/",
     "height": 35
    },
    "colab_type": "code",
    "id": "sUTsg7z4lLa6",
    "outputId": "70f3d8f1-2305-420f-8871-37dd550ae276"
   },
   "outputs": [],
   "source": [
    "print(f\"There are {inspections['License #'].isna().sum()} restaurant that have NaN licence number\")"
   ]
  },
  {
   "cell_type": "markdown",
   "metadata": {
    "colab_type": "text",
    "id": "ett9ja21poXZ"
   },
   "source": [
    "We noticed however that there are some restaurant with licence numbers equal to 0, let's see how many there are:"
   ]
  },
  {
   "cell_type": "code",
   "execution_count": null,
   "metadata": {
    "colab": {
     "base_uri": "https://localhost:8080/",
     "height": 35
    },
    "colab_type": "code",
    "id": "d-RccDncmj8z",
    "outputId": "c0438c1a-1dd3-4d2c-d935-9f7d5ff2874c"
   },
   "outputs": [],
   "source": [
    "\n",
    "print(f\"There are {len(inspections[inspections['License #'] == 0.0])} restaurant that have zero licence number\")"
   ]
  },
  {
   "cell_type": "markdown",
   "metadata": {
    "colab_type": "text",
    "id": "TQX-GT3I92Gn"
   },
   "source": [
    "As we can see, there is no column that can help us uniquely identify a restaurant. The closest match is License # feature, which has some restaurants with 0 assigned as their license number. We decided to add fake licence numbers and use it as a restaurant identifier later on."
   ]
  },
  {
   "cell_type": "code",
   "execution_count": null,
   "metadata": {
    "colab": {},
    "colab_type": "code",
    "id": "ws5cMzYxs4wD"
   },
   "outputs": [],
   "source": [
    "# Get entries where License number is missing\n",
    "zero_license = inspections[inspections[\"License #\"] == 0.0]"
   ]
  },
  {
   "cell_type": "code",
   "execution_count": null,
   "metadata": {
    "colab": {
     "base_uri": "https://localhost:8080/",
     "height": 337
    },
    "colab_type": "code",
    "id": "8FYKiVEmtRTw",
    "outputId": "3a5008a0-e67f-410e-fcea-f3aae8f8ecf2"
   },
   "outputs": [],
   "source": [
    "zero_license.nunique()"
   ]
  },
  {
   "cell_type": "markdown",
   "metadata": {
    "colab_type": "text",
    "id": "1MNtcOGKtwg5"
   },
   "source": [
    "To be able to identify restaurants with license number equal to 0, we will assume that no two of such restaurants share the same location and the same name. Using this assumption, we can create artificial license numbers for restaurants with missing license numbers:"
   ]
  },
  {
   "cell_type": "code",
   "execution_count": null,
   "metadata": {
    "colab": {},
    "colab_type": "code",
    "id": "sYNFEscB9BHn"
   },
   "outputs": [],
   "source": [
    "# Get the maximum license number that exists in the database and use it as starting point for the newly generated license numbers\n",
    "start_id = int(inspections[\"License #\"].max() + 1)\n",
    "missing_licenses = inspections[(inspections[\"License #\"] == 0)][[\"DBA Name\",\"Location\"]].copy().drop_duplicates()\n",
    "missing_licenses[\"new License\"] = [i for i in range(start_id, start_id+len(missing_licenses.drop_duplicates()))]"
   ]
  },
  {
   "cell_type": "code",
   "execution_count": null,
   "metadata": {
    "colab": {},
    "colab_type": "code",
    "id": "kdNY1Ci9wAJq"
   },
   "outputs": [],
   "source": [
    "# Merge dataset\n",
    "inspections = inspections.merge(missing_licenses, on=[\"DBA Name\",\"Location\"], how='left')"
   ]
  },
  {
   "cell_type": "code",
   "execution_count": null,
   "metadata": {
    "colab": {},
    "colab_type": "code",
    "id": "BZlCuD_u9Yr2"
   },
   "outputs": [],
   "source": [
    "# Populate missing licence numbers with newly generated license numbers\n",
    "inspections[\"License #\"] = inspections[\"License #\"].apply(lambda x: np.nan if x == 0 else x)\n",
    "inspections[\"License #\"] = inspections[\"License #\"].fillna(value = inspections[\"new License\"])\n",
    "inspections.drop(columns=[\"new License\"], inplace=True)"
   ]
  },
  {
   "cell_type": "code",
   "execution_count": null,
   "metadata": {
    "colab": {
     "base_uri": "https://localhost:8080/",
     "height": 35
    },
    "colab_type": "code",
    "id": "kWuxIXCX9ad2",
    "outputId": "0a7f1eb4-6c34-41e5-f01e-8c9b137ce6d1"
   },
   "outputs": [],
   "source": [
    "print(\"There are {0} missing license numbers in our dataset\".format(inspections[inspections[\"License #\"] == 0].size))"
   ]
  },
  {
   "cell_type": "code",
   "execution_count": null,
   "metadata": {
    "colab": {},
    "colab_type": "code",
    "id": "K_XMA5vW9k6J"
   },
   "outputs": [],
   "source": [
    "# Cast License number from float to int\n",
    "inspections[\"License #\"] = inspections[\"License #\"].apply(lambda x : int(x))"
   ]
  },
  {
   "cell_type": "markdown",
   "metadata": {
    "colab_type": "text",
    "id": "iCU2xoPZ5BuV"
   },
   "source": [
    "### Completing zip codes based on geographical coordinates"
   ]
  },
  {
   "cell_type": "markdown",
   "metadata": {
    "colab_type": "text",
    "id": "2duIbOi3AG01"
   },
   "source": [
    "The big part of our analysis will be based on neighborhoods, therefore we will hugely rely on the Zip column."
   ]
  },
  {
   "cell_type": "markdown",
   "metadata": {
    "colab_type": "text",
    "id": "J7b5VP8wBmyU"
   },
   "source": [
    "We want to populate the missing Zip values based on the Latitude and Longitude. In order to do that, we must have those two features for all the restaurants in the dataset. That is why we decided to drop all entries where one of those features is missing."
   ]
  },
  {
   "cell_type": "code",
   "execution_count": null,
   "metadata": {
    "colab": {},
    "colab_type": "code",
    "id": "GjLx5G5FCDo1"
   },
   "outputs": [],
   "source": [
    "inspections = inspections[~((inspections['Longitude'].isna()) | (inspections['Latitude'].isna()))]"
   ]
  },
  {
   "cell_type": "code",
   "execution_count": null,
   "metadata": {
    "colab": {
     "base_uri": "https://localhost:8080/",
     "height": 52
    },
    "colab_type": "code",
    "id": "gB0ox911BQ8l",
    "outputId": "70f9a028-2869-4cea-e92a-78939a4e06ea"
   },
   "outputs": [],
   "source": [
    "print('There are {0} missing values for Zip column'.format(inspections[inspections['Zip'].isna()].shape[0]))\n",
    "print('There are {0} missing values for City column'.format(inspections[inspections['City'].isna()].shape[0]))"
   ]
  },
  {
   "cell_type": "code",
   "execution_count": null,
   "metadata": {
    "colab": {},
    "colab_type": "code",
    "id": "SfXlGFYKCSlg"
   },
   "outputs": [],
   "source": [
    "restaurants_zip_na = inspections[inspections['Zip'].isna()]"
   ]
  },
  {
   "cell_type": "markdown",
   "metadata": {
    "colab_type": "text",
    "id": "xTp2zszDC2k2"
   },
   "source": [
    "To populate Zip values based on coordinates, we use [shapely](https://pypi.org/project/Shapely/) - Python package for manipulation and analysis of planar geometric objects."
   ]
  },
  {
   "cell_type": "code",
   "execution_count": null,
   "metadata": {
    "colab": {},
    "colab_type": "code",
    "id": "wZnpvjn2C8el"
   },
   "outputs": [],
   "source": [
    "# Function that creates points from Latitude and Longitude\n",
    "def create_points(df):\n",
    "    coords = list(zip(df['Longitude'], df['Latitude']))\n",
    "    res = []\n",
    "    for coord in coords:\n",
    "        res.append(shapely.geometry.Point(coord))\n",
    "    return res"
   ]
  },
  {
   "cell_type": "code",
   "execution_count": null,
   "metadata": {
    "colab": {},
    "colab_type": "code",
    "id": "FJL48pi5DOIf"
   },
   "outputs": [],
   "source": [
    "# Create list of points for which we want to get Zip code\n",
    "points = create_points(restaurants_zip_na)"
   ]
  },
  {
   "cell_type": "code",
   "execution_count": null,
   "metadata": {
    "colab": {},
    "colab_type": "code",
    "id": "Hmmt7RHqDZJE"
   },
   "outputs": [],
   "source": [
    "# Method which checks whether the points are in area described in geojson file and returns data with zip value for found points\n",
    "def populate_missing_zip(points, geojson_filename):\n",
    "    # load GeoJSON file containing sectors\n",
    "    state_geo_path = r'{0}'.format(geojson_filename)\n",
    "    geo_json_data = json.load(open(state_geo_path))\n",
    "\n",
    "    zip_found = []\n",
    "    # check each polygon to see if it contains the point\n",
    "    for feature in geo_json_data['features']:\n",
    "        polygon = shapely.geometry.shape(feature['geometry'])\n",
    "        for point in points: \n",
    "            if polygon.contains(point):\n",
    "                point_complete = {'Longitude':point.x, 'Latitude':point.y, 'Zip':feature.get('properties', {}).get('zip')}\n",
    "                zip_found.append(point_complete)\n",
    "    return zip_found"
   ]
  },
  {
   "cell_type": "code",
   "execution_count": null,
   "metadata": {
    "colab": {
     "base_uri": "https://localhost:8080/",
     "height": 35
    },
    "colab_type": "code",
    "id": "yGxzXsJNDxte",
    "outputId": "8b4e8629-45f7-44ee-f3bd-40937ee7904e"
   },
   "outputs": [],
   "source": [
    "# Find missing Zip values\n",
    "zip_found = populate_missing_zip(points, os.path.join(data_folder, 'chicago-zip.json'))\n",
    "print('Total {0} point found matching Chicago sectors.'.format(len(zip_found)))"
   ]
  },
  {
   "cell_type": "code",
   "execution_count": null,
   "metadata": {
    "colab": {
     "base_uri": "https://localhost:8080/",
     "height": 194
    },
    "colab_type": "code",
    "id": "JsWgdmuuEVR3",
    "outputId": "369e0a65-1492-4a51-f35d-68c3de099f76"
   },
   "outputs": [],
   "source": [
    "zip_found = pd.DataFrame(zip_found)\n",
    "zip_found.head()"
   ]
  },
  {
   "cell_type": "markdown",
   "metadata": {
    "colab_type": "text",
    "id": "33OZcIc-EWkI"
   },
   "source": [
    "Now, we have to merge those results with the original dataset."
   ]
  },
  {
   "cell_type": "code",
   "execution_count": null,
   "metadata": {
    "colab": {},
    "colab_type": "code",
    "id": "laD6KjjKEcOL"
   },
   "outputs": [],
   "source": [
    "# Before merging, drop duplicate points\n",
    "zip_found.drop_duplicates(inplace=True)"
   ]
  },
  {
   "cell_type": "code",
   "execution_count": null,
   "metadata": {
    "colab": {},
    "colab_type": "code",
    "id": "TEqF_ERdEgnM"
   },
   "outputs": [],
   "source": [
    "inspections = inspections.merge(zip_found,on=['Latitude','Longitude'], how='left',suffixes=('', '_notnull'))\n",
    "inspections.Zip.fillna(value=inspections.Zip_notnull, inplace=True)\n",
    "inspections.drop(columns=[\"Zip_notnull\"], inplace=True)"
   ]
  },
  {
   "cell_type": "code",
   "execution_count": null,
   "metadata": {
    "colab": {
     "base_uri": "https://localhost:8080/",
     "height": 35
    },
    "colab_type": "code",
    "id": "OkrHLPzJExKG",
    "outputId": "bd9366c3-d1c5-4675-9121-0b9011f83009"
   },
   "outputs": [],
   "source": [
    "print('There are {0} missing Zip left in the restaurant dataset.'.format(inspections[inspections.Zip.isnull()].shape[0]))"
   ]
  },
  {
   "cell_type": "code",
   "execution_count": null,
   "metadata": {
    "colab": {},
    "colab_type": "code",
    "id": "tUCsQlyGFVUU"
   },
   "outputs": [],
   "source": [
    "# Change type of Zip feature from float to string\n",
    "inspections['Zip']=inspections['Zip'].apply(lambda x: str(int(x)))"
   ]
  },
  {
   "cell_type": "markdown",
   "metadata": {
    "colab_type": "text",
    "id": "BuK8Rd5S5MMV"
   },
   "source": [
    "### Completing City column based on zip codes"
   ]
  },
  {
   "cell_type": "markdown",
   "metadata": {
    "colab_type": "text",
    "id": "5puyN5u5Fd8E"
   },
   "source": [
    "We will also fix the City column. Now we can use the Zip column to fill in the missing information about the city."
   ]
  },
  {
   "cell_type": "code",
   "execution_count": null,
   "metadata": {
    "colab": {},
    "colab_type": "code",
    "id": "tAN3A3Q9FsBZ"
   },
   "outputs": [],
   "source": [
    "# Function that returns all Chicago Zips frem geojson file\n",
    "def create_chicago_zip_list():\n",
    "    state_geo_path = os.path.join(data_folder, \"chicago-zip.json\")\n",
    "    geo_json_data = json.load(open(state_geo_path))\n",
    "\n",
    "    zips = []\n",
    "   \n",
    "    for feature in geo_json_data['features']:\n",
    "        zips.append(str(feature.get('properties', {}).get('zip')))\n",
    "    return set(zips)"
   ]
  },
  {
   "cell_type": "code",
   "execution_count": null,
   "metadata": {
    "colab": {},
    "colab_type": "code",
    "id": "J1FsePDYFwYf"
   },
   "outputs": [],
   "source": [
    "# Get list of all Zip codes in Chicago\n",
    "chicago_zip = create_chicago_zip_list()"
   ]
  },
  {
   "cell_type": "code",
   "execution_count": null,
   "metadata": {
    "colab": {
     "base_uri": "https://localhost:8080/",
     "height": 35
    },
    "colab_type": "code",
    "id": "or6VkcZtF75p",
    "outputId": "0087e03c-7164-4e18-ce92-e6f93da024c7"
   },
   "outputs": [],
   "source": [
    "# Check if there is any restaurant not in Chicago\n",
    "not_in_chicago = len(inspections[inspections.City.isna() & (~inspections.Zip.isin(chicago_zip))])\n",
    "print('There are {0} Zip values which are not in Chicago.'.format(not_in_chicago))"
   ]
  },
  {
   "cell_type": "code",
   "execution_count": null,
   "metadata": {
    "colab": {},
    "colab_type": "code",
    "id": "IDO7EAvhGDOg"
   },
   "outputs": [],
   "source": [
    "# Replace all City missing values with Chicago\n",
    "inspections.City.fillna(value='Chicago', inplace=True)"
   ]
  },
  {
   "cell_type": "code",
   "execution_count": null,
   "metadata": {
    "colab": {
     "base_uri": "https://localhost:8080/",
     "height": 35
    },
    "colab_type": "code",
    "id": "ZQqWYANAGMkQ",
    "outputId": "70f7b7fe-27b7-4570-bada-8991ffdd1fbe"
   },
   "outputs": [],
   "source": [
    "print('There are {0} missing City values left in the restaurant dataset.'.format(inspections[inspections.City.isnull()].shape[0]))"
   ]
  },
  {
   "cell_type": "code",
   "execution_count": null,
   "metadata": {
    "colab": {
     "base_uri": "https://localhost:8080/",
     "height": 70
    },
    "colab_type": "code",
    "id": "M3o2-rwHMX2t",
    "outputId": "ee30a210-7538-4821-dad0-9ab183a72e06"
   },
   "outputs": [],
   "source": [
    "inspections.City.unique()"
   ]
  },
  {
   "cell_type": "code",
   "execution_count": null,
   "metadata": {
    "colab": {
     "base_uri": "https://localhost:8080/",
     "height": 35
    },
    "colab_type": "code",
    "id": "0A1WVzkqGNtn",
    "outputId": "7e3f2f53-44bb-4c52-83a5-5c1a252273bb"
   },
   "outputs": [],
   "source": [
    "# Change all values for City column to be Chicago\n",
    "inspections.City = 'Chicago'\n",
    "inspections.City.unique()"
   ]
  },
  {
   "cell_type": "markdown",
   "metadata": {
    "colab_type": "text",
    "id": "BxLaqzzg5SNS"
   },
   "source": [
    "### Standardizing/cleaning Inspection Type values"
   ]
  },
  {
   "cell_type": "code",
   "execution_count": null,
   "metadata": {
    "colab": {
     "base_uri": "https://localhost:8080/",
     "height": 497
    },
    "colab_type": "code",
    "id": "ZUxoERT-6_Ze",
    "outputId": "d2389b9e-37cc-4b1b-c42c-39d8deb8b85b"
   },
   "outputs": [],
   "source": [
    "inspections['Inspection Type'].unique()"
   ]
  },
  {
   "cell_type": "markdown",
   "metadata": {
    "colab_type": "text",
    "id": "7REZ7dbK5-4v"
   },
   "source": [
    "Looking at `Inspection Type` values we can see that they need some cleaning. According to the [document describing the dataset](https://data.cityofchicago.org/api/assets/BAD5301B-681A-4202-9D25-51B2CAE672FF) we should have following inspection types:\n",
    " - **canvass**: regular inspections with frequency depending on establishment risk,\n",
    " - **complaint**: in a response to filed complaint,\n",
    " - **license**: when obtaining a license, as a requirement of launching the establishment (should be once for most or more if they failed, this might be a separate study case),\n",
    " - **suspect food poisoning**: specific type of *complaint* when someone reports getting ill after eating from there\n",
    " - **task-force**: for bars and taverns.\n",
    "\n",
    "Also, as the linked document states, re-inspections can be done for most of the types and are indicated in the name of inspection type."
   ]
  },
  {
   "cell_type": "markdown",
   "metadata": {
    "colab_type": "text",
    "id": "7lu-nZ2W7tzT"
   },
   "source": [
    "First, we replace NaN values in Inspection Type with \"Unknown\":"
   ]
  },
  {
   "cell_type": "code",
   "execution_count": null,
   "metadata": {
    "colab": {},
    "colab_type": "code",
    "id": "599DOvZI5ezP"
   },
   "outputs": [],
   "source": [
    "inspections.fillna(value={'Inspection Type': 'Unknown'}, inplace=True)"
   ]
  },
  {
   "cell_type": "markdown",
   "metadata": {
    "colab_type": "text",
    "id": "0p4BSUmk8BC0"
   },
   "source": [
    "Now, since we may want to use the indication whether a particular inspection was a re-inspection or not, we add a separate column that will indicate that:"
   ]
  },
  {
   "cell_type": "code",
   "execution_count": null,
   "metadata": {
    "colab": {},
    "colab_type": "code",
    "id": "P3D6QspT8KjB"
   },
   "outputs": [],
   "source": [
    "reinspection_pattern = 're-inspec|reinspec|re inspec'\n",
    "inspections['Re-inspection'] = inspections['Inspection Type'].str.lower().str.contains(reinspection_pattern, regex=True)"
   ]
  },
  {
   "cell_type": "markdown",
   "metadata": {
    "colab_type": "text",
    "id": "lEIF7grz8a_p"
   },
   "source": [
    "Now, we proceed with making the names for given types of inspections uniform:"
   ]
  },
  {
   "cell_type": "code",
   "execution_count": null,
   "metadata": {
    "colab": {},
    "colab_type": "code",
    "id": "-jmj00RZ8p-F"
   },
   "outputs": [],
   "source": [
    "inspection_types = inspections['Inspection Type'].unique().astype(str)\n",
    "inspection_types_lower = np.char.lower(inspection_types)"
   ]
  },
  {
   "cell_type": "code",
   "execution_count": null,
   "metadata": {
    "colab": {},
    "colab_type": "code",
    "id": "KXAzycvB82dK"
   },
   "outputs": [],
   "source": [
    "# Replaces values in Inspection Type for records with keywords found in them with the specified replacement value\n",
    "def standardize_by_finding_keyword(keywords, replacement):\n",
    "  to_replace = np.array([])\n",
    "  for keyword in keywords:\n",
    "    to_replace = np.append(to_replace, inspection_types[np.char.find(inspection_types_lower, keyword) != -1])\n",
    "  inspections['Inspection Type'] = inspections['Inspection Type'].replace(to_replace, value=replacement)"
   ]
  },
  {
   "cell_type": "code",
   "execution_count": null,
   "metadata": {
    "colab": {},
    "colab_type": "code",
    "id": "FCKBsogP9bBB"
   },
   "outputs": [],
   "source": [
    "standardize_by_finding_keyword(['canvas'], 'Canvass')\n",
    "standardize_by_finding_keyword(['complain'], 'Complaint')\n",
    "standardize_by_finding_keyword(['license'], 'License')\n",
    "standardize_by_finding_keyword(['task', 'liquor'], 'Task Force')"
   ]
  },
  {
   "cell_type": "code",
   "execution_count": null,
   "metadata": {
    "colab": {},
    "colab_type": "code",
    "id": "w3GYRPlk-0EF"
   },
   "outputs": [],
   "source": [
    "# Suspected Food Poisoning replacements\n",
    "sfp_values = inspections['Inspection Type'].str.lower().str.contains('food|sfp', regex=True)\n",
    "inspections.loc[sfp_values, 'Inspection Type'] = 'Suspected Food Poisoning'\n",
    "standardize_by_finding_keyword(['sick'], 'Suspected Food Poisoning')"
   ]
  },
  {
   "cell_type": "code",
   "execution_count": null,
   "metadata": {
    "colab": {
     "base_uri": "https://localhost:8080/",
     "height": 621
    },
    "colab_type": "code",
    "id": "s6e2BcmGBb6m",
    "outputId": "767613ac-ea90-4491-b8c5-f291fc3fed3a"
   },
   "outputs": [],
   "source": [
    "inspections.groupby(by='Inspection Type')['Inspection ID'].count()"
   ]
  },
  {
   "cell_type": "markdown",
   "metadata": {
    "colab_type": "text",
    "id": "f7cAcNq1Br0u"
   },
   "source": [
    "There are still a lot of values that appear only once in the entire dataset. There are also ones that could be merged into single categories (e.g. \"no entry\", \"out of business\", \"recent inspection\"). We also decide to leave the categories with significant amount of records, such as \"Consultation\". The ones we decide to drop will be reclassified under \"Unknown\" category."
   ]
  },
  {
   "cell_type": "code",
   "execution_count": null,
   "metadata": {
    "colab": {},
    "colab_type": "code",
    "id": "voProZ_mC4zR"
   },
   "outputs": [],
   "source": [
    "# Replaces records with keyword found in category name to be classified in a given target category\n",
    "def merge_categories(keyword, target_category):\n",
    "  categories_containing_keyword = inspections['Inspection Type'].str.lower().str.contains(keyword)\n",
    "  inspections.loc[categories_containing_keyword, 'Inspection Type'] = target_category  "
   ]
  },
  {
   "cell_type": "code",
   "execution_count": null,
   "metadata": {
    "colab": {},
    "colab_type": "code",
    "id": "RG7DbCChDRq_"
   },
   "outputs": [],
   "source": [
    "merge_categories('recent inspection', 'Recent Inspection')\n",
    "merge_categories('out of business', 'Out of Business')\n",
    "merge_categories('no entry', 'No Entry')"
   ]
  },
  {
   "cell_type": "code",
   "execution_count": null,
   "metadata": {
    "colab": {},
    "colab_type": "code",
    "id": "jOYOJUpSDlip"
   },
   "outputs": [],
   "source": [
    "known_list = ['License', 'Canvass', 'Complaint', 'Consultation', 'No Entry', 'Out of Business', 'Recent Inspection', 'Suspected Food Poisoning', 'Tag Removal', 'Task Force']\n",
    "# Classify the rest as unknown\n",
    "inspections.loc[~inspections['Inspection Type'].isin(known_list), 'Inspection Type'] = 'Unknown'"
   ]
  },
  {
   "cell_type": "code",
   "execution_count": null,
   "metadata": {
    "colab": {
     "base_uri": "https://localhost:8080/",
     "height": 248
    },
    "colab_type": "code",
    "id": "4jf9lQHWD7Sp",
    "outputId": "4604d127-0cef-48e2-d677-f56b6f62dc32"
   },
   "outputs": [],
   "source": [
    "inspections.groupby(by='Inspection Type')['Inspection ID'].count()"
   ]
  },
  {
   "cell_type": "markdown",
   "metadata": {
    "colab_type": "text",
    "id": "UEo2171sEa2Z"
   },
   "source": [
    "Additionally, let's propagate \"Out of Business\" indication to \"Results\" column where it should be indicated:"
   ]
  },
  {
   "cell_type": "code",
   "execution_count": null,
   "metadata": {
    "colab": {},
    "colab_type": "code",
    "id": "enKj65WYEZsd"
   },
   "outputs": [],
   "source": [
    "out_of_business = inspections[inspections['Inspection Type'] == 'Out of Business'].index\n",
    "inspections.loc[out_of_business, 'Results'] = 'Out of Business'"
   ]
  },
  {
   "cell_type": "markdown",
   "metadata": {
    "colab_type": "text",
    "id": "6zvLR9e9aq7A"
   },
   "source": [
    "### Creating Community and District Column"
   ]
  },
  {
   "cell_type": "markdown",
   "metadata": {
    "colab_type": "text",
    "id": "cDdEOEGZa1u5"
   },
   "source": [
    "Chicago is divided into 77 Community Areas that can also be grouped into 9 Districts. Even though we have Zip codes for each restaurant, the role of Zip codes in real world is mainly related to post office and delivery services. People who live in Chicago and visit Chicago are, however, using Community Areas and districts for orientation. We decided to enrich the dataset with this information. We are using the chicago-community-areas geojson file for getting boundaries of community areas, and shapely library to check for each coordinate in which community area it belongs."
   ]
  },
  {
   "cell_type": "code",
   "execution_count": null,
   "metadata": {
    "colab": {},
    "colab_type": "code",
    "id": "CzK5Mr0ha1BW"
   },
   "outputs": [],
   "source": [
    "# Extract unique Latitude and Longitude from inspections\n",
    "unique_coords = inspections.copy()[['Latitude','Longitude']].drop_duplicates()\n",
    "\n",
    "# Create shapely points\n",
    "points = create_points(unique_coords)"
   ]
  },
  {
   "cell_type": "code",
   "execution_count": null,
   "metadata": {
    "colab": {},
    "colab_type": "code",
    "id": "6-HghyScbI-n"
   },
   "outputs": [],
   "source": [
    "# Method which checks whether the points are in area described in geojson file and returns data with community area name for found points\n",
    "def populate_area(points, geojson_filename):\n",
    "    # load GeoJSON file containing sectors\n",
    "    state_geo_path = r'{0}'.format(geojson_filename)\n",
    "    with open(state_geo_path) as file:\n",
    "        geo_json_data = json.load(file)\n",
    "\n",
    "        area_found = []\n",
    "        # check each polygon to see if it contains the point\n",
    "        for feature in geo_json_data['features']:\n",
    "            polygon = shapely.geometry.shape(feature['geometry'])\n",
    "            for point in points: \n",
    "                if polygon.contains(point):\n",
    "                    point_complete = {'Longitude':point.x, 'Latitude':point.y, 'Community':feature.get('properties', {}).get('community')}\n",
    "                    area_found.append(point_complete)\n",
    "        return area_found"
   ]
  },
  {
   "cell_type": "code",
   "execution_count": null,
   "metadata": {
    "colab": {
     "base_uri": "https://localhost:8080/",
     "height": 35
    },
    "colab_type": "code",
    "id": "uR0OJ-WAbHYJ",
    "outputId": "ecf5e64e-fa55-4358-9fe5-363e0283f9ca"
   },
   "outputs": [],
   "source": [
    "area_found = populate_area(points, os.path.join(data_folder, 'chicago-community-areas.json'))\n",
    "print('Total {0} point found matching Chicago sectors.'.format(len(area_found)))"
   ]
  },
  {
   "cell_type": "code",
   "execution_count": null,
   "metadata": {
    "colab": {
     "base_uri": "https://localhost:8080/",
     "height": 35
    },
    "colab_type": "code",
    "id": "fz-AGQuSbphV",
    "outputId": "8851364e-de0e-48b6-f857-01827400931d"
   },
   "outputs": [],
   "source": [
    "area_found = pd.DataFrame(area_found)\n",
    "inspections = inspections.merge(area_found,on=['Latitude','Longitude'], how='left')\n",
    "print('There are {0} missing Community left in the restaurant dataset.'.format(inspections[inspections.Community.isnull()].shape[0]))"
   ]
  },
  {
   "cell_type": "markdown",
   "metadata": {
    "colab_type": "text",
    "id": "4RY8c5tHboIJ"
   },
   "source": [
    "Since we have some missing values after populating the Community values from geojson, we will try to fix them manually. Let's see if there is some pattern in the missing data."
   ]
  },
  {
   "cell_type": "code",
   "execution_count": null,
   "metadata": {
    "colab": {
     "base_uri": "https://localhost:8080/",
     "height": 35
    },
    "colab_type": "code",
    "id": "lkGIdehRbvdQ",
    "outputId": "3564b265-e59e-4a44-be81-90a7793658c5"
   },
   "outputs": [],
   "source": [
    "inspections[inspections.Community.isna()].Zip.unique()"
   ]
  },
  {
   "cell_type": "markdown",
   "metadata": {
    "colab_type": "text",
    "id": "01QLwiZ3b1d5"
   },
   "source": [
    "It seems that the only missing data are from two Zip codes. By doing quick google search and looking at maps, we can see that 60666 refers to O'Hare International Airport and 60611 is Near North Side."
   ]
  },
  {
   "cell_type": "code",
   "execution_count": null,
   "metadata": {
    "colab": {
     "base_uri": "https://localhost:8080/",
     "height": 35
    },
    "colab_type": "code",
    "id": "5H6GeNhkbybC",
    "outputId": "462a8fed-b8a6-4a1f-99e2-38d2cbfd522d"
   },
   "outputs": [],
   "source": [
    "# Populate missing values\n",
    "inspections.loc[((inspections.Community.isna()) & (inspections.Zip == '60666')), 'Community'] = \"O'HARE INTERNATIONAL AIRPORT\"\n",
    "inspections.loc[((inspections.Community.isna()) & (inspections.Zip == '60611')), 'Community'] = \"NEAR NORTH SIDE\"\n",
    "\n",
    "print('There are {0} missing Community left in the restaurant dataset.'.format(inspections[inspections.Community.isna()].shape[0]))"
   ]
  },
  {
   "cell_type": "code",
   "execution_count": null,
   "metadata": {
    "colab": {
     "base_uri": "https://localhost:8080/",
     "height": 372
    },
    "colab_type": "code",
    "id": "wSztH_Mmb-FY",
    "outputId": "bb97ef43-6fa5-44f6-fc0c-069b695a2afb"
   },
   "outputs": [],
   "source": [
    "inspections.Community.unique()"
   ]
  },
  {
   "cell_type": "markdown",
   "metadata": {
    "colab_type": "text",
    "id": "F4V6jH4ucFBE"
   },
   "source": [
    "We are also going to get the information about Districts for each restaurant. For that we created a mapping between Communities and Districts, which we load from csv file."
   ]
  },
  {
   "cell_type": "code",
   "execution_count": null,
   "metadata": {
    "colab": {
     "base_uri": "https://localhost:8080/",
     "height": 194
    },
    "colab_type": "code",
    "id": "GD6SFE9zcGkU",
    "outputId": "a0b6d856-5481-4f00-d4c8-529982f53ec6"
   },
   "outputs": [],
   "source": [
    "chicago_communities = pd.read_excel(os.path.join(data_folder, 'Chicago-Communities.xlsx'))\n",
    "chicago_communities.head()"
   ]
  },
  {
   "cell_type": "code",
   "execution_count": null,
   "metadata": {
    "colab": {},
    "colab_type": "code",
    "id": "Z0qJCpMccQeD"
   },
   "outputs": [],
   "source": [
    "chicago_communities.Community = chicago_communities.Community.apply(lambda x: str.upper(x).strip())\n",
    "#chicago_communities.District = chicago_communities.District.apply(lambda x: string.capwords(x).strip())"
   ]
  },
  {
   "cell_type": "code",
   "execution_count": null,
   "metadata": {
    "colab": {
     "base_uri": "https://localhost:8080/",
     "height": 35
    },
    "colab_type": "code",
    "id": "Ru5V_V19cZh1",
    "outputId": "5ed3c541-7ceb-48bd-d09e-778f99d2458f"
   },
   "outputs": [],
   "source": [
    "inspections =inspections.merge(chicago_communities, on='Community', how='left')\n",
    "print('There are {0} missing District left in the restaurant dataset.'.format(inspections[inspections.District.isna()].shape[0]))"
   ]
  },
  {
   "cell_type": "code",
   "execution_count": null,
   "metadata": {
    "colab": {
     "base_uri": "https://localhost:8080/",
     "height": 501
    },
    "colab_type": "code",
    "id": "Wi7bl1HndO7u",
    "outputId": "02ae2e5a-1f26-4589-c050-1efcfb17db4e"
   },
   "outputs": [],
   "source": [
    "inspections.head()"
   ]
  },
  {
   "cell_type": "markdown",
   "metadata": {
    "colab_type": "text",
    "id": "61_TvUE5rwYi"
   },
   "source": [
    "##### INSTRUCTION FOR MAPS WITH GROUP BY COMMUNITIES"
   ]
  },
  {
   "cell_type": "code",
   "execution_count": null,
   "metadata": {
    "colab": {
     "base_uri": "https://localhost:8080/",
     "height": 35
    },
    "colab_type": "code",
    "id": "InH9YOXCr9Hy",
    "outputId": "e84c1627-27eb-489a-f5ce-6a9c0bc0cf06"
   },
   "outputs": [],
   "source": [
    "inspections.Community.nunique()"
   ]
  },
  {
   "cell_type": "markdown",
   "metadata": {
    "colab_type": "text",
    "id": "lvvn_3o4r3Zs"
   },
   "source": [
    "Apparently we have a community which does not have any inspection. (wierd)? So when you plot chrolophlet with chicago-community-areas.json you have black space there. There are 2 options:\n",
    "\n",
    "1. use **chicago-community-areas-1.json** where I removed that community area so it is not plotted (like below)\n",
    "2. manualy add 0 entraince for that community area before you plot (but be careful, because having 0 failures for instance could be misinterpreted as great neighborhood, while in reality there were no inspections)\n",
    "\n",
    "The only difference between previous folium maps by zip is grouping by community and key_on = 'feature.properties.community'"
   ]
  },
  {
   "cell_type": "code",
   "execution_count": null,
   "metadata": {
    "colab": {
     "base_uri": "https://localhost:8080/",
     "height": 108
    },
    "colab_type": "code",
    "id": "ai5mJhHCm-ek",
    "outputId": "ff10da09-841f-43af-83ca-384b6ec2e0f8"
   },
   "outputs": [],
   "source": [
    "#### MAP EXAMPLE\n",
    "group_by_area = inspections.copy().groupby('Community').count()\n",
    "group_by_area.reset_index(level=0,inplace=True)\n",
    "group_by_area['Community'] = group_by_area['Community'].apply(lambda x: str(x))\n",
    "\n",
    "state_geo_path = os.path.join(data_folder, \"chicago-community-areas.json\")\n",
    "geo_json_data = json.load(open(state_geo_path))\n",
    "\n",
    "map_safe_danger = folium.Map(location=[41.8781, -87.6298], zoom_start=10)\n",
    "map_safe_danger.choropleth(geo_data=geo_json_data, data=group_by_area,\n",
    "             columns=['Community', 'Results'],\n",
    "             key_on='feature.properties.community',\n",
    "             fill_color='YlGn', fill_opacity=0.7, line_opacity=0.2,\n",
    "             legend_name='Count inspections per area')\n",
    "#map_safe_danger\n",
    "map_safe_danger.save(os.path.join(data_folder,'random.html'))"
   ]
  },
  {
   "cell_type": "code",
   "execution_count": null,
   "metadata": {
    "colab": {
     "base_uri": "https://localhost:8080/",
     "height": 554
    },
    "colab_type": "code",
    "id": "oTnvU8MHnRVU",
    "outputId": "970e525e-aa18-4d90-a424-96d6fd3af390"
   },
   "outputs": [],
   "source": [
    "group_by_area"
   ]
  },
  {
   "cell_type": "markdown",
   "metadata": {
    "colab_type": "text",
    "id": "dBuRi-oFczrR"
   },
   "source": [
    "## Descriptive analysis"
   ]
  },
  {
   "cell_type": "markdown",
   "metadata": {
    "colab_type": "text",
    "id": "-DhIIVi3wvZk"
   },
   "source": [
    "In this part we prepare some basic plots to get more visual insight in our dataset."
   ]
  },
  {
   "cell_type": "code",
   "execution_count": null,
   "metadata": {
    "colab": {},
    "colab_type": "code",
    "id": "01QLaDpXwwJp"
   },
   "outputs": [],
   "source": [
    "sns.set(rc={'figure.figsize':(10,6)})\n",
    "sns.set_style(\"whitegrid\")"
   ]
  },
  {
   "cell_type": "markdown",
   "metadata": {
    "colab_type": "text",
    "id": "fwcoDd2Jwza_"
   },
   "source": [
    "We start with number of inspections per year to see if we can observe any trend in that matter"
   ]
  },
  {
   "cell_type": "code",
   "execution_count": null,
   "metadata": {
    "colab": {
     "base_uri": "https://localhost:8080/",
     "height": 428
    },
    "colab_type": "code",
    "id": "67auQHxaw0DL",
    "outputId": "862210da-66c7-434d-c405-d5122cf6c059"
   },
   "outputs": [],
   "source": [
    "data = inspections.groupby(inspections[\"Inspection Date\"].dt.year)[\"Inspection ID\"].count().to_frame().reset_index()\n",
    "data = data.rename(columns={\"Inspection ID\": \"Number of inspections\"})\n",
    "sns.barplot(data[\"Inspection Date\"], data[\"Number of inspections\"]).set_title(\"Number of inspections per year\")"
   ]
  },
  {
   "cell_type": "markdown",
   "metadata": {
    "colab_type": "text",
    "id": "L4CCPkhyw2CY"
   },
   "source": [
    "Next we want to look into inspections results each year"
   ]
  },
  {
   "cell_type": "code",
   "execution_count": null,
   "metadata": {
    "colab": {
     "base_uri": "https://localhost:8080/",
     "height": 428
    },
    "colab_type": "code",
    "id": "ozTmzCv2w5nX",
    "outputId": "4fbbc1c5-218e-4a24-e238-8cc63e3ac2cf"
   },
   "outputs": [],
   "source": [
    "data = inspections.groupby([inspections[\"Inspection Date\"].dt.year, inspections[\"Results\"]])[\"Inspection ID\"].count().to_frame().reset_index()\n",
    "data = data.rename(columns={\"Inspection ID\": \"Number of inspections\"})\n",
    "sns.barplot(data[\"Inspection Date\"], data[\"Number of inspections\"], data[\"Results\"]).set_title(\"Number of inspections by result per year\")"
   ]
  },
  {
   "cell_type": "markdown",
   "metadata": {
    "colab_type": "text",
    "id": "hFJvBPuyw8KV"
   },
   "source": [
    "It seems that Chicago sanitary got more strict as we can see in 2018 and 2019 far less restaurants pass an inspection in favour of passing with conditions.\n",
    "Furthermore we want to see how many inspections results correspond to which Risk level."
   ]
  },
  {
   "cell_type": "code",
   "execution_count": null,
   "metadata": {
    "colab": {
     "base_uri": "https://localhost:8080/",
     "height": 428
    },
    "colab_type": "code",
    "id": "BtikfiofxBsn",
    "outputId": "e56e18d5-5a6d-4a2a-f1c5-49240e96f0de"
   },
   "outputs": [],
   "source": [
    "data = inspections.groupby([inspections[\"Inspection Date\"].dt.year, inspections[\"Risk\"]])[\"Inspection ID\"].count().to_frame().reset_index()\n",
    "data = data.rename(columns={\"Inspection ID\": \"Number of inspections\"})\n",
    "sns.barplot(data[\"Inspection Date\"], data[\"Number of inspections\"], data[\"Risk\"]).set_title(\"Number of inspections per year by risk level\")"
   ]
  },
  {
   "cell_type": "markdown",
   "metadata": {
    "colab_type": "text",
    "id": "pQ_DQ0n8xG4g"
   },
   "source": [
    "We can see that most of inspections end up with giving restaurants a high risk badge, there are very few inspections with low risk, this is even more interesting as we identified earlier that most inspections are the ones that were passed."
   ]
  },
  {
   "cell_type": "markdown",
   "metadata": {
    "colab_type": "text",
    "id": "WsI7B14CeJo5"
   },
   "source": [
    "## Research questions\n",
    "\n",
    "Below we present data analysis for each of the research questions we defined. These analysis leads to initial answers to these questions, we also describe one question we decided to drop (see Question 5). At the end of data analysis for each research question, we briefly describe what will/can be done with regards to the posed question."
   ]
  },
  {
   "cell_type": "markdown",
   "metadata": {
    "colab_type": "text",
    "id": "bR1d2fBDTaLR"
   },
   "source": [
    "### Question 1\n",
    "**What are the most common reasons for a restaurant not passing an inspection?**"
   ]
  },
  {
   "cell_type": "markdown",
   "metadata": {
    "colab_type": "text",
    "id": "9p1fkYqkT0sw"
   },
   "source": [
    "In our dataset violations detected during the inspections are noted in the Violations column. Each violation contains a code, general violation description (name/category of the violation) and comments added by the inspector. Since the violation codes uniquely identify a particular violation, we extract them and use them for our analysis.\n",
    "\n",
    "However, as indicated in the [linked document](http://dev.cityofchicago.org/open%20data/data%20portal/2018/06/29/food-violations-changes.html) from the dataset page, the violation codes and descriptions has changed as of 1/07/2018. This means, that violation codes before and after this date don't correspond to the same violation reason. We first tried to map the changed values to the old ones, but it did not give results we expected (there are many new violations added and also the meaning of many violation changed). Therefore we need to split our analysis into two parts, so that violation codes in each part are consistent - analyze the inspections before 1/07/2018 and after this day.\n",
    "\n",
    "What we also wanted to do in this part was to categorize these violation reasons into bigger, more general groups. Categorizing violations into smaller number of groups would help us understand the highlevel reasons for failing the inspection better and would also help in creating visualizations easier to understand. That is why we manually grouped all violation codes into **5 categories** (using the violation descriptions for understanding what each violation code means):\n",
    "1. **Food violations:** in this category we put all of the violations which are related to the food and ingredients: the way they are obtained, stored, transported, prepared, labeled etc.\n",
    "2. **Facility conditions related violations:** presence of appropriatelly set up equipment and utilities (freezer, owens, work surface etc.), as well as requirements for the building and infrastructure (lighting, ventilation, temperature, pipes, walls etc.).\n",
    "3. **Sanitary related violations:** violations that are related to keeping all the equipment, rooms and surfaces clean .\n",
    "4. **Staff related violations:** violations related to the employees (necesarry trainings, the way they work with food, manager's work etc.).\n",
    "5. **Other:** the violations that did not match the previous groups (eg. summary report of the inspection visible to the public, no smoking regulations etc.)."
   ]
  },
  {
   "cell_type": "markdown",
   "metadata": {
    "colab_type": "text",
    "id": "4EAicyeQJHPc"
   },
   "source": [
    "#### Analysis on original violation codes"
   ]
  },
  {
   "cell_type": "markdown",
   "metadata": {
    "colab_type": "text",
    "id": "-R1XMi8UJSC_"
   },
   "source": [
    "To perform analysis on violations we first need to extract their codes to easily identify violations for each inspection:"
   ]
  },
  {
   "cell_type": "code",
   "execution_count": null,
   "metadata": {
    "colab": {},
    "colab_type": "code",
    "id": "NIWZkOBaJOR_"
   },
   "outputs": [],
   "source": [
    "inspections.fillna(value={'Violations': ''}, inplace=True)"
   ]
  },
  {
   "cell_type": "code",
   "execution_count": null,
   "metadata": {
    "colab": {},
    "colab_type": "code",
    "id": "BT7U_KcnJfKj"
   },
   "outputs": [],
   "source": [
    "# Extract violation codes from textual list of violations\n",
    "def extract_violation_codes(violation):\n",
    "    violations_list = list(map(lambda v: v.strip(), violation.split('|')))\n",
    "    violation_dots = [violation.find('.') for violation in violations_list]\n",
    "    # using set to get rid of multiple same category violations per inspection (to not disturb the distributions)\n",
    "    violation_codes = [int(v[:idx]) for v, idx in zip(violations_list, violation_dots) if idx != -1]\n",
    "    return violation_codes"
   ]
  },
  {
   "cell_type": "code",
   "execution_count": null,
   "metadata": {
    "colab": {},
    "colab_type": "code",
    "id": "IhPguz95JigK"
   },
   "outputs": [],
   "source": [
    "# Add additional column with extracted codes\n",
    "inspections['Violation Codes'] = inspections['Violations'].apply(extract_violation_codes)"
   ]
  },
  {
   "cell_type": "code",
   "execution_count": null,
   "metadata": {
    "colab": {},
    "colab_type": "code",
    "id": "03WISN-WJtxK"
   },
   "outputs": [],
   "source": [
    "# Merges all violation codes from the column into one flat array\n",
    "def merge_violation_codes(violation_series):\n",
    "  return [code for inspection_violation_codes in violation_series.values for code in inspection_violation_codes]\n",
    "\n",
    "# Creates the histogram for violation codes\n",
    "def violation_counts(violations, max_violation_code):\n",
    "  counts, code_bins = np.histogram(violations, bins=np.arange(1, max_violation_code + 2))\n",
    "  return counts, code_bins\n",
    "\n",
    "# Creates violation codes distribution from the dataframe\n",
    "def violations_distribution(df, violation_column='Violation Codes', max_violation_code=70):\n",
    "  # https://stackoverflow.com/a/38258158\n",
    "  all_codes = merge_violation_codes(df[violation_column])\n",
    "  counts, code_bins = violation_counts(all_codes, max_violation_code)\n",
    "  return code_bins[:-1], counts"
   ]
  },
  {
   "cell_type": "code",
   "execution_count": null,
   "metadata": {
    "colab": {},
    "colab_type": "code",
    "id": "ChXi1IKVKLpH"
   },
   "outputs": [],
   "source": [
    "# Split the dataset regarding the change of violation definitions\n",
    "violation_change_date = pd.Timestamp(year=2018, month=7, day=1)\n",
    "inspections['Inspection Date'] = pd.to_datetime(inspections['Inspection Date'])\n",
    "inspections_before_change = inspections[inspections['Inspection Date'] < violation_change_date]\n",
    "inspections_after_change = inspections[inspections['Inspection Date'] >= violation_change_date]"
   ]
  },
  {
   "cell_type": "code",
   "execution_count": null,
   "metadata": {
    "colab": {},
    "colab_type": "code",
    "id": "eVl_uqu6LHkY"
   },
   "outputs": [],
   "source": [
    "def plot_violations_stacked_bars(data, title, violation_column='Violation Codes', max_violation_code=70, xticks=None):\n",
    "  plt.figure(figsize=(12, 7))\n",
    "  plt.title(title)\n",
    "\n",
    "  results = data['Results'].unique()\n",
    "  bars = []\n",
    "  previous_counts = np.zeros((max_violation_code,))\n",
    "  # create stacked bar chart\n",
    "  for result in results:\n",
    "    bins, counts = violations_distribution(data[data['Results'] == result], violation_column, max_violation_code)\n",
    "    bar = plt.bar(bins, counts, bottom=previous_counts)\n",
    "    bars.append(bar[0])\n",
    "    # accumulate counts for positioning next stack\n",
    "    previous_counts += counts\n",
    "  \n",
    "  if xticks is not None:\n",
    "    plt.xticks(np.arange(1, max_violation_code + 1), xticks, rotation=40)\n",
    "  else:\n",
    "    plt.xlabel('Violation code')\n",
    "\n",
    "  plt.ylabel('# of inspections with violations')\n",
    "  plt.ylim((0, int(np.max(previous_counts)) + 2000))\n",
    "\n",
    "  plt.legend(tuple(bars), tuple(results))\n",
    "  plt.grid(True, axis='y')\n",
    "\n",
    "  plt.show()"
   ]
  },
  {
   "cell_type": "code",
   "execution_count": null,
   "metadata": {
    "colab": {
     "base_uri": "https://localhost:8080/",
     "height": 464
    },
    "colab_type": "code",
    "id": "9GV9JknYPLCk",
    "outputId": "a265b9d0-8df3-44b8-9e15-9fff7198bf51"
   },
   "outputs": [],
   "source": [
    "plot_violations_stacked_bars(inspections_before_change, 'Distribution of most common violations before 1/07/2018')"
   ]
  },
  {
   "cell_type": "code",
   "execution_count": null,
   "metadata": {
    "colab": {
     "base_uri": "https://localhost:8080/",
     "height": 464
    },
    "colab_type": "code",
    "id": "Mkq0ik9wAOi2",
    "outputId": "bbd6fb9a-0267-45fe-b29a-74cebfad93b9"
   },
   "outputs": [],
   "source": [
    "plot_violations_stacked_bars(inspections_after_change, 'Distribution of most common violations after 1/07/2018')"
   ]
  },
  {
   "cell_type": "code",
   "execution_count": null,
   "metadata": {
    "colab": {},
    "colab_type": "code",
    "id": "K975SDt4PnTi"
   },
   "outputs": [],
   "source": [
    "# Focus only on failed inspections\n",
    "failed_inspections_before = inspections_before_change[inspections_before_change['Results'] == 'Fail']\n",
    "failed_inspections_after = inspections_after_change[inspections_after_change['Results'] == 'Fail']"
   ]
  },
  {
   "cell_type": "code",
   "execution_count": null,
   "metadata": {
    "colab": {
     "base_uri": "https://localhost:8080/",
     "height": 464
    },
    "colab_type": "code",
    "id": "xhaAsBwXPyDy",
    "outputId": "b483c177-20f6-4092-9593-1b36365ae8b7"
   },
   "outputs": [],
   "source": [
    "plot_violations_stacked_bars(failed_inspections_before, 'Failed inspection violations distribution before 1/07/2018')"
   ]
  },
  {
   "cell_type": "code",
   "execution_count": null,
   "metadata": {
    "colab": {
     "base_uri": "https://localhost:8080/",
     "height": 464
    },
    "colab_type": "code",
    "id": "kX3_ocpsArGJ",
    "outputId": "1f0ff7fb-cec4-4829-813c-a87e8e8c8aab"
   },
   "outputs": [],
   "source": [
    "plot_violations_stacked_bars(failed_inspections_after, 'Failed inspection violations distribution after 1/07/2018')"
   ]
  },
  {
   "cell_type": "markdown",
   "metadata": {
    "colab_type": "text",
    "id": "3iJD0YBx7quU"
   },
   "source": [
    "The plots above show what are the most common violations for inspections both in general and only when focusing on failed inspections. In the first plot we can also see that violation with code 18 is almost always associated with a failed inspection. In the same plot it is also appartent, that violations with codes 32-35 and 38 are very often, but also most of such inspections end with a pass. We can also note that after the change of violations there are indeed not that many inspections with some violations and still getting a clear pass."
   ]
  },
  {
   "cell_type": "markdown",
   "metadata": {
    "colab_type": "text",
    "id": "h14VxPnmQbCc"
   },
   "source": [
    "#### Analysis on generalized inspection codes"
   ]
  },
  {
   "cell_type": "markdown",
   "metadata": {
    "colab_type": "text",
    "id": "5GoGNvxgRNeZ"
   },
   "source": [
    "Now we convert the original violation codes into defined 5 categories:"
   ]
  },
  {
   "cell_type": "code",
   "execution_count": null,
   "metadata": {
    "colab": {},
    "colab_type": "code",
    "id": "UEnrmraFRCM4"
   },
   "outputs": [],
   "source": [
    "food_codes_before = [1, 3, 15, 16, 17, 30]\n",
    "facility_codes_before = [2, 7, 9, 11, 13, 18, 22, 23, 24, 25, 26, 29, 32, 35, 36, 37, 38, 40, 42, 43]\n",
    "sanitary_codes_before = [4, 8, 10, 12, 19, 20, 27, 31, 33, 34, 39, 41]\n",
    "staff_codes_before = [5, 6, 21, 44, 45]\n",
    "unknown_codes_before = [14, 28, 70]\n",
    "\n",
    "codes_before = [food_codes_before, facility_codes_before, sanitary_codes_before, staff_codes_before, unknown_codes_before]"
   ]
  },
  {
   "cell_type": "code",
   "execution_count": null,
   "metadata": {
    "colab": {},
    "colab_type": "code",
    "id": "HoqTT1PlRE5a"
   },
   "outputs": [],
   "source": [
    "food_codes_after = [11, 12, 13, 14, 15, 17, 23, 26, 27, 28, 30, 31, 37, 39, 42]\n",
    "facility_codes_after = [10, 18, 19, 20, 21, 22, 33, 35, 36, 38, 41, 43, 44, 48, 50, 51, 53, 55, 56, 59, 60, 62]\n",
    "sanitary_codes_after = [2, 8, 16, 40, 45, 46, 47, 49, 52, 54]\n",
    "staff_codes_after = [1, 3, 7, 9, 25, 57, 58]\n",
    "unknown_codes_after = [4, 5, 6, 24, 29, 32, 61, 63]\n",
    "\n",
    "codes_after = [food_codes_after, facility_codes_after, sanitary_codes_after, staff_codes_after, unknown_codes_after]"
   ]
  },
  {
   "cell_type": "code",
   "execution_count": null,
   "metadata": {
    "colab": {},
    "colab_type": "code",
    "id": "tbqDViclRHzL"
   },
   "outputs": [],
   "source": [
    "# Based on the above array creates mappings between original codes and generalized categories\n",
    "def create_mapping(codes):\n",
    "  mapping = {}\n",
    "  for new_code, category_codes in enumerate(codes):\n",
    "      for old_code in category_codes:\n",
    "          mapping[old_code] = new_code + 1  # new codes starting from 1\n",
    "  return mapping\n",
    "\n",
    "# Function to transform array of original codes into our categories\n",
    "def encode_violations(violations, mapping):\n",
    "  encoded = []\n",
    "  for violation in violations:\n",
    "    encoded.append(mapping[violation])\n",
    "  return encoded"
   ]
  },
  {
   "cell_type": "code",
   "execution_count": null,
   "metadata": {
    "colab": {},
    "colab_type": "code",
    "id": "qHC8R3VxRLOD"
   },
   "outputs": [],
   "source": [
    "# Create mappings for conversion\n",
    "before_mapping = create_mapping(codes_before)\n",
    "after_mapping = create_mapping(codes_after)"
   ]
  },
  {
   "cell_type": "code",
   "execution_count": null,
   "metadata": {
    "colab": {},
    "colab_type": "code",
    "id": "KDhZRAckS95E"
   },
   "outputs": [],
   "source": [
    "mapped_inspections_before_change = inspections_before_change['Violation Codes'].apply(encode_violations, mapping=before_mapping)\n",
    "mapped_inspections_after_change = inspections_after_change['Violation Codes'].apply(encode_violations, mapping=after_mapping)"
   ]
  },
  {
   "cell_type": "code",
   "execution_count": null,
   "metadata": {
    "colab": {
     "base_uri": "https://localhost:8080/",
     "height": 518
    },
    "colab_type": "code",
    "id": "DIr99-tsJMsG",
    "outputId": "61eedd03-4c3c-49b0-f96e-121fa6e58d34"
   },
   "outputs": [],
   "source": [
    "mapped_inspections = mapped_inspections_before_change.append(mapped_inspections_after_change)\n",
    "# Add additional column with violation codes by our general categories\n",
    "inspections = inspections.merge(mapped_inspections, left_index=True, right_index=True, suffixes=('', ' Generalized'))\n",
    "inspections.head()"
   ]
  },
  {
   "cell_type": "markdown",
   "metadata": {
    "colab_type": "text",
    "id": "E_Xqs5AxCvdj"
   },
   "source": [
    "#### Analysis on critical violations"
   ]
  },
  {
   "cell_type": "markdown",
   "metadata": {
    "colab_type": "text",
    "id": "XjhG2i3XC1yr"
   },
   "source": [
    "Not all the violations have the same weight, right? For instance, it is not the same to have dirty toilet sink and serve expired food. Therefore, we want to make a distinction between violations, not only based on the category, but based on how serous the violation was.\n",
    "\n",
    "In order to differentiate restaurants and neighborhoods based on the severity of the violations they make, we need to know whether in some inspection there were some critical violations broken. For this, our analysis again differs before and after 1.7.2018. \n",
    "\n",
    "In the official description of the dataset, which applies to violations before 1st of July 2018, it is stated that violations with code 1-14 are classified as **critical violations**, 15-29 are **serious violations**, and the rest are **minor violations**. \n",
    "\n",
    "[After the change of the violations in 2018](https://www.chicago.gov/content/dam/city/depts/cdph/food_env/general/Food_Protection/2019_ChicagoFoodCodeMajorChanges.pdf), different renaming of critical, serious and minor violation was applied and they are called **priority**, **priority foundation** and **core violation** respectively. Moreover, there was no more clear separation which violation code belongs to which group. The way to deduct the severity of the violation in each inspection is to look at the **comments made by inspectors.** If there was a critical violation broken, it would be marked as priority violation.\n",
    "\n",
    "We will use this information to check if there was any critical or serious violation for each inspection. We will create 2 new columns which will contain boolean values: Critical Violation Noticed and Serious Violation Noticed. "
   ]
  },
  {
   "cell_type": "code",
   "execution_count": null,
   "metadata": {
    "colab": {},
    "colab_type": "code",
    "id": "9XhfL5r-EIPO"
   },
   "outputs": [],
   "source": [
    "# Function that applies for inspections before change (1.7.2018) and checks if there is any critical violation among given violation codes \n",
    "def is_critical_violation_before_change(violation_codes):\n",
    "    critical_violations = np.arange(1,15).tolist()\n",
    "    return (list(set(violation_codes) & set(critical_violations)) != [])\n",
    "\n",
    "# Function that applies for inspections after change (1.7.2018) and checks if there is any critical violation among given violation codes \n",
    "def is_critical_violation_after_change(comment):\n",
    "    return ('priority violation' in comment.lower())\n",
    "\n",
    "# Function that checks if during the inspection it was observed at least one critical violation\n",
    "def check_critical_violation(row):\n",
    "    change_date = datetime.datetime.strptime('2018-07-01', '%Y-%m-%d')\n",
    "    if((row['Inspection Date'] < change_date) and (is_critical_violation_before_change(row['Violation Codes']))):\n",
    "        return True\n",
    "    if((row['Inspection Date'] >= change_date) and (is_critical_violation_after_change(row['Violations']))):\n",
    "        return True\n",
    "    return False"
   ]
  },
  {
   "cell_type": "code",
   "execution_count": null,
   "metadata": {
    "colab": {},
    "colab_type": "code",
    "id": "6f1MDWy_ET6r"
   },
   "outputs": [],
   "source": [
    "# Create new column which shows if during the inspection it was observed at least one critical violation\n",
    "inspections['Critical Violation Noticed'] = inspections.apply(lambda x : check_critical_violation(x), axis = 1)"
   ]
  },
  {
   "cell_type": "markdown",
   "metadata": {
    "colab_type": "text",
    "id": "B14RF-N5Id7L"
   },
   "source": [
    "Similarily, we will check serious violations. They are slighlty less dangerous than critical ones, but still considered harmful for human's health."
   ]
  },
  {
   "cell_type": "code",
   "execution_count": null,
   "metadata": {
    "colab": {},
    "colab_type": "code",
    "id": "X46G0O3FEjWx"
   },
   "outputs": [],
   "source": [
    "# Function that applies for inspections before change (1.7.2018) and checks if there is any serious violation among given violation codes \n",
    "def is_serious_violation_before_change(violation_codes):\n",
    "    serious_violations = np.arange(15,30).tolist()\n",
    "    return (list(set(violation_codes) & set(serious_violations)) != [])\n",
    "\n",
    "# Function that applies for inspections after change (1.7.2018) and checks if there is any critical violation among given violation codes \n",
    "def is_serious_violation_after_change(comment):\n",
    "    return ('priority foundation' in comment.lower())\n",
    "\n",
    "# Function that checks if during the inspection it was observed at least one serious violation\n",
    "def check_serious_violation(row):\n",
    "    change_date = datetime.datetime.strptime('2018-07-01', '%Y-%m-%d')\n",
    "    if((row['Inspection Date'] < change_date) and (is_serious_violation_before_change(row['Violation Codes']))):\n",
    "        return True\n",
    "    if((row['Inspection Date'] >= change_date) and (is_serious_violation_after_change(row['Violations']))):\n",
    "        return True\n",
    "    return False"
   ]
  },
  {
   "cell_type": "code",
   "execution_count": null,
   "metadata": {
    "colab": {},
    "colab_type": "code",
    "id": "HQ-sv9EdJwBz"
   },
   "outputs": [],
   "source": [
    "# Create new column which shows if during the inspection it was observed at least one serious violation\n",
    "inspections['Serious Violation Noticed'] = inspections.apply(lambda x: check_serious_violation(x), axis=1)"
   ]
  },
  {
   "cell_type": "code",
   "execution_count": null,
   "metadata": {
    "colab": {
     "base_uri": "https://localhost:8080/",
     "height": 518
    },
    "colab_type": "code",
    "id": "vgLiv537ZTEO",
    "outputId": "2f06e3d9-5333-497b-f41b-3105ae6222b1"
   },
   "outputs": [],
   "source": [
    "inspections.head()"
   ]
  },
  {
   "cell_type": "code",
   "execution_count": null,
   "metadata": {
    "colab": {
     "base_uri": "https://localhost:8080/",
     "height": 35
    },
    "colab_type": "code",
    "id": "FqIoiP5jYigG",
    "outputId": "343e48a0-43c8-4051-c6cb-066d18a3d0d4"
   },
   "outputs": [],
   "source": [
    "critical_violations_percentage = int(100*inspections[inspections['Critical Violation Noticed']].shape[0]/ inspections.shape[0])\n",
    "print('{0}% of inspections had at least one critical violation.'.format(critical_violations_percentage))"
   ]
  },
  {
   "cell_type": "code",
   "execution_count": null,
   "metadata": {
    "colab": {
     "base_uri": "https://localhost:8080/",
     "height": 35
    },
    "colab_type": "code",
    "id": "Ucrxd8yrYwYy",
    "outputId": "719b8438-d2c6-4d58-86b1-879efd75f329"
   },
   "outputs": [],
   "source": [
    "serious_violations_percentage = int(100*inspections[inspections['Serious Violation Noticed']].shape[0]/ inspections.shape[0])\n",
    "print('{0}% of inspections had at least one serious violation.'.format(serious_violations_percentage))"
   ]
  },
  {
   "cell_type": "code",
   "execution_count": null,
   "metadata": {
    "colab": {
     "base_uri": "https://localhost:8080/",
     "height": 222
    },
    "colab_type": "code",
    "id": "XkNJ_cDgY4Aw",
    "outputId": "44220ee8-3371-4308-ff43-9c75c6f9e3ce"
   },
   "outputs": [],
   "source": [
    "# Plot proportion of critical and serious violations in inspections\n",
    "fig = plt.figure()\n",
    "plt.suptitle('Percentage of inspections having critical or serious violations');\n",
    "\n",
    "startingRadius = 1\n",
    "# First donut plot - Plotting proportion of critical violations\n",
    "ax1 = fig.add_subplot(221)\n",
    "critical_violation_donut = [100-critical_violations_percentage, critical_violations_percentage]\n",
    "ax1.text(0.13, startingRadius + 0.17, \"Critical violations: \"+str(critical_violations_percentage)+\"%\", \n",
    "         horizontalalignment='center', verticalalignment='center')\n",
    "ax1.pie(critical_violation_donut, radius=startingRadius, startangle=90, colors=['#fce0de', '#ed5b51'],\n",
    "            wedgeprops={\"edgecolor\": \"white\", 'linewidth': 1})\n",
    "circle = plt.Circle(xy=(0, 0), radius=0.45, facecolor='white')\n",
    "plt.gca().add_artist(circle)\n",
    "\n",
    "# Second donut plot - Plotting proportion of serious violations\n",
    "ax2 = fig.add_subplot(222)\n",
    "ax2.text(0.13, startingRadius + 0.17, \"Serious violations: \"+str(serious_violations_percentage)+\"%\", \n",
    "         horizontalalignment='center', verticalalignment='center')\n",
    "serious_violation_donut = [100-serious_violations_percentage, serious_violations_percentage]\n",
    "ax2.pie(serious_violation_donut, radius=startingRadius, startangle=90, colors=['#fce0de', '#f0776e'],\n",
    "            wedgeprops={\"edgecolor\": \"white\", 'linewidth': 1})\n",
    "circle = plt.Circle(xy=(0, 0), radius=0.45, facecolor='white')\n",
    "plt.gca().add_artist(circle)\n",
    "\n",
    "plt.show()"
   ]
  },
  {
   "cell_type": "markdown",
   "metadata": {
    "colab_type": "text",
    "id": "3IccLAW7A0Xn"
   },
   "source": [
    "#### Generalized violations"
   ]
  },
  {
   "cell_type": "markdown",
   "metadata": {
    "colab_type": "text",
    "id": "GI5x9gfFBs9c"
   },
   "source": [
    "Apart from grouping violations in 5 categories, we also named all of the validations, both before and after change. This is going to help us in better visualization of the violations."
   ]
  },
  {
   "cell_type": "code",
   "execution_count": null,
   "metadata": {
    "colab": {
     "base_uri": "https://localhost:8080/",
     "height": 194
    },
    "colab_type": "code",
    "id": "Qcr_2p0dBvky",
    "outputId": "b79edba6-ad0d-46e0-9780-e9c4fe188ecf"
   },
   "outputs": [],
   "source": [
    "violations_before_change = pd.read_excel(os.path.join(data_folder,'violation_names_before_2018.xlsx'))\n",
    "violations_before_change.head()"
   ]
  },
  {
   "cell_type": "markdown",
   "metadata": {
    "colab_type": "text",
    "id": "719x66v4B1b4"
   },
   "source": [
    "Since we want to focus on the most common reasons for failing an inspection, we want to count how many times each violation occured in inspections that ended in failure."
   ]
  },
  {
   "cell_type": "code",
   "execution_count": null,
   "metadata": {
    "colab": {
     "base_uri": "https://localhost:8080/",
     "height": 194
    },
    "colab_type": "code",
    "id": "AMJPqtrrB2MF",
    "outputId": "a4ffeeb2-3bbc-43d8-90de-a8461aca4339"
   },
   "outputs": [],
   "source": [
    "# Create list of all violation codes found during failed inspections\n",
    "all_violations_before_change_list = failed_inspections_before['Violation Codes'].values.tolist()\n",
    "all_violations_before_change_list = [item for sublist in all_violations_before_change_list for item in sublist]\n",
    "\n",
    "# Count occurencies of each validation\n",
    "from collections import Counter\n",
    "counted_violations_before_change = Counter(all_violations_before_change_list)\n",
    "counted_violations_before_change = pd.DataFrame.from_dict(counted_violations_before_change, orient='index').reset_index()\n",
    "\n",
    "violations_before_change = violations_before_change.merge(counted_violations_before_change, left_on = 'Violation code', right_on ='index').sort_values(by=0,ascending = True).rename(columns={0:'# violated'}).drop(columns='index')\n",
    "violations_before_change.head()"
   ]
  },
  {
   "cell_type": "markdown",
   "metadata": {
    "colab_type": "text",
    "id": "xNaPQSNpB4vy"
   },
   "source": [
    "Apart from getting the number of violation, we will enrich this data frame with three additional columns: Violation Category, Critical Violation and Serious Violation. Violation Category will be one of the previously mentioned 5 categories that we created. Critical Violation and Serious Violation are boolean valued columns saying whether violation is critical or serious, respectively. As we explained, validation codes 1-14 are critical violations, and 15-29 are serious violations. Note that we won't be able to create those two columns for the violations after change."
   ]
  },
  {
   "cell_type": "code",
   "execution_count": null,
   "metadata": {
    "colab": {},
    "colab_type": "code",
    "id": "pwn44wqEB-ie"
   },
   "outputs": [],
   "source": [
    "# Function that returns violation category for violations before 1.7.2018.\n",
    "def get_violation_category_before_change(violationCode):\n",
    "    # Definiton of code mappings\n",
    "    food_codes_before = [1, 3, 15, 16, 17, 30]\n",
    "    facility_codes_before = [2, 7, 9, 11, 13, 18, 22, 23, 24, 25, 26, 29, 32, 35, 36, 37, 38, 40, 42, 43]\n",
    "    sanitary_codes_before = [4, 8, 10, 12, 19, 20, 27, 31, 33, 34, 39, 41]\n",
    "    staff_codes_before = [5, 6, 21, 44, 45]\n",
    "    unknown_codes_before = [14, 28, 70]\n",
    "    \n",
    "    if (violationCode in food_codes_before):\n",
    "        return 'Food related violations'\n",
    "    if (violationCode in facility_codes_before):\n",
    "        return 'Facility related violations'\n",
    "    if (violationCode in sanitary_codes_before):\n",
    "        return 'Sanitary related violations'\n",
    "    if (violationCode in staff_codes_before):\n",
    "        return 'Staff related violations'\n",
    "    if (violationCode in unknown_codes_before):\n",
    "        return 'Other'\n",
    "    return None"
   ]
  },
  {
   "cell_type": "code",
   "execution_count": null,
   "metadata": {
    "colab": {
     "base_uri": "https://localhost:8080/",
     "height": 194
    },
    "colab_type": "code",
    "id": "4aPmfr29CCn8",
    "outputId": "12b95f76-4d2f-4cb0-9f61-d31a88a1180d"
   },
   "outputs": [],
   "source": [
    "# Create columns - Violation Category, Critical Violation & Serious Violation\n",
    "violations_before_change['Violation Category'] = violations_before_change['Violation code'].apply(lambda x: get_violation_category_before_change(x))\n",
    "violations_before_change['Critical Violation'] = violations_before_change['Violation code'].apply(lambda x: is_critical_violation_before_change([x]))\n",
    "violations_before_change['Serious Violation'] = violations_before_change['Violation code'].apply(lambda x: is_serious_violation_before_change([x]))\n",
    "violations_before_change.head()"
   ]
  },
  {
   "cell_type": "markdown",
   "metadata": {
    "colab_type": "text",
    "id": "XB9gAhSbCFaj"
   },
   "source": [
    "Now that we prepared the data for the analysis, we first want to see which violations are the ones that are present in the biggest number of failed inspections. We will plot all the violations names and the corresponding number of violations made, as well as the category to which that violation belongs to."
   ]
  },
  {
   "cell_type": "code",
   "execution_count": null,
   "metadata": {
    "colab": {
     "base_uri": "https://localhost:8080/",
     "height": 542
    },
    "colab_type": "code",
    "id": "2OpBd2iCCJTa",
    "outputId": "18247405-aeee-4c96-fb85-e62178d4d6e6"
   },
   "outputs": [],
   "source": [
    "import plotly.graph_objects as go\n",
    "\n",
    "categories = ['Food related violations', 'Facility related violations','Sanitary related violations','Staff related violations','Other']\n",
    "\n",
    "fig = go.Figure()\n",
    "\n",
    "for category in categories:\n",
    "    fig.add_trace(go.Bar(x=violations_before_change[violations_before_change['Violation Category']==category]['# violated'],\n",
    "                y=violations_before_change[violations_before_change['Violation Category']==category]['Violation name'],\n",
    "                name=category,\n",
    "                orientation='h',\n",
    "                hovertemplate='%{y}<br>Number of violations: %{x}',\n",
    "                # choose color palette\n",
    "                #marker_color='rgb(55, 83, 109)'\n",
    "                ))\n",
    "fig.update_layout(\n",
    "    title={\n",
    "        'text': \"Number of violations for failed inspection result\",\n",
    "        #'y':0.9,\n",
    "        'x':0.5,\n",
    "        'xanchor': 'center',\n",
    "        'yanchor': 'top'},\n",
    "    xaxis_tickfont_size=14,\n",
    "    yaxis=dict(\n",
    "        title='Violation name',\n",
    "        titlefont_size=16,\n",
    "        tickfont_size=10,\n",
    "        dtick= 1,\n",
    "        categoryorder=\"total ascending\"\n",
    "    ),\n",
    "    xaxis_title=\"Number of violations\",\n",
    "    bargap=0.4,\n",
    "    legend=dict(\n",
    "        bgcolor='rgba(255, 255, 255, 0)',\n",
    "        bordercolor='rgba(255, 255, 255, 0)'\n",
    "    ),\n",
    "    #height = 1200,\n",
    "    #width = 1200\n",
    ")"
   ]
  },
  {
   "cell_type": "code",
   "execution_count": null,
   "metadata": {
    "colab": {},
    "colab_type": "code",
    "id": "mHdie5UECNdu"
   },
   "outputs": [],
   "source": [
    "## TODO: SAVE PLOT\n",
    "#pyo.plot(fig, filename='figure.html',validate=False)\n",
    "#from IPython.display import IFrame\n",
    "#IFrame(src='./figure.html', width=1000, height=600)"
   ]
  },
  {
   "cell_type": "markdown",
   "metadata": {
    "colab_type": "text",
    "id": "BmxS8SwPCRLO"
   },
   "source": [
    "We have a winner! Among the failed inspections, **dirty floor was mentioned the most** as one of the violations. Two out of top three violations are related to cleaningness in the restaurant. Interestingly, many restaurants have problems with walls and ceiling constructions. Due to the fact that we created the categories by ourselves and that we are assigning each violation to strictly one category, there could be that some part of ceiling and wall problems is also due to dirtiness apart from construction. \n",
    "\n",
    "It seems that \"most popular violations\" are sanitary and facility related. What suprises is that, even though we are analysing restaurants, there is only one food related violation among the top 10 and it is on 10th place.\n",
    "\n",
    "The violations that restaurants made the least were re-serving the food and not cleaning the dishes properly. What is for sure very important to all of us who visit or want to visit restaurants in Chicago is that employees do not work if they are sick or injured - or at least inspection rarely finds out that."
   ]
  },
  {
   "cell_type": "markdown",
   "metadata": {
    "colab_type": "text",
    "id": "DhIGpKJdCVZ5"
   },
   "source": [
    "Looking at the top violations in failing, the inadequate floor or ceiling maitenance does not seem so severe. Let's now focus only on critical violations and see what is the most frequent critical violation."
   ]
  },
  {
   "cell_type": "code",
   "execution_count": null,
   "metadata": {
    "colab": {
     "base_uri": "https://localhost:8080/",
     "height": 617
    },
    "colab_type": "code",
    "id": "FeYqpcAlCUSE",
    "outputId": "b99a5373-ee7b-4eef-d7b0-258e0addee17"
   },
   "outputs": [],
   "source": [
    "# Visualize critical violations\n",
    "fig = px.bar(violations_before_change[violations_before_change['Critical Violation']], \n",
    "             x=\"# violated\", y=\"Violation name\", labels={'# violated':'Number of violations'},\n",
    "            orientation='h',color='Violation Category')\n",
    "fig.update_layout(\n",
    "    title=\"Number of critical violations for failed inspection result\",\n",
    "    xaxis_title=\"Number of violations\",\n",
    "    yaxis_title=\"Critical violation name\",\n",
    "    yaxis_dtick= 1,\n",
    "    bargap=0.2,\n",
    "    yaxis_categoryorder = \"total ascending\"\n",
    ")"
   ]
  },
  {
   "cell_type": "markdown",
   "metadata": {
    "colab_type": "text",
    "id": "QXeS9ezeCnXT"
   },
   "source": [
    "When looking at critical violations only, the top violation is related to **proper food storage temperature**. According to the full violation description, it means that potentially hazardous food meets temperature requirements during storage, preparation and service. On second and third place we have facility related violations, and then come the ones related to adequate cleaning of all necessary areas and equipement."
   ]
  },
  {
   "cell_type": "code",
   "execution_count": null,
   "metadata": {
    "colab": {
     "base_uri": "https://localhost:8080/",
     "height": 617
    },
    "colab_type": "code",
    "id": "qLEwN4uGChfo",
    "outputId": "5a7df353-8c09-425c-e506-2a735b7205bb"
   },
   "outputs": [],
   "source": [
    "# Visualize serious violations\n",
    "fig = px.bar(violations_before_change[violations_before_change['Serious Violation']], \n",
    "             x=\"# violated\", y=\"Violation name\", labels={'# violated':'Number of violations'},\n",
    "            orientation='h',color='Violation Category')\n",
    "fig.update_layout(\n",
    "    title=\"Number of serious violations for failed inspection result\",\n",
    "    xaxis_title=\"Number of violations\",\n",
    "    yaxis_title=\"Critical violation name\",\n",
    "    yaxis_dtick= 1,\n",
    "    bargap=0.2,\n",
    "    yaxis_categoryorder = \"total ascending\"\n",
    ")"
   ]
  },
  {
   "cell_type": "markdown",
   "metadata": {
    "colab_type": "text",
    "id": "nmEe5D65CzTr"
   },
   "source": [
    "Among the serious violations, the big problem for restaurants is that they do not have adequate protection from entrance of rodents and insects in the building. Also, many restaurants do not manage to correct serious violations they made, which also brings up the possibility to think about the performance of restaurants on re-inspections, which we will discuss later."
   ]
  },
  {
   "cell_type": "markdown",
   "metadata": {
    "colab_type": "text",
    "id": "-FAEaUHyC3sK"
   },
   "source": [
    "Now, we will do the same analysis for the violations after the change on 1.7.2018."
   ]
  },
  {
   "cell_type": "code",
   "execution_count": null,
   "metadata": {
    "colab": {
     "base_uri": "https://localhost:8080/",
     "height": 194
    },
    "colab_type": "code",
    "id": "lBLtXHHHCwM7",
    "outputId": "2c4d8d4c-3b48-4885-91e9-19ecb5a62699"
   },
   "outputs": [],
   "source": [
    "violations_after_change = pd.read_excel(os.path.join(data_folder,'violation_names_after_2018.xlsx'))\n",
    "violations_after_change.head()"
   ]
  },
  {
   "cell_type": "code",
   "execution_count": null,
   "metadata": {
    "colab": {
     "base_uri": "https://localhost:8080/",
     "height": 194
    },
    "colab_type": "code",
    "id": "YkC-kXhdC8-J",
    "outputId": "b0a7acac-a4df-4838-b42b-14b0dbd42dbe"
   },
   "outputs": [],
   "source": [
    "# Create list of all violation codes found during failed inspections\n",
    "all_violations_after_change_list = failed_inspections_after['Violation Codes'].values.tolist()\n",
    "all_violations_after_change_list = [item for sublist in all_violations_after_change_list for item in sublist]\n",
    "\n",
    "# Count occurencies of each validation\n",
    "counted_violations_after_change = Counter(all_violations_after_change_list)\n",
    "counted_violations_after_change = pd.DataFrame.from_dict(counted_violations_after_change, orient='index').reset_index()\n",
    "\n",
    "violations_after_change = violations_after_change.merge(counted_violations_after_change, left_on = 'Violation code', right_on ='index').sort_values(by=0,ascending = False).rename(columns={0:'# violated'}).drop(columns='index')\n",
    "violations_after_change.head()"
   ]
  },
  {
   "cell_type": "code",
   "execution_count": null,
   "metadata": {
    "colab": {},
    "colab_type": "code",
    "id": "caqeoyXnC_Kk"
   },
   "outputs": [],
   "source": [
    "# Function that returns violation category for violations before 1.7.2018.\n",
    "def get_violation_category_after_change(violationCode):\n",
    "    # Definiton of code mappings\n",
    "    food_codes_after = [11, 12, 13, 14, 15, 17, 23, 26, 27, 28, 30, 31, 37, 39, 42]\n",
    "    facility_codes_after = [10, 18, 19, 20, 21, 22, 33, 35, 36, 38, 41, 43, 44, 48, 50, 51, 53, 55, 56, 59, 60, 62]\n",
    "    sanitary_codes_after = [2, 8, 16, 40, 45, 46, 47, 49, 52, 54]\n",
    "    staff_codes_after = [1, 3, 7, 9, 25, 57, 58]\n",
    "    unknown_codes_after = [4, 5, 6, 24, 29, 32, 61, 63]\n",
    "    \n",
    "    if (violationCode in food_codes_after):\n",
    "        return 'Food related violations'\n",
    "    if (violationCode in facility_codes_after):\n",
    "        return 'Facility related violations'\n",
    "    if (violationCode in sanitary_codes_after):\n",
    "        return 'Sanitary related violations'\n",
    "    if (violationCode in staff_codes_after):\n",
    "        return 'Staff related violations'\n",
    "    if (violationCode in unknown_codes_after):\n",
    "        return 'Other'\n",
    "    return None"
   ]
  },
  {
   "cell_type": "code",
   "execution_count": null,
   "metadata": {
    "colab": {
     "base_uri": "https://localhost:8080/",
     "height": 194
    },
    "colab_type": "code",
    "id": "q8Xj8xF0DBmp",
    "outputId": "471a4587-a9a2-4ed6-e2ff-923011bb47ae"
   },
   "outputs": [],
   "source": [
    "# Create columns - Violation Category, Critical Violation & Serious Violation\n",
    "violations_after_change['Violation Category'] = violations_after_change['Violation code'].apply(lambda x: get_violation_category_after_change(x))\n",
    "violations_after_change.head()"
   ]
  },
  {
   "cell_type": "code",
   "execution_count": null,
   "metadata": {
    "colab": {
     "base_uri": "https://localhost:8080/",
     "height": 542
    },
    "colab_type": "code",
    "id": "33Mq5JV4DEDl",
    "outputId": "b76bdd80-4183-4237-ab22-7c698ae40c0c"
   },
   "outputs": [],
   "source": [
    "# Visualising only 40 most frequent violations\n",
    "top_violations_after_change = violations_after_change.iloc[0:40,:].copy()\n",
    "\n",
    "categories = ['Food related violations', 'Facility related violations','Sanitary related violations','Staff related violations','Other']\n",
    "\n",
    "fig = go.Figure()\n",
    "\n",
    "for category in categories:\n",
    "    fig.add_trace(go.Bar(x=top_violations_after_change[top_violations_after_change['Violation Category']==category]['# violated'],\n",
    "                y=top_violations_after_change[top_violations_after_change['Violation Category']==category]['Violation name'],\n",
    "                name=category,\n",
    "                orientation='h',\n",
    "                hovertemplate='%{y}<br>Number of violations: %{x}',\n",
    "                # choose color palette\n",
    "                #marker_color='rgb(55, 83, 109)'\n",
    "                ))\n",
    "fig.update_layout(\n",
    "    title={\n",
    "        'text': \"Number of violations for failed inspection result\",\n",
    "        #'y':0.9,\n",
    "        'x':0.5,\n",
    "        'xanchor': 'center',\n",
    "        'yanchor': 'top'},\n",
    "    xaxis_tickfont_size=14,\n",
    "    yaxis=dict(\n",
    "        title='Violation name',\n",
    "        titlefont_size=16,\n",
    "        tickfont_size=10,\n",
    "        dtick= 1,\n",
    "        categoryorder=\"total ascending\"\n",
    "    ),\n",
    "    xaxis_title=\"Number of violations\",\n",
    "    bargap=0.4,\n",
    "    legend=dict(\n",
    "        bgcolor='rgba(255, 255, 255, 0)',\n",
    "        bordercolor='rgba(255, 255, 255, 0)'\n",
    "    ),\n",
    "    #height = 1400,\n",
    "    #width = 1400\n",
    ")"
   ]
  },
  {
   "cell_type": "markdown",
   "metadata": {
    "colab_type": "text",
    "id": "kFoWiaJCDPCI"
   },
   "source": [
    "We already mentioned the big differences and stricter criteria after the change date. That can also be noticed in the violations that are made the most. Now for the first time we can see a big impact of **violations related to employees training**. Apparently, many restaurants did not have time do adjust properly to the new regulations and failed in the past year and a half due to inadequate management or lack of allergen training for the staff. Also, the City of Chicago requires defined procedures for many situations that can happen in a restaurant, and one that is the most problematic for restaurants to comply with is **reacting in case of customer sickness.** So be careful and remind yourself of your first aid knowledge, because the restaurant employees apparently cannot help you properly. Of course, when looking at these reasons, we have to take into account that these changed violation list is valid for less than 18 months, so there is smaller amount of inspections which can be analyzed. "
   ]
  },
  {
   "cell_type": "markdown",
   "metadata": {
    "colab_type": "text",
    "id": "7u9hCoi0_Uhv"
   },
   "source": [
    "## TODO: Check if we are keeping this part"
   ]
  },
  {
   "cell_type": "markdown",
   "metadata": {
    "colab_type": "text",
    "id": "uAsCIb90W7sP"
   },
   "source": [
    "Now we can present similar plots as before, but for generalized categories. Also, now we can plot the distributions of violations in these categories for our entire dataset on the same plot:"
   ]
  },
  {
   "cell_type": "code",
   "execution_count": null,
   "metadata": {
    "colab": {
     "base_uri": "https://localhost:8080/",
     "height": 497
    },
    "colab_type": "code",
    "id": "oLbsDhiCKSl_",
    "outputId": "7d6af1b7-8f23-4e40-d08c-eaccedc9e97f"
   },
   "outputs": [],
   "source": [
    "labels = ['Food', 'Facility conditions', 'Sanitary conditions', 'Staff', 'Other']\n",
    "plot_violations_stacked_bars(inspections, '', violation_column='Violation Codes Generalized', max_violation_code=5, xticks=labels)"
   ]
  },
  {
   "cell_type": "markdown",
   "metadata": {
    "colab_type": "text",
    "id": "5ZA6ApffbHbS"
   },
   "source": [
    "We can see that most inspections with violations are related to the violations we clasiffied as facility conditions. Clearly the reason is mostly the fact, that this category is mapped to from many of the original violation codes. Original violation codes assigned to new category \"Facility conditions\" form the biggest groups within the full sets of original violation codes.\n",
    "\n",
    "It will be also interesting to analyze violations in inspection results by neighbourhood to potentially discover patterns (e.g. areas larger than one neighbourhood that have inspections with particular violation as the most common one). Below are the functions for perfoming such analysis:"
   ]
  },
  {
   "cell_type": "code",
   "execution_count": null,
   "metadata": {
    "colab": {},
    "colab_type": "code",
    "id": "CfaeUbY9bfK6"
   },
   "outputs": [],
   "source": [
    "# Get violation codes list for each neighbourhood (zip code)\n",
    "def violation_codes_by(data, by_column, violation_column):\n",
    "  return data.groupby(by=by_column)[violation_column].apply(merge_violation_codes)\n",
    "\n",
    "# Find top most common violations in given violations list\n",
    "def most_common_violations(violations, max_violation_code, top=1):\n",
    "  counts, _ = violation_counts(violations, max_violation_code)\n",
    "  return np.argsort(counts)[::-1][:top] + 1  # add one to convert to violation code from index\n",
    "\n",
    "# Find top most common violations in each neighbourhood (zip code)\n",
    "def most_common_violations_by(data, by_column, violation_column, max_violation_code, top=1):\n",
    "  return violation_codes_by(data, by_column, violation_column).apply(most_common_violations, max_violation_code=max_violation_code, top=top)"
   ]
  },
  {
   "cell_type": "markdown",
   "metadata": {
    "colab_type": "text",
    "id": "WY5onIxsLiAi"
   },
   "source": [
    "#### Milestone 3 goals\n",
    "\n",
    "For the next milestone we are going to analyze spatial patterns within Chicago for the most common violations per neighborhood. Also, violations discovered during inspections can serve as another measure for ranking places where to eat in Chicago, i.e. we can use percentage of passed inspections or (more detailed) percentage of passed inspections with no food related violations for gauging the quality and safety of restaurants in particular neighbourhood. Establishing such additional measures may help us in responding to the main project question based on not that commonly analyzed aspects and propose safe to eat neighbourhoods based on such measure."
   ]
  },
  {
   "cell_type": "code",
   "execution_count": null,
   "metadata": {},
   "outputs": [],
   "source": [
    "by = 'Community'\n",
    "most_common_violations_by_community_before_change = most_common_violations_by(inspections_before_change, by, 'Violation Codes', 70, top=1)\n",
    "most_common_violations_by_community_after_change = most_common_violations_by(inspections_after_change, by, 'Violation Codes', 63, top=1)\n",
    "most_common_generalized_violations_by_community = most_common_violations_by(inspections, by, 'Violation Codes Generalized', 5, top=1)"
   ]
  },
  {
   "cell_type": "code",
   "execution_count": null,
   "metadata": {},
   "outputs": [],
   "source": [
    "most_common = pd.DataFrame(most_common_generalized_violations_by_community) \\\n",
    "    .rename(columns={'Violation Codes Generalized': 'general_most_common'}) \\\n",
    "    .merge(most_common_violations_by_community_before_change, left_index=True, right_index=True) \\\n",
    "    .rename(columns={'Violation Codes': 'before_most_common'}) \\\n",
    "    .merge(most_common_violations_by_community_after_change, left_index=True, right_index=True) \\\n",
    "    .rename(columns={'Violation Codes': 'after_most_common'}) \\\n",
    "    .reset_index()"
   ]
  },
  {
   "cell_type": "code",
   "execution_count": null,
   "metadata": {},
   "outputs": [],
   "source": [
    "# Transform most common general violation to value from list\n",
    "most_common = most_common.explode('general_most_common')\n",
    "most_common['community_name'] = most_common['Community'] # for plotting purposes"
   ]
  },
  {
   "cell_type": "code",
   "execution_count": null,
   "metadata": {},
   "outputs": [],
   "source": [
    "# Transform violation codes into names\n",
    "def transform_violation_codes_into_names(violation_codes, names_mapping_df):\n",
    "    names_array = [names_mapping_df[names_mapping_df['Violation code'] == code]['Violation name'].values for code in violation_codes]\n",
    "    if len(names_array) > 0:\n",
    "        return ', '.join([names[0] for names in names_array])\n",
    "    else:\n",
    "        return 'None'\n",
    "\n",
    "most_common['before_most_common_names'] = most_common['before_most_common'].apply(transform_violation_codes_into_names, names_mapping_df=violations_before_change)\n",
    "most_common['after_most_common_names'] = most_common['after_most_common'].apply(transform_violation_codes_into_names, names_mapping_df=violations_after_change)"
   ]
  },
  {
   "cell_type": "code",
   "execution_count": null,
   "metadata": {},
   "outputs": [],
   "source": [
    "most_common_before = most_common.copy().drop(columns=['general_most_common', 'after_most_common', 'after_most_common_names']).explode('before_most_common')\n",
    "most_common_after = most_common.copy().drop(columns=['general_most_common', 'before_most_common', 'before_most_common_names']).explode('after_most_common')\n",
    "most_common.drop(columns=['before_most_common', 'after_most_common'], inplace=True)"
   ]
  },
  {
   "cell_type": "code",
   "execution_count": null,
   "metadata": {},
   "outputs": [],
   "source": [
    "# reordering columns for plotting purposes\n",
    "most_common = most_common[['Community', 'general_most_common', 'community_name', 'before_most_common_names', 'after_most_common_names']]"
   ]
  },
  {
   "cell_type": "code",
   "execution_count": null,
   "metadata": {},
   "outputs": [],
   "source": [
    "from plotting import plot_map\n",
    "\n",
    "%load_ext autoreload\n",
    "%autoreload 2"
   ]
  },
  {
   "cell_type": "code",
   "execution_count": null,
   "metadata": {},
   "outputs": [],
   "source": [
    "mapbox_access_token = 'pk.eyJ1IjoiYnpkZWNvIiwiYSI6ImNrNDVmNTU5ZTA1dnIzZXJ2Zm9vbmZsd2EifQ.KvNq66ornrV9ACa98F0s9w'"
   ]
  },
  {
   "cell_type": "code",
   "execution_count": null,
   "metadata": {},
   "outputs": [],
   "source": [
    "template = '<b>{}</b><br><b>Before 1/07/2018:</b> {}<br><b>After 1/07/2018:</b> {}'"
   ]
  },
  {
   "cell_type": "code",
   "execution_count": null,
   "metadata": {},
   "outputs": [],
   "source": [
    "# TODO: set discrete colorscale\n",
    "plot_map('Most common violations for Chicago communities', \n",
    "         geodata_path='data/chicago-community-areas.json', \n",
    "         dataframe=most_common, \n",
    "         key_property='community', key_column='Community', value_column='general_most_common',\n",
    "         template=template,\n",
    "         mapbox_access_token=mapbox_access_token,\n",
    "         options={})"
   ]
  },
  {
   "cell_type": "markdown",
   "metadata": {},
   "source": [
    "#### Most common violations before change of violations"
   ]
  },
  {
   "cell_type": "code",
   "execution_count": null,
   "metadata": {},
   "outputs": [],
   "source": [
    "# https://community.plot.ly/t/colors-for-discrete-ranges-in-heatmaps/7780\n",
    "# Creates a colorscale with discrete steps for plotting given start and end rgb tuples and number of discrete values\n",
    "def make_discrete_colorscale(start, end, n_categories):\n",
    "    rs, gs, bs = start\n",
    "    re, ge, be = end\n",
    "    r, g, b = (re - rs)/(n_categories - 1), (ge - gs)/(n_categories - 1), (be - bs)/(n_categories - 1)\n",
    "    colors = []\n",
    "    for cat in range(n_categories):\n",
    "        for i in range(2):\n",
    "            colors.append([(cat + i) / n_categories, f'rgb({rs + cat*r}, {gs + cat*g}, {bs + cat*b})'])\n",
    "    return colors"
   ]
  },
  {
   "cell_type": "code",
   "execution_count": null,
   "metadata": {},
   "outputs": [],
   "source": [
    "# Map violation codes to ordered values starting from 0\n",
    "def map_violations_to_discrete_ordered_values(dataframe, mapped_column):\n",
    "    original_values = list(dataframe[mapped_column].unique())\n",
    "    mapped_to = list(range(len(original_values)))\n",
    "    mapping = dict(zip(original_values, mapped_to))  # https://stackoverflow.com/a/209854\n",
    "    dataframe[mapped_column] = dataframe[mapped_column].map(mapping)"
   ]
  },
  {
   "cell_type": "code",
   "execution_count": null,
   "metadata": {},
   "outputs": [],
   "source": [
    "map_violations_to_discrete_ordered_values(most_common_before, 'before_most_common')"
   ]
  },
  {
   "cell_type": "code",
   "execution_count": null,
   "metadata": {},
   "outputs": [],
   "source": [
    "# Plot the map\n",
    "n_categories = len(most_common_before['before_most_common'])\n",
    "template = '<b>{}</b><br>{}'\n",
    "plot_map('Most common violations for Chicago communities before 1/07/2018', \n",
    "         geodata_path='data/chicago-community-areas.json', \n",
    "         dataframe=most_common_before, \n",
    "         key_property='community', key_column='Community', value_column='before_most_common',\n",
    "         template=template,\n",
    "         mapbox_access_token=mapbox_access_token,\n",
    "         options={\n",
    "             'colorscale': make_discrete_colorscale((200, 200, 255), (0, 0, 255), n_categories),\n",
    "             'showscale': False\n",
    "         })"
   ]
  },
  {
   "cell_type": "markdown",
   "metadata": {},
   "source": [
    "#### Most common violations after change of violations"
   ]
  },
  {
   "cell_type": "code",
   "execution_count": null,
   "metadata": {},
   "outputs": [],
   "source": [
    "map_violations_to_discrete_ordered_values(most_common_after, 'after_most_common')"
   ]
  },
  {
   "cell_type": "code",
   "execution_count": null,
   "metadata": {},
   "outputs": [],
   "source": [
    "# Plot the map\n",
    "n_categories = len(most_common_after['after_most_common'])\n",
    "template = '<b>{}</b><br>{}'\n",
    "plot_map('Most common violations for Chicago communities after 1/07/2018', \n",
    "         geodata_path='data/chicago-community-areas.json', \n",
    "         dataframe=most_common_after, \n",
    "         key_property='community', key_column='Community', value_column='after_most_common',\n",
    "         template=template,\n",
    "         mapbox_access_token=mapbox_access_token,\n",
    "         options={\n",
    "             'colorscale': make_discrete_colorscale((200, 200, 255), (0, 0, 255), n_categories),\n",
    "             'showscale': False\n",
    "         })"
   ]
  },
  {
   "cell_type": "markdown",
   "metadata": {},
   "source": [
    "#### Percentage of inspections with critical violations per community"
   ]
  },
  {
   "cell_type": "code",
   "execution_count": null,
   "metadata": {},
   "outputs": [],
   "source": [
    "def percentages_of_violation_types(by='Community', violation_type='Critical Violation Noticed'):\n",
    "    group_size = inspections.groupby(by)[violation_type].count()\n",
    "    counts_per_group = inspections[inspections[violation_type]].groupby(by)[violation_type].count()\n",
    "    return 100 * counts_per_group / group_size"
   ]
  },
  {
   "cell_type": "code",
   "execution_count": null,
   "metadata": {},
   "outputs": [],
   "source": [
    "by = 'Community'\n",
    "critical_percentages = percentages_of_violation_types(by, violation_type='Critical Violation Noticed')"
   ]
  },
  {
   "cell_type": "code",
   "execution_count": null,
   "metadata": {},
   "outputs": [],
   "source": [
    "serious_percentages = percentages_of_violation_types(by, violation_type='Serious Violation Noticed')"
   ]
  },
  {
   "cell_type": "code",
   "execution_count": null,
   "metadata": {},
   "outputs": [],
   "source": [
    "critical_percentages_df = pd.DataFrame(critical_percentages) \\\n",
    "    .rename(columns={'Critical Violation Noticed': 'percentage'}) \\\n",
    "    .reset_index() \\\n",
    "    .round(decimals=1)\n",
    "critical_percentages_df['community_name'] = critical_percentages_df['Community']\n",
    "critical_percentages_df['percentage_value'] = critical_percentages_df['percentage']"
   ]
  },
  {
   "cell_type": "code",
   "execution_count": null,
   "metadata": {},
   "outputs": [],
   "source": [
    "serious_percentages_df = pd.DataFrame(serious_percentages) \\\n",
    "    .rename(columns={'Serious Violation Noticed': 'percentage'}) \\\n",
    "    .reset_index() \\\n",
    "    .round(decimals=1)"
   ]
  },
  {
   "cell_type": "code",
   "execution_count": null,
   "metadata": {},
   "outputs": [],
   "source": [
    "template = '<b>{}</b>: {}%'\n",
    "plot_map('Percentage of inspections with critical violations per community', \n",
    "         geodata_path='data/chicago-community-areas.json', \n",
    "         dataframe=critical_percentages_df, \n",
    "         key_property='community', key_column='Community', value_column='percentage',\n",
    "         template=template,\n",
    "         mapbox_access_token=mapbox_access_token,\n",
    "         options={\n",
    "             'colorscale': [\n",
    "                 [0.0, 'rgb(255, 255, 0)'],\n",
    "                 [1.0, 'rgb(255, 0, 0)']\n",
    "             ],\n",
    "             'colorbar': {\n",
    "                 'title': 'Percentage',\n",
    "                 'tick0': 0,\n",
    "                 'dtick': 4,\n",
    "                 'ticksuffix': '%'\n",
    "             }\n",
    "         })"
   ]
  },
  {
   "cell_type": "markdown",
   "metadata": {
    "colab_type": "text",
    "id": "LsHq2FrQVi5c"
   },
   "source": [
    "### Question 2\n",
    "**Are there \"safe to eat\" areas or \"dangerous to eat\" areas in Chicago?**"
   ]
  },
  {
   "cell_type": "markdown",
   "metadata": {
    "colab_type": "text",
    "id": "ntndFY8QMp7O"
   },
   "source": [
    "As a first criteria for measuring whether neighborhood is \"safe to eat\" or \"dangerous to eat\", we will take into account the aggregate results of inspections for the restaurants in that area."
   ]
  },
  {
   "cell_type": "code",
   "execution_count": null,
   "metadata": {
    "colab": {
     "base_uri": "https://localhost:8080/",
     "height": 69
    },
    "colab_type": "code",
    "id": "TiwDThReNquo",
    "outputId": "da23bbb2-0b65-4162-c70b-e3bf5c94507c"
   },
   "outputs": [],
   "source": [
    "inspections['Results'].unique()"
   ]
  },
  {
   "cell_type": "code",
   "execution_count": null,
   "metadata": {
    "colab": {
     "base_uri": "https://localhost:8080/",
     "height": 237
    },
    "colab_type": "code",
    "id": "fmzM88SQOLd5",
    "outputId": "fb0e02bd-43b1-4bbf-eae0-094b369d5e7b"
   },
   "outputs": [],
   "source": [
    "# Get contigency table\n",
    "inspections_scores_by_zip = inspections.groupby(['Zip','Results']).size().unstack('Results', fill_value=0)\n",
    "inspections_scores_by_zip.head()"
   ]
  },
  {
   "cell_type": "markdown",
   "metadata": {
    "colab_type": "text",
    "id": "fGHSuDbXOccs"
   },
   "source": [
    "We decided to create a formula which will give the overall score for each neighborhood, taking into account the number of inspections per each category, as well as penalizing the negative results and awarding the positive ones. \n",
    "If the restaurant was suspended, which means Out of Business or Business Not Located (according to the docs), that gives -2 point. If the restaurant failed, it will be -1 points. If it passes with condition, the score is 0.5 points. If the restaurant passed clearly, it gives 1 point. We then divide that by the total amount of restaurants in the neighborhood."
   ]
  },
  {
   "cell_type": "code",
   "execution_count": null,
   "metadata": {
    "colab": {},
    "colab_type": "code",
    "id": "Wiu1mcsZPKux"
   },
   "outputs": [],
   "source": [
    "# Function that gives the safety score for the neighborhood\n",
    "def get_safety_score(df):\n",
    "    score = (-2)*df['Business Not Located']+(-2)*df['Out of Business']+(-1)*df['Fail']+0.5*df['Pass w/ Conditions']+1*df['Pass'] \n",
    "    number_of_inspections = df.sum(axis=1)\n",
    "    return score/number_of_inspections"
   ]
  },
  {
   "cell_type": "code",
   "execution_count": null,
   "metadata": {
    "colab": {
     "base_uri": "https://localhost:8080/",
     "height": 237
    },
    "colab_type": "code",
    "id": "Mh9Ihe03PWhC",
    "outputId": "14ac613e-f4db-4630-a5f1-a96b8432a3d0"
   },
   "outputs": [],
   "source": [
    "# Add safety score to DF\n",
    "inspections_scores_by_zip['Safety score'] = pd.Series(get_safety_score(inspections_scores_by_zip))\n",
    "inspections_scores_by_zip.sort_values('Safety score', ascending=False).head()"
   ]
  },
  {
   "cell_type": "markdown",
   "metadata": {
    "colab_type": "text",
    "id": "_9AUvgUIPgV_"
   },
   "source": [
    "Now, we want to visualise the results in order to see if there is any pattern."
   ]
  },
  {
   "cell_type": "code",
   "execution_count": null,
   "metadata": {
    "colab": {},
    "colab_type": "code",
    "id": "i746BDvCPcj1"
   },
   "outputs": [],
   "source": [
    "# We need Zip to be a column in order to visualize, and Zip must be string\n",
    "inspections_scores_by_zip.reset_index(level=0,inplace=True)\n",
    "inspections_scores_by_zip['Zip'] = inspections_scores_by_zip['Zip'].apply(lambda x: str(x))"
   ]
  },
  {
   "cell_type": "code",
   "execution_count": null,
   "metadata": {
    "colab": {
     "base_uri": "https://localhost:8080/",
     "height": 729
    },
    "colab_type": "code",
    "id": "sH_fqpQpPnQK",
    "outputId": "3fa9005c-ffa7-4b5b-f208-afaba7ecd5d0"
   },
   "outputs": [],
   "source": [
    "# Visualise neighorhoods with respect to the Safety Score they got\n",
    "state_geo_path = os.path.join(data_folder, \"chicago-zip.json\")\n",
    "geo_json_data = json.load(open(state_geo_path))\n",
    "\n",
    "map_safe_danger = folium.Map(location=[41.8781, -87.6298], zoom_start=10)\n",
    "map_safe_danger.choropleth(geo_data=geo_json_data, data=inspections_scores_by_zip,\n",
    "             columns=['Zip', 'Safety score'],\n",
    "             key_on='feature.properties.zip',\n",
    "             fill_color='YlGn', fill_opacity=0.7, line_opacity=0.2,\n",
    "             legend_name='Safe to eat percentage (%)')\n",
    "map_safe_danger\n",
    "#map_safe_danger.save('safe-vs-dangerous-map.html')"
   ]
  },
  {
   "cell_type": "markdown",
   "metadata": {
    "colab_type": "text",
    "id": "rx3hv9tzQ9t9"
   },
   "source": [
    "According to the safety scores we calculated, it seems that the safest places to eat are the **the two Airports and the City Center.** That's right, you may need to pay extra, since those are central tourist points, but you can be quite sure that the restaurant you are eating is fulfulling the regulations. As you are going further from this places, the risk increases. \n"
   ]
  },
  {
   "cell_type": "markdown",
   "metadata": {
    "colab_type": "text",
    "id": "Qz-zWg9HRgkC"
   },
   "source": [
    "#### Milestone 3 goals\n",
    "\n",
    "We plan to explore further the \"safe vs. dangerous\" areas by choosing several criteria. We plan to check how Risk feature impacts that separation, as well as try to find other metrics which could be relevant for this analysis."
   ]
  },
  {
   "cell_type": "markdown",
   "metadata": {
    "colab_type": "text",
    "id": "UC4EbRDxTMfI"
   },
   "source": [
    "### Question 3\n",
    "**Checking restaurants history of inspections, how are restaurants or whole areas changing in their inspection scores? Can one see any patterns in improvements with respect to inspection results? Are there areas/restaurant chains/restaurant types that follow some trends?**"
   ]
  },
  {
   "cell_type": "markdown",
   "metadata": {
    "colab_type": "text",
    "id": "ZlfCcqd4ZcF1"
   },
   "source": [
    "Let's start by a look at the possible inspection results :"
   ]
  },
  {
   "cell_type": "code",
   "execution_count": null,
   "metadata": {
    "colab": {
     "base_uri": "https://localhost:8080/",
     "height": 437
    },
    "colab_type": "code",
    "id": "7MhjtlyfZajP",
    "outputId": "aa2c4136-4c38-49e9-8a6e-f1697bba635b"
   },
   "outputs": [],
   "source": [
    "ax = sns.countplot(inspections.Results)\n",
    "ax.set_xticklabels(ax.get_xticklabels(), rotation=40, ha=\"right\")\n",
    "plt.tight_layout()"
   ]
  },
  {
   "cell_type": "markdown",
   "metadata": {
    "colab_type": "text",
    "id": "m71J6D3SZqct"
   },
   "source": [
    "We will ignore out of service restaurants, and therefore only consider the first three categories: Pass, Pass w/ conditions and Fail."
   ]
  },
  {
   "cell_type": "markdown",
   "metadata": {
    "colab_type": "text",
    "id": "ePi-LJz6Z4Tb"
   },
   "source": [
    "As a first indicator of restaurant quality, we will use the number of safety violations per inspection."
   ]
  },
  {
   "cell_type": "code",
   "execution_count": null,
   "metadata": {
    "colab": {
     "base_uri": "https://localhost:8080/",
     "height": 660
    },
    "colab_type": "code",
    "id": "dX00RowCandg",
    "outputId": "f606db75-7e3d-4715-b19d-9ea9dfe01b2b"
   },
   "outputs": [],
   "source": [
    "inspections[\"nb_violations\"] = inspections.apply(lambda row: len(row['Violation Codes']), axis=1)\n",
    "inspections.sample(5)"
   ]
  },
  {
   "cell_type": "markdown",
   "metadata": {
    "colab_type": "text",
    "id": "f3yWbd_bbAsi"
   },
   "source": [
    "Let's compare the number of violations for inspections with results \"Pass\", \"Pass w/ conditions\" and \"Fail\" :"
   ]
  },
  {
   "cell_type": "code",
   "execution_count": null,
   "metadata": {
    "colab": {
     "base_uri": "https://localhost:8080/",
     "height": 173
    },
    "colab_type": "code",
    "id": "lzzcketla2Cy",
    "outputId": "ace4be6e-7b07-484f-e354-36d6d63f56c9"
   },
   "outputs": [],
   "source": [
    "inspections[inspections.Results == \"Pass\"].nb_violations.describe()"
   ]
  },
  {
   "cell_type": "code",
   "execution_count": null,
   "metadata": {
    "colab": {
     "base_uri": "https://localhost:8080/",
     "height": 173
    },
    "colab_type": "code",
    "id": "T2-EPhGOa_Y2",
    "outputId": "15d705e1-710b-4e6c-c483-830c598b5f2c"
   },
   "outputs": [],
   "source": [
    "inspections[inspections.Results == \"Fail\"].nb_violations.describe()"
   ]
  },
  {
   "cell_type": "markdown",
   "metadata": {
    "colab_type": "text",
    "id": "Goc3f3gdbIsi"
   },
   "source": [
    "As expected, the average number of violations is higher for restaurants who failed their inspection. However, an important detail shouldn't be overlooked: quartiles show that some failing restaurants have less violations than passing ones. We will therefore consider two parameters to evaluate how much restaurants improve over time: the difference between the intial average number of violations and the same average number at the last inspection, and their inspection result (Pass, Pass w/ conditions and Fail). "
   ]
  },
  {
   "cell_type": "code",
   "execution_count": null,
   "metadata": {
    "colab": {},
    "colab_type": "code",
    "id": "2gG6J7HTa_IX"
   },
   "outputs": [],
   "source": [
    "def nvdiff(group):\n",
    "    tmp = group.sort_values(by=\"Inspection Date\")\n",
    "    return (tmp.iloc[-1].nb_violations-tmp.iloc[0].nb_violations)\n",
    "violations_evo = inspections.groupby(\"License #\").apply(nvdiff)\n",
    "violations_evo = pd.DataFrame({'License #':violations_evo.index, 'Violations evolution':violations_evo.values})"
   ]
  },
  {
   "cell_type": "code",
   "execution_count": null,
   "metadata": {
    "colab": {
     "base_uri": "https://localhost:8080/",
     "height": 206
    },
    "colab_type": "code",
    "id": "qPVyuu-1bWVZ",
    "outputId": "f7b1f407-657f-4953-9d8b-4fd25b885835"
   },
   "outputs": [],
   "source": [
    "violations_evo.sample(5)"
   ]
  },
  {
   "cell_type": "markdown",
   "metadata": {
    "colab_type": "text",
    "id": "typNeE-WblWx"
   },
   "source": [
    "We can now compute the average evolution score per zip code (which is the average of the difference between the number of violations at first and last inspections for all restaurants of a given area)."
   ]
  },
  {
   "cell_type": "code",
   "execution_count": null,
   "metadata": {
    "colab": {
     "base_uri": "https://localhost:8080/",
     "height": 206
    },
    "colab_type": "code",
    "id": "Pw3_YxvWbqwt",
    "outputId": "0d2dcb7a-fc0d-41b5-e0a3-047fbbeb7d32"
   },
   "outputs": [],
   "source": [
    "violations_evo_zip = violations_evo.merge(inspections[['License #','Zip']],on='License #', how='left')\\\n",
    "                         .groupby('Zip')['Violations evolution'].mean()\n",
    "violations_evo_zip = pd.DataFrame({'Zip':violations_evo_zip.index,'evolution':violations_evo_zip.values})\n",
    "violations_evo_zip.sample(5)"
   ]
  },
  {
   "cell_type": "code",
   "execution_count": null,
   "metadata": {
    "colab": {
     "base_uri": "https://localhost:8080/",
     "height": 729
    },
    "colab_type": "code",
    "id": "mc-QOLO4bshh",
    "outputId": "fa30d93c-8bed-4ccb-9fd3-6480887372e7"
   },
   "outputs": [],
   "source": [
    "state_geo_path = os.path.join(data_folder, \"chicago-zip.json\")\n",
    "geo_json_data = json.load(open(state_geo_path))\n",
    "\n",
    "map_evo = folium.Map(location=[41.8781, -87.6298], zoom_start=10)\n",
    "map_evo.choropleth(geo_data=geo_json_data, data=violations_evo_zip,\n",
    "             columns=['Zip', 'evolution'],\n",
    "             key_on='feature.properties.zip',\n",
    "             bins=[-4.0,-3.0,-2.0,0.0,1.0,3.0],\n",
    "             fill_color='BuGn', fill_opacity=0.7, line_opacity=0.2,\n",
    "             legend_name='Violations number evolution')\n",
    "map_evo"
   ]
  },
  {
   "cell_type": "markdown",
   "metadata": {
    "colab_type": "text",
    "id": "5qKtVdjobzLh"
   },
   "source": [
    "We can see that in most areas, restaurants manage to decrease their number of violations over time. But in a few areas, restaurants have increased their number of violations."
   ]
  },
  {
   "cell_type": "markdown",
   "metadata": {
    "colab_type": "text",
    "id": "megzr1CWb34X"
   },
   "source": [
    "We can also visualize the number of restaurants who have improved, got worse or stagnated over time."
   ]
  },
  {
   "cell_type": "code",
   "execution_count": null,
   "metadata": {
    "colab": {
     "base_uri": "https://localhost:8080/",
     "height": 441
    },
    "colab_type": "code",
    "id": "dQUGD5qIb-cw",
    "outputId": "7648e2fc-9f86-483a-a9c1-827243c8f177"
   },
   "outputs": [],
   "source": [
    "bins = [-np.inf,-0.1,0.1,np.inf]\n",
    "cats = [\"Improved\", \"Stagnated\", \"Worsened\"]\n",
    "pd.cut(violations_evo[\"Violations evolution\"], bins, labels=cats).value_counts().plot.bar()"
   ]
  },
  {
   "cell_type": "markdown",
   "metadata": {
    "colab_type": "text",
    "id": "v1tpcFOacM3e"
   },
   "source": [
    "Most restaurants have improved or stagnated over time in their number of violations. The number of restaurants which got worse over time is smaller than the two other categories."
   ]
  },
  {
   "cell_type": "markdown",
   "metadata": {
    "colab_type": "text",
    "id": "13exspTZcaH-"
   },
   "source": [
    "We will now compare the amount of restaurants who passed their most recent inspection in 2010 and 2018, per area. This will give us some insight in restaurant safety evolution over time."
   ]
  },
  {
   "cell_type": "code",
   "execution_count": null,
   "metadata": {
    "colab": {
     "base_uri": "https://localhost:8080/",
     "height": 34
    },
    "colab_type": "code",
    "id": "MoXs2-kmbWAU",
    "outputId": "b263d7a8-202d-4f8a-acf0-31fc62746400"
   },
   "outputs": [],
   "source": [
    "# Number of inspections done in 2010\n",
    "inspections[(inspections['Inspection Date'] >= '2010-01-01') & (inspections['Inspection Date'] < '2011-01-01')]['License #'].nunique()"
   ]
  },
  {
   "cell_type": "code",
   "execution_count": null,
   "metadata": {
    "colab": {
     "base_uri": "https://localhost:8080/",
     "height": 34
    },
    "colab_type": "code",
    "id": "JezY9y3-cqT6",
    "outputId": "5fc6e1c2-cdc9-4180-c7eb-24772aed7eda"
   },
   "outputs": [],
   "source": [
    "# Number of inspections done in 2018\n",
    "inspections[(inspections['Inspection Date'] >= '2018-01-01') & (inspections['Inspection Date'] < '2019-01-01')]['License #'].nunique()"
   ]
  },
  {
   "cell_type": "code",
   "execution_count": null,
   "metadata": {
    "colab": {},
    "colab_type": "code",
    "id": "S9zTfaB0cr7v"
   },
   "outputs": [],
   "source": [
    "# Selecting inspections done in 2010 and 2018\n",
    "chicago_2010 = inspections[(inspections['Inspection Date'] >= '2010-01-01') & (inspections['Inspection Date'] < '2011-01-01')].copy()\n",
    "chicago_2018 = inspections[(inspections['Inspection Date'] >= '2018-01-01') & (inspections['Inspection Date'] < '2019-01-01')].copy()\n",
    "chicago_2010[\"Results\"] = chicago_2010[\"Results\"].apply(lambda x : x.startswith(\"Pass\"))\n",
    "chicago_2018[\"Results\"] = chicago_2018[\"Results\"].apply(lambda x : x.startswith(\"Pass\"))"
   ]
  },
  {
   "cell_type": "code",
   "execution_count": null,
   "metadata": {
    "colab": {},
    "colab_type": "code",
    "id": "z1cofRmVcy2R"
   },
   "outputs": [],
   "source": [
    "# Computing number of restaurants which passed their last inspection per zip code\n",
    "\n",
    "pass_by_zip2010 = chicago_2010.groupby([\"License #\",\"Zip\"])\\\n",
    "                                .apply(lambda g : g.sort_values(by=\"Inspection Date\").iloc[-1].Results)\\\n",
    "                                .groupby(\"Zip\")\\\n",
    "                                .sum()\n",
    "pass_by_zip2018 = chicago_2018.groupby([\"License #\",\"Zip\"])\\\n",
    "                                .apply(lambda g : g.sort_values(by=\"Inspection Date\").iloc[-1].Results)\\\n",
    "                                .groupby(\"Zip\")\\\n",
    "                                .sum()"
   ]
  },
  {
   "cell_type": "code",
   "execution_count": null,
   "metadata": {
    "colab": {},
    "colab_type": "code",
    "id": "iX0m_SIPbVpZ"
   },
   "outputs": [],
   "source": [
    "# Converting counts to int\n",
    "pass_by_zip2010 = pd.DataFrame({\"Zip\":pass_by_zip2010.index,\"Pass\":pass_by_zip2010.values})\n",
    "pass_by_zip2018 = pd.DataFrame({\"Zip\":pass_by_zip2018.index,\"Pass\":pass_by_zip2018.values})\n",
    "pass_by_zip2010.Pass = pass_by_zip2010.Pass.apply(lambda x : int(x))\n",
    "pass_by_zip2018.Pass = pass_by_zip2018.Pass.apply(lambda x : int(x))"
   ]
  },
  {
   "cell_type": "markdown",
   "metadata": {
    "colab_type": "text",
    "id": "rc1yGbJrc9za"
   },
   "source": [
    "As not all areas have the same amount of restaurants, for each area we need to divide the number of restaurants passing inspections by the number of restaurants in the area to get a percentage."
   ]
  },
  {
   "cell_type": "code",
   "execution_count": null,
   "metadata": {
    "colab": {},
    "colab_type": "code",
    "id": "xnIe1pZGc9ev"
   },
   "outputs": [],
   "source": [
    "zip_count_2010 = chicago_2010.groupby(\"Zip\").apply(lambda g : g[\"License #\"].nunique())\n",
    "zip_count_2018 = chicago_2018.groupby(\"Zip\").apply(lambda g : g[\"License #\"].nunique())"
   ]
  },
  {
   "cell_type": "code",
   "execution_count": null,
   "metadata": {
    "colab": {},
    "colab_type": "code",
    "id": "q9D8JU4KdLRq"
   },
   "outputs": [],
   "source": [
    "zip_count_2010 = pass_by_zip2010.merge(pd.DataFrame({\"Zip\":zip_count_2010.index,\"Count\": zip_count_2010.values}),on='Zip', how='left')\n",
    "zip_count_2018 = pass_by_zip2018.merge(pd.DataFrame({\"Zip\":zip_count_2018.index,\"Count\": zip_count_2018.values}),on='Zip', how='left')"
   ]
  },
  {
   "cell_type": "code",
   "execution_count": null,
   "metadata": {
    "colab": {},
    "colab_type": "code",
    "id": "JUmpBQzrdJ9M"
   },
   "outputs": [],
   "source": [
    "# Computing pass percentages\n",
    "\n",
    "zip_count_2010.Pass = zip_count_2010.apply(lambda row : row.Pass/row.Count, axis=1)\n",
    "zip_count_2018.Pass = zip_count_2018.apply(lambda row : row.Pass/row.Count, axis=1)"
   ]
  },
  {
   "cell_type": "code",
   "execution_count": null,
   "metadata": {
    "colab": {},
    "colab_type": "code",
    "id": "L09cMY7ndk8F"
   },
   "outputs": [],
   "source": [
    "zip_count_2010 = zip_count_2010.drop(\"Count\",axis=1)\n",
    "zip_count_2018 = zip_count_2018.drop(\"Count\",axis=1)"
   ]
  },
  {
   "cell_type": "markdown",
   "metadata": {
    "colab_type": "text",
    "id": "RRKdH-Jqdmh1"
   },
   "source": [
    "We can now plot the percentage of valid restaurants per area in 2010..."
   ]
  },
  {
   "cell_type": "code",
   "execution_count": null,
   "metadata": {
    "colab": {
     "base_uri": "https://localhost:8080/",
     "height": 729
    },
    "colab_type": "code",
    "id": "FqcvHmEcc8vx",
    "outputId": "3cf57ab8-4301-448a-bd38-4ebd49ff05e9"
   },
   "outputs": [],
   "source": [
    "state_geo_path = os.path.join(data_folder, \"chicago-zip.json\")\n",
    "geo_json_data = json.load(open(state_geo_path))\n",
    "\n",
    "map_zip_2010 = folium.Map(location=[41.8781, -87.6298], zoom_start=10)\n",
    "map_zip_2010.choropleth(geo_data=geo_json_data, data=zip_count_2010,\n",
    "             columns=['Zip', 'Pass'],\n",
    "             bins = [0.7,0.75,0.8,0.85,0.9,0.95,1.0],\n",
    "             key_on='feature.properties.zip',\n",
    "             fill_color='BuGn', fill_opacity=0.7, line_opacity=0.2,\n",
    "             legend_name='Percentage of passing restaurants')\n",
    "map_zip_2010"
   ]
  },
  {
   "cell_type": "markdown",
   "metadata": {
    "colab_type": "text",
    "id": "ttsW7bBieDN0"
   },
   "source": [
    "... and in 2018 :"
   ]
  },
  {
   "cell_type": "code",
   "execution_count": null,
   "metadata": {
    "colab": {
     "base_uri": "https://localhost:8080/",
     "height": 729
    },
    "colab_type": "code",
    "id": "v6vD7Cjga-xw",
    "outputId": "e1d63e06-3c97-479d-a299-e3b3d3e46255"
   },
   "outputs": [],
   "source": [
    "state_geo_path = os.path.join(data_folder, \"chicago-zip.json\")\n",
    "geo_json_data = json.load(open(state_geo_path))\n",
    "\n",
    "map_zip_2018 = folium.Map(location=[41.8781, -87.6298], zoom_start=10)\n",
    "map_zip_2018.choropleth(geo_data=geo_json_data, data=zip_count_2018,\n",
    "             columns=['Zip', 'Pass'],\n",
    "             key_on='feature.properties.zip',\n",
    "             bins = [0.6,0.75,0.8,0.85,0.9,0.95,1.0],\n",
    "             fill_color='BuGn', fill_opacity=0.7, line_opacity=0.2,\n",
    "             legend_name='Percentage of passing restaurants')\n",
    "map_zip_2018"
   ]
  },
  {
   "cell_type": "markdown",
   "metadata": {
    "colab_type": "text",
    "id": "cxyYLnxDeWgy"
   },
   "source": [
    "Overall, it seems that the percentage of restaurants passing inspections has decreased between 2010 and 2018 (which shows that the number of safety violations and and inspection results are not related, as we saw previously that most areas have decreased their number of violations over time). We can notice that the lowest percentage is lower in 2018 compared to 2010."
   ]
  },
  {
   "cell_type": "markdown",
   "metadata": {
    "colab_type": "text",
    "id": "YEM9-Pvn0xjx"
   },
   "source": [
    "#### Milestone 3 goals\n",
    "\n",
    "Our goal for the next milestone is to study more indicators of restaurant quality, such as the risk level and violation categories, and their evolution over time. Particularly, it would be interesting to find which areas show the most potential for future improvement. We could also check whether certain restaurant chains (Subway, Starbucks...) follow certain trends."
   ]
  },
  {
   "cell_type": "markdown",
   "metadata": {
    "colab_type": "text",
    "id": "BX0IF2BPGqaR"
   },
   "source": [
    "### Question 4\n",
    "**How is restaurant performance in terms of inpection results related to geodemographic charactestics of the area (e.g. Life Quality Index)?**\n",
    "\n",
    "In this milestone we managed to scrape life quality index per zip code in Chicago, we present first insight as a visualization."
   ]
  },
  {
   "cell_type": "code",
   "execution_count": null,
   "metadata": {
    "colab": {
     "base_uri": "https://localhost:8080/",
     "height": 206
    },
    "colab_type": "code",
    "id": "NsOGsteQG4SA",
    "outputId": "7b84f689-c860-4a50-f954-77f726ecd790"
   },
   "outputs": [],
   "source": [
    "lqi_zipcode = pd.read_csv(os.path.join(data_folder, \"lqi_indexes.csv\"), index_col=False)\n",
    "lqi_zipcode.head()"
   ]
  },
  {
   "cell_type": "code",
   "execution_count": null,
   "metadata": {
    "colab": {},
    "colab_type": "code",
    "id": "N6vbbGBlIKv0"
   },
   "outputs": [],
   "source": [
    "# Cast Zip code values to string\n",
    "lqi_zipcode.zip_code = lqi_zipcode.zip_code.apply(lambda x: str(x))"
   ]
  },
  {
   "cell_type": "code",
   "execution_count": null,
   "metadata": {
    "colab": {
     "base_uri": "https://localhost:8080/",
     "height": 86
    },
    "colab_type": "code",
    "id": "_oWqjvwAIzN2",
    "outputId": "fb2052d6-3d98-4bc3-cce7-f8b1b5a24132"
   },
   "outputs": [],
   "source": [
    "lqi_zipcode.nunique()"
   ]
  },
  {
   "cell_type": "code",
   "execution_count": null,
   "metadata": {
    "colab": {
     "base_uri": "https://localhost:8080/",
     "height": 34
    },
    "colab_type": "code",
    "id": "obDMKMeXI1-8",
    "outputId": "afcaf247-62fd-4032-91b1-53a5dbe0e046"
   },
   "outputs": [],
   "source": [
    "inspections.Zip.nunique()"
   ]
  },
  {
   "cell_type": "markdown",
   "metadata": {
    "colab_type": "text",
    "id": "6Tx6xjzBI4wq"
   },
   "source": [
    "There is one zip code missing in our life quality index, it corresponds to Chicago airport (which makes sense as the airport is not the area where people live). In our analysis we will therefore use it for all of the other neighborhoods."
   ]
  },
  {
   "cell_type": "code",
   "execution_count": null,
   "metadata": {
    "colab": {
     "base_uri": "https://localhost:8080/",
     "height": 729
    },
    "colab_type": "code",
    "id": "FYKAIDLtGT6j",
    "outputId": "ecf119b9-8093-4a80-d1f1-1af4cb53be11"
   },
   "outputs": [],
   "source": [
    "# Visualize neighorhoods with respect to the corresponding Life Quality Index\n",
    "state_geo_path = os.path.join(data_folder, 'chicago-zip.json')\n",
    "geo_json_data = json.load(open(state_geo_path))\n",
    "\n",
    "lqi_map = folium.Map(location=[41.8781, -87.6298], zoom_start=10)\n",
    "lqi_map.choropleth(geo_data=geo_json_data, data=lqi_zipcode,\n",
    "             columns=['zip_code', 'life_quality_index'],\n",
    "             key_on='feature.properties.zip',\n",
    "             fill_color='YlGn', fill_opacity=0.7, line_opacity=0.2,\n",
    "             legend_name='Life quality index per neighbourhood')\n",
    "lqi_map"
   ]
  },
  {
   "cell_type": "markdown",
   "metadata": {
    "colab_type": "text",
    "id": "MUNAfCHWIlH-"
   },
   "source": [
    "Life quality index in Chicago is the highest in bay area and goes down as we move away, generally we can say that south part of the city has worse life quality than the north part."
   ]
  },
  {
   "cell_type": "markdown",
   "metadata": {
    "colab_type": "text",
    "id": "lT-xsMBySScI"
   },
   "source": [
    "#### Milestone 3 goals\n",
    "\n",
    "Our aim in the next milestone will be to check if there is a relationship between \"safe or dangerous\" neighborhoods to eat and life quality index in those neighborhoods.\n"
   ]
  },
  {
   "cell_type": "markdown",
   "metadata": {
    "colab_type": "text",
    "id": "sLmou0yTwD65"
   },
   "source": [
    "### Question 5\n",
    "**How are inspection results connected to customer reviews? Are the best scored restaurants the ones with the best inspection results as well? Which client-reported issues are also noticed by inspections? Which issues are only discovered by inspections?**\n",
    "\n",
    "We decided to use Google Places API to retrieve information about restaurant ratings. We queried API by DBA Name value and Longitude and Latitude of a restaurant. Sometimes however, API responses didn't match the area we were concerned about, meaning that they returned a restaurant with similar name but not in Chicago. Some restaurants couldn't be retrieved at all. To be sure we analyze API response correctly we start by checking if restuarants for which we have ratings are the same ones as we queried for. We perform it by checking names similarity and addresses."
   ]
  },
  {
   "cell_type": "markdown",
   "metadata": {
    "colab_type": "text",
    "id": "ELo-F47Z0L-z"
   },
   "source": [
    "`restaurants.csv` is a file which contains place_id (returned by Google API), restaurant name, address, zip code, latitude and longitude from Chicago Inspections dataset. We will use this csv to compare with what was retrieved from Google API."
   ]
  },
  {
   "cell_type": "code",
   "execution_count": null,
   "metadata": {
    "colab": {},
    "colab_type": "code",
    "id": "raNXqSkewKO7"
   },
   "outputs": [],
   "source": [
    "google_places_path = os.path.join(data_folder, \"google_places.csv\")\n",
    "restaurants_path = os.path.join(data_folder, \"restaurants.csv\")"
   ]
  },
  {
   "cell_type": "code",
   "execution_count": null,
   "metadata": {
    "colab": {},
    "colab_type": "code",
    "id": "rdkqYrAIz-9w"
   },
   "outputs": [],
   "source": [
    "google_places = pd.read_csv(google_places_path)\n",
    "restaurants = pd.read_csv(restaurants_path)"
   ]
  },
  {
   "cell_type": "code",
   "execution_count": null,
   "metadata": {
    "colab": {
     "base_uri": "https://localhost:8080/",
     "height": 293
    },
    "colab_type": "code",
    "id": "R1EI4O0b1ukD",
    "outputId": "d7e0042f-2987-441e-81cc-166048ee3920"
   },
   "outputs": [],
   "source": [
    "google_places.head()"
   ]
  },
  {
   "cell_type": "code",
   "execution_count": null,
   "metadata": {
    "colab": {
     "base_uri": "https://localhost:8080/",
     "height": 206
    },
    "colab_type": "code",
    "id": "kYatTGBj129E",
    "outputId": "41b3c587-b40d-4828-f764-9def35645d45"
   },
   "outputs": [],
   "source": [
    "restaurants.head()"
   ]
  },
  {
   "cell_type": "markdown",
   "metadata": {
    "colab_type": "text",
    "id": "D9wHuWGD1_vc"
   },
   "source": [
    "Let's see if all restaurants we got from Google are the ones we asked for and are located in Chicago:"
   ]
  },
  {
   "cell_type": "markdown",
   "metadata": {
    "colab_type": "text",
    "id": "1kWoSMfi2F7b"
   },
   "source": [
    "We noticed that address from Chicago database has whitespace at the end so we remove it from each row:"
   ]
  },
  {
   "cell_type": "code",
   "execution_count": null,
   "metadata": {
    "colab": {},
    "colab_type": "code",
    "id": "xTXC-9M_2HQQ"
   },
   "outputs": [],
   "source": [
    "restaurants.address = restaurants.address.apply(str.strip)"
   ]
  },
  {
   "cell_type": "code",
   "execution_count": null,
   "metadata": {
    "colab": {
     "base_uri": "https://localhost:8080/",
     "height": 34
    },
    "colab_type": "code",
    "id": "UgS69iEp2JCw",
    "outputId": "e393c0fc-4264-4956-8544-f881e9e0af17"
   },
   "outputs": [],
   "source": [
    "print(f\"Google places API returned {len(google_places)} restaurants\")"
   ]
  },
  {
   "cell_type": "markdown",
   "metadata": {
    "colab_type": "text",
    "id": "bzAfnXBs2QQl"
   },
   "source": [
    "Check if all restaurants are in Chicago:"
   ]
  },
  {
   "cell_type": "code",
   "execution_count": null,
   "metadata": {
    "colab": {
     "base_uri": "https://localhost:8080/",
     "height": 34
    },
    "colab_type": "code",
    "id": "xZr0nbR12M9l",
    "outputId": "e609512d-59d3-42cb-920d-88b2a32ffa80"
   },
   "outputs": [],
   "source": [
    "not_chicago_restaurants = google_places[~(google_places.city == \"chicago\")]\n",
    "print(f\"Number of restaurants with non-chicago city {len(not_chicago_restaurants)}\")"
   ]
  },
  {
   "cell_type": "code",
   "execution_count": null,
   "metadata": {
    "colab": {
     "base_uri": "https://localhost:8080/",
     "height": 589
    },
    "colab_type": "code",
    "id": "EyoQ3a_12-AC",
    "outputId": "9ff8b3aa-b86d-41cd-9f58-bb9b8d8c26de"
   },
   "outputs": [],
   "source": [
    "not_chicago_restaurants.head(10)"
   ]
  },
  {
   "cell_type": "markdown",
   "metadata": {
    "colab_type": "text",
    "id": "ZaxrD4p22tmp"
   },
   "source": [
    "We can see that sometimes the zip code was returned as a city, Chicago zip codes start with 60 therefore those entries where city is equal to a number starting with 60 are probably in Chicago and their city name is in the address column"
   ]
  },
  {
   "cell_type": "code",
   "execution_count": null,
   "metadata": {
    "colab": {
     "base_uri": "https://localhost:8080/",
     "height": 34
    },
    "colab_type": "code",
    "id": "29qDmSpt3WG4",
    "outputId": "2d08513e-5376-4add-e968-75171b494a5b"
   },
   "outputs": [],
   "source": [
    "address_chicago_count = len(google_places[google_places.address == \"chicago\"])\n",
    "print(f\"Number of places with chicago as address and zip code in city column is {address_chicago_count}\")"
   ]
  },
  {
   "cell_type": "code",
   "execution_count": null,
   "metadata": {
    "colab": {
     "base_uri": "https://localhost:8080/",
     "height": 441
    },
    "colab_type": "code",
    "id": "Reh2rjqu3an3",
    "outputId": "26d88273-a00a-4fc7-b982-d3587b95b9d8"
   },
   "outputs": [],
   "source": [
    "google_places[google_places.city.str.startswith(\"60\", na=False)]"
   ]
  },
  {
   "cell_type": "markdown",
   "metadata": {
    "colab_type": "text",
    "id": "ubDfyJbL3hah"
   },
   "source": [
    "If zip code starts with 60 move it to zip code column"
   ]
  },
  {
   "cell_type": "code",
   "execution_count": null,
   "metadata": {
    "colab": {},
    "colab_type": "code",
    "id": "DY6eVtKM2kPL"
   },
   "outputs": [],
   "source": [
    "chicago_idx = google_places.city.str.startswith(\"60\", na=False)\n",
    "google_places.loc[chicago_idx, 'zip_code'] = google_places['city']"
   ]
  },
  {
   "cell_type": "code",
   "execution_count": null,
   "metadata": {
    "colab": {
     "base_uri": "https://localhost:8080/",
     "height": 441
    },
    "colab_type": "code",
    "id": "erG8CgcE3sVw",
    "outputId": "08251ca4-a0d3-44ec-ebc8-2a90a8f196ca"
   },
   "outputs": [],
   "source": [
    "google_places[google_places.city.str.startswith(\"60\", na=False)]"
   ]
  },
  {
   "cell_type": "markdown",
   "metadata": {
    "colab_type": "text",
    "id": "FA3s1Jrp3w2o"
   },
   "source": [
    "If address is Chicago move it to city column"
   ]
  },
  {
   "cell_type": "code",
   "execution_count": null,
   "metadata": {
    "colab": {},
    "colab_type": "code",
    "id": "Kcoq4eVD3uyX"
   },
   "outputs": [],
   "source": [
    "address_idx = (google_places.address == \"chicago\")\n",
    "google_places.loc[address_idx, \"city\"] = \"chicago\"\n",
    "google_places.loc[address_idx, \"address\"] = np.nan"
   ]
  },
  {
   "cell_type": "code",
   "execution_count": null,
   "metadata": {
    "colab": {
     "base_uri": "https://localhost:8080/",
     "height": 34
    },
    "colab_type": "code",
    "id": "_9ibi3-83zZN",
    "outputId": "a9d89cf6-aea7-4267-8a6a-2a4b44a761af"
   },
   "outputs": [],
   "source": [
    "not_chicago_restaurants = google_places[~(google_places.city == \"chicago\")]\n",
    "print(f\"Number of restaurants with non-chicago city {len(not_chicago_restaurants)}\")"
   ]
  },
  {
   "cell_type": "markdown",
   "metadata": {
    "colab_type": "text",
    "id": "_5Lt-32C3_yH"
   },
   "source": [
    "We can see that sometimes there are still cities denoted with zip codes starting with 60, let's check city for those values"
   ]
  },
  {
   "cell_type": "code",
   "execution_count": null,
   "metadata": {
    "colab": {
     "base_uri": "https://localhost:8080/",
     "height": 773
    },
    "colab_type": "code",
    "id": "0Uy4geeS39UG",
    "outputId": "fede4745-00ea-4c01-be09-836b8b583e05"
   },
   "outputs": [],
   "source": [
    "google_places[google_places.city.str.startswith(\"60\", na=False)]"
   ]
  },
  {
   "cell_type": "markdown",
   "metadata": {
    "colab_type": "text",
    "id": "9UUyowtv4IeP"
   },
   "source": [
    "It turns out that entries as cicero, north riverside, schaumburg or elgin are within Chicago aglomeration they are smaller towns or districts."
   ]
  },
  {
   "cell_type": "code",
   "execution_count": null,
   "metadata": {
    "colab": {
     "base_uri": "https://localhost:8080/",
     "height": 669
    },
    "colab_type": "code",
    "id": "5Ac1xe234DsC",
    "outputId": "9fead3da-fefa-4459-f20d-13d609b522b8"
   },
   "outputs": [],
   "source": [
    "google_places[(~(google_places.zip_code.str.startswith(\"60\", na=False)) & (google_places.city != \"chicago\"))]"
   ]
  },
  {
   "cell_type": "markdown",
   "metadata": {
    "colab_type": "text",
    "id": "nhh9C9i44NK9"
   },
   "source": [
    "We have 1071 rows which correspond to restaurants in different places than Chicago area. They are of no use to us so we remove them."
   ]
  },
  {
   "cell_type": "code",
   "execution_count": null,
   "metadata": {
    "colab": {
     "base_uri": "https://localhost:8080/",
     "height": 293
    },
    "colab_type": "code",
    "id": "EliBl-gP4Pe3",
    "outputId": "d9519498-7856-4534-8687-306fa53647d9"
   },
   "outputs": [],
   "source": [
    "google_places_cleaned = google_places[((google_places.zip_code.str.startswith(\"60\", na=False)) | (google_places.city == \"chicago\"))]\n",
    "google_places_cleaned.head()"
   ]
  },
  {
   "cell_type": "markdown",
   "metadata": {
    "colab_type": "text",
    "id": "CltyRWCp4U_u"
   },
   "source": [
    "We will remove any duplicating rows from both dataframes as sometimes Google API might have returned same place_id for two distinct restaurants"
   ]
  },
  {
   "cell_type": "code",
   "execution_count": null,
   "metadata": {
    "colab": {
     "base_uri": "https://localhost:8080/",
     "height": 124
    },
    "colab_type": "code",
    "id": "mizSc_of4S0X",
    "outputId": "2cad7f93-002c-4e07-f0cd-252b43789e14"
   },
   "outputs": [],
   "source": [
    "google_places_cleaned.drop_duplicates(inplace=True)\n",
    "restaurants.drop_duplicates(inplace=True)"
   ]
  },
  {
   "cell_type": "markdown",
   "metadata": {
    "colab_type": "text",
    "id": "7MMuLKAg4ebe"
   },
   "source": [
    "Now we want to compare addresses and names of restaurants. We will start with joining Google places API output dataframe with restaurants dataframe on place_id. We perform left join on `google_places_cleaned` as we are only interested in cases when we received a response from Google API."
   ]
  },
  {
   "cell_type": "code",
   "execution_count": null,
   "metadata": {
    "colab": {
     "base_uri": "https://localhost:8080/",
     "height": 34
    },
    "colab_type": "code",
    "id": "2kVCS4q-4o2M",
    "outputId": "82fe847f-406e-43a3-b3ed-9182cace33ff"
   },
   "outputs": [],
   "source": [
    "merged = google_places_cleaned.merge(restaurants, on=\"place_id\", how=\"left\", suffixes=(\"_google\", \"_restaurants\"))\n",
    "len(merged)"
   ]
  },
  {
   "cell_type": "code",
   "execution_count": null,
   "metadata": {
    "colab": {
     "base_uri": "https://localhost:8080/",
     "height": 313
    },
    "colab_type": "code",
    "id": "DzKvsOBK4Vj1",
    "outputId": "1bcf1e4e-1708-4218-b9d7-175d4abf26c0"
   },
   "outputs": [],
   "source": [
    "merged.head()"
   ]
  },
  {
   "cell_type": "markdown",
   "metadata": {
    "colab_type": "text",
    "id": "nyGUjdjY5vTt"
   },
   "source": [
    "Sometimes we got a response from Google but we didn't get a rating, we drop rows where we couldn't retrieve rating from Google API.\n"
   ]
  },
  {
   "cell_type": "code",
   "execution_count": null,
   "metadata": {
    "colab": {
     "base_uri": "https://localhost:8080/",
     "height": 513
    },
    "colab_type": "code",
    "id": "Qyd_-pgA6MTu",
    "outputId": "9d4127c7-f008-403f-fb75-3a92a278ef45"
   },
   "outputs": [],
   "source": [
    "merged[merged.rating.isna()]"
   ]
  },
  {
   "cell_type": "code",
   "execution_count": null,
   "metadata": {
    "colab": {},
    "colab_type": "code",
    "id": "B4d3uh565xZg"
   },
   "outputs": [],
   "source": [
    "merged.dropna(subset=[\"rating\"],axis=0, inplace=True)"
   ]
  },
  {
   "cell_type": "markdown",
   "metadata": {
    "colab_type": "text",
    "id": "L-R-Fz2L5e3D"
   },
   "source": [
    "To check if for sure we have correct entries we will compare zip codes. If no zip_code is available from restaurants then we will compare names. First step would be to check where `zip_code_restaurants` is NaN\n",
    "and second would be to remove second zip code component from `zip_code_google`"
   ]
  },
  {
   "cell_type": "code",
   "execution_count": null,
   "metadata": {
    "colab": {
     "base_uri": "https://localhost:8080/",
     "height": 341
    },
    "colab_type": "code",
    "id": "JnmwyBR95aws",
    "outputId": "55f383b0-3741-479e-e2eb-81098a2bc234"
   },
   "outputs": [],
   "source": [
    "merged[merged.zip_code_restaurants.isna()]"
   ]
  },
  {
   "cell_type": "markdown",
   "metadata": {
    "colab_type": "text",
    "id": "InO7-G8A5nR1"
   },
   "source": [
    "We have only a couple of rows where zip_code_restaurants is not available, we can review them manually. It turns out that we will have to remove row 941, 11062 and McCormick place which is not a restaurant but a business center in Chicago."
   ]
  },
  {
   "cell_type": "code",
   "execution_count": null,
   "metadata": {
    "colab": {},
    "colab_type": "code",
    "id": "qQzcCzhkcVnI"
   },
   "outputs": [],
   "source": [
    "merged.drop(axis=0, index=[941, 11062, 11155, 8756], inplace=True)"
   ]
  },
  {
   "cell_type": "markdown",
   "metadata": {
    "colab_type": "text",
    "id": "1Y4_CoLJ62lT"
   },
   "source": [
    "Now we will remove second `zip_code_google` component"
   ]
  },
  {
   "cell_type": "markdown",
   "metadata": {
    "colab_type": "text",
    "id": "GKTIdoed6-iy"
   },
   "source": [
    "Filling nans with string value to remove second `zip_code_google` component"
   ]
  },
  {
   "cell_type": "code",
   "execution_count": null,
   "metadata": {
    "colab": {},
    "colab_type": "code",
    "id": "ofABeZMm6RPH"
   },
   "outputs": [],
   "source": [
    "merged.zip_code_google.fillna(\"nan\", inplace=True)"
   ]
  },
  {
   "cell_type": "code",
   "execution_count": null,
   "metadata": {
    "colab": {
     "base_uri": "https://localhost:8080/",
     "height": 34
    },
    "colab_type": "code",
    "id": "VYkS1l5J7AwA",
    "outputId": "1a3a412f-bea5-4917-fb69-6d48f5fde23c"
   },
   "outputs": [],
   "source": [
    "merged.zip_code_google.str.len().unique()"
   ]
  },
  {
   "cell_type": "code",
   "execution_count": null,
   "metadata": {
    "colab": {},
    "colab_type": "code",
    "id": "VD4Df6KI7B49"
   },
   "outputs": [],
   "source": [
    "merged.zip_code_google = merged.zip_code_google.apply(lambda x: x[:5])"
   ]
  },
  {
   "cell_type": "code",
   "execution_count": null,
   "metadata": {
    "colab": {},
    "colab_type": "code",
    "id": "J-0gcuH_7DaC"
   },
   "outputs": [],
   "source": [
    "merged.zip_code_google = merged.zip_code_google.replace(\"nan\", np.nan)"
   ]
  },
  {
   "cell_type": "code",
   "execution_count": null,
   "metadata": {
    "colab": {},
    "colab_type": "code",
    "id": "ZsKBBzd97FkK"
   },
   "outputs": [],
   "source": [
    "merged.zip_code_google = merged.zip_code_google.apply(float)"
   ]
  },
  {
   "cell_type": "markdown",
   "metadata": {
    "colab_type": "text",
    "id": "f5dmMJ9K7INF"
   },
   "source": [
    "Now we will take only those entries where every place has a matching zip code"
   ]
  },
  {
   "cell_type": "code",
   "execution_count": null,
   "metadata": {
    "colab": {},
    "colab_type": "code",
    "id": "87j56R7J7HRm"
   },
   "outputs": [],
   "source": [
    "matching = merged[merged.zip_code_google == merged.zip_code_restaurants]"
   ]
  },
  {
   "cell_type": "markdown",
   "metadata": {
    "colab_type": "text",
    "id": "WiPMec2T7NJw"
   },
   "source": [
    "At last to be sure that we have rating corresponding to a correct place we will compare names using python difflib. From docs \"ratio() returns a float in [0, 1], measuring the similarity of the sequences. As a rule of thumb, a ratio() value over 0.6 means the sequences are close matches\". We will use this property to discard any rows where name similarity is lower than 0.6. This step is necessary as sometimes name from Chicago database doesn't exactly match a name returned by Google API for instance in Chicago database we have: \"yolk - test kitchen\" while Google's response name is \"yolk test kitchen\""
   ]
  },
  {
   "cell_type": "code",
   "execution_count": null,
   "metadata": {
    "colab": {},
    "colab_type": "code",
    "id": "dBdkSO8m7K7C"
   },
   "outputs": [],
   "source": [
    "from difflib import SequenceMatcher\n",
    "\n",
    "def get_similarity_score(restaurant_name, google_name):\n",
    "    return SequenceMatcher(lambda x: x == \" \",\n",
    "                    restaurant_name,\n",
    "                    google_name).ratio()"
   ]
  },
  {
   "cell_type": "code",
   "execution_count": null,
   "metadata": {
    "colab": {
     "base_uri": "https://localhost:8080/",
     "height": 141
    },
    "colab_type": "code",
    "id": "dIH6x8m_7eb3",
    "outputId": "fab94dee-feab-4411-ad58-bceea61beb08"
   },
   "outputs": [],
   "source": [
    "matching['name_similarity_score'] = matching.apply(lambda row: get_similarity_score(row[\"place_name_restaurants\"], row[\"place_name_google\"]), axis=1)"
   ]
  },
  {
   "cell_type": "code",
   "execution_count": null,
   "metadata": {
    "colab": {},
    "colab_type": "code",
    "id": "Sl8Kfb3f7f7v"
   },
   "outputs": [],
   "source": [
    "matching = matching[matching.name_similarity_score > 0.6]"
   ]
  },
  {
   "cell_type": "markdown",
   "metadata": {
    "colab_type": "text",
    "id": "95AqNBvB7jNs"
   },
   "source": [
    "As a last step we remove rows with duplicated place_id"
   ]
  },
  {
   "cell_type": "code",
   "execution_count": null,
   "metadata": {
    "colab": {},
    "colab_type": "code",
    "id": "cphN2UYl7kyQ"
   },
   "outputs": [],
   "source": [
    "matching = matching.drop_duplicates(subset=[\"place_id\"])"
   ]
  },
  {
   "cell_type": "code",
   "execution_count": null,
   "metadata": {
    "colab": {
     "base_uri": "https://localhost:8080/",
     "height": 34
    },
    "colab_type": "code",
    "id": "j21ic8sE7nac",
    "outputId": "b07e5a96-5832-455b-ac04-f0e07eaa116b"
   },
   "outputs": [],
   "source": [
    "len(matching)"
   ]
  },
  {
   "cell_type": "markdown",
   "metadata": {
    "colab_type": "text",
    "id": "k3Hhqy367p27"
   },
   "source": [
    "we have ratings for 5700 restaurants"
   ]
  },
  {
   "cell_type": "markdown",
   "metadata": {
    "colab_type": "text",
    "id": "nzGq2ICd7sxu"
   },
   "source": [
    "We will transform matching dataframe to use it for further analysis, we will remove useless columns and save it to csv file"
   ]
  },
  {
   "cell_type": "code",
   "execution_count": null,
   "metadata": {
    "colab": {},
    "colab_type": "code",
    "id": "HBsYZKjp7o59"
   },
   "outputs": [],
   "source": [
    "matching.drop([\"name_similarity_score\", \"place_name_google\", \"price_level\", \"address_google\", \"zip_code_google\", \"city\"], axis=1, inplace=True)"
   ]
  },
  {
   "cell_type": "code",
   "execution_count": null,
   "metadata": {
    "colab": {},
    "colab_type": "code",
    "id": "bSS0JRCN7vCn"
   },
   "outputs": [],
   "source": [
    "matching.rename(columns={\"place_name_restaurants\": \"place_name\", \"address_restaurants\": \"address\", \"zip_code_restaurants\": \"zip_code\"}, inplace=True)"
   ]
  },
  {
   "cell_type": "markdown",
   "metadata": {
    "colab_type": "text",
    "id": "kYfTsSho7z7i"
   },
   "source": [
    "#### Analysis of number of ratings available"
   ]
  },
  {
   "cell_type": "code",
   "execution_count": null,
   "metadata": {
    "colab": {
     "base_uri": "https://localhost:8080/",
     "height": 173
    },
    "colab_type": "code",
    "id": "esxxrCgB73Oy",
    "outputId": "5d3d3240-c4ae-439d-d3a2-c4ab513740b2"
   },
   "outputs": [],
   "source": [
    "matching.total_number_of_ratings.describe()"
   ]
  },
  {
   "cell_type": "code",
   "execution_count": null,
   "metadata": {
    "colab": {
     "base_uri": "https://localhost:8080/",
     "height": 519
    },
    "colab_type": "code",
    "id": "qhY8xgY87-my",
    "outputId": "52bb54e9-2197-453f-8f52-a7047ef8eb96"
   },
   "outputs": [],
   "source": [
    "sns.set(rc={'figure.figsize':(12,8)})\n",
    "sns.distplot(matching.total_number_of_ratings)"
   ]
  },
  {
   "cell_type": "code",
   "execution_count": null,
   "metadata": {
    "colab": {
     "base_uri": "https://localhost:8080/",
     "height": 52
    },
    "colab_type": "code",
    "id": "z_1MsINQ7_r5",
    "outputId": "51dedb2a-09ba-42c0-e0aa-0f611440c8bf"
   },
   "outputs": [],
   "source": [
    "matching.total_number_of_ratings.mode()"
   ]
  },
  {
   "cell_type": "markdown",
   "metadata": {
    "colab_type": "text",
    "id": "tENdEO8lAoh4"
   },
   "source": [
    "As number of ratings seem to follow a power law and most of restaurants have low number of ratings it would be very biased to compare them with restaurants that have tenths of thousands of ratings. Therefore we decide to drop this research question."
   ]
  },
  {
   "cell_type": "markdown",
   "metadata": {
    "colab_type": "text",
    "id": "oETRSAZSUFhj"
   },
   "source": [
    "## Milestone 3"
   ]
  },
  {
   "cell_type": "markdown",
   "metadata": {
    "colab_type": "text",
    "id": "9NoZ6hGa5pW2"
   },
   "source": [
    "### Plan of further analysis\n",
    "\n",
    "Below we present a plan regarding further analysis with respect to particular research questions:\n",
    "\n",
    "**Question 1:** \n",
    " - visualize and analyze spatial patterns of most common violations, \n",
    " - use violations as a source for \"safe to eat\" metric for a neighborhood (e.g. with percentage of inspections passed without violations concerning food or a trend in such pass rate).\n",
    "\n",
    "**Question 2:** \n",
    " - build a better heuristic to evaluate restaurant safety, \n",
    " - use other available features to determine \"safe or dangerous\" neighborhood (e.g. use the Risk column, narrow down the analysis to certain inspection type).\n",
    "\n",
    "**Question 3:** \n",
    " - study more indicators of restaurant quality, such as the risk level and violation categories, and their evolution over time,\n",
    " - find areas with potential future improvement,\n",
    " - inspect whether some restaurant chains follow certain trends.\n",
    "\n",
    "**Question 4:** \n",
    " - check if there is a relationship between \"safe or dangerous\" neighborhoods to eat and life quality index in those neighborhoods.\n"
   ]
  },
  {
   "cell_type": "markdown",
   "metadata": {
    "colab_type": "text",
    "id": "8dbvOyOnnWPg"
   },
   "source": [
    "### Data story plan\n",
    "\n",
    "1. We begin it by general statistics and results based on simple metrics that should bring suspected results (such as the ones we obtained, where the city center and the airport proved to be the safest places to eat).\n",
    "2. We dive deeper by constructing more complicated metrics based on inspection results and violations.\n",
    "3. We inspect the trends that can tell us more about how neighborhoods are evolving. It *can* allow for forecasting which neighborhoods might be promising in the near future. This analysis can focus also on certain interesting restaurant chains.\n",
    "4. We conclude our data story with recommendations of neighborhoods where one may be more interested to eat based on the previously presented metrics and analysis.\n",
    "\n",
    "Throught our data story we want to make an extensive use of maps to visualize our metrics.\n",
    "\n",
    "The final presentation will follow the pattern similar to the data story but limited to the most relevant/interesting information and findings."
   ]
  }
 ],
 "metadata": {
  "colab": {
   "collapsed_sections": [],
   "name": "project_milestone2.ipynb",
   "provenance": [],
   "toc_visible": true
  },
  "kernelspec": {
   "display_name": "Python 3",
   "language": "python",
   "name": "python3"
  },
  "language_info": {
   "codemirror_mode": {
    "name": "ipython",
    "version": 3
   },
   "file_extension": ".py",
   "mimetype": "text/x-python",
   "name": "python",
   "nbconvert_exporter": "python",
   "pygments_lexer": "ipython3",
   "version": "3.7.4"
  }
 },
 "nbformat": 4,
 "nbformat_minor": 1
}
